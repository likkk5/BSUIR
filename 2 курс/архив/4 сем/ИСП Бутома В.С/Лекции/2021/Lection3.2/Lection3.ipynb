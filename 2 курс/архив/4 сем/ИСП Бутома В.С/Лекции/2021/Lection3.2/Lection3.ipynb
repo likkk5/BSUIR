{
 "cells": [
  {
   "cell_type": "markdown",
   "metadata": {},
   "source": [
    "# Лекция 3: базовые элементы языка Python\n",
    "\n",
    "В рамках лекции рассмотрим базовые понятия, встроенные типы данных, простой ввод-вывод, операторы и функции."
   ]
  },
  {
   "cell_type": "markdown",
   "metadata": {},
   "source": [
    "## Отступы\n",
    "\n",
    "* Блоки кода определяются отступами (индентацией)\n",
    "* Для отступов используются пробельные символы (пробелы или табы)\n",
    "* Уровни вложенности определяются по количеству отступов\n",
    "\n",
    "Пример:"
   ]
  },
  {
   "cell_type": "code",
   "execution_count": 33,
   "metadata": {},
   "outputs": [
    {
     "name": "stdout",
     "output_type": "stream",
     "text": [
      "A is one\n",
      "A minus one is zero\n"
     ]
    }
   ],
   "source": [
    "a = 1\n",
    "\n",
    "if a == 1:\n",
    "    print(\"A is one\")\n",
    "    if a - 1 == 0:\n",
    "        print(\"A minus one is zero\")"
   ]
  },
  {
   "cell_type": "markdown",
   "metadata": {},
   "source": [
    "Как лучше оформлять код:  \n",
    "\n",
    "* Возможно использовать пробелы или табуляцию.  \n",
    "* Но никогда не смешивать - будут проблемы.  \n",
    "* Общепринято использовать отступ в 4 пробела на уровень и мы будем придерживаться такого соглашения.  \n",
    "* Больше про оформление кода <https://www.python.org/dev/peps/pep-0008/> - изучить и придерживаться на лабораторных."
   ]
  },
  {
   "cell_type": "markdown",
   "metadata": {},
   "source": [
    "## Ссылочная семантика языка (reference symantics)\n",
    "\n",
    "* В Python переменная - просто имя для некоторого значения, которое является носителем типа.  \n",
    "* По сути, имена переменных задают ссылки.  \n",
    "* Аргументы в функцию также передаются \"по-ссылке\" - нужно это учитывать при работе (делать явно копию, если нужно и т.д.).  \n",
    "* В случае с числами ссылочная семантика также работает, но т.к. они представляют собой \"неизменяемые\" значения, то при изменении просто вернётся другое значение, а базовое не поменяется."
   ]
  },
  {
   "cell_type": "code",
   "execution_count": 34,
   "metadata": {},
   "outputs": [
    {
     "name": "stdout",
     "output_type": "stream",
     "text": [
      "1 1\n",
      "[1, 2, 3] 1\n",
      "[1, 2, 3] [1, 2, 3]\n",
      "[1, 2, 3, 4] [1, 2, 3, 4]\n"
     ]
    }
   ],
   "source": [
    "a = 1\n",
    "b = a\n",
    "print(a, b)\n",
    "a = [1, 2, 3]\n",
    "print(a, b)\n",
    "b = a\n",
    "print(a, b)\n",
    "b.append(4)\n",
    "print(a, b)"
   ]
  },
  {
   "cell_type": "markdown",
   "metadata": {},
   "source": [
    "## Объектная система\n",
    "\n",
    "Всё является объектом (everyting is an object):  \n",
    "\n",
    "* функции  \n",
    "* классы  \n",
    "* метаклассы (классы для классов :) )  \n",
    "* типы  \n",
    "* модули  \n",
    "* значения встроенные типов  \n",
    "  \n",
    "Это даёт широкие возможности для использовани различных парадигм и подходов, а также позволяет широко использовать интроспекцию."
   ]
  },
  {
   "cell_type": "markdown",
   "metadata": {},
   "source": [
    "Есть перегрузка операторов (в классе надо сделать методы вида \\_\\_add\\_\\_).  \n",
    "\n",
    "Python поддерживает множественное наследование и механизм примесей (mixin).\n",
    "\n",
    "В общем виде, примесь - это элемент языка программирования, которые реализует какое-то определенное поведение.\n",
    "В Python примеси реализуются как классы-примеси."
   ]
  },
  {
   "cell_type": "markdown",
   "metadata": {},
   "source": [
    "### Полезные встроенные функции интроспекции\n",
    "\n",
    "* help(obj) - получить справку по любому объекту.\n",
    "* dir(obj) - получить список полей объекта.\n",
    "* type(obj) - узнать тип объекта.\n",
    "* str(obj) - преобразовать объект в строку.\n",
    "* id(obj) - узнать уникальный идентификатор объекта"
   ]
  },
  {
   "cell_type": "markdown",
   "metadata": {},
   "source": [
    "## Базовые типы\n",
    "\n",
    "### Целые числа в Python 3\n",
    "* Целые числа представлены типом int\n",
    "* Целые числа в Python 3 имеют неограниченный размер\n",
    "\n",
    "### Целые числа в Python 2\n",
    "* Целые числа - обычные знаковые целые int() и встроенна длинная арифметика long()\n",
    "* При переполнении int автоматически превращается в long\n",
    "\n"
   ]
  },
  {
   "cell_type": "code",
   "execution_count": 35,
   "metadata": {},
   "outputs": [
    {
     "name": "stdout",
     "output_type": "stream",
     "text": [
      "42\n",
      "0\n",
      "42\n",
      "42\n",
      "42\n",
      "<class 'int'> 1\n"
     ]
    }
   ],
   "source": [
    "# int\n",
    "print(42)\n",
    "print(int())\n",
    "print(int(\"42\"))\n",
    "print(int(\"0x2A\", 16))\n",
    "print(int(\"0b101010\", 2))\n",
    "print(type(3 // 2), 3 // 2)"
   ]
  },
  {
   "cell_type": "markdown",
   "metadata": {},
   "source": [
    "### Действительные числа\n",
    "* float() - аналог 8-байтного double из C\\C++."
   ]
  },
  {
   "cell_type": "code",
   "execution_count": 36,
   "metadata": {},
   "outputs": [
    {
     "name": "stdout",
     "output_type": "stream",
     "text": [
      "0.0\n",
      "0.0\n",
      "1e-10\n",
      "1.0\n",
      "<class 'float'> 1.5\n"
     ]
    }
   ],
   "source": [
    "# float\n",
    "print(.0)\n",
    "print(float())\n",
    "print(1e-10)\n",
    "print(1 * 1.0)\n",
    "print(type(3.0 / 2), 3.0 / 2)"
   ]
  },
  {
   "cell_type": "markdown",
   "metadata": {},
   "source": [
    "### Комплексные числа\n",
    "* complex()"
   ]
  },
  {
   "cell_type": "code",
   "execution_count": 37,
   "metadata": {},
   "outputs": [
    {
     "name": "stdout",
     "output_type": "stream",
     "text": [
      "0j\n",
      "<class 'complex'> (1+0j)\n",
      "<class 'complex'> (4+0j)\n",
      "(5+14j)\n",
      "(101+0j)\n"
     ]
    }
   ],
   "source": [
    "# complex\n",
    "print(complex())\n",
    "print(type(1 + 0j), 1 + 0j)\n",
    "print(type(1 + 0j + 3), 1 + 0j + 3)\n",
    "print((2 + 3j) * (4 + 1j))\n",
    "print((1 + 10j) * (1 - 10j))"
   ]
  },
  {
   "cell_type": "markdown",
   "metadata": {},
   "source": [
    "### Логический тип"
   ]
  },
  {
   "cell_type": "code",
   "execution_count": 38,
   "metadata": {},
   "outputs": [
    {
     "name": "stdout",
     "output_type": "stream",
     "text": [
      "False\n",
      "<class 'bool'> True\n",
      "<class 'bool'> False\n"
     ]
    }
   ],
   "source": [
    "# bool\n",
    "print(bool())\n",
    "print(type(True), True)\n",
    "print(type(False), False)"
   ]
  },
  {
   "cell_type": "markdown",
   "metadata": {},
   "source": [
    "### Тип для пустоты (ничего)\n",
    "* None\n",
    "* Аналог типа null из других областей.\n",
    "* Сравнивать на равенство None надо с помощью оператора is.\n",
    "* Через == возможно, но считается плохим стилем.\n",
    "* Про это есть в https://www.python.org/dev/peps/pep-0008/ в части Programming Recommendations про сравнение синглтонов."
   ]
  },
  {
   "cell_type": "markdown",
   "metadata": {},
   "source": [
    "## Коллекции\n",
    "\n",
    "* Коллекция - объект, основным предназначением которого является хранение объектов и предоставление к ним доступа.\n",
    "* Основные виды коллекций: *последовательности (sequences)* и *отображения (mappings)*."
   ]
  },
  {
   "cell_type": "markdown",
   "metadata": {},
   "source": [
    "### Последовательности\n",
    "\n",
    "Примеры встроенных типов:  \n",
    "\n",
    "* list()  \n",
    "* tuple()  \n",
    "* str()   "
   ]
  },
  {
   "cell_type": "markdown",
   "metadata": {},
   "source": [
    "Свойства:  \n",
    "\n",
    "* Имеют последовательную индексацию в промежутке [0, length - 1].  \n",
    "* Могут содержать одновременно объекты различных типов.  \n",
    "* Строки - исключение, в них только символы (строки длины 1).  \n",
    "* tuple() и str() неизменяемые - immutable.  \n",
    "* Можно создавать пользовательские коллекции-последовательности.  \n",
    "* Многие коллекции поддерживают умножение на число. \n",
    "* Встроенная функция zip(..) для объединения перечисляемых последовательностей."
   ]
  },
  {
   "cell_type": "markdown",
   "metadata": {},
   "source": [
    "Далее рассмотрим примеры использования последовательностей."
   ]
  },
  {
   "cell_type": "markdown",
   "metadata": {},
   "source": [
    "### Список (list) - динамический массив\n",
    "\n",
    "* Не смотря на название, представляет собой именно динамический массив.\n",
    "* Литерал для списка - [].\n",
    "* Индексация через [].\n",
    "* Механизм срезов [:] и [::]."
   ]
  },
  {
   "cell_type": "code",
   "execution_count": 39,
   "metadata": {},
   "outputs": [
    {
     "name": "stdout",
     "output_type": "stream",
     "text": [
      "[]\n",
      "[1]\n",
      "[1, 2, 3, 'four', [5, 6]]\n"
     ]
    }
   ],
   "source": [
    "# literal\n",
    "print([])\n",
    "print([1])\n",
    "print([1, 2, 3, \"four\", [5, 6]])"
   ]
  },
  {
   "cell_type": "code",
   "execution_count": 40,
   "metadata": {},
   "outputs": [
    {
     "name": "stdout",
     "output_type": "stream",
     "text": [
      "[0, 1, 2, 3, 4, 5, 6, 7, 8, 9]\n",
      "10\n"
     ]
    }
   ],
   "source": [
    "# length\n",
    "arr = list(range(10))\n",
    "print(arr)\n",
    "print(len(arr))"
   ]
  },
  {
   "cell_type": "code",
   "execution_count": 41,
   "metadata": {},
   "outputs": [
    {
     "name": "stdout",
     "output_type": "stream",
     "text": [
      "[0, 1, 2, 3, 4, 5, 6, 7, 8, 9]\n",
      "0\n",
      "3\n",
      "9\n",
      "7\n"
     ]
    }
   ],
   "source": [
    "# indexing\n",
    "arr = list(range(10))\n",
    "print(arr)\n",
    "print(arr[0])\n",
    "print(arr[3])\n",
    "print(arr[-1])\n",
    "print(arr[-3])"
   ]
  },
  {
   "cell_type": "code",
   "execution_count": 42,
   "metadata": {},
   "outputs": [
    {
     "name": "stdout",
     "output_type": "stream",
     "text": [
      "[0, 1, 2, 3, 4, 5, 6, 7, 8, 9]\n",
      "[0, 1, 2, 3, 4]\n",
      "[5, 6, 7, 8, 9]\n",
      "[5, 6, 7]\n"
     ]
    }
   ],
   "source": [
    "# slicing part one\n",
    "arr = list(range(10))\n",
    "print(arr)\n",
    "print(arr[:5])\n",
    "print(arr[5:])\n",
    "print(arr[5:8])"
   ]
  },
  {
   "cell_type": "code",
   "execution_count": 43,
   "metadata": {},
   "outputs": [
    {
     "name": "stdout",
     "output_type": "stream",
     "text": [
      "[0, 1, 2, 3, 4, 5, 6, 7, 8, 9]\n",
      "[0, 1, 2, 3, 4, 'ha', 'ha', 'ha', 8, 9]\n"
     ]
    }
   ],
   "source": [
    "# slicing part two\n",
    "arr = list(range(10))\n",
    "print(arr)\n",
    "arr[5:8] = [\"ha\", \"ha\", \"ha\"]\n",
    "print(arr)"
   ]
  },
  {
   "cell_type": "code",
   "execution_count": 44,
   "metadata": {},
   "outputs": [
    {
     "name": "stdout",
     "output_type": "stream",
     "text": [
      "1\n",
      "2\n",
      "three\n",
      "[]\n"
     ]
    }
   ],
   "source": [
    "# iteration\n",
    "for elem in [1, 2, \"three\", []]:\n",
    "    print(elem)"
   ]
  },
  {
   "cell_type": "markdown",
   "metadata": {},
   "source": [
    "Есть возможность получения индекса при итерировании"
   ]
  },
  {
   "cell_type": "code",
   "execution_count": 45,
   "metadata": {},
   "outputs": [
    {
     "name": "stdout",
     "output_type": "stream",
     "text": [
      "0 0\n",
      "1 1\n",
      "2 2\n",
      "3 3\n",
      "4 4\n"
     ]
    }
   ],
   "source": [
    "for index, elem in enumerate(list(range(5))):\n",
    "    print(index, elem)"
   ]
  },
  {
   "cell_type": "code",
   "execution_count": 46,
   "metadata": {},
   "outputs": [
    {
     "name": "stdout",
     "output_type": "stream",
     "text": [
      "[0, 1, 2, 3, 4, 5, 6, 7, 8, 9]\n",
      "True\n",
      "5\n",
      "1\n"
     ]
    }
   ],
   "source": [
    "# search\n",
    "arr = list(range(10))\n",
    "print(arr)\n",
    "print(5 in arr)\n",
    "print(arr.index(5))\n",
    "print(arr.count(5))"
   ]
  },
  {
   "cell_type": "code",
   "execution_count": 47,
   "metadata": {},
   "outputs": [
    {
     "name": "stdout",
     "output_type": "stream",
     "text": [
      "[0, 1, 2, 3, 4, 5, 6, 7, 8, 9]\n",
      "[0, 1, 2, 3, 4, 5, 6, 7, 8, 9, 'ten']\n",
      "[0, 1, 2, 3, 4, 5, 6, 7, 8, 9, 'ten', 11, 12]\n",
      "[0, 1, 2, 3, 4, 5, 6, 7, 8, 9, 'before ten', 'ten', 11, 12]\n",
      "[0, 1, 2, 3, 4, 5, 6, 7, 8, 9, 'before ten', 'ten', 11, 12, 100, 101, 102, 103, 104]\n",
      "[0, 1, 2, 3, 4, 5, 6, 7, 8, 9, 'before ten', 'ten', 11, 12, 13, 14]\n"
     ]
    }
   ],
   "source": [
    "# adding elements\n",
    "arr = list(range(10))\n",
    "print(arr)\n",
    "\n",
    "arr.append(\"ten\")\n",
    "print(arr)\n",
    "\n",
    "arr.extend([11, 12])\n",
    "print(arr)\n",
    "\n",
    "arr.insert(10, \"before ten\")\n",
    "print(arr)\n",
    "\n",
    "print(arr + list(range(100, 105)))\n",
    "\n",
    "arr += [13, 14]\n",
    "print(arr)"
   ]
  },
  {
   "cell_type": "code",
   "execution_count": 48,
   "metadata": {},
   "outputs": [
    {
     "name": "stdout",
     "output_type": "stream",
     "text": [
      "[0, 1, 2, 3, 4, 5, 6, 7, 8, 9]\n",
      "9\n",
      "[0, 1, 2, 3, 4, 5, 6, 7, 8]\n",
      "None\n",
      "[0, 1, 2, 3, 4, 6, 7, 8]\n",
      "[1, 2, 3, 4, 6, 7, 8]\n",
      "[1, 2, 3]\n"
     ]
    }
   ],
   "source": [
    "# removing\n",
    "arr = list(range(10))\n",
    "print(arr)\n",
    "\n",
    "print(arr.pop())\n",
    "print(arr)\n",
    "\n",
    "print(arr.remove(5))\n",
    "print(arr)\n",
    "\n",
    "del arr[0]\n",
    "print(arr)\n",
    "\n",
    "del arr[3:]\n",
    "print(arr)"
   ]
  },
  {
   "cell_type": "code",
   "execution_count": 49,
   "metadata": {},
   "outputs": [
    {
     "name": "stdout",
     "output_type": "stream",
     "text": [
      "[1, 2, 3, 1, 2, 3, 1, 2, 3]\n"
     ]
    }
   ],
   "source": [
    "# multiplication\n",
    "print([1, 2, 3] * 3)"
   ]
  },
  {
   "cell_type": "code",
   "execution_count": 50,
   "metadata": {},
   "outputs": [
    {
     "name": "stdout",
     "output_type": "stream",
     "text": [
      "[0, 1, 2, 3, 4, 5, 6, 7, 8, 9]\n",
      "[9, 8, 7, 6, 5, 4, 3, 2, 1, 0]\n"
     ]
    }
   ],
   "source": [
    "# reversing\n",
    "arr = list(range(10))\n",
    "print(arr)\n",
    "\n",
    "arr.reverse()\n",
    "print(arr)"
   ]
  },
  {
   "cell_type": "code",
   "execution_count": 51,
   "metadata": {},
   "outputs": [
    {
     "name": "stdout",
     "output_type": "stream",
     "text": [
      "c\n",
      "b\n",
      "a\n"
     ]
    }
   ],
   "source": [
    "# builtin reversed() generator\n",
    "for elem in reversed([\"a\", \"b\", \"c\"]):\n",
    "    print(elem)"
   ]
  },
  {
   "cell_type": "code",
   "execution_count": 52,
   "metadata": {},
   "outputs": [
    {
     "name": "stdout",
     "output_type": "stream",
     "text": [
      "[5, 7, 1, 10, -1]\n",
      "[-1, 1, 5, 7, 10]\n",
      "[10, 7, 5, 1, -1]\n"
     ]
    }
   ],
   "source": [
    "# sorting\n",
    "arr = [5, 7, 1, 10, -1]\n",
    "print(arr)\n",
    "arr.sort()\n",
    "print(arr)\n",
    "arr.sort(reverse=True)\n",
    "print(arr)"
   ]
  },
  {
   "cell_type": "code",
   "execution_count": 53,
   "metadata": {},
   "outputs": [
    {
     "name": "stdout",
     "output_type": "stream",
     "text": [
      "['abc', 'defg', 'h', 'ij']\n",
      "['defg', 'abc', 'ij', 'h']\n"
     ]
    }
   ],
   "source": [
    "# more sorting\n",
    "arr = [\"abc\", \"defg\", \"h\", \"ij\"]\n",
    "print(arr)\n",
    "arr.sort(key=lambda elem: len(elem), reverse=True)\n",
    "print(arr)"
   ]
  },
  {
   "cell_type": "code",
   "execution_count": 54,
   "metadata": {},
   "outputs": [
    {
     "name": "stdout",
     "output_type": "stream",
     "text": [
      "['abc', 'defg', 'h', 'ij']\n",
      "defg\n",
      "abc\n",
      "ij\n",
      "h\n"
     ]
    }
   ],
   "source": [
    "# builtin sorted generator\n",
    "arr = [\"abc\", \"defg\", \"h\", \"ij\"]\n",
    "print(arr)\n",
    "\n",
    "for elem in sorted(arr, key=lambda elem: len(elem), reverse=True):\n",
    "    print(elem)"
   ]
  },
  {
   "cell_type": "code",
   "execution_count": 55,
   "metadata": {},
   "outputs": [
    {
     "name": "stdout",
     "output_type": "stream",
     "text": [
      "<zip object at 0x7f9c38cb9700>\n",
      "[(10, 1), (20, 2), (30, 3), (40, 4), (50, 5), (60, 6), (70, 7), (80, 8), (90, 9)]\n"
     ]
    }
   ],
   "source": [
    "# zip\n",
    "first_sequence = list(range(10, 100, 10))\n",
    "second_sequence = list(range(1, 10, 1))\n",
    "\n",
    "result = zip(first_sequence, second_sequence)\n",
    "print(result)\n",
    "print(list(result))\n"
   ]
  },
  {
   "cell_type": "code",
   "execution_count": 56,
   "metadata": {},
   "outputs": [
    {
     "data": {
      "text/plain": [
       "[(1,), (2,), (3,)]"
      ]
     },
     "execution_count": 56,
     "metadata": {},
     "output_type": "execute_result"
    }
   ],
   "source": [
    "list(zip([1, 2, 3]))"
   ]
  },
  {
   "cell_type": "code",
   "execution_count": 57,
   "metadata": {},
   "outputs": [
    {
     "name": "stdout",
     "output_type": "stream",
     "text": [
      "3\n",
      "9\n",
      "0\n",
      "5\n"
     ]
    }
   ],
   "source": [
    "# max, min\n",
    "print(max(1, 2, 3))\n",
    "print(max(range(10)))\n",
    "print(min(range(10)))\n",
    "print(max(range(5, 10), key=lambda val: 2 ** -val))"
   ]
  },
  {
   "cell_type": "code",
   "execution_count": 58,
   "metadata": {},
   "outputs": [
    {
     "name": "stdout",
     "output_type": "stream",
     "text": [
      "0.03125\n"
     ]
    }
   ],
   "source": [
    "def powfun(val):\n",
    "    return 2 ** (-val)\n",
    "\n",
    "print(2 ** -5)"
   ]
  },
  {
   "cell_type": "code",
   "execution_count": 59,
   "metadata": {},
   "outputs": [
    {
     "name": "stdout",
     "output_type": "stream",
     "text": [
      "45\n",
      "0\n"
     ]
    }
   ],
   "source": [
    "# sum\n",
    "print(sum(range(10)))\n",
    "print(sum(range(10), -45))"
   ]
  },
  {
   "cell_type": "markdown",
   "metadata": {},
   "source": [
    "### Кортеж (tuple) - неизменяемый массив\n",
    "\n",
    "* Как list(), только нельзя изменять.\n",
    "* Используется там, где нужно свойство неизменяемости.\n",
    "* Также можно использовать, чтобы явно указывать на то, что определённый набор данных задумывался неизменяемым.\n",
    "* С помощью этого типа неявно выполняется операция параллельного присваивания."
   ]
  },
  {
   "cell_type": "code",
   "execution_count": 60,
   "metadata": {},
   "outputs": [
    {
     "name": "stdout",
     "output_type": "stream",
     "text": [
      "(1, 2)\n",
      "(1, 2, 3)\n",
      "(4, 5)\n"
     ]
    }
   ],
   "source": [
    "print((1, 2))\n",
    "print(tuple([1, 2, 3]))\n",
    "a, b = 4, 5\n",
    "print((a, b))"
   ]
  },
  {
   "cell_type": "markdown",
   "metadata": {},
   "source": [
    "### Строки\n",
    "\n",
    "* Два варианта кавычек: \"...\" или '...' - разницы нет.\n",
    "* r\"...\" - raw string, символ '\\' не интерпретируется в таких литералах.\n",
    "* В Python строки неизменяемые (immutable) - при изменении значения (например, одной буквы) создаётся новый объект.  \n",
    "* Надо учитывать при большом количестве изменяющих операций над строками в программами и оптимизировать при необходимости.  \n",
    "* Два способова форматирования:  \n",
    "    + старый через %  \n",
    "    + современный через .format  -- Желательный способ форматирования и считается правильным!"
   ]
  },
  {
   "cell_type": "code",
   "execution_count": 61,
   "metadata": {},
   "outputs": [
    {
     "name": "stdout",
     "output_type": "stream",
     "text": [
      "<class 'str'> abc\n",
      "Funny, isn't it?\n",
      "Funny, isn't it?\n",
      "Quote: \"Ahaha\"\n"
     ]
    }
   ],
   "source": [
    "# string literals\n",
    "print(type(\"abc\"), \"abc\")\n",
    "\n",
    "print(\"Funny, isn't it?\")\n",
    "print('Funny, isn\\'t it?')\n",
    "print('Quote: \"Ahaha\"')"
   ]
  },
  {
   "cell_type": "code",
   "execution_count": 62,
   "metadata": {},
   "outputs": [
    {
     "name": "stdout",
     "output_type": "stream",
     "text": [
      "\\test\n",
      "\test\n",
      "Hello \n",
      "\n",
      "Hello \\n\n"
     ]
    }
   ],
   "source": [
    "# raw strings\n",
    "print(r\"\\test\")\n",
    "print(\"\\test\")\n",
    "print(\"Hello \\n\")\n",
    "print(r\"Hello \\n\")"
   ]
  },
  {
   "cell_type": "code",
   "execution_count": 63,
   "metadata": {},
   "outputs": [
    {
     "name": "stdout",
     "output_type": "stream",
     "text": [
      "['abcd', 'efg']\n",
      "['abcd', 'efg hij']\n",
      "['abcd efg', 'hij']\n"
     ]
    }
   ],
   "source": [
    "# split\n",
    "print(\"abcd efg\".split(\" \"))\n",
    "print(\"abcd efg hij\".split(\" \", 1))\n",
    "print(\"abcd efg hij\".rsplit(\" \", 1))"
   ]
  },
  {
   "cell_type": "code",
   "execution_count": 64,
   "metadata": {},
   "outputs": [
    {
     "name": "stdout",
     "output_type": "stream",
     "text": [
      "Your ahaha words ahaha are ahaha funny\n"
     ]
    }
   ],
   "source": [
    "# join\n",
    "print(\" ahaha \".join([\"Your\", \"words\", \"are\", \"funny\"]))"
   ]
  },
  {
   "cell_type": "code",
   "execution_count": 65,
   "metadata": {},
   "outputs": [
    {
     "name": "stdout",
     "output_type": "stream",
     "text": [
      "True\n",
      "True\n",
      "abAHAHAba\n",
      "2\n"
     ]
    }
   ],
   "source": [
    "# check parts of the string\n",
    "line = \"abacaba\"\n",
    "print(line.startswith(\"aba\"))\n",
    "print(line.endswith(\"aba\"))\n",
    "print(line.replace(\"aca\", \"AHAHA\"))\n",
    "print(line.find(\"aca\"))"
   ]
  },
  {
   "cell_type": "code",
   "execution_count": 66,
   "metadata": {},
   "outputs": [
    {
     "name": "stdout",
     "output_type": "stream",
     "text": [
      "first argument is 1, second argument is 2\n",
      "first argument is 2, second argument is 1\n",
      "My name is unknown\n",
      "counter=1\n"
     ]
    }
   ],
   "source": [
    "# simple formatting examples\n",
    "print(\"first argument is {}, second argument is {}\".format(1, 2))\n",
    "print(\"first argument is {1}, second argument is {0}\".format(1, 2))\n",
    "# error -> print \"first argument is {1}, second argument is {}\".format(1, 2)\n",
    "print(\"My name is {name}\".format(name=\"unknown\"))\n",
    "\n",
    "key = \"counter\"\n",
    "value = \"1\"\n",
    "print(\"{}={}\".format(key, value))"
   ]
  },
  {
   "cell_type": "markdown",
   "metadata": {},
   "source": [
    "Описание синтаксиса и более сложных примеров форматирования: https://docs.python.org/3/library/string.html#format-string-syntax "
   ]
  },
  {
   "cell_type": "markdown",
   "metadata": {},
   "source": [
    "#### Пример простого ввода и вывода\n",
    "\n",
    "* Встроенная функция input() - вернёт строку (до \\\\n) из стандартного ввода.\n",
    "* Встроенный оператор print используется для вывода текста на стандартный ввывод."
   ]
  },
  {
   "cell_type": "code",
   "execution_count": 67,
   "metadata": {},
   "outputs": [
    {
     "name": "stdin",
     "output_type": "stream",
     "text": [
      "Print line: 1324\n"
     ]
    },
    {
     "name": "stdout",
     "output_type": "stream",
     "text": [
      "1324\n"
     ]
    }
   ],
   "source": [
    "# input\n",
    "# line = input(\"Print line:\")\n",
    "\n",
    "# ouptut\n",
    "# print(line)"
   ]
  },
  {
   "cell_type": "markdown",
   "metadata": {},
   "source": [
    "### Отображения (mappings)\n",
    "\n",
    "* Словари отображающие множество неизменяемых ключей на соответствующие значения.\n",
    "* Встроенный тип: dict()"
   ]
  },
  {
   "cell_type": "markdown",
   "metadata": {},
   "source": [
    "Свойства:  \n",
    "\n",
    "* Ключи должны быть неизменяемые (внутри используется hash).  \n",
    "* Ключи могут быть различных типов.  \n",
    "* Упорядоченность элементов dict() не гарантируется (порядок может быть произвольным).\n",
    "* Значения могут быть различных типов.  \n",
    "* Широко используются внутри языка: имя переменной и её значение, поля объекта и их значения.  "
   ]
  },
  {
   "cell_type": "code",
   "execution_count": 68,
   "metadata": {},
   "outputs": [
    {
     "name": "stdout",
     "output_type": "stream",
     "text": [
      "{'a': 1, 'b': 2}\n",
      "{}\n",
      "{}\n",
      "{'a': 1, 'b': 2}\n"
     ]
    }
   ],
   "source": [
    "# dict literal\n",
    "counters = { \"a\": 1, \"b\": 2}\n",
    "print(counters)\n",
    "\n",
    "# dict()\n",
    "print({})\n",
    "print(dict())\n",
    "\n",
    "# from pairs\n",
    "key_values = [(\"a\", 1), (\"b\", 2)]\n",
    "print(dict(key_values))\n"
   ]
  },
  {
   "cell_type": "code",
   "execution_count": 69,
   "metadata": {},
   "outputs": [
    {
     "name": "stdout",
     "output_type": "stream",
     "text": [
      "1\n",
      "True\n",
      "1\n"
     ]
    }
   ],
   "source": [
    "# lookup element\n",
    "counters = {\"a\": 1, \"b\": 2}\n",
    "print(counters[\"a\"])\n",
    "print(\"a\" in counters)\n",
    "print(counters.get(\"a\", 0))"
   ]
  },
  {
   "cell_type": "markdown",
   "metadata": {},
   "source": [
    "Зачем использовать get():\n",
    "* если вы хотите уберечь себя от неожиданных ошибок KeyError\n",
    "\n",
    "Но get() работает чуть медленнее, так как проверяет наличие элемента в словаре.\n",
    "\n",
    "Если вы уверены, что ключ существует, используйте получение элемента через []\n"
   ]
  },
  {
   "cell_type": "code",
   "execution_count": 74,
   "metadata": {},
   "outputs": [
    {
     "ename": "KeyError",
     "evalue": "'c'",
     "output_type": "error",
     "traceback": [
      "\u001b[0;31m---------------------------------------------------------------------------\u001b[0m",
      "\u001b[0;31mKeyError\u001b[0m                                  Traceback (most recent call last)",
      "\u001b[0;32m<ipython-input-74-16edd4f36822>\u001b[0m in \u001b[0;36m<module>\u001b[0;34m\u001b[0m\n\u001b[1;32m      1\u001b[0m \u001b[0;31m# lookup error (KeyError)\u001b[0m\u001b[0;34m\u001b[0m\u001b[0;34m\u001b[0m\u001b[0;34m\u001b[0m\u001b[0m\n\u001b[1;32m      2\u001b[0m \u001b[0mcounters\u001b[0m \u001b[0;34m=\u001b[0m \u001b[0;34m{\u001b[0m\u001b[0;34m\"a\"\u001b[0m\u001b[0;34m:\u001b[0m \u001b[0;36m1\u001b[0m\u001b[0;34m,\u001b[0m \u001b[0;34m\"b\"\u001b[0m\u001b[0;34m:\u001b[0m \u001b[0;36m2\u001b[0m\u001b[0;34m}\u001b[0m\u001b[0;34m\u001b[0m\u001b[0;34m\u001b[0m\u001b[0m\n\u001b[0;32m----> 3\u001b[0;31m \u001b[0mcounters\u001b[0m\u001b[0;34m[\u001b[0m\u001b[0;34m\"c\"\u001b[0m\u001b[0;34m]\u001b[0m\u001b[0;34m\u001b[0m\u001b[0;34m\u001b[0m\u001b[0m\n\u001b[0m",
      "\u001b[0;31mKeyError\u001b[0m: 'c'"
     ]
    }
   ],
   "source": [
    "# lookup error (KeyError)\n",
    "counters = {\"a\": 1, \"b\": 2}\n",
    "counters[\"c\"]"
   ]
  },
  {
   "cell_type": "code",
   "execution_count": 75,
   "metadata": {},
   "outputs": [
    {
     "name": "stdout",
     "output_type": "stream",
     "text": [
      "True\n"
     ]
    }
   ],
   "source": [
    "counters = {\"a\": 1, \"b\": 2}\n",
    "print(counters.get(\"c\", None) is None)"
   ]
  },
  {
   "cell_type": "code",
   "execution_count": 76,
   "metadata": {},
   "outputs": [
    {
     "name": "stdout",
     "output_type": "stream",
     "text": [
      "{'a': 1, 'b': 2, 'c': 3}\n"
     ]
    }
   ],
   "source": [
    "# add element\n",
    "counters = {\"a\": 1, \"b\": 2}\n",
    "counters[\"c\"] = 3\n",
    "print(counters)"
   ]
  },
  {
   "cell_type": "code",
   "execution_count": 77,
   "metadata": {},
   "outputs": [
    {
     "name": "stdout",
     "output_type": "stream",
     "text": [
      "{'a': 1, 'b': 2, 'c': 3, 'f': 1}\n"
     ]
    }
   ],
   "source": [
    "new_counters = {\"f\": 1, \"b\": 2}\n",
    "counters.update(new_counters)\n",
    "print(counters)"
   ]
  },
  {
   "cell_type": "code",
   "execution_count": 78,
   "metadata": {},
   "outputs": [
    {
     "name": "stdout",
     "output_type": "stream",
     "text": [
      "{'a': 1, 'b': 2}\n",
      "{'a': 1}\n",
      "1\n",
      "{}\n"
     ]
    }
   ],
   "source": [
    "# remove element\n",
    "counters = {\"a\": 1, \"b\": 2}\n",
    "print(counters)\n",
    "del counters[\"b\"]\n",
    "print(counters)\n",
    "print(counters.pop(\"a\"))\n",
    "print(counters)"
   ]
  },
  {
   "cell_type": "code",
   "execution_count": 79,
   "metadata": {},
   "outputs": [
    {
     "name": "stdout",
     "output_type": "stream",
     "text": [
      "a 1\n",
      "b 2\n",
      "dict_keys(['a', 'b'])\n",
      "dict_values([1, 2])\n",
      "dict_items([('a', 1), ('b', 2)])\n",
      "a\n",
      "b\n",
      "1\n",
      "2\n",
      "a 1\n",
      "b 2\n"
     ]
    }
   ],
   "source": [
    "counters = {\"a\": 1, \"b\": 2}\n",
    "\n",
    "for key in counters:\n",
    "    print(key, counters[key])\n",
    "\n",
    "print(counters.keys())\n",
    "print(counters.values())\n",
    "print(counters.items())\n",
    "\n",
    "for key in iter(counters.keys()):\n",
    "    print(key)\n",
    "\n",
    "for value in iter(counters.values()):\n",
    "    print(value)\n",
    "\n",
    "for key, value in iter(counters.items()):\n",
    "    print(key, value)"
   ]
  },
  {
   "cell_type": "code",
   "execution_count": 80,
   "metadata": {},
   "outputs": [
    {
     "name": "stdout",
     "output_type": "stream",
     "text": [
      "dict_keys(['a', 'b'])\n",
      "<dict_keyiterator object at 0x7f9c38c22cc0>\n",
      "['a', 'b']\n"
     ]
    }
   ],
   "source": [
    "print(counters.keys())\n",
    "print(iter(counters.keys()))\n",
    "print(list(iter(counters.keys())))\n"
   ]
  },
  {
   "cell_type": "markdown",
   "metadata": {},
   "source": [
    "### Множество\n",
    "\n",
    "* Тип данных соответствующий математическому объекту множества.\n",
    "* Встроенные типы: set(), fronzenset()"
   ]
  },
  {
   "cell_type": "markdown",
   "metadata": {},
   "source": [
    "Свойства:\n",
    "\n",
    "* Содержит набор уникальных объектов.\n",
    "* Элементы должны быть неизменяемыми.\n",
    "* frozenset() - неизменяемая версия set()\n",
    "* Поддерживает операции над множествами: объединение, пересечение и т.п."
   ]
  },
  {
   "cell_type": "code",
   "execution_count": 81,
   "metadata": {},
   "outputs": [
    {
     "name": "stdout",
     "output_type": "stream",
     "text": [
      "set()\n",
      "{1, 2, 3}\n",
      "{1, 2, 3, 4}\n"
     ]
    }
   ],
   "source": [
    "# making set\n",
    "print(set())\n",
    "print(set([1, 2, 3]))\n",
    "print(set([1, 2, 1, 3, 4, 2, 2, 2]))"
   ]
  },
  {
   "cell_type": "code",
   "execution_count": 82,
   "metadata": {},
   "outputs": [
    {
     "name": "stdout",
     "output_type": "stream",
     "text": [
      "set()\n",
      "{1}\n"
     ]
    }
   ],
   "source": [
    "# adding element\n",
    "elems = set()\n",
    "print(elems)\n",
    "elems.add(1)\n",
    "print(elems)"
   ]
  },
  {
   "cell_type": "code",
   "execution_count": 83,
   "metadata": {},
   "outputs": [
    {
     "name": "stdout",
     "output_type": "stream",
     "text": [
      "0\n",
      "1\n",
      "2\n",
      "3\n",
      "4\n",
      "5\n",
      "6\n",
      "7\n",
      "8\n",
      "9\n"
     ]
    }
   ],
   "source": [
    "# iteration\n",
    "elems = set(range(10))\n",
    "for elem in elems:\n",
    "    print(elem)"
   ]
  },
  {
   "cell_type": "markdown",
   "metadata": {},
   "source": [
    "## Изменяемые vs Неизменяемые типы (Mutable & immutable)"
   ]
  },
  {
   "cell_type": "markdown",
   "metadata": {},
   "source": [
    "## Напоминание: **все** в питоне является объектом"
   ]
  },
  {
   "cell_type": "code",
   "execution_count": 5,
   "metadata": {},
   "outputs": [
    {
     "name": "stdout",
     "output_type": "stream",
     "text": [
      "True\n",
      "True\n",
      "True\n",
      "True\n",
      "True\n"
     ]
    }
   ],
   "source": [
    "def f():\n",
    "    print('Abacaba')\n",
    "    \n",
    "class A:\n",
    "    pass\n",
    "\n",
    "print(isinstance(1, object))\n",
    "print(isinstance(True, object))\n",
    "print(isinstance(f, object))\n",
    "print(isinstance(A, object))\n",
    "print(isinstance(A(), object))"
   ]
  },
  {
   "cell_type": "markdown",
   "metadata": {},
   "source": [
    "В Python есть встроеная функция id(), которая идентифицирует объект. Это целое число, которое уникально и остается постоянным на всем времени жизни объекта."
   ]
  },
  {
   "cell_type": "code",
   "execution_count": null,
   "metadata": {},
   "outputs": [],
   "source": [
    "x = \"ABACABA\"\n",
    "y = \"ABACABA\""
   ]
  },
  {
   "cell_type": "markdown",
   "metadata": {},
   "source": [
    "![types](./pictures/PICT1.png)"
   ]
  },
  {
   "cell_type": "code",
   "execution_count": 10,
   "metadata": {},
   "outputs": [
    {
     "name": "stdout",
     "output_type": "stream",
     "text": [
      "140546022268208\n",
      "140546022268208\n",
      "True\n",
      "True\n"
     ]
    }
   ],
   "source": [
    "x = \"ABACABA\"\n",
    "y = \"ABACABA\"\n",
    "print(id(x))\n",
    "print(id(y))\n",
    "print(x == y)\n",
    "print(x is y)"
   ]
  },
  {
   "cell_type": "markdown",
   "metadata": {},
   "source": [
    "Мы столкнулись с кэшированием **маленьких объектов**.\n",
    "\n",
    "На самом деле один это объект или нет зависит от реализации интерпретатора Python и даже от конкретной версии, поэтому вы должны писать код так, чтобы он не зависел от реализации питона."
   ]
  },
  {
   "cell_type": "code",
   "execution_count": 13,
   "metadata": {},
   "outputs": [
    {
     "name": "stdout",
     "output_type": "stream",
     "text": [
      "93903531192656\n",
      "93903531192656\n",
      "True\n",
      "True\n",
      "93903531626400\n",
      "93903531696464\n",
      "True\n",
      "False\n"
     ]
    }
   ],
   "source": [
    "x = 'abacaba' * 100\n",
    "y = 'abacaba' * 100\n",
    "print(id(x))\n",
    "print(id(y))\n",
    "print(x == y)\n",
    "print(x is y)\n",
    "\n",
    "x = 'abacaba' * 10000\n",
    "y = 'abacaba' * 10000\n",
    "print(id(x))\n",
    "print(id(y))\n",
    "print(x == y)\n",
    "print(x is y)"
   ]
  },
  {
   "cell_type": "markdown",
   "metadata": {},
   "source": [
    "### Неизменяемые типы\n",
    "* числа\n",
    "* строки\n",
    "* кортежи\n",
    "* фиксированные множества\n",
    "* булевые\n",
    "* None\n",
    "\n",
    "При попытке изменить значение объекта создается новый объект !\n",
    "\n",
    "Это значит, что результат работы id() будет разный:"
   ]
  },
  {
   "cell_type": "code",
   "execution_count": 14,
   "metadata": {},
   "outputs": [
    {
     "name": "stdout",
     "output_type": "stream",
     "text": [
      "140546022210800\n",
      "140546016911232\n"
     ]
    }
   ],
   "source": [
    "x = \"abacaba\"\n",
    "print(id(x))\n",
    "x = x + ' is a palindrom !'\n",
    "print(id(x))"
   ]
  },
  {
   "cell_type": "markdown",
   "metadata": {},
   "source": [
    "### Изменяемые типы\n",
    "* списки\n",
    "* словари\n",
    "* множества\n",
    "\n",
    "Можно манипулировать с объектами (добавлять, удалять и т.д), но id будет прежним\n",
    "\n",
    "Примеры:"
   ]
  },
  {
   "cell_type": "code",
   "execution_count": 20,
   "metadata": {},
   "outputs": [
    {
     "name": "stdout",
     "output_type": "stream",
     "text": [
      "140546017919744 [0, 1, 2, 3, 4, 5, 6, 7, 8, 9, 10, 11, 12, 13, 14, 15, 16, 17, 18, 19, 20, 21, 22, 23, 24, 25, 26, 27, 28, 29, 30, 31, 32, 33, 34, 35, 36, 37, 38, 39, 40, 41]\n",
      "140546017919744 [0, 1, 2, 3, 4, 5, 6, 7, 8, 9, 10, 11, 12, 13, 14, 15, 16, 17, 18, 19, 20, 21, 22, 23, 24, 25, 26, 27, 28, 29, 30, 31, 32, 33, 34, 35, 36, 37, 38, 39, 40, 41, 42]\n",
      "140546017921280 {}\n",
      "140546017921280 {'a': 1, (1, 2): 2}\n",
      "140546017629344 set()\n",
      "140546017629344 {'abacaba', 42}\n"
     ]
    }
   ],
   "source": [
    "# list example\n",
    "x = list(range(42))\n",
    "print(id(x), x)\n",
    "x.append(42)\n",
    "print(id(x), x)\n",
    "\n",
    "\n",
    "# dict example\n",
    "d = dict()\n",
    "print(id(d), d)\n",
    "d['a'] = 1\n",
    "d[(1, 2)] = 2\n",
    "print(id(d), d)\n",
    "\n",
    "# set example\n",
    "s = set()\n",
    "print(id(s), s)\n",
    "s.add(42)\n",
    "s.add('abacaba')\n",
    "print(id(s), s)"
   ]
  },
  {
   "cell_type": "markdown",
   "metadata": {},
   "source": [
    "## Немного про словари\n",
    "\n",
    "Как упоминалось ранее, ключами словаря могут быть только неизменяемые типы, хотя сам словарь изменяем.\n",
    "\n",
    "Почему так ?"
   ]
  },
  {
   "cell_type": "code",
   "execution_count": null,
   "metadata": {},
   "outputs": [],
   "source": [
    "# ЭТО ВЫДУМАННЫЙ ПРИМЕР, ТАКОЕ НЕВОЗМОЖНО ЗАПУСТИТЬ В ПИТОНЕ\n",
    "\n",
    "a = []\n",
    "b = [1]\n",
    "\n",
    "d = {\n",
    "    a: 'a',\n",
    "    b: 'b'\n",
    "}\n",
    "\n",
    "print(d[a])\n",
    "a.append(1)\n",
    "print(d[a])\n"
   ]
  },
  {
   "cell_type": "markdown",
   "metadata": {},
   "source": [
    "## Еще приколы"
   ]
  },
  {
   "cell_type": "code",
   "execution_count": 24,
   "metadata": {},
   "outputs": [
    {
     "name": "stdout",
     "output_type": "stream",
     "text": [
      "140546015870016\n",
      "140546021942592\n"
     ]
    }
   ],
   "source": [
    "a = [(0, 1), 2]\n",
    "b = ([0, 1], 2)\n",
    "\n",
    "print(id(a))\n",
    "print(id(b))\n"
   ]
  },
  {
   "cell_type": "code",
   "execution_count": 25,
   "metadata": {},
   "outputs": [
    {
     "ename": "TypeError",
     "evalue": "'tuple' object does not support item assignment",
     "output_type": "error",
     "traceback": [
      "\u001b[0;31m---------------------------------------------------------------------------\u001b[0m",
      "\u001b[0;31mTypeError\u001b[0m                                 Traceback (most recent call last)",
      "\u001b[0;32m<ipython-input-25-f0375196c7e4>\u001b[0m in \u001b[0;36m<module>\u001b[0;34m\u001b[0m\n\u001b[1;32m      1\u001b[0m \u001b[0ma\u001b[0m\u001b[0;34m[\u001b[0m\u001b[0;36m1\u001b[0m\u001b[0;34m]\u001b[0m \u001b[0;34m=\u001b[0m \u001b[0;36m2\u001b[0m\u001b[0;34m\u001b[0m\u001b[0;34m\u001b[0m\u001b[0m\n\u001b[0;32m----> 2\u001b[0;31m \u001b[0ma\u001b[0m\u001b[0;34m[\u001b[0m\u001b[0;36m0\u001b[0m\u001b[0;34m]\u001b[0m\u001b[0;34m[\u001b[0m\u001b[0;36m0\u001b[0m\u001b[0;34m]\u001b[0m \u001b[0;34m=\u001b[0m \u001b[0;36m1\u001b[0m\u001b[0;34m\u001b[0m\u001b[0;34m\u001b[0m\u001b[0m\n\u001b[0m",
      "\u001b[0;31mTypeError\u001b[0m: 'tuple' object does not support item assignment"
     ]
    }
   ],
   "source": [
    "a[1] = 2\n",
    "a[0][0] = 1"
   ]
  },
  {
   "cell_type": "code",
   "execution_count": 27,
   "metadata": {},
   "outputs": [
    {
     "name": "stdout",
     "output_type": "stream",
     "text": [
      "140546021942592 ([0, 1], 2)\n",
      "140546021942592 ([1, 1], 2)\n"
     ]
    }
   ],
   "source": [
    "print(id(b), b)\n",
    "b[0][0] = 1\n",
    "print(id(b), b)"
   ]
  },
  {
   "cell_type": "code",
   "execution_count": 28,
   "metadata": {},
   "outputs": [
    {
     "ename": "TypeError",
     "evalue": "unhashable type: 'list'",
     "output_type": "error",
     "traceback": [
      "\u001b[0;31m---------------------------------------------------------------------------\u001b[0m",
      "\u001b[0;31mTypeError\u001b[0m                                 Traceback (most recent call last)",
      "\u001b[0;32m<ipython-input-28-019a609214d8>\u001b[0m in \u001b[0;36m<module>\u001b[0;34m\u001b[0m\n\u001b[0;32m----> 1\u001b[0;31m d = {\n\u001b[0m\u001b[1;32m      2\u001b[0m     \u001b[0mb\u001b[0m\u001b[0;34m:\u001b[0m \u001b[0;36m1\u001b[0m\u001b[0;34m\u001b[0m\u001b[0;34m\u001b[0m\u001b[0m\n\u001b[1;32m      3\u001b[0m }\n",
      "\u001b[0;31mTypeError\u001b[0m: unhashable type: 'list'"
     ]
    }
   ],
   "source": [
    "d = {\n",
    "    b: 1\n",
    "}"
   ]
  },
  {
   "cell_type": "markdown",
   "metadata": {},
   "source": [
    "## Что с этим делать и как с этим жить ?\n",
    "\n",
    "* Не рекомендуется использовать изменяемые типы как аргументы функций\n",
    "* Если же используете, то желательно сделать безопасную копию этого объекта\n",
    "\n",
    "import copy\n",
    "\n",
    "copy.copy - поверхностное копирование\n",
    "\n",
    "copy.deepcopy - полное копирование с вложенностями "
   ]
  },
  {
   "cell_type": "code",
   "execution_count": 30,
   "metadata": {},
   "outputs": [],
   "source": [
    "from copy import copy, deepcopy\n"
   ]
  },
  {
   "cell_type": "code",
   "execution_count": 33,
   "metadata": {},
   "outputs": [
    {
     "name": "stdout",
     "output_type": "stream",
     "text": [
      "140546018855232 [1, 2, 3]\n",
      "140546018853056 [1, 2, 3]\n",
      "[1, 2, 3, 4]\n",
      "[1, 2, 3, 5]\n"
     ]
    }
   ],
   "source": [
    "a = [1, 2, 3]\n",
    "print(id(a), a)\n",
    "b = a.copy()\n",
    "print(id(b), b)\n",
    "a.append(4)\n",
    "b.append(5)\n",
    "print(a)\n",
    "print(b)"
   ]
  },
  {
   "cell_type": "code",
   "execution_count": 37,
   "metadata": {},
   "outputs": [
    {
     "name": "stdout",
     "output_type": "stream",
     "text": [
      "140546016228352 [140546014220992, 140546014222080, 140546014221952] [[0], [0], [0]]\n",
      "140546013772160 [140546014220992, 140546014222080, 140546014221952] [[0], [0], [0]]\n",
      "[[0, 1], [0], [0]]\n",
      "[[0, 1], [0], [0]]\n"
     ]
    }
   ],
   "source": [
    "a = [[0], [0], [0]]\n",
    "print(id(a), list(map(id, a)), a)\n",
    "b = a.copy()\n",
    "print(id(b), list(map(id, b)), b)\n",
    "a[0].append(1)\n",
    "print(a)\n",
    "print(b)"
   ]
  },
  {
   "cell_type": "code",
   "execution_count": 39,
   "metadata": {},
   "outputs": [
    {
     "name": "stdout",
     "output_type": "stream",
     "text": [
      "140546014224128 [140546013313088, 140546018588416, 140546016061120] [[0], [0], [0]]\n",
      "140546019189760 [140546019191808, 140546013781760, 140546013779264] [[0], [0], [0]]\n",
      "[[0, 1], [0], [0]]\n",
      "[[0], [0], [0]]\n"
     ]
    }
   ],
   "source": [
    "a = [[0], [0], [0]]\n",
    "print(id(a), list(map(id, a)), a)\n",
    "b = deepcopy(a)\n",
    "print(id(b), list(map(id, b)), b)\n",
    "a[0].append(1)\n",
    "print(a)\n",
    "print(b)"
   ]
  },
  {
   "cell_type": "markdown",
   "metadata": {},
   "source": [
    "## Операторы\n",
    "\n",
    "### Арифметические\n",
    "* +, -, *, /, //, %.\n",
    "* / - обычное деление\n",
    "* // - целочисленное деление\n",
    "* \\** - возведение в степень"
   ]
  },
  {
   "cell_type": "markdown",
   "metadata": {},
   "source": [
    "### Сравнение\n",
    "* ==, <, <=, >, >= - как обычно\n",
    "* a < b < c - составное сравнение.\n",
    "* Составное сравнение вычисляется лениво и могут не все выражения вычислиться.\n",
    "* Результат bool()."
   ]
  },
  {
   "cell_type": "markdown",
   "metadata": {},
   "source": [
    "### Логические\n",
    "* and - логическое и\n",
    "* or - логическое или\n",
    "* not - унарное отрицание\n",
    "* Результат and и or не обязательно bool() и на вход не обязательно bool() - подробности ниже.\n",
    "* Все пустые значения приводятся к False (\"\", 0, None, 0.0, [], and {}), непустые - к True.\n",
    "* Помнить и понимать, что and и or вычисляются лениво."
   ]
  },
  {
   "cell_type": "markdown",
   "metadata": {},
   "source": [
    "#### and\n",
    "* Если любое из значений False (или приводится к False), то and вернёт первое такое значение.  \n",
    "* Если все значения True (или приводятся к True), то and вернёт последнее такое значение.  "
   ]
  },
  {
   "cell_type": "markdown",
   "metadata": {},
   "source": [
    "#### or\n",
    "* Если любое из значений True (или приводится к True), то or вернёт первое такое значение.\n",
    "* Если все значения False (или приводятся к False), то or вернёт последнее такое значение."
   ]
  },
  {
   "cell_type": "markdown",
   "metadata": {},
   "source": [
    "### Бинарные\n",
    "* & - побитовое и\n",
    "* | - побитовое или\n",
    "* ^ - исключающее или\n",
    "* << и >> - сдвиги"
   ]
  },
  {
   "cell_type": "code",
   "execution_count": 43,
   "metadata": {},
   "outputs": [
    {
     "name": "stdout",
     "output_type": "stream",
     "text": [
      "<class 'int'> 1180591620717411303424 0b10000000000000000000000000000000000000000000000000000000000000000000000 73\n"
     ]
    }
   ],
   "source": [
    "# binary\n",
    "a = 1\n",
    "print(type(a << 70), a << 70, bin(a << 70), len(bin(a << 70)))"
   ]
  },
  {
   "cell_type": "markdown",
   "metadata": {},
   "source": [
    "### Условные\n",
    "* if condition:\n",
    "* elif condition: - не обязателен\n",
    "* else: - не обязателен\n",
    "* Составные многострочные условия можно заключать в скобки.\n",
    "* Сложные условия лучше заносить в переменные и проверять их.\n",
    "* Switch case отсутсвует"
   ]
  },
  {
   "cell_type": "code",
   "execution_count": 45,
   "metadata": {},
   "outputs": [
    {
     "name": "stdout",
     "output_type": "stream",
     "text": [
      "a > 2\n",
      "1 <= a <= 3\n",
      "Hmm, is it an alphabet?\n"
     ]
    }
   ],
   "source": [
    "# conditions\n",
    "a = 3\n",
    "if a > 2:\n",
    "    print(\"a > 2\")\n",
    "\n",
    "if a > 3:\n",
    "    print(\"a > 3\")\n",
    "elif a < 1:\n",
    "    print( \"a < 1\")\n",
    "else:\n",
    "    print(\"1 <= a <= 3\")\n",
    "\n",
    "s = \"abcdefgh\"\n",
    "is_looks_like_alphabet = s.startswith(\"abc\") or s.endswith(\"xyz\")\n",
    "if is_looks_like_alphabet:\n",
    "    print(\"Hmm, is it an alphabet?\")"
   ]
  },
  {
   "cell_type": "markdown",
   "metadata": {},
   "source": [
    "### Циклы\n",
    "* while condition: - обычный цикл while  \n",
    "* for elem in iterable: - цикл for как итерирование  \n",
    "* есть continue и break  \n",
    "* range([start,] stop[, step]) - возвращает итератор для коллекции с заданным диапазоном.  "
   ]
  },
  {
   "cell_type": "code",
   "execution_count": 46,
   "metadata": {},
   "outputs": [
    {
     "name": "stdout",
     "output_type": "stream",
     "text": [
      "2\n",
      "4\n",
      "6\n",
      "8\n",
      "10\n"
     ]
    }
   ],
   "source": [
    "# loops\n",
    "\n",
    "counter = 0\n",
    "while counter < 10:\n",
    "    counter += 2\n",
    "    print(counter)"
   ]
  },
  {
   "cell_type": "code",
   "execution_count": 47,
   "metadata": {},
   "outputs": [
    {
     "name": "stdout",
     "output_type": "stream",
     "text": [
      "1\n",
      "2\n",
      "100500\n"
     ]
    }
   ],
   "source": [
    "numbers = [1, 2, 100500]\n",
    "\n",
    "for number in numbers:\n",
    "    print(number)"
   ]
  },
  {
   "cell_type": "code",
   "execution_count": 48,
   "metadata": {},
   "outputs": [
    {
     "name": "stdout",
     "output_type": "stream",
     "text": [
      "0\n",
      "1\n",
      "2\n",
      "3\n",
      "4\n",
      "5\n",
      "6\n",
      "7\n",
      "8\n",
      "9\n"
     ]
    }
   ],
   "source": [
    "for elem in range(10):\n",
    "    print(elem)"
   ]
  },
  {
   "cell_type": "markdown",
   "metadata": {},
   "source": [
    "### Особые\n",
    "* in - вхождение элемента в коллекцию.\n",
    "* is - проверка идентичности двух объектов.\n",
    "    + Переменные должны указывать на один и тот же объект, а не только иметь одинаковое значение.\n",
    "    + is принято использовать для сравнения с None.\n",
    "* del - удаление\n",
    "    + переменной (больше имя не ссылается на значение)\n",
    "    + элемента коллекции или части коллекции (срез)\n",
    "* pass\n",
    "    + ничего не делает (nop)\n",
    "    + удобно для создания наброска набора функций или иерархии классов "
   ]
  },
  {
   "cell_type": "code",
   "execution_count": 50,
   "metadata": {},
   "outputs": [
    {
     "name": "stdout",
     "output_type": "stream",
     "text": [
      "Found it!\n"
     ]
    }
   ],
   "source": [
    "# other\n",
    "#numbers = [1, 2, 100500]\n",
    "numbers = set([1, 2, 100500])\n",
    "\n",
    "if 2 in numbers:\n",
    "    print(\"Found it!\")"
   ]
  },
  {
   "cell_type": "markdown",
   "metadata": {},
   "source": [
    "## Функции\n",
    "\n",
    "Определение:\n",
    "\n",
    "* Являются объектами (понятие function is a first-class citizen).\n",
    "* Задаются с помощью ключевого слова def.\n"
   ]
  },
  {
   "cell_type": "markdown",
   "metadata": {},
   "source": [
    "Возвращаемое значение:\n",
    "\n",
    "* Возвращаемое значение с помощью return.\n",
    "* Если нет return, то вернёт None."
   ]
  },
  {
   "cell_type": "markdown",
   "metadata": {},
   "source": [
    "Аргументы:\n",
    "\n",
    "* Аргументы передаются по ссылке.\n",
    "* Обязательные и опциональные аргументы - в месте определения, задано ли значение по-умолчанию.\n",
    "* Позиционные и именованные аргументы - в месте вызова, в зависимости от способа передачи при вызове.\n",
    "* Позиционные задаются и распределяются по порядку.\n",
    "* Именованные аргументы задаются при вызове с явным указанием имени переменной.\n",
    "* Значение аргумента по-умолчанию создаётся только один раз - потенциальные проблемы (сохранённое состояние, общий контейнер).\n",
    "* В определении параметров функции идут сначала обязательные, потом опциональные аргументы.\n",
    "* При вызове в передаче параметров функции аргументы следует задавать сначала позиционно, потом по имени.\n",
    "* Собирающие аргументы \\*args и \\*\\*kwargs.\n",
    "* \\*args - все неперечисленные явно, но переданные позиционные аргументы будут помещены в аргумент-кортеж с указанным именем.\n",
    "* \\*\\*kwargs - все неперечисленные явно, но переданные именованные аргументы будут помещены в аргумент-словарь с указанным именем.\n",
    "* Порядок определения: обязательные, опциональные, \\*args, \\*\\*kwargs.\n",
    "* Порядок передачи при вызове: позиционные, именованные. А далее они распределяются по описанным в определении, в т.ч. по \\*args и \\*\\*kwargs."
   ]
  },
  {
   "cell_type": "markdown",
   "metadata": {},
   "source": [
    "Замечание про описание и передачу аргументов:\n",
    "\n",
    "* Строго говоря, между обязательными и позиционными, а также между опциональными и именованными нет требования взаимно-однозначного соответствия: опциональные могут передаваться с помощью позиционных, обязательные - по имени.\n",
    "* Однако лучше придерживаться такого соглашения: передавать обязательные позиционно и опциональные непозиционно. В противном случае могут быть ситуации неконсистентного использования, а то и ошибок, и придётся задумываться о лишним вещах:\n",
    "  - В некоторых фреймворках принято переиспользовать или перекрывать некоторое поведение путём перехвата в оборачивающией функции kwargs аргументов и каких-нибудь действий над этим контейнером.\n",
    "  - Некоторые функции с обязательными аргументами не будут нормально вызываться при передаче аргумента по имени (см. split(sep)). Это связано с особенностями внутренней реализации нативных методов. https://bugs.python.org/issue1176\n",
    "  - При чтении кода, в котором придерживаются соглашения выше, проще понимать, что и куда идёт, а также как с ним работать и чего ожидать."
   ]
  },
  {
   "cell_type": "markdown",
   "metadata": {},
   "source": [
    "Локальные переменные:\n",
    "\n",
    "* Определённые и используемые внутри каждой функции переменные считаются локальными и хранятся в отдельной таблице локальных символов.\n",
    "* При обращении к переменной она сначала ищется в локальной области, а потом в глобальной.\n",
    "* Чтобы писать в глобальные переменные из кода внутри функции надо сначала их явно пересчислить в выражении с ключевым словом global.\n"
   ]
  },
  {
   "cell_type": "markdown",
   "metadata": {},
   "source": [
    "Документация:\n",
    "\n",
    "* Документация с помощью docstring - <https://www.python.org/dev/peps/pep-0257/>\n",
    "* Первым выражением может идти строковый литерал - docstring (documentation string).\n",
    "* Можно получить из объекта функции из поля \\_\\_doc\\_\\_.\n",
    "* Редакторы умеют показывать.\n",
    "* Можно даже мини-тесты вставлять.  "
   ]
  },
  {
   "cell_type": "code",
   "execution_count": 2,
   "metadata": {},
   "outputs": [
    {
     "name": "stdout",
     "output_type": "stream",
     "text": [
      "hello\n",
      "hello\n",
      "6\n"
     ]
    }
   ],
   "source": [
    "# simple function\n",
    "def print_hello():\n",
    "    print(\"hello\")\n",
    "\n",
    "def return_hello():\n",
    "    return \"hello\"\n",
    "\n",
    "# recursive function\n",
    "def dummy_factorial(value):\n",
    "    if value == 0:\n",
    "        return 1\n",
    "    else:\n",
    "        return value * dummy_factorial(value - 1)\n",
    "\n",
    "print_hello()\n",
    "print(return_hello())\n",
    "print(dummy_factorial(3))"
   ]
  },
  {
   "cell_type": "code",
   "execution_count": 4,
   "metadata": {},
   "outputs": [
    {
     "name": "stdout",
     "output_type": "stream",
     "text": [
      "Greetings, stranger\n",
      "Greetings, user\n"
     ]
    }
   ],
   "source": [
    "# keyword argument\n",
    "def greet(name=None):\n",
    "    if name is None:\n",
    "        name = \"stranger\"\n",
    "\n",
    "    print(\"Greetings, {name}\".format(name=name))\n",
    "\n",
    "greet()\n",
    "greet(name=\"user\") "
   ]
  },
  {
   "cell_type": "code",
   "execution_count": 6,
   "metadata": {},
   "outputs": [
    {
     "name": "stdout",
     "output_type": "stream",
     "text": [
      "<class 'tuple'>\n",
      "one two ('three', 'four')\n",
      "<class 'dict'>\n",
      "{'first_named': 'named_one', 'second_named': 'named_two', 'third_named': 'named_three'}\n"
     ]
    }
   ],
   "source": [
    "def show_params(first_param, second_param, *args, **kwargs):\n",
    "    print(type(args))\n",
    "    print(first_param, second_param, args)\n",
    "    print(type(kwargs))\n",
    "    print(kwargs)\n",
    "\n",
    "show_params(\"one\", \"two\", \"three\", \"four\", first_named=\"named_one\", second_named=\"named_two\", third_named=\"named_three\")"
   ]
  },
  {
   "cell_type": "code",
   "execution_count": 10,
   "metadata": {},
   "outputs": [
    {
     "name": "stdout",
     "output_type": "stream",
     "text": [
      "3 1 2\n"
     ]
    }
   ],
   "source": [
    "# unpacking arguments (no always a good style, but sometimes useful)\n",
    "def show_params(first_param, second_param, third_param):\n",
    "    print(first_param, second_param, third_param)\n",
    "\n",
    "elems = (3, 1, 2)\n",
    "show_params(*elems)"
   ]
  },
  {
   "cell_type": "code",
   "execution_count": 11,
   "metadata": {},
   "outputs": [
    {
     "name": "stdout",
     "output_type": "stream",
     "text": [
      "a b c\n"
     ]
    }
   ],
   "source": [
    "d = {'a': 1, 'b': 2, 'c': 3}\n",
    "show_params(*d)"
   ]
  },
  {
   "cell_type": "code",
   "execution_count": 12,
   "metadata": {},
   "outputs": [
    {
     "name": "stdout",
     "output_type": "stream",
     "text": [
      "1 2 3\n"
     ]
    }
   ],
   "source": [
    "# unpacking kwargs\n",
    "def show_named_params(first_param=\"one\", second_param=\"two\", third_param=\"three\"):\n",
    "    print(first_param, second_param, third_param)\n",
    "\n",
    "d = {'first_param': 1, 'second_param': 2, 'third_param': 3}\n",
    "show_named_params(**d)"
   ]
  },
  {
   "cell_type": "code",
   "execution_count": 14,
   "metadata": {},
   "outputs": [
    {
     "name": "stdout",
     "output_type": "stream",
     "text": [
      "[(1, 4, 7), (2, 5, 8), (3, 6, 9)]\n"
     ]
    }
   ],
   "source": [
    "# zip-star magic\n",
    "elems_containers = ((1, 2, 3), (4, 5, 6), (7, 8, 9))\n",
    "print(list(zip(*elems_containers)))"
   ]
  },
  {
   "cell_type": "code",
   "execution_count": 15,
   "metadata": {},
   "outputs": [
    {
     "name": "stdout",
     "output_type": "stream",
     "text": [
      "Short description of the function action\n",
      "\n",
      "    More detailes description: may contain params, invariants,\n",
      "    raised exceptions, return value and etc.\n",
      "    \n",
      "Help on function do_something in module __main__:\n",
      "\n",
      "do_something()\n",
      "    Short description of the function action\n",
      "    \n",
      "    More detailes description: may contain params, invariants,\n",
      "    raised exceptions, return value and etc.\n",
      "\n"
     ]
    }
   ],
   "source": [
    "# docstring\n",
    "def do_something():\n",
    "    \"\"\"Short description of the function action\n",
    "\n",
    "    More detailes description: may contain params, invariants,\n",
    "    raised exceptions, return value and etc.\n",
    "    \"\"\"\n",
    "    pass\n",
    "\n",
    "print(do_something.__doc__)\n",
    "help(do_something)"
   ]
  }
 ],
 "metadata": {
  "kernelspec": {
   "display_name": "2021InteractiveLections",
   "language": "python",
   "name": "2021interactivelections"
  },
  "language_info": {
   "codemirror_mode": {
    "name": "ipython",
    "version": 3
   },
   "file_extension": ".py",
   "mimetype": "text/x-python",
   "name": "python",
   "nbconvert_exporter": "python",
   "pygments_lexer": "ipython3",
   "version": "3.8.5"
  }
 },
 "nbformat": 4,
 "nbformat_minor": 4
}
