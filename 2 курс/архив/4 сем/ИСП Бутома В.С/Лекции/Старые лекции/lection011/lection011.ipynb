{
 "cells": [
  {
   "cell_type": "markdown",
   "metadata": {
    "collapsed": true,
    "deletable": true,
    "editable": true
   },
   "source": [
    "# Лекция 11: параллелизм и Python"
   ]
  },
  {
   "cell_type": "markdown",
   "metadata": {
    "deletable": true,
    "editable": true
   },
   "source": [
    "The free lunch is over? Not quite, we just need to be parallel now."
   ]
  },
  {
   "cell_type": "markdown",
   "metadata": {
    "deletable": true,
    "editable": true
   },
   "source": [
    "## ОС, процессы и потоки"
   ]
  },
  {
   "cell_type": "markdown",
   "metadata": {
    "deletable": true,
    "editable": true
   },
   "source": [
    "### Общее описание"
   ]
  },
  {
   "cell_type": "markdown",
   "metadata": {
    "deletable": true,
    "editable": true
   },
   "source": [
    "* Операционная система (ОС) - оболочка, организующая работу программ их взаимодействие с ресурсами компьютера.\n",
    "* Процесс (process) - запущенная на выполнение программа, набор инструкций и текущее её состояние:\n",
    "  * Образ машинного кода программы\n",
    "  * Память (стек, куча)\n",
    "  * Cостояние процессора (регистры, режимы работы и т.п.)\n",
    "  * Текущие исполняемые команды\n",
    "  * Дескрипторы ОС и файловые, права доступа\n",
    "  * и т.д.\n",
    "* Поток (thread) - поток выполнения\n",
    "  * Обычно существует внутри процесса (процесс может иметь один или несколько потоков выполнения).\n",
    "  * Описывается машинным кодом, контекстом родительского процесса (в т.ч. общие данные для отдельных потоков) и своим локальным контекстом (например, различное состояние процессора и стека для нескольких потоков одного процесса, собственные неразделяемые данные отдельного процесса (thread-local data)).\n",
    "  * Имеет меньший чем у процесса описывающий контекст (более \"легковесный\").\n",
    "  * За счёт этой \"легковесности\" и разделения контекста переключение между потоками одного процесса происходит быстрее, чем между отдельными процессами.\n",
    "  * ОС считает наименьшей единицей исполнения задачи поток (если потоки поддерживаются, иначе процесс) и переключает выполнение между ими.\n",
    "  * Кроме потоков ядра системы (kernel threads, управляемых ОС) можно иногда также рассматриваются пользовательские потоки (user-space threads), которые реализованы не в ОС, а с помощью библиотеки или конкретного интерпретатора/компилятора.\n",
    "  * Thread-safe код - код умеющий работать в многопоточном окружении (или не требует синхронизаций, или есть все необходимые)."
   ]
  },
  {
   "cell_type": "markdown",
   "metadata": {
    "deletable": true,
    "editable": true
   },
   "source": [
    "Процессы и потоки довольно похожи, некоторые ОС не разделяют эти понятия, а в тех, в которых они разделяются, поток обычно существует внутри процесса и несколько потоков внутри одного процесса могут обращаться к общим ресурсам."
   ]
  },
  {
   "cell_type": "markdown",
   "metadata": {
    "deletable": true,
    "editable": true
   },
   "source": [
    "Некоторые преимущества использования потоков:\n",
    "* Программы могут оставаться отзывчивыми к пользовательским действиям, если интерфейс работает в отдельном потоке.\n",
    "* Общие данные, с которыми можно работать из разных потоков."
   ]
  },
  {
   "cell_type": "markdown",
   "metadata": {
    "deletable": true,
    "editable": true
   },
   "source": [
    "### Возникающие проблемы и задачи"
   ]
  },
  {
   "cell_type": "markdown",
   "metadata": {
    "deletable": true,
    "editable": true
   },
   "source": [
    "* Запуск новых процессов и потоков\n",
    "* Диспетчеризация выполняющихся задач (scheduling)\n",
    "* Доступ к общим ресурсам и обмен информацией между выполняющимися задачами (синхронизация состояния и передача данных)\n",
    "* Обработка ошибок\n",
    "* Завершение выполнения"
   ]
  },
  {
   "cell_type": "markdown",
   "metadata": {
    "deletable": true,
    "editable": true
   },
   "source": [
    "В общем случае:\n",
    "* Запуск процессов и потоков выполняется через API предоставляемое операционной системой либо через библиотеки, которые являются обертками вокруг этого API.\n",
    "* Диспетчеризацию выполняет ОС, программа может косвенно на это влиять выставлением параметров и типа диспетчеризации через API либо использовать пользовательскую библиотеку, которая будет реализовывать диспетчеризацию поверх механизмов ОС.\n",
    "* Программе доступны (напрямую через ОС или через оборачивающие библиотеки) механизмы синхронизации доступа к общим ресурсам, а также передачи сообщений между отдельными процессами и потоками.\n",
    "* ОС предоставляет механизмы передачи и получения сообщений (сигналов и т.п.) об ошибках, а также их обработку. Также необходимо предусматривать механизмы для восстановления программы после ошибки в отдельных потоках или совместному корректному завершению программы.\n",
    "* ОС предоставляет механизмы синхронизации и ожидания завершения выполнения, а также получения статуса после завершнения. Необходимо учитывать различные возникающие ситуации (одна из задач зависла, где-то была ошибка, надо дождаться полного завершения или нет и т.д.)."
   ]
  },
  {
   "cell_type": "markdown",
   "metadata": {
    "deletable": true,
    "editable": true
   },
   "source": [
    "### Дополнительно про многопоточность и многопроцессность"
   ]
  },
  {
   "cell_type": "markdown",
   "metadata": {
    "deletable": true,
    "editable": true
   },
   "source": [
    "* Хорошая книга про многопоточное программирование:\n",
    "  * Herlihy, Shavit. The Art of Multiprocessor Programming. Elsevier, 2008"
   ]
  },
  {
   "cell_type": "markdown",
   "metadata": {
    "deletable": true,
    "editable": true
   },
   "source": [
    "* Материалы первой лекции курса по параллельному программированию ШАД\n",
    "  * Первые две видеозаписи https://yandexdataschool.ru/edu-process/courses/parallel"
   ]
  },
  {
   "cell_type": "markdown",
   "metadata": {
    "deletable": true,
    "editable": true
   },
   "source": [
    "* Многопоточность в C++ 11 (в т.ч. для сравнения с тем, как это выглядит в Python)\n",
    "  * Anthony Williams. C++ Concurrency in Action: Practical Multithreading. Manning, 2012"
   ]
  },
  {
   "cell_type": "markdown",
   "metadata": {
    "deletable": true,
    "editable": true
   },
   "source": [
    "* Про различные механизмы взаимодействия между процессами в Unix системах (linux и т.д.)\n",
    "  * Уильям Стивенс, Unix: взаимодействие процессов. Питер, 2003"
   ]
  },
  {
   "cell_type": "markdown",
   "metadata": {
    "deletable": true,
    "editable": true
   },
   "source": [
    "## Многопоточность в Python"
   ]
  },
  {
   "cell_type": "markdown",
   "metadata": {
    "deletable": true,
    "editable": true
   },
   "source": [
    "Python поддерживает многопоточность, API для этого реализовано в библиотеке threading. Однако многопоточность в Python своеобразна."
   ]
  },
  {
   "cell_type": "markdown",
   "metadata": {
    "deletable": true,
    "editable": true
   },
   "source": [
    "### Модуль threading"
   ]
  },
  {
   "cell_type": "markdown",
   "metadata": {
    "deletable": true,
    "editable": true
   },
   "source": [
    "Для начала рассмотрим этот модуль стандартной библиотеки."
   ]
  },
  {
   "cell_type": "markdown",
   "metadata": {
    "deletable": true,
    "editable": true
   },
   "source": [
    "Модуль threading состоит из нескольких функций и переменных, класов представляющих собой поток, примитивы синхронизации, таймер периодического запуска и некоторых других элементов."
   ]
  },
  {
   "cell_type": "code",
   "execution_count": 1,
   "metadata": {
    "collapsed": true,
    "deletable": true,
    "editable": true
   },
   "outputs": [],
   "source": [
    "import threading"
   ]
  },
  {
   "cell_type": "markdown",
   "metadata": {
    "deletable": true,
    "editable": true
   },
   "source": [
    "#### Класс Thread"
   ]
  },
  {
   "cell_type": "markdown",
   "metadata": {
    "deletable": true,
    "editable": true
   },
   "source": [
    "Потоки представлены классом Thread:\n",
    "* Он описывает API по запуску и завершению выполнения потоков.\n",
    "* Он может служить обёрткой для пользовательской функции, которую нужно запустить на выполнение в потоке.\n",
    "* От него можно наследоваться и перекрывать метод run(), чтобы описать свой поток."
   ]
  },
  {
   "cell_type": "markdown",
   "metadata": {
    "deletable": true,
    "editable": true
   },
   "source": [
    "#### Thread как обертка"
   ]
  },
  {
   "cell_type": "code",
   "execution_count": 2,
   "metadata": {
    "collapsed": false,
    "deletable": true,
    "editable": true
   },
   "outputs": [
    {
     "name": "stdout",
     "output_type": "stream",
     "text": [
      "WorkerWorker\n",
      "\n",
      "Worker\n",
      "Worker\n",
      "Worker\n"
     ]
    }
   ],
   "source": [
    "def worker():\n",
    "    \"\"\"thread worker function\"\"\"\n",
    "    print('Worker')\n",
    "    return\n",
    "\n",
    "threads = []\n",
    "for i in range(5):\n",
    "    t = threading.Thread(target=worker)\n",
    "    threads.append(t)\n",
    "    t.start()"
   ]
  },
  {
   "cell_type": "markdown",
   "metadata": {
    "deletable": true,
    "editable": true
   },
   "source": [
    "Можно передать аргументы:"
   ]
  },
  {
   "cell_type": "code",
   "execution_count": 3,
   "metadata": {
    "collapsed": false,
    "deletable": true,
    "editable": true
   },
   "outputs": [
    {
     "name": "stdout",
     "output_type": "stream",
     "text": [
      "Worker: 0Worker: 1\n",
      "Worker: 2\n",
      "Worker: 3\n",
      "Worker: 4\n",
      "\n"
     ]
    }
   ],
   "source": [
    "import threading\n",
    "\n",
    "def worker(num):\n",
    "    \"\"\"thread worker function\"\"\"\n",
    "    print('Worker: %s' % num)\n",
    "    return\n",
    "\n",
    "threads = []\n",
    "for i in range(5):\n",
    "    t = threading.Thread(target=worker, args=(i,))\n",
    "    threads.append(t)\n",
    "    t.start()"
   ]
  },
  {
   "cell_type": "markdown",
   "metadata": {
    "deletable": true,
    "editable": true
   },
   "source": [
    "#### Определяем текущий поток"
   ]
  },
  {
   "cell_type": "markdown",
   "metadata": {
    "deletable": true,
    "editable": true
   },
   "source": [
    "Нет нужды передавать аргументы, можно использовать функцию модуля threading:"
   ]
  },
  {
   "cell_type": "code",
   "execution_count": 4,
   "metadata": {
    "collapsed": false,
    "deletable": true,
    "editable": true
   },
   "outputs": [
    {
     "name": "stdout",
     "output_type": "stream",
     "text": [
      "workerThread-14  Starting\n",
      "my_service Starting\n",
      "Starting\n"
     ]
    }
   ],
   "source": [
    "import threading\n",
    "import time\n",
    "\n",
    "def worker():\n",
    "    print(threading.current_thread().getName(), 'Starting')\n",
    "    time.sleep(2)\n",
    "    print(threading.currentThread().getName(), 'Exiting')\n",
    "\n",
    "def my_service():\n",
    "    print(threading.currentThread().getName(), 'Starting')\n",
    "    time.sleep(3)\n",
    "    print(threading.currentThread().getName(), 'Exiting')\n",
    "\n",
    "t = threading.Thread(name='my_service', target=my_service)\n",
    "w = threading.Thread(name='worker', target=worker)\n",
    "w2 = threading.Thread(target=worker) # use default name\n",
    "\n",
    "w.start()\n",
    "w2.start()\n",
    "t.start()"
   ]
  },
  {
   "cell_type": "markdown",
   "metadata": {
    "deletable": true,
    "editable": true
   },
   "source": [
    "#### Логгирование и потоки"
   ]
  },
  {
   "cell_type": "markdown",
   "metadata": {
    "deletable": true,
    "editable": true
   },
   "source": [
    "* С помощью модуля logging можно логировать информацию из потоков (не требует отдельной синхронизации т.к. thread-safe).\n",
    "* Модуль умеет дописывать имя потока, если задать это в формате."
   ]
  },
  {
   "cell_type": "code",
   "execution_count": 5,
   "metadata": {
    "collapsed": false,
    "deletable": true,
    "editable": true
   },
   "outputs": [
    {
     "name": "stderr",
     "output_type": "stream",
     "text": [
      "[DEBUG] 2018-05-18 22:13:24,688 (worker    ) Starting\n",
      "[DEBUG] 2018-05-18 22:13:24,690 (Thread-15 ) Starting\n",
      "[DEBUG] 2018-05-18 22:13:24,690 (my_service) Starting\n",
      "[DEBUG] 2018-05-18 22:13:24,690 (MainThread) After\n"
     ]
    }
   ],
   "source": [
    "import logging\n",
    "import threading\n",
    "import time\n",
    "\n",
    "\n",
    "# make it work in ipython\n",
    "log_handler = logging.StreamHandler()\n",
    "log_handler.setFormatter(\n",
    "    logging.Formatter('[%(levelname)s] %(asctime)s (%(threadName)-10s) %(message)s')\n",
    ")\n",
    "logger = logging.getLogger()\n",
    "logger.handlers = []\n",
    "logger.addHandler(log_handler)\n",
    "logger.setLevel(logging.DEBUG)\n",
    "\n",
    "def worker():\n",
    "    logging.debug('Starting')\n",
    "    time.sleep(2)\n",
    "    logging.debug('Exiting')\n",
    "\n",
    "def my_service():\n",
    "    logging.debug('Starting')\n",
    "    time.sleep(3)\n",
    "    logging.debug('Exiting')\n",
    "\n",
    "t = threading.Thread(name='my_service', target=my_service)\n",
    "w = threading.Thread(name='worker', target=worker)\n",
    "w2 = threading.Thread(target=worker) # use default name\n",
    "\n",
    "w.start()\n",
    "w2.start()\n",
    "t.start()\n",
    "logging.debug('After')"
   ]
  },
  {
   "cell_type": "markdown",
   "metadata": {
    "deletable": true,
    "editable": true
   },
   "source": [
    "#### Потоки демоны и не демоны"
   ]
  },
  {
   "cell_type": "markdown",
   "metadata": {
    "deletable": true,
    "editable": true
   },
   "source": [
    "* По-умолчанию программы ждут, когда завершатся все созданные потоки.\n",
    "* Иногда нужно, чтобы главный поток не ожидал завершения побочных.\n",
    "* В таком случае можно дать потоку метку демона вызвав setDaemon(True).\n",
    "* По-умолчанию этот флаг выключен."
   ]
  },
  {
   "cell_type": "code",
   "execution_count": 6,
   "metadata": {
    "collapsed": false,
    "deletable": true,
    "editable": true
   },
   "outputs": [
    {
     "name": "stderr",
     "output_type": "stream",
     "text": [
      "[DEBUG] 2018-05-18 22:13:24,707 (daemon    ) Starting\n",
      "[DEBUG] 2018-05-18 22:13:24,707 (non-daemon) Starting\n",
      "[DEBUG] 2018-05-18 22:13:24,708 (MainThread) After\n",
      "[DEBUG] 2018-05-18 22:13:24,709 (non-daemon) Exiting\n"
     ]
    }
   ],
   "source": [
    "def daemon():\n",
    "    logging.debug('Starting')\n",
    "    time.sleep(2)\n",
    "    logging.debug('Exiting')\n",
    "\n",
    "d = threading.Thread(name='daemon', target=daemon)\n",
    "d.setDaemon(True)\n",
    "\n",
    "def non_daemon():\n",
    "    logging.debug('Starting')\n",
    "    logging.debug('Exiting')\n",
    "\n",
    "t = threading.Thread(name='non-daemon', target=non_daemon)\n",
    "\n",
    "d.start()\n",
    "t.start()\n",
    "logging.debug('After')"
   ]
  },
  {
   "cell_type": "markdown",
   "metadata": {
    "deletable": true,
    "editable": true
   },
   "source": [
    "Если запустить этот пример из файла, то последней строки не будет, т.к. главный поток не ждал завершения потока-демона."
   ]
  },
  {
   "cell_type": "markdown",
   "metadata": {
    "deletable": true,
    "editable": true
   },
   "source": [
    "Для ожидания завершения потока-демона можно воспользоваться функцией join():"
   ]
  },
  {
   "cell_type": "code",
   "execution_count": 7,
   "metadata": {
    "collapsed": false,
    "deletable": true,
    "editable": true
   },
   "outputs": [
    {
     "name": "stderr",
     "output_type": "stream",
     "text": [
      "[DEBUG] 2018-05-18 22:13:24,738 (daemon    ) Starting\n",
      "[DEBUG] 2018-05-18 22:13:24,741 (non-daemon) Starting\n",
      "[DEBUG] 2018-05-18 22:13:24,742 (non-daemon) Exiting\n",
      "[DEBUG] 2018-05-18 22:13:26,692 (worker    ) Exiting\n",
      "[DEBUG] 2018-05-18 22:13:26,693 (Thread-15 ) Exiting\n",
      "[DEBUG] 2018-05-18 22:13:26,710 (daemon    ) Exiting\n",
      "[DEBUG] 2018-05-18 22:13:26,742 (daemon    ) Exiting\n"
     ]
    },
    {
     "name": "stdout",
     "output_type": "stream",
     "text": [
      "worker Exiting\n",
      "Thread-14 Exiting\n"
     ]
    }
   ],
   "source": [
    "def daemon():\n",
    "    logging.debug('Starting')\n",
    "    time.sleep(2)\n",
    "    logging.debug('Exiting')\n",
    "\n",
    "d = threading.Thread(name='daemon', target=daemon)\n",
    "d.setDaemon(True)\n",
    "\n",
    "def non_daemon():\n",
    "    logging.debug('Starting')\n",
    "    logging.debug('Exiting')\n",
    "\n",
    "t = threading.Thread(name='non-daemon', target=non_daemon)\n",
    "\n",
    "d.start()\n",
    "t.start()\n",
    "\n",
    "d.join()\n",
    "t.join()"
   ]
  },
  {
   "cell_type": "markdown",
   "metadata": {
    "deletable": true,
    "editable": true
   },
   "source": [
    "Тут может быть разница при запуске из файла прошлого и этого примера."
   ]
  },
  {
   "cell_type": "markdown",
   "metadata": {
    "deletable": true,
    "editable": true
   },
   "source": [
    "По-умолчанию join() блокируется на неограниченное время, но можно указать timeout:"
   ]
  },
  {
   "cell_type": "code",
   "execution_count": 8,
   "metadata": {
    "collapsed": false,
    "deletable": true,
    "editable": true
   },
   "outputs": [
    {
     "name": "stderr",
     "output_type": "stream",
     "text": [
      "[DEBUG] 2018-05-18 22:13:26,772 (daemon    ) Starting\n",
      "[DEBUG] 2018-05-18 22:13:26,772 (non-daemon) Starting\n",
      "[DEBUG] 2018-05-18 22:13:26,777 (non-daemon) Exiting\n",
      "[DEBUG] 2018-05-18 22:13:27,694 (my_service) Exiting\n",
      "[DEBUG] 2018-05-18 22:13:27,773 (MainThread) d.isAlive() True\n"
     ]
    },
    {
     "name": "stdout",
     "output_type": "stream",
     "text": [
      "my_service Exiting\n"
     ]
    }
   ],
   "source": [
    "def daemon():\n",
    "    logging.debug('Starting')\n",
    "    time.sleep(2)\n",
    "    logging.debug('Exiting')\n",
    "\n",
    "d = threading.Thread(name='daemon', target=daemon)\n",
    "d.setDaemon(True)\n",
    "\n",
    "def non_daemon():\n",
    "    logging.debug('Starting')\n",
    "    logging.debug('Exiting')\n",
    "\n",
    "t = threading.Thread(name='non-daemon', target=non_daemon)\n",
    "\n",
    "d.start()\n",
    "t.start()\n",
    "\n",
    "d.join(1)\n",
    "logging.debug('d.isAlive() {}'.format(d.isAlive()))\n",
    "t.join()"
   ]
  },
  {
   "cell_type": "markdown",
   "metadata": {
    "deletable": true,
    "editable": true
   },
   "source": [
    "#### Обходим все потоки"
   ]
  },
  {
   "cell_type": "code",
   "execution_count": 9,
   "metadata": {
    "collapsed": false,
    "deletable": true,
    "editable": true
   },
   "outputs": [
    {
     "name": "stderr",
     "output_type": "stream",
     "text": [
      "[DEBUG] 2018-05-18 22:13:27,818 (Thread-16 ) sleeping 5\n",
      "[DEBUG] 2018-05-18 22:13:27,820 (Thread-17 ) sleeping 2\n",
      "[DEBUG] 2018-05-18 22:13:27,825 (Thread-18 ) sleeping 5\n",
      "[DEBUG] 2018-05-18 22:13:27,825 (MainThread) joining Thread-2\n",
      "[DEBUG] 2018-05-18 22:13:28,776 (daemon    ) Exiting\n",
      "[DEBUG] 2018-05-18 22:13:28,829 (MainThread) joining Thread-18\n",
      "[DEBUG] 2018-05-18 22:13:29,827 (Thread-17 ) ending\n",
      "[DEBUG] 2018-05-18 22:13:29,830 (MainThread) joining IPythonHistorySavingThread\n",
      "[DEBUG] 2018-05-18 22:13:30,835 (MainThread) joining daemon\n",
      "[DEBUG] 2018-05-18 22:13:30,836 (MainThread) joining Thread-16\n",
      "[DEBUG] 2018-05-18 22:13:31,837 (MainThread) joining Thread-3\n",
      "[DEBUG] 2018-05-18 22:13:32,825 (Thread-16 ) ending\n",
      "[DEBUG] 2018-05-18 22:13:32,831 (Thread-18 ) ending\n",
      "[DEBUG] 2018-05-18 22:13:32,840 (MainThread) joining Thread-17\n",
      "[DEBUG] 2018-05-18 22:13:32,843 (MainThread) joining Thread-1\n"
     ]
    }
   ],
   "source": [
    "import random\n",
    "\n",
    "def worker():\n",
    "    \"\"\"thread worker function\"\"\"\n",
    "    t = threading.currentThread()\n",
    "    pause = random.randint(1,5)\n",
    "    logging.debug('sleeping %s', pause)\n",
    "    time.sleep(pause)\n",
    "    logging.debug('ending')\n",
    "    return\n",
    "\n",
    "for i in range(3):\n",
    "    t = threading.Thread(target=worker)\n",
    "    t.setDaemon(True)\n",
    "    t.start()\n",
    "\n",
    "main_thread = threading.currentThread()\n",
    "for t in threading.enumerate():\n",
    "    if t is main_thread: # waiting for main thread causes deadlock\n",
    "        continue\n",
    "    logging.debug('joining %s', t.getName())\n",
    "    t.join(1)"
   ]
  },
  {
   "cell_type": "markdown",
   "metadata": {
    "deletable": true,
    "editable": true
   },
   "source": [
    "#### Наследуемся от Thread"
   ]
  },
  {
   "cell_type": "code",
   "execution_count": 10,
   "metadata": {
    "collapsed": false,
    "deletable": true,
    "editable": true
   },
   "outputs": [
    {
     "name": "stderr",
     "output_type": "stream",
     "text": [
      "[DEBUG] 2018-05-18 22:13:33,858 (Thread-19 ) running\n",
      "[DEBUG] 2018-05-18 22:13:33,858 (Thread-20 ) running\n",
      "[DEBUG] 2018-05-18 22:13:33,862 (Thread-21 ) running\n",
      "[DEBUG] 2018-05-18 22:13:33,863 (Thread-22 ) running\n",
      "[DEBUG] 2018-05-18 22:13:33,863 (Thread-23 ) running\n"
     ]
    }
   ],
   "source": [
    "class MyThread(threading.Thread):\n",
    "\n",
    "    def run(self):\n",
    "        logging.debug('running')\n",
    "        return\n",
    "\n",
    "for i in range(5):\n",
    "    t = MyThread()\n",
    "    t.start()"
   ]
  },
  {
   "cell_type": "markdown",
   "metadata": {
    "deletable": true,
    "editable": true
   },
   "source": [
    "Можно перекрыть инициализацию и получить доступ к получаемым аргументам или начать поддерживать новые в своём классе-потомке Thread:"
   ]
  },
  {
   "cell_type": "code",
   "execution_count": 11,
   "metadata": {
    "collapsed": false,
    "deletable": true,
    "editable": true
   },
   "outputs": [
    {
     "name": "stderr",
     "output_type": "stream",
     "text": [
      "[DEBUG] 2018-05-18 22:13:33,899 (Thread-24 ) running with (0,) and {'b': 'B', 'a': 'A'}\n",
      "[DEBUG] 2018-05-18 22:13:33,900 (Thread-25 ) running with (1,) and {'b': 'B', 'a': 'A'}\n",
      "[DEBUG] 2018-05-18 22:13:33,900 (Thread-26 ) running with (2,) and {'b': 'B', 'a': 'A'}\n",
      "[DEBUG] 2018-05-18 22:13:33,901 (Thread-27 ) running with (3,) and {'b': 'B', 'a': 'A'}\n",
      "[DEBUG] 2018-05-18 22:13:33,903 (Thread-28 ) running with (4,) and {'b': 'B', 'a': 'A'}\n"
     ]
    }
   ],
   "source": [
    "class MyThreadWithArgs(threading.Thread):\n",
    "\n",
    "    def __init__(self, group=None, target=None, name=None,\n",
    "                 args=(), kwargs=None):\n",
    "        super().__init__(group=group, target=target, name=name)\n",
    "\n",
    "        self.args = args\n",
    "        self.kwargs = kwargs\n",
    "        return\n",
    "\n",
    "    def run(self):\n",
    "        logging.debug('running with %s and %s', self.args, self.kwargs)\n",
    "        return\n",
    "\n",
    "for i in range(5):\n",
    "    t = MyThreadWithArgs(args=(i,), kwargs={'a':'A', 'b':'B'})\n",
    "    t.start()"
   ]
  },
  {
   "cell_type": "markdown",
   "metadata": {
    "deletable": true,
    "editable": true
   },
   "source": [
    "#### Потоки и таймеры"
   ]
  },
  {
   "cell_type": "markdown",
   "metadata": {
    "deletable": true,
    "editable": true
   },
   "source": [
    "* Timer - поток, выполняющий функцию не сразу, а после некоторого ожидания.\n",
    "* Такой поток можно отменить в любой момент до начала."
   ]
  },
  {
   "cell_type": "code",
   "execution_count": 12,
   "metadata": {
    "collapsed": false,
    "deletable": true,
    "editable": true
   },
   "outputs": [
    {
     "name": "stderr",
     "output_type": "stream",
     "text": [
      "[DEBUG] 2018-05-18 22:13:33,924 (MainThread) starting timers\n",
      "[DEBUG] 2018-05-18 22:13:33,926 (MainThread) waiting before canceling t2\n",
      "[DEBUG] 2018-05-18 22:13:35,932 (MainThread) canceling t2\n",
      "[DEBUG] 2018-05-18 22:13:35,935 (MainThread) done\n"
     ]
    }
   ],
   "source": [
    "def delayed():\n",
    "    logging.debug('worker running')\n",
    "    return\n",
    "\n",
    "t1 = threading.Timer(3, delayed)\n",
    "t1.setName('t1')\n",
    "t2 = threading.Timer(3, delayed)\n",
    "t2.setName('t2')\n",
    "\n",
    "logging.debug('starting timers')\n",
    "t1.start()\n",
    "t2.start()\n",
    "\n",
    "logging.debug('waiting before canceling %s', t2.getName())\n",
    "time.sleep(2)\n",
    "logging.debug('canceling %s', t2.getName())\n",
    "t2.cancel()\n",
    "logging.debug('done')"
   ]
  },
  {
   "cell_type": "markdown",
   "metadata": {
    "deletable": true,
    "editable": true
   },
   "source": [
    "#### Синхронизация по Event"
   ]
  },
  {
   "cell_type": "markdown",
   "metadata": {
    "deletable": true,
    "editable": true
   },
   "source": [
    "* Класс, позволяющий синхронизировать действия в различных потоках.\n",
    "* set() - установить внутренний флаг.\n",
    "* clear() - снять внутренний флаг.\n",
    "* wait() - ждать, пока будет установлен флаг (set())."
   ]
  },
  {
   "cell_type": "code",
   "execution_count": 13,
   "metadata": {
    "collapsed": false,
    "deletable": true,
    "editable": true,
    "scrolled": true
   },
   "outputs": [
    {
     "name": "stderr",
     "output_type": "stream",
     "text": [
      "[DEBUG] 2018-05-18 22:13:35,995 (block     ) wait_for_event starting\n",
      "[DEBUG] 2018-05-18 22:13:35,995 (non-block ) wait_for_event_timeout starting\n",
      "[DEBUG] 2018-05-18 22:13:35,995 (MainThread) Waiting before calling Event.set()\n",
      "[DEBUG] 2018-05-18 22:13:36,926 (t1        ) worker running\n",
      "[DEBUG] 2018-05-18 22:13:37,998 (non-block ) event set: False\n",
      "[DEBUG] 2018-05-18 22:13:38,000 (non-block ) doing other work\n",
      "[DEBUG] 2018-05-18 22:13:38,002 (non-block ) wait_for_event_timeout starting\n",
      "[DEBUG] 2018-05-18 22:13:39,002 (MainThread) Event is set\n",
      "[DEBUG] 2018-05-18 22:13:39,005 (block     ) event set: True\n",
      "[DEBUG] 2018-05-18 22:13:39,006 (non-block ) event set: True\n"
     ]
    }
   ],
   "source": [
    "def wait_for_event(e):\n",
    "    \"\"\"Wait for the event to be set before doing anything\"\"\"\n",
    "    logging.debug('wait_for_event starting')\n",
    "    event_is_set = e.wait()\n",
    "    logging.debug('event set: %s', event_is_set)\n",
    "\n",
    "def wait_for_event_timeout(e, t):\n",
    "    \"\"\"Wait t seconds and then timeout\"\"\"\n",
    "    while not e.is_set():\n",
    "        logging.debug('wait_for_event_timeout starting')\n",
    "        event_is_set = e.wait(t)\n",
    "        logging.debug('event set: %s', event_is_set)\n",
    "        if event_is_set:\n",
    "            logging.debug('processing event')\n",
    "        else:\n",
    "            logging.debug('doing other work')\n",
    "\n",
    "\n",
    "e = threading.Event()\n",
    "t1 = threading.Thread(name='block', \n",
    "                      target=wait_for_event,\n",
    "                      args=(e,))\n",
    "t1.start()\n",
    "\n",
    "t2 = threading.Thread(name='non-block', \n",
    "                      target=wait_for_event_timeout, \n",
    "                      args=(e, 2))\n",
    "t2.start()\n",
    "\n",
    "logging.debug('Waiting before calling Event.set()')\n",
    "time.sleep(3)\n",
    "e.set()\n",
    "logging.debug('Event is set')"
   ]
  },
  {
   "cell_type": "markdown",
   "metadata": {
    "deletable": true,
    "editable": true
   },
   "source": [
    "* Аргумент в wait(..) - на сколько секунд блокироваться.\n",
    "* Возвращаемое значение - установлен ли проверяемый флаг.\n",
    "* is_set() - неблокирущая проверка установленности флага."
   ]
  },
  {
   "cell_type": "markdown",
   "metadata": {
    "deletable": true,
    "editable": true
   },
   "source": [
    "#### Защита совместного доступа к ресурсам\n",
    "* Стандартные типы данных защищены GIL.\n",
    "* Но примитивные нет, а также пользовательские.\n",
    "* При обращении из нескольких потоков могут возникать проблемы из-за одновременного доступа к данным.\n",
    "* Общие данные нужно ограничивать.\n",
    "* В модуле threading для этого можно воспользоваться классом Lock."
   ]
  },
  {
   "cell_type": "code",
   "execution_count": 14,
   "metadata": {
    "collapsed": false,
    "deletable": true,
    "editable": true,
    "scrolled": true
   },
   "outputs": [
    {
     "name": "stderr",
     "output_type": "stream",
     "text": [
      "[DEBUG] 2018-05-18 22:13:39,032 (non-block ) processing event\n",
      "[DEBUG] 2018-05-18 22:13:39,088 (Thread-31 ) Sleeping 0.21\n",
      "[DEBUG] 2018-05-18 22:13:39,089 (Thread-32 ) Sleeping 0.98\n",
      "[DEBUG] 2018-05-18 22:13:39,091 (MainThread) Waiting for worker threads\n",
      "[DEBUG] 2018-05-18 22:13:39,297 (Thread-31 ) Waiting for lock\n",
      "[DEBUG] 2018-05-18 22:13:39,298 (Thread-31 ) Acquired lock\n",
      "[DEBUG] 2018-05-18 22:13:39,299 (Thread-31 ) Sleeping 0.11\n",
      "[DEBUG] 2018-05-18 22:13:39,409 (Thread-31 ) Waiting for lock\n",
      "[DEBUG] 2018-05-18 22:13:39,410 (Thread-31 ) Acquired lock\n",
      "[DEBUG] 2018-05-18 22:13:39,411 (Thread-31 ) Sleeping 0.20\n",
      "[DEBUG] 2018-05-18 22:13:39,615 (Thread-31 ) Waiting for lock\n",
      "[DEBUG] 2018-05-18 22:13:39,616 (Thread-31 ) Acquired lock\n",
      "[DEBUG] 2018-05-18 22:13:39,618 (Thread-31 ) Sleeping 0.69\n",
      "[DEBUG] 2018-05-18 22:13:40,076 (Thread-32 ) Waiting for lock\n",
      "[DEBUG] 2018-05-18 22:13:40,079 (Thread-32 ) Acquired lock\n",
      "[DEBUG] 2018-05-18 22:13:40,082 (Thread-32 ) Sleeping 0.46\n",
      "[DEBUG] 2018-05-18 22:13:40,319 (Thread-31 ) Waiting for lock\n",
      "[DEBUG] 2018-05-18 22:13:40,320 (Thread-31 ) Acquired lock\n",
      "[DEBUG] 2018-05-18 22:13:40,322 (Thread-31 ) Done\n",
      "[DEBUG] 2018-05-18 22:13:40,548 (Thread-32 ) Waiting for lock\n",
      "[DEBUG] 2018-05-18 22:13:40,551 (Thread-32 ) Acquired lock\n",
      "[DEBUG] 2018-05-18 22:13:40,555 (Thread-32 ) Sleeping 0.97\n",
      "[DEBUG] 2018-05-18 22:13:41,536 (Thread-32 ) Waiting for lock\n",
      "[DEBUG] 2018-05-18 22:13:41,539 (Thread-32 ) Acquired lock\n",
      "[DEBUG] 2018-05-18 22:13:41,544 (Thread-32 ) Sleeping 0.66\n",
      "[DEBUG] 2018-05-18 22:13:42,205 (Thread-32 ) Waiting for lock\n",
      "[DEBUG] 2018-05-18 22:13:42,208 (Thread-32 ) Acquired lock\n",
      "[DEBUG] 2018-05-18 22:13:42,213 (Thread-32 ) Done\n",
      "[DEBUG] 2018-05-18 22:13:59,096 (MainThread) Counter: 8\n"
     ]
    }
   ],
   "source": [
    "import threading\n",
    "import random\n",
    "\n",
    "class Counter(object):\n",
    "    def __init__(self, start=0):\n",
    "        self.lock = threading.Lock()\n",
    "        self.value = start\n",
    "    def increment(self):\n",
    "        logging.debug('Waiting for lock')\n",
    "        self.lock.acquire()\n",
    "        try:\n",
    "            logging.debug('Acquired lock')\n",
    "            self.value = self.value + 1\n",
    "        finally:\n",
    "            self.lock.release()\n",
    "\n",
    "def worker(c):\n",
    "    for i in range(4):\n",
    "        pause = random.random()\n",
    "        logging.debug('Sleeping %0.02f', pause)\n",
    "        time.sleep(pause)\n",
    "        c.increment()\n",
    "    logging.debug('Done')\n",
    "\n",
    "counter = Counter()\n",
    "for i in range(2):\n",
    "    t = threading.Thread(target=worker, args=(counter,))\n",
    "    t.start()\n",
    "\n",
    "logging.debug('Waiting for worker threads')\n",
    "main_thread = threading.currentThread()\n",
    "for t in threading.enumerate():\n",
    "    if t is not main_thread:\n",
    "        # there are other ipython threads so limit join wait to avoid eternal waiting\n",
    "        t.join(5) \n",
    "logging.debug('Counter: %d', counter.value)"
   ]
  },
  {
   "cell_type": "markdown",
   "metadata": {
    "deletable": true,
    "editable": true
   },
   "source": [
    "С помощью acquire(False) можно просто узнать статус блокировки."
   ]
  },
  {
   "cell_type": "code",
   "execution_count": 15,
   "metadata": {
    "collapsed": false,
    "deletable": true,
    "editable": true
   },
   "outputs": [
    {
     "name": "stderr",
     "output_type": "stream",
     "text": [
      "[DEBUG] 2018-05-18 22:13:59,214 (LockHolder) Starting\n",
      "[DEBUG] 2018-05-18 22:13:59,215 (Worker    ) Starting\n",
      "[DEBUG] 2018-05-18 22:13:59,215 (LockHolder) Holding\n",
      "[DEBUG] 2018-05-18 22:13:59,717 (Worker    ) Trying to acquire\n",
      "[DEBUG] 2018-05-18 22:13:59,718 (LockHolder) Not holding\n",
      "[DEBUG] 2018-05-18 22:13:59,721 (Worker    ) Iteration 1: Not acquired\n",
      "[DEBUG] 2018-05-18 22:14:00,226 (LockHolder) Holding\n",
      "[DEBUG] 2018-05-18 22:14:00,233 (Worker    ) Trying to acquire\n",
      "[DEBUG] 2018-05-18 22:14:00,237 (Worker    ) Iteration 2: Not acquired\n",
      "[DEBUG] 2018-05-18 22:14:00,729 (LockHolder) Not holding\n",
      "[DEBUG] 2018-05-18 22:14:00,741 (Worker    ) Trying to acquire\n",
      "[DEBUG] 2018-05-18 22:14:00,744 (Worker    ) Iteration 3: Acquired\n",
      "[DEBUG] 2018-05-18 22:14:01,232 (LockHolder) Holding\n",
      "[DEBUG] 2018-05-18 22:14:01,246 (Worker    ) Trying to acquire\n",
      "[DEBUG] 2018-05-18 22:14:01,249 (Worker    ) Iteration 4: Not acquired\n",
      "[DEBUG] 2018-05-18 22:14:01,736 (LockHolder) Not holding\n",
      "[DEBUG] 2018-05-18 22:14:01,756 (Worker    ) Trying to acquire\n",
      "[DEBUG] 2018-05-18 22:14:01,760 (Worker    ) Iteration 5: Acquired\n",
      "[DEBUG] 2018-05-18 22:14:02,240 (LockHolder) Holding\n",
      "[DEBUG] 2018-05-18 22:14:02,267 (Worker    ) Trying to acquire\n",
      "[DEBUG] 2018-05-18 22:14:02,269 (Worker    ) Iteration 6: Not acquired\n",
      "[DEBUG] 2018-05-18 22:14:02,744 (LockHolder) Not holding\n",
      "[DEBUG] 2018-05-18 22:14:02,770 (Worker    ) Trying to acquire\n",
      "[DEBUG] 2018-05-18 22:14:02,777 (Worker    ) Iteration 7: Acquired\n",
      "[DEBUG] 2018-05-18 22:14:02,783 (Worker    ) Done after 7 iterations\n"
     ]
    }
   ],
   "source": [
    "def lock_holder(lock, stop_event):\n",
    "    logging.debug('Starting')\n",
    "    while not stop_event.is_set():\n",
    "        lock.acquire()\n",
    "        try:\n",
    "            logging.debug('Holding')\n",
    "            time.sleep(0.5)\n",
    "        finally:\n",
    "            logging.debug('Not holding')\n",
    "            lock.release()\n",
    "        time.sleep(0.5)\n",
    "    return\n",
    "                    \n",
    "def worker(lock):\n",
    "    logging.debug('Starting')\n",
    "    num_tries = 0\n",
    "    num_acquires = 0\n",
    "    while num_acquires < 3:\n",
    "        time.sleep(0.5)\n",
    "        logging.debug('Trying to acquire')\n",
    "        have_it = lock.acquire(False)\n",
    "        try:\n",
    "            num_tries += 1\n",
    "            if have_it:\n",
    "                logging.debug('Iteration %d: Acquired',  num_tries)\n",
    "                num_acquires += 1\n",
    "            else:\n",
    "                logging.debug('Iteration %d: Not acquired', num_tries)\n",
    "        finally:\n",
    "            if have_it:\n",
    "                lock.release()\n",
    "    logging.debug('Done after %d iterations', num_tries)\n",
    "\n",
    "\n",
    "lock = threading.Lock()\n",
    "stop_event = threading.Event()\n",
    "\n",
    "holder = threading.Thread(target=lock_holder, args=(lock,stop_event), name='LockHolder')\n",
    "holder.setDaemon(True)\n",
    "holder.start()\n",
    "\n",
    "worker = threading.Thread(target=worker, args=(lock,), name='Worker')\n",
    "worker.start()\n",
    "\n",
    "worker.join()\n",
    "stop_event.set()"
   ]
  },
  {
   "cell_type": "markdown",
   "metadata": {
    "deletable": true,
    "editable": true
   },
   "source": [
    "#### Reentrant lock"
   ]
  },
  {
   "cell_type": "markdown",
   "metadata": {
    "deletable": true,
    "editable": true
   },
   "source": [
    "* В случае с обычным Lock при попытке его захватить из того же потока будет провал\n",
    "* Чтобы дать возможность в одном и том же потоке несколько раз захватывать лок, можно использовать класс RLock (reentrant lock)."
   ]
  },
  {
   "cell_type": "code",
   "execution_count": 16,
   "metadata": {
    "collapsed": false,
    "deletable": true,
    "editable": true,
    "scrolled": true
   },
   "outputs": [
    {
     "name": "stdout",
     "output_type": "stream",
     "text": [
      "First try : True\n",
      "Second try: False\n"
     ]
    }
   ],
   "source": [
    "lock = threading.Lock()\n",
    "\n",
    "print('First try :', lock.acquire())\n",
    "print('Second try:', lock.acquire(0))"
   ]
  },
  {
   "cell_type": "code",
   "execution_count": 17,
   "metadata": {
    "collapsed": false,
    "deletable": true,
    "editable": true
   },
   "outputs": [
    {
     "name": "stdout",
     "output_type": "stream",
     "text": [
      "First try : True\n",
      "Second try: True\n",
      "True\n"
     ]
    }
   ],
   "source": [
    "lock = threading.RLock()\n",
    "\n",
    "print('First try :', lock.acquire())\n",
    "print('Second try:', lock.acquire(0))\n",
    "print(lock.acquire(0))"
   ]
  },
  {
   "cell_type": "markdown",
   "metadata": {
    "deletable": true,
    "editable": true
   },
   "source": [
    "#### Локи и контекстные менеджеры"
   ]
  },
  {
   "cell_type": "code",
   "execution_count": 18,
   "metadata": {
    "collapsed": false,
    "deletable": true,
    "editable": true
   },
   "outputs": [
    {
     "name": "stderr",
     "output_type": "stream",
     "text": [
      "[DEBUG] 2018-05-18 22:14:02,898 (Thread-33 ) Lock acquired via with\n"
     ]
    }
   ],
   "source": [
    "\n",
    "def worker_with(lock):\n",
    "    with lock:\n",
    "        logging.debug('Lock acquired via with')\n",
    "        \n",
    "def worker_no_with(lock):\n",
    "    lock.acquire()\n",
    "    try:\n",
    "        logging.debug('Lock acquired directly')\n",
    "    finally:\n",
    "        lock.release()\n",
    "\n",
    "lock = threading.Lock()\n",
    "w = threading.Thread(target=worker_with, args=(lock,))\n",
    "nw = threading.Thread(target=worker_no_with, args=(lock,))\n",
    "\n",
    "w.start()\n",
    "nw.start()"
   ]
  },
  {
   "cell_type": "markdown",
   "metadata": {
    "deletable": true,
    "editable": true
   },
   "source": [
    "#### Синхронизация через condition"
   ]
  },
  {
   "cell_type": "markdown",
   "metadata": {
    "deletable": true,
    "editable": true
   },
   "source": [
    "* Условная переменная.\n",
    "* Для задач, когда нам нужно соединить потоки производителей и потребителей данных.\n",
    "* Бывает полезно иметь возможность сигнализировать одному или нескольким потребителям.\n",
    "* Класс Condition оборачивает Lock (или неявно создаёт, или ему можно передать).\n",
    "* acquire() и release() вызывают соответствующие методы у обёрнутого лока.\n",
    "* wait() отпускает лок и засыпает в ожидании notify() или notifyAll(), после чего пытается захватить лок.\n",
    "* notify() - пробуждает один из ожидающих на wait() потоки.\n",
    "* notifyAll() - пробуждает все ожидающие на wait() потоки."
   ]
  },
  {
   "cell_type": "code",
   "execution_count": 19,
   "metadata": {
    "collapsed": false,
    "deletable": true,
    "editable": true
   },
   "outputs": [
    {
     "name": "stderr",
     "output_type": "stream",
     "text": [
      "[DEBUG] 2018-05-18 22:14:02,922 (Thread-34 ) Lock acquired directly\n",
      "[DEBUG] 2018-05-18 22:14:02,964 (c1        ) Starting consumer thread\n",
      "[DEBUG] 2018-05-18 22:14:04,967 (c2        ) Starting consumer thread\n",
      "[DEBUG] 2018-05-18 22:14:06,973 (p         ) Starting producer thread\n",
      "[DEBUG] 2018-05-18 22:14:06,977 (p         ) Making resource available\n",
      "[DEBUG] 2018-05-18 22:14:06,984 (c2        ) Resource is available to consumer\n",
      "[DEBUG] 2018-05-18 22:14:06,989 (c1        ) Resource is available to consumer\n"
     ]
    }
   ],
   "source": [
    "def consumer(cond):\n",
    "    \"\"\"wait for the condition and use the resource\"\"\"\n",
    "    logging.debug('Starting consumer thread')\n",
    "    t = threading.currentThread()\n",
    "    with cond:\n",
    "        cond.wait()\n",
    "        logging.debug('Resource is available to consumer')\n",
    "\n",
    "def producer(cond):\n",
    "    \"\"\"set up the resource to be used by the consumer\"\"\"\n",
    "    logging.debug('Starting producer thread')\n",
    "    with cond:\n",
    "        logging.debug('Making resource available')\n",
    "        cond.notifyAll()\n",
    "\n",
    "condition = threading.Condition()\n",
    "c1 = threading.Thread(name='c1', target=consumer, args=(condition,))\n",
    "c2 = threading.Thread(name='c2', target=consumer, args=(condition,))\n",
    "p = threading.Thread(name='p', target=producer, args=(condition,))\n",
    "\n",
    "c1.start()\n",
    "time.sleep(2)\n",
    "c2.start()\n",
    "time.sleep(2)\n",
    "p.start()"
   ]
  },
  {
   "cell_type": "markdown",
   "metadata": {
    "deletable": true,
    "editable": true
   },
   "source": [
    "#### Семафоры для допуска нескольких"
   ]
  },
  {
   "cell_type": "markdown",
   "metadata": {
    "deletable": true,
    "editable": true
   },
   "source": [
    "* Семафор.\n",
    "* Можно использовать для задач, когда нам нужно ограничить доступ к общему ресурсу, но можно пустить к нему несколько потоков.\n",
    "* Пример: пул сетевых соединений или ограничение на количество одновременных загрузок.\n",
    "* Имеет свой внутренний счётчик.\n",
    "* Вызов acquire(), если счётчик больше 0, делает минус 1, иначе ждёт пока счётчик не станет больше нуля.\n",
    "* Вызов release() увеличивает счётчик на единицу (\"отдаёт обратно\")."
   ]
  },
  {
   "cell_type": "code",
   "execution_count": 20,
   "metadata": {
    "collapsed": false,
    "deletable": true,
    "editable": true
   },
   "outputs": [
    {
     "name": "stderr",
     "output_type": "stream",
     "text": [
      "[DEBUG] 2018-05-18 22:14:07,128 (0         ) Waiting to join the pool\n",
      "[DEBUG] 2018-05-18 22:14:07,129 (1         ) Waiting to join the pool\n",
      "[DEBUG] 2018-05-18 22:14:07,129 (0         ) Running: ['0']\n",
      "[DEBUG] 2018-05-18 22:14:07,136 (1         ) Running: ['0', '1']\n",
      "[DEBUG] 2018-05-18 22:14:07,131 (3         ) Waiting to join the pool\n",
      "[DEBUG] 2018-05-18 22:14:07,129 (2         ) Waiting to join the pool\n"
     ]
    }
   ],
   "source": [
    "import threading\n",
    "\n",
    "class ActivePool(object):\n",
    "    def __init__(self):\n",
    "        super(ActivePool, self).__init__()\n",
    "        self.active = []\n",
    "        self.lock = threading.Lock()\n",
    "    def makeActive(self, name):\n",
    "        with self.lock:\n",
    "            self.active.append(name)\n",
    "            logging.debug('Running: %s', self.active)\n",
    "    def makeInactive(self, name):\n",
    "        with self.lock:\n",
    "            self.active.remove(name)\n",
    "            logging.debug('Running: %s', self.active)\n",
    "\n",
    "def worker(s, pool):\n",
    "    logging.debug('Waiting to join the pool')\n",
    "    with s:\n",
    "        name = threading.currentThread().getName()\n",
    "        pool.makeActive(name)\n",
    "        time.sleep(0.1)\n",
    "        pool.makeInactive(name)\n",
    "\n",
    "pool = ActivePool()\n",
    "s = threading.Semaphore(2)\n",
    "for i in range(4):\n",
    "    t = threading.Thread(target=worker, name=str(i), args=(s, pool))\n",
    "    t.start()"
   ]
  },
  {
   "cell_type": "markdown",
   "metadata": {
    "deletable": true,
    "editable": true
   },
   "source": [
    "#### Приватные данные потока"
   ]
  },
  {
   "cell_type": "markdown",
   "metadata": {
    "deletable": true,
    "editable": true
   },
   "source": [
    "* thread-specific data\n",
    "* threading.local() создаёт объект, через который можно работать с такими данными.\n",
    "* Не видны из соседнего потока."
   ]
  },
  {
   "cell_type": "code",
   "execution_count": 21,
   "metadata": {
    "collapsed": false,
    "deletable": true,
    "editable": true,
    "scrolled": true
   },
   "outputs": [
    {
     "name": "stderr",
     "output_type": "stream",
     "text": [
      "[DEBUG] 2018-05-18 22:14:07,177 (MainThread) No value yet\n",
      "[DEBUG] 2018-05-18 22:14:07,178 (MainThread) value=1000\n",
      "[DEBUG] 2018-05-18 22:14:07,180 (Thread-35 ) No value yet\n",
      "[DEBUG] 2018-05-18 22:14:07,182 (Thread-35 ) value=40\n",
      "[DEBUG] 2018-05-18 22:14:07,183 (Thread-36 ) No value yet\n"
     ]
    }
   ],
   "source": [
    "import random\n",
    "\n",
    "def show_value(data):\n",
    "    try:\n",
    "        val = data.value\n",
    "    except AttributeError:\n",
    "        logging.debug('No value yet')\n",
    "    else:\n",
    "        logging.debug('value=%s', val)\n",
    "\n",
    "\n",
    "def worker(data):\n",
    "    show_value(data)\n",
    "    data.value = random.randint(1, 100)\n",
    "    show_value(data)\n",
    "\n",
    "local_data = threading.local()\n",
    "show_value(local_data)\n",
    "local_data.value = 1000\n",
    "show_value(local_data)\n",
    "\n",
    "for i in range(2):\n",
    "    t = threading.Thread(target=worker, args=(local_data,))\n",
    "    t.start()"
   ]
  },
  {
   "cell_type": "markdown",
   "metadata": {
    "deletable": true,
    "editable": true
   },
   "source": [
    "Отнаследуемся, чтобы задать значение по-умолчанию:"
   ]
  },
  {
   "cell_type": "code",
   "execution_count": 22,
   "metadata": {
    "collapsed": false,
    "deletable": true,
    "editable": true
   },
   "outputs": [
    {
     "name": "stderr",
     "output_type": "stream",
     "text": [
      "[DEBUG] 2018-05-18 22:14:07,217 (Thread-36 ) value=77\n",
      "[DEBUG] 2018-05-18 22:14:07,226 (MainThread) Initializing <__main__.MyLocal object at 0x7fb3f815fbe8>\n",
      "[DEBUG] 2018-05-18 22:14:07,229 (MainThread) value=1000\n",
      "[DEBUG] 2018-05-18 22:14:07,230 (Thread-37 ) Initializing <__main__.MyLocal object at 0x7fb3f815fbe8>\n",
      "[DEBUG] 2018-05-18 22:14:07,230 (Thread-38 ) Initializing <__main__.MyLocal object at 0x7fb3f815fbe8>\n",
      "[DEBUG] 2018-05-18 22:14:07,231 (Thread-37 ) value=1000\n",
      "[DEBUG] 2018-05-18 22:14:07,232 (Thread-38 ) value=1000\n",
      "[DEBUG] 2018-05-18 22:14:07,233 (Thread-37 ) value=1\n",
      "[DEBUG] 2018-05-18 22:14:07,235 (Thread-38 ) value=7\n",
      "[DEBUG] 2018-05-18 22:14:07,236 (0         ) Running: ['1']\n",
      "[DEBUG] 2018-05-18 22:14:07,238 (1         ) Running: []\n",
      "[DEBUG] 2018-05-18 22:14:07,238 (3         ) Running: ['3']\n",
      "[DEBUG] 2018-05-18 22:14:07,239 (2         ) Running: ['3', '2']\n",
      "[DEBUG] 2018-05-18 22:14:07,340 (3         ) Running: ['2']\n",
      "[DEBUG] 2018-05-18 22:14:07,341 (2         ) Running: []\n"
     ]
    }
   ],
   "source": [
    "def show_value(data):\n",
    "    try:\n",
    "        val = data.value\n",
    "    except AttributeError:\n",
    "        logging.debug('No value yet')\n",
    "    else:\n",
    "        logging.debug('value=%s', val)\n",
    "\n",
    "def worker(data):\n",
    "    show_value(data)\n",
    "    data.value = random.randint(1, 100)\n",
    "    show_value(data)\n",
    "\n",
    "class MyLocal(threading.local):\n",
    "    def __init__(self, value):\n",
    "        logging.debug('Initializing %r', self)\n",
    "        self.value = value\n",
    "\n",
    "local_data = MyLocal(1000)\n",
    "show_value(local_data)\n",
    "\n",
    "for i in range(2):\n",
    "    t = threading.Thread(target=worker, args=(local_data,))\n",
    "    t.start()"
   ]
  },
  {
   "cell_type": "markdown",
   "metadata": {
    "deletable": true,
    "editable": true
   },
   "source": [
    "### Только один поток\n",
    "* Стандартный интерпретатор берёт на себя синхронизацию доступа к общим данным потоков.\n",
    "* Делает он это с помощью GIL (global interpreter lock) - общий для всего интерпретатора механизм, который позволяет единомоментно выполняться только одному потоку.\n",
    "* Из-за этого факта выполнение в несколько потоков может быть медленнее выполнения в один поток (борьба за общий ресурс).\n",
    "* Это верно не для всех интерпретаторов, поэтому если пишутся программы с использованием threading, то их надо писать как будто GIL нет (использовать примитивы синхронизации и т.п.), чтобы не было проблем выполнением на других интерпретаторах (или, возможно, в будущем).\n",
    "* GIL не защищает от абсолютно всех случаев, некоторые действия могут не защищаться глобальным локом (работа с примитивными типами) и в этим моменты два потока могу работать параллельно (и могут быть ошибки, в т.ч. поэтому доступ к общим данным надо всё равно синхронизировать)."
   ]
  },
  {
   "cell_type": "markdown",
   "metadata": {
    "deletable": true,
    "editable": true
   },
   "source": [
    "### Почему GIL"
   ]
  },
  {
   "cell_type": "markdown",
   "metadata": {
    "deletable": true,
    "editable": true
   },
   "source": [
    "#### Особенности реализации"
   ]
  },
  {
   "cell_type": "markdown",
   "metadata": {
    "deletable": true,
    "editable": true
   },
   "source": [
    "* Необходимо синхронизировать доступ к общим данным.\n",
    "* Изначально при разработке интерпретатора CPython было решено использовать единый lock, который защищает все объекты.\n",
    "* Это особенность реализации, есть интерпретаторы, которые не используют GIL."
   ]
  },
  {
   "cell_type": "markdown",
   "metadata": {
    "deletable": true,
    "editable": true
   },
   "source": [
    "#### Попытки убрать"
   ]
  },
  {
   "cell_type": "markdown",
   "metadata": {
    "deletable": true,
    "editable": true
   },
   "source": [
    "В 1999 году для версии Python 1.5 пробовали реализовывать fine grained locking отдельных частей интерпретатора, но был неуспех.\n",
    "  * однопоточное выполнение замедлилось на 40%\n",
    "  * для двух потоков было ускорение\n",
    "  * для более чем двух - не было заметного ускорения с ростом количества ядер"
   ]
  },
  {
   "cell_type": "markdown",
   "metadata": {
    "deletable": true,
    "editable": true
   },
   "source": [
    "Главный вывод отсюда: убрать GIL - очень непростая задача. Многие части интерпретатора полагаются на глобальный lock и были написаны с учётом его."
   ]
  },
  {
   "cell_type": "markdown",
   "metadata": {
    "deletable": true,
    "editable": true
   },
   "source": [
    "#### Польза"
   ]
  },
  {
   "cell_type": "markdown",
   "metadata": {
    "deletable": true,
    "editable": true
   },
   "source": [
    "Кроме этого, само многопоточное программирование - довольно сложная тема:\n",
    "* Разум человека плохо приспособлем к осмыслению параллельных алгоритмов.\n",
    "* Разработка и отладка многопоточных предложений на порядки сложнее, чем однопоточных.\n",
    "* Таким образом, косвенно, GIL является своеобразной защитой программиста от себя самого защищая консистентность данных.\n",
    "* Вместо многопоточности в Python принято использовать многопроцессность: в этой модели у задач нет общих данных (меньше проблем с доступом) и есть свои более изолированные механизмы синхронизации."
   ]
  },
  {
   "cell_type": "markdown",
   "metadata": {
    "deletable": true,
    "editable": true
   },
   "source": [
    "### Есть ли смысл в threading?"
   ]
  },
  {
   "cell_type": "markdown",
   "metadata": {
    "deletable": true,
    "editable": true
   },
   "source": [
    "* С одной стороны, параллелизм через threading ограничен - одновременно будет выполняться только один поток.\n",
    "* С другой, с помощью threading можно использовать concurrency в нашей программе.\n",
    "* Вызовы некоторых функций скрывают за собой выполнение некоторых фоновых действий, во время которых программа просто ждёт.\n",
    "* Примеры таких действий:\n",
    "  * работа с файловой системой (особенно, если дисковая подсистема нагружена)\n",
    "  * обмен данными по сети (особенно, если нагружена сеть или другие задачи на машине активно работают с сетью)\n",
    "  * работа с механизмами ОС (системные вызовы, сигналы)\n",
    "  * ожидание результата выполнения запущенной внешней задачи\n",
    "* Пусть наша программа имеет части допускающие concurrent выполнение.\n",
    "* Выделив отдельные логические потоки выполнения таких частей с помощью threading мы можем ускорить выполение программы.\n",
    "* Пока один поток будет ждать результата некоторой операции, другие смогут выполнятся."
   ]
  },
  {
   "cell_type": "markdown",
   "metadata": {
    "deletable": true,
    "editable": true
   },
   "source": [
    "### Итого про многопоточность"
   ]
  },
  {
   "cell_type": "markdown",
   "metadata": {
    "deletable": true,
    "editable": true
   },
   "source": [
    "* Python поддерживает работу с потоками через модуль threading стандартной библиотеки.\n",
    "* В Python существует (верно для основного интерпретатора CPython и некоторых других) вынужденная синхронизация выполнения потоков через GIL (Global Interpreter Lock), одновременно на одном интерпретаторе выполняется только один поток.\n",
    "* Использование многопоточности в Python имеет свои особенности и довольно ограничено по сравнению с другими языками, но имеет свою нишу: когда задачам нужно ждать результат выполнения внешних операций (чтение с диска, передача сообщений по сети, запросы в другие системы)."
   ]
  },
  {
   "cell_type": "markdown",
   "metadata": {
    "deletable": true,
    "editable": true
   },
   "source": [
    "Ссылки на источники и почитать:"
   ]
  },
  {
   "cell_type": "markdown",
   "metadata": {
    "deletable": true,
    "editable": true
   },
   "source": [
    "* Официальная документация по модулю threading https://docs.python.org/3.5/library/threading.html\n",
    "* Источник про GIL https://jeffknupp.com/blog/2012/03/31/pythons-hardest-problem/\n",
    "* Источник хороших примеров для модуля threading (там есть и для других) https://pymotw.com/3/threading/\n",
    "* Ещё одна небольшая статья с примерами про потоки в Python http://www.python-course.eu/threads.php"
   ]
  }
 ],
 "metadata": {
  "kernelspec": {
   "display_name": "Python 3",
   "language": "python",
   "name": "python3"
  },
  "language_info": {
   "codemirror_mode": {
    "name": "ipython",
    "version": 3
   },
   "file_extension": ".py",
   "mimetype": "text/x-python",
   "name": "python",
   "nbconvert_exporter": "python",
   "pygments_lexer": "ipython3",
   "version": "3.5.2"
  }
 },
 "nbformat": 4,
 "nbformat_minor": 0
}
