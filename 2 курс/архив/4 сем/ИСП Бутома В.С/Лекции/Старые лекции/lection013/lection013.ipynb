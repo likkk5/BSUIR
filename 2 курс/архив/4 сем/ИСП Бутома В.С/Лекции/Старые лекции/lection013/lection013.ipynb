{
 "cells": [
  {
   "cell_type": "markdown",
   "metadata": {
    "collapsed": true,
    "deletable": true,
    "editable": true
   },
   "source": [
    "# Лекция 13: сетевое программирование и Python"
   ]
  },
  {
   "cell_type": "markdown",
   "metadata": {
    "deletable": true,
    "editable": true
   },
   "source": [
    "## Компьютерные сети"
   ]
  },
  {
   "cell_type": "markdown",
   "metadata": {
    "deletable": true,
    "editable": true
   },
   "source": [
    "Компьютерная сеть - множество связанных между собой компьютеров."
   ]
  },
  {
   "cell_type": "markdown",
   "metadata": {
    "deletable": true,
    "editable": true
   },
   "source": [
    "* Компьютеры объединяются в сети с помощью соединений (проводных, беспроводных) и вспомогательного передающего оборудования.\n",
    "* Сети, в свою очередь, могут иметь различное устройство как на физическом, так и на логическом уровне.\n",
    "* Устройство современных сетей и работа программ, работающих в таких сетях, основаны на базе сетевой модели OSI (open systems interconnection basic reference model).\n",
    "* Учитывая роль компьютерный сетей (интернет и веб-программирование, клиент-серверные приложения, распределённые вычисления) в современном мире, хорошему программисту нужно иметь хотя бы базовое представление об устройстве и функционировании сетей."
   ]
  },
  {
   "cell_type": "markdown",
   "metadata": {
    "deletable": true,
    "editable": true
   },
   "source": [
    "### Модель OSI"
   ]
  },
  {
   "cell_type": "markdown",
   "metadata": {
    "deletable": true,
    "editable": true
   },
   "source": [
    "* Сетевой протокол - набор соглашений о правилах определяющих интерфейс взаимодействия между участниками обмена сообщениями (программами).\n",
    "* Сеть в модели OSI представлена в виде слоёв-уровней из протоколов вложенных друг в друга.\n",
    "* Предполагается, что протокол на каждом уровне взаимодействует только с протоколами своего уровня либо на уровень ниже."
   ]
  },
  {
   "cell_type": "markdown",
   "metadata": {
    "deletable": true,
    "editable": true
   },
   "source": [
    "#### 7. Прикладной уровень (application layer)"
   ]
  },
  {
   "cell_type": "markdown",
   "metadata": {
    "deletable": true,
    "editable": true
   },
   "source": [
    "* Тип данных: зависит от применения.\n",
    "* Функции: доступ к сетевым службам.\n",
    "* Примеры: HTTP, FTP, SMTP"
   ]
  },
  {
   "cell_type": "markdown",
   "metadata": {
    "deletable": true,
    "editable": true
   },
   "source": [
    "#### 6. Уровень представления (presentation layer)"
   ]
  },
  {
   "cell_type": "markdown",
   "metadata": {
    "deletable": true,
    "editable": true
   },
   "source": [
    "* Тип данных: зависит от применения.\n",
    "* Функции: представление и шифрование данных.\n",
    "* Примеры: ASCII, EBCDIC, JPEG"
   ]
  },
  {
   "cell_type": "markdown",
   "metadata": {
    "deletable": true,
    "editable": true
   },
   "source": [
    "#### 5. Сеансовый уровень (session layer)"
   ]
  },
  {
   "cell_type": "markdown",
   "metadata": {
    "deletable": true,
    "editable": true
   },
   "source": [
    "* Тип данных: зависит от применения.\n",
    "* Функции: управление сеансом связи.\n",
    "* Примеры: RPC, PAP."
   ]
  },
  {
   "cell_type": "markdown",
   "metadata": {
    "deletable": true,
    "editable": true
   },
   "source": [
    "#### 4. Транспортный уровень (transport layer)"
   ]
  },
  {
   "cell_type": "markdown",
   "metadata": {
    "deletable": true,
    "editable": true
   },
   "source": [
    "* Тип данных: cегменты (segment), датаграммы (datagram).\n",
    "* Функции: прямая связь между конечными пунктами и надежность.\n",
    "* Примеры: TCP, UDP, SCTP."
   ]
  },
  {
   "cell_type": "markdown",
   "metadata": {
    "deletable": true,
    "editable": true
   },
   "source": [
    "#### 3. Сетевой уровень (network layer)"
   ]
  },
  {
   "cell_type": "markdown",
   "metadata": {
    "deletable": true,
    "editable": true
   },
   "source": [
    "* Тип данных: пакеты (packet).\n",
    "* Функции: определение маршрута и логическая адресация.\n",
    "* Примеры: IPv4, IPv6, IPsec, AppleTalk."
   ]
  },
  {
   "cell_type": "markdown",
   "metadata": {
    "deletable": true,
    "editable": true
   },
   "source": [
    "#### 2. Канальный уровень (data link layer)"
   ]
  },
  {
   "cell_type": "markdown",
   "metadata": {
    "deletable": true,
    "editable": true
   },
   "source": [
    "* Тип данных: биты (bit), кадры (frame).\n",
    "* Функции: физическая адресация.\n",
    "* Примеры: PPP, IEEE 802.2, Ethernet, DSL, L2TP, ARP."
   ]
  },
  {
   "cell_type": "markdown",
   "metadata": {
    "deletable": true,
    "editable": true
   },
   "source": [
    "#### 1. Физический уровень (physical layer)"
   ]
  },
  {
   "cell_type": "markdown",
   "metadata": {
    "deletable": true,
    "editable": true
   },
   "source": [
    "* Тип данных: биты (bit).\n",
    "* Функции: работа со средой передачи, сигналами и двоичными данными.\n",
    "* Примеры: USB, витая пара, коаксиальный кабель, оптический кабель."
   ]
  },
  {
   "cell_type": "markdown",
   "metadata": {
    "deletable": true,
    "editable": true
   },
   "source": [
    "### Что почитать"
   ]
  },
  {
   "cell_type": "markdown",
   "metadata": {
    "deletable": true,
    "editable": true
   },
   "source": [
    "* https://en.wikipedia.org/wiki/Computer_network\n",
    "* James Kurose, Keith Ross, Computer networking: Top-Down Approach\n",
    "* Ричард Стивенс, Unix: разработка сетевых приложений. Питер, 2003.\n",
    "* http://www.computerhistory.org/timeline/networking-the-web/"
   ]
  },
  {
   "cell_type": "markdown",
   "metadata": {
    "deletable": true,
    "editable": true
   },
   "source": [
    "## Сетевое программирование в Python"
   ]
  },
  {
   "cell_type": "markdown",
   "metadata": {
    "deletable": true,
    "editable": true
   },
   "source": [
    "Сетевое программирование представлено в Python несколькими вариантами:\n",
    "* Поддержка работы с низкоуровневым системным интерфейсом сокетов.\n",
    "* Поддержка основных сетевых протоколов и форматов прикладного уровня (модули urllib для http запросов, smtplib для работы с почтой, модуль для ssl, библиотеки для работы с xml/html/json/бинарными данными и т.д., RPC клиент и сервер).\n",
    "* Различные фреймворки для упрощения написания клиентского и серверного кода, в т.ч. распределенных сетевых вычислений (asyncoro, gevent, twisted, tornado, celery, tornado, flask, django)."
   ]
  },
  {
   "cell_type": "markdown",
   "metadata": {
    "deletable": true,
    "editable": true
   },
   "source": [
    "### Сокеты"
   ]
  },
  {
   "cell_type": "markdown",
   "metadata": {
    "deletable": true,
    "editable": true
   },
   "source": [
    "#### Сокеты как дескрипторы"
   ]
  },
  {
   "cell_type": "markdown",
   "metadata": {
    "deletable": true,
    "editable": true
   },
   "source": [
    "* Сокет для программы - дескриптор, идентифицирующий некоторую точку для входа данных (в случае с TCP/IP это порт) в рамках используемого сетевого API.\n",
    "* В Беркли стандарте сокеты представляют собой один из видов файловых дескрипторов (следуя одному из пунктов философии UNIX про everythin is a file). В таком случае сокеты идентифицируются целым числом.\n",
    "* Сетевой сокет, в узком смысле, это некоторая конечная точка в компьютерной сети. На данный момент обычно под этим названием предполагают TCP/IP (интернет) сокеты (номер порта в паре ip:port, например 192.168.0.1:80, соответсвует сокету, который привязан (bind) к этому порту).\n"
   ]
  },
  {
   "cell_type": "markdown",
   "metadata": {
    "deletable": true,
    "editable": true
   },
   "source": [
    "#### Сокеты как API"
   ]
  },
  {
   "cell_type": "markdown",
   "metadata": {
    "deletable": true,
    "editable": true
   },
   "source": [
    "* Сокет (socket, от англ. разъем, гнездо) - название программного интерфейса для обеспечения обмена данными между процессами и программами, как в рамках одной машины, так и по сети.\n",
    "* Обычно интерфейс предоставляется операционной системой, в зависимости от типа возможно использовать локальные или сетевые сокеты.\n",
    "* Примером локальных сокетов являются unix domain sockets также известные как IPC-сокеты (от inter-process communication). Это локальные сокеты, которые используются для обмена сообщениями между процессами на одной машине.\n",
    "* Сетевые сокеты - сокеты для коммуникации в рамках сети, под ними полагают Беркли сокеты (соответствующий стандарт).\n",
    "* Сокеты разделяются на клиентские (посылка запросов) и серверные (обработка запросов)."
   ]
  },
  {
   "cell_type": "markdown",
   "metadata": {
    "deletable": true,
    "editable": true
   },
   "source": [
    "#### Почитать"
   ]
  },
  {
   "cell_type": "markdown",
   "metadata": {
    "deletable": true,
    "editable": true
   },
   "source": [
    "* [Про сокеты на викпедии](https://ru.wikipedia.org/wiki/%D0%A1%D0%BE%D0%BA%D0%B5%D1%82_%28%D0%BF%D1%80%D0%BE%D0%B3%D1%80%D0%B0%D0%BC%D0%BC%D0%BD%D1%8B%D0%B9_%D0%B8%D0%BD%D1%82%D0%B5%D1%80%D1%84%D0%B5%D0%B9%D1%81%29)\n",
    "* https://en.wikipedia.org/wiki/Network_socket\n",
    "* https://docs.python.org/3/library/socket.html\n",
    "* https://docs.python.org/3.5/howto/sockets.html\n",
    "* https://pymotw.com/3/socket/\n",
    "* https://www.ibm.com/developerworks/linux/tutorials/l-pysocks/ - python 2"
   ]
  },
  {
   "cell_type": "markdown",
   "metadata": {
    "deletable": true,
    "editable": true
   },
   "source": [
    "### Работа с протоколами и форматами прикладного уровня"
   ]
  },
  {
   "cell_type": "markdown",
   "metadata": {
    "deletable": true,
    "editable": true
   },
   "source": [
    "Python поддерживает:\n",
    "* модули urllib для http запросов (также есть популярная сторонняя библиотека requests)\n",
    "* smtplib для работы с почтой\n",
    "* модуль для ssl\n",
    "* библиотеки для работы с xml/html/json/бинарными данными и т.д.\n",
    "* RPC клиент и сервер и многое другое\n",
    "* подробнее в ссылках ниже"
   ]
  },
  {
   "cell_type": "markdown",
   "metadata": {
    "deletable": true,
    "editable": true
   },
   "source": [
    "Простейший пример http-запроса:"
   ]
  },
  {
   "cell_type": "code",
   "execution_count": 1,
   "metadata": {
    "collapsed": false,
    "deletable": true,
    "editable": true
   },
   "outputs": [
    {
     "name": "stdout",
     "output_type": "stream",
     "text": [
      "<!doctype html>\n",
      "<!--[if lt IE 7]>   <html class=\"no-js ie6 lt-ie7 lt-ie8 lt-ie9\">   <![endif]-->\n",
      "<!--[if IE 7]>      <html class=\"no-js ie7 lt-ie8 lt-ie9\">          <![endif]-->\n",
      "<!--[if IE 8]>      <html class=\"no-js ie8 lt-ie9\">                 <![endif]-->\n",
      "<!--[if gt IE 8]><!--><html class=\"no-js\" lang=\"en\" dir=\"ltr\">  <!--<![endif]-->\n",
      "\n",
      "<head>\n",
      "    <meta charset=\"utf-8\">\n",
      "    <meta http-equiv=\"X-UA-Compatible\" content=\"IE=edge\">\n",
      "\n",
      "    <link rel=\"prefetch\" href=\"//ajax.googleapis.com/ajax/libs/jquery/1.8.2/jquery.min.js\">\n",
      "\n",
      "    <meta name=\"application-name\" content=\"Python.org\">\n",
      "    <meta name=\"msapplication-tooltip\" content=\"The official home of the Python Programming Language\">\n",
      "    <meta name=\"apple-mobile-web-app-title\" content=\"Python.org\">\n",
      "    <meta name=\"apple-mobile-web-app-capable\" content=\"yes\">\n",
      "    <meta name=\"apple-mobile-web-app-status-bar-style\" content=\"black\">\n",
      "\n",
      "    <meta name=\"viewport\" content=\"width=device-width, initial-scale=1.0\">\n",
      "    <meta name=\"HandheldFriendly\" conte\n"
     ]
    }
   ],
   "source": [
    "import urllib.request\n",
    "response = urllib.request.urlopen('http://python.org/')\n",
    "html = response.read()\n",
    "print(str(html, encoding='utf-8')[:1000])"
   ]
  },
  {
   "cell_type": "markdown",
   "metadata": {
    "deletable": true,
    "editable": true
   },
   "source": [
    "Замечание: не устанавливаются доп. параметры, не настраивается ничего и т.п. - не забывайте добавлять (для этого надо разобраться в том, как работает и что когда нужно)."
   ]
  },
  {
   "cell_type": "markdown",
   "metadata": {
    "deletable": true,
    "editable": true
   },
   "source": [
    "Подробный howto: https://docs.python.org/3/howto/urllib2.html"
   ]
  },
  {
   "cell_type": "markdown",
   "metadata": {
    "deletable": true,
    "editable": true
   },
   "source": [
    "#### Почитать"
   ]
  },
  {
   "cell_type": "markdown",
   "metadata": {
    "deletable": true,
    "editable": true
   },
   "source": [
    "* https://docs.python.org/3.5/howto/urllib2.html\n",
    "* https://docs.python.org/3.5/library/internet.html\n",
    "* https://docs.python.org/3.5/library/netdata.html\n",
    "* https://docs.python.org/3.5/library/markup.html\n",
    "* https://docs.python.org/3.5/library/struct.html"
   ]
  },
  {
   "cell_type": "markdown",
   "metadata": {
    "deletable": true,
    "editable": true
   },
   "source": [
    "### Сетевые фреймворки"
   ]
  },
  {
   "cell_type": "markdown",
   "metadata": {
    "deletable": true,
    "editable": true
   },
   "source": [
    "* asyncoro\n",
    "* gevent\n",
    "* twisted\n",
    "* tornado\n",
    "* celery\n",
    "* и др."
   ]
  },
  {
   "cell_type": "markdown",
   "metadata": {
    "deletable": true,
    "editable": true
   },
   "source": [
    "#### Что почитать"
   ]
  },
  {
   "cell_type": "markdown",
   "metadata": {
    "deletable": true,
    "editable": true
   },
   "source": [
    "* http://asyncoro.sourceforge.net/\n",
    "* http://www.gevent.org/\n",
    "* https://twistedmatrix.com/\n",
    "* http://www.tornadoweb.org/en/stable/\n",
    "* https://wiki.python.org/moin/UsefulModules#Networking"
   ]
  },
  {
   "cell_type": "markdown",
   "metadata": {
    "deletable": true,
    "editable": true
   },
   "source": [
    "### Самостоятельно про web crawling и information retrieval"
   ]
  },
  {
   "cell_type": "markdown",
   "metadata": {
    "deletable": true,
    "editable": true
   },
   "source": [
    "Пару слов про сбор и поиск информации."
   ]
  },
  {
   "cell_type": "markdown",
   "metadata": {
    "deletable": true,
    "editable": true
   },
   "source": [
    "* Web Crawling By Christopher Olston and Marc Najork\n",
    "  * http://infolab.stanford.edu/~olston/publications/crawling_survey.pdf\n",
    "* http://nlp.stanford.edu/IR-book/information-retrieval.html\n",
    "* видео про bulding a search engine на Python\n",
    "  * https://www.youtube.com/playlist?list=PL18yrUuMk-zlzpea3En7GRZLvFn7WNK0H"
   ]
  }
 ],
 "metadata": {
  "kernelspec": {
   "display_name": "Python 3",
   "language": "python",
   "name": "python3"
  },
  "language_info": {
   "codemirror_mode": {
    "name": "ipython",
    "version": 3
   },
   "file_extension": ".py",
   "mimetype": "text/x-python",
   "name": "python",
   "nbconvert_exporter": "python",
   "pygments_lexer": "ipython3",
   "version": "3.5.2"
  }
 },
 "nbformat": 4,
 "nbformat_minor": 0
}
