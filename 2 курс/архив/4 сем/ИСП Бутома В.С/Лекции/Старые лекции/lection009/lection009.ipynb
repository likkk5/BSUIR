{
 "cells": [
  {
   "cell_type": "markdown",
   "metadata": {
    "deletable": true,
    "editable": true
   },
   "source": [
    "# Лекция 9: метаклассы, тестирование"
   ]
  },
  {
   "cell_type": "markdown",
   "metadata": {
    "deletable": true,
    "editable": true
   },
   "source": [
    "## Метаклассы"
   ]
  },
  {
   "cell_type": "markdown",
   "metadata": {
    "deletable": true,
    "editable": true
   },
   "source": [
    "Metaclasses are deeper magic than 99% of users should\n",
    "never worry about. If you wonder whether you need them,\n",
    "you don’t (the people who actually need them know with\n",
    "certainty that they need them, and don’t need an explanation\n",
    "about why).\n",
    "\n",
    "by Tim Peters\n"
   ]
  },
  {
   "cell_type": "markdown",
   "metadata": {
    "deletable": true,
    "editable": true
   },
   "source": [
    "## Классы и классы классов"
   ]
  },
  {
   "cell_type": "markdown",
   "metadata": {
    "deletable": true,
    "editable": true
   },
   "source": [
    "Помним, что в Python всё является объектом:"
   ]
  },
  {
   "cell_type": "code",
   "execution_count": 1,
   "metadata": {
    "collapsed": false,
    "deletable": true,
    "editable": true
   },
   "outputs": [
    {
     "name": "stdout",
     "output_type": "stream",
     "text": [
      "<class 'int'>\n"
     ]
    }
   ],
   "source": [
    "print(type(1))"
   ]
  },
  {
   "cell_type": "code",
   "execution_count": 2,
   "metadata": {
    "collapsed": false,
    "deletable": true,
    "editable": true,
    "scrolled": true
   },
   "outputs": [
    {
     "name": "stdout",
     "output_type": "stream",
     "text": [
      "specializing addition\n",
      "4\n"
     ]
    }
   ],
   "source": [
    "class MyInt(int):\n",
    "    def __add__(self, other):\n",
    "        print(\"specializing addition\")\n",
    "        return super(MyInt, self).__add__(other)\n",
    "\n",
    "i = MyInt(2)\n",
    "print(i + 2)"
   ]
  },
  {
   "cell_type": "markdown",
   "metadata": {
    "deletable": true,
    "editable": true
   },
   "source": [
    "Классы также являются объектами."
   ]
  },
  {
   "cell_type": "code",
   "execution_count": 3,
   "metadata": {
    "collapsed": true,
    "deletable": true,
    "editable": true
   },
   "outputs": [],
   "source": [
    "class Empty:\n",
    "    pass"
   ]
  },
  {
   "cell_type": "markdown",
   "metadata": {
    "deletable": true,
    "editable": true
   },
   "source": [
    "Воспользуемся встроенной функцией type() для определения типа объекта:"
   ]
  },
  {
   "cell_type": "code",
   "execution_count": 4,
   "metadata": {
    "collapsed": false,
    "deletable": true,
    "editable": true
   },
   "outputs": [
    {
     "name": "stdout",
     "output_type": "stream",
     "text": [
      "<class '__main__.Empty'>\n"
     ]
    }
   ],
   "source": [
    "obj = Empty()\n",
    "print(type(obj))"
   ]
  },
  {
   "cell_type": "markdown",
   "metadata": {
    "deletable": true,
    "editable": true
   },
   "source": [
    "Проверим тип класса:"
   ]
  },
  {
   "cell_type": "code",
   "execution_count": 5,
   "metadata": {
    "collapsed": false,
    "deletable": true,
    "editable": true
   },
   "outputs": [
    {
     "data": {
      "text/plain": [
       "type"
      ]
     },
     "execution_count": 5,
     "metadata": {},
     "output_type": "execute_result"
    }
   ],
   "source": [
    "type(Empty)"
   ]
  },
  {
   "cell_type": "markdown",
   "metadata": {
    "deletable": true,
    "editable": true
   },
   "source": [
    "Oh, wait... What if?"
   ]
  },
  {
   "cell_type": "code",
   "execution_count": 6,
   "metadata": {
    "collapsed": false,
    "deletable": true,
    "editable": true
   },
   "outputs": [
    {
     "name": "stdout",
     "output_type": "stream",
     "text": [
      "<class 'type'> <class 'type'> <class 'type'> <class 'type'>\n"
     ]
    }
   ],
   "source": [
    "print(type(tuple), type(list), type(int), type(float))"
   ]
  },
  {
   "cell_type": "markdown",
   "metadata": {
    "deletable": true,
    "editable": true
   },
   "source": [
    "* Классы сами по себе являются объектами типа type.  "
   ]
  },
  {
   "cell_type": "markdown",
   "metadata": {
    "deletable": true,
    "editable": true
   },
   "source": [
    "Hmmm..."
   ]
  },
  {
   "cell_type": "code",
   "execution_count": 7,
   "metadata": {
    "collapsed": false,
    "deletable": true,
    "editable": true
   },
   "outputs": [
    {
     "name": "stdout",
     "output_type": "stream",
     "text": [
      "<class 'type'>\n"
     ]
    }
   ],
   "source": [
    "print(type(type))"
   ]
  },
  {
   "cell_type": "markdown",
   "metadata": {
    "deletable": true,
    "editable": true
   },
   "source": [
    "* type является предком себя - такую циклическую зависимость нельзя сделать в чистом Python, поэтом она реализуется  небольшим хаком в реализации Python.\n",
    "* type имеет несколько значений в Python:\n",
    "  * type() - как функция возвращая тип переданного ей объекта.\n",
    "  * type - как конструктор типов.\n",
    "  * type - как корневой тип для метаклассов, предок всех классов (подробности ниже)."
   ]
  },
  {
   "cell_type": "markdown",
   "metadata": {
    "deletable": true,
    "editable": true
   },
   "source": [
    "## Метапрограммирование"
   ]
  },
  {
   "cell_type": "markdown",
   "metadata": {
    "deletable": true,
    "editable": true
   },
   "source": [
    "* В общем случае, программы которые порождают другие программы или динамически модифицируются.\n",
    "* В частном случае, возможность динамического создания новых типов во время выполнения."
   ]
  },
  {
   "cell_type": "markdown",
   "metadata": {
    "deletable": true,
    "editable": true
   },
   "source": [
    "Мы можем написать функцию, динамически создающую объекты:"
   ]
  },
  {
   "cell_type": "code",
   "execution_count": 8,
   "metadata": {
    "collapsed": false,
    "deletable": true,
    "editable": true
   },
   "outputs": [
    {
     "name": "stdout",
     "output_type": "stream",
     "text": [
      "100\n"
     ]
    }
   ],
   "source": [
    "def int_factory(s):\n",
    "    i = int(s)\n",
    "    return i\n",
    "\n",
    "i = int_factory('100')\n",
    "print(i)"
   ]
  },
  {
   "cell_type": "markdown",
   "metadata": {
    "deletable": true,
    "editable": true
   },
   "source": [
    "Это простейший пример функции-фабрики, которая принимает некоторые аргументы, конструирует нужный объект и возвращает его."
   ]
  },
  {
   "cell_type": "markdown",
   "metadata": {
    "deletable": true,
    "editable": true
   },
   "source": [
    "* Ничего не мешает нам создать функцию, которая будет создавать объект типа type (т.е. некоторый класс) и возвращать его в качестве результата\n",
    "* Такая функция называется метафункцией."
   ]
  },
  {
   "cell_type": "code",
   "execution_count": 9,
   "metadata": {
    "collapsed": false,
    "deletable": true,
    "editable": true
   },
   "outputs": [
    {
     "name": "stdout",
     "output_type": "stream",
     "text": [
      "<class '__main__.class_factory.<locals>.Foo'>\n"
     ]
    }
   ],
   "source": [
    "def class_factory():\n",
    "    class Foo:\n",
    "        pass\n",
    "    return Foo\n",
    "\n",
    "F = class_factory()\n",
    "f = F()\n",
    "print(type(f))"
   ]
  },
  {
   "cell_type": "markdown",
   "metadata": {
    "deletable": true,
    "editable": true
   },
   "source": [
    "* Получившаяся функция создаёт класс, однако выглядит несколько странно.  \n",
    "* Было бы отлично избежать явного написания кода и выполнять эти действия более динамически.\n",
    "* Это можно сделать создавая наш класс напрямую от класса type."
   ]
  },
  {
   "cell_type": "code",
   "execution_count": 10,
   "metadata": {
    "collapsed": false,
    "deletable": true,
    "editable": true
   },
   "outputs": [
    {
     "name": "stdout",
     "output_type": "stream",
     "text": [
      "<class '__main__.Foo'>\n"
     ]
    }
   ],
   "source": [
    "def class_factory():\n",
    "    return type('Foo', (), {})\n",
    "\n",
    "F = class_factory()\n",
    "f = F()\n",
    "print(type(f))"
   ]
  },
  {
   "cell_type": "markdown",
   "metadata": {
    "deletable": true,
    "editable": true
   },
   "source": [
    "Вообще, запись вида:"
   ]
  },
  {
   "cell_type": "code",
   "execution_count": 11,
   "metadata": {
    "collapsed": true,
    "deletable": true,
    "editable": true
   },
   "outputs": [],
   "source": [
    "class Empty:\n",
    "    pass"
   ]
  },
  {
   "cell_type": "markdown",
   "metadata": {
    "deletable": true,
    "editable": true
   },
   "source": [
    "Эквивалентна следующей конструкции:"
   ]
  },
  {
   "cell_type": "code",
   "execution_count": 12,
   "metadata": {
    "collapsed": true,
    "deletable": true,
    "editable": true
   },
   "outputs": [],
   "source": [
    "Empty = type('Empty', (), {})"
   ]
  },
  {
   "cell_type": "markdown",
   "metadata": {
    "deletable": true,
    "editable": true
   },
   "source": [
    "### type - конструктор типов"
   ]
  },
  {
   "cell_type": "markdown",
   "metadata": {
    "deletable": true,
    "editable": true
   },
   "source": [
    "type(name, bases, dct)"
   ]
  },
  {
   "cell_type": "markdown",
   "metadata": {
    "deletable": true,
    "editable": true
   },
   "source": [
    "* name - имя для создаваемого класса.\n",
    "* bases - tuple задающий родительские классы для конструируемого класса.\n",
    "* dct - словарь аттрибутов и методов создаваемого класса."
   ]
  },
  {
   "cell_type": "markdown",
   "metadata": {
    "deletable": true,
    "editable": true
   },
   "source": [
    "Следующие примеры дадут идентичные результаты:"
   ]
  },
  {
   "cell_type": "code",
   "execution_count": 13,
   "metadata": {
    "collapsed": false,
    "deletable": true,
    "editable": true
   },
   "outputs": [
    {
     "name": "stdout",
     "output_type": "stream",
     "text": [
      "4\n"
     ]
    }
   ],
   "source": [
    "class Foo:\n",
    "    i = 4\n",
    "\n",
    "class Bar(Foo):\n",
    "    def get_i(self):\n",
    "        return self.i\n",
    "    \n",
    "b = Bar()\n",
    "print(b.get_i())"
   ]
  },
  {
   "cell_type": "code",
   "execution_count": 14,
   "metadata": {
    "collapsed": false,
    "deletable": true,
    "editable": true
   },
   "outputs": [
    {
     "name": "stdout",
     "output_type": "stream",
     "text": [
      "4\n"
     ]
    }
   ],
   "source": [
    "Foo = type('Foo', (), dict(i=4))\n",
    "\n",
    "Bar = type('Bar', (Foo,), dict(get_i = lambda self: self.i))\n",
    "\n",
    "b = Bar()\n",
    "print(b.get_i())"
   ]
  },
  {
   "cell_type": "markdown",
   "metadata": {
    "deletable": true,
    "editable": true
   },
   "source": [
    "### type как корневой тип для метаклассов"
   ]
  },
  {
   "cell_type": "markdown",
   "metadata": {
    "deletable": true,
    "editable": true
   },
   "source": [
    "Мы можем создать собственный метакласс отнаследовавшись от type, а затем использовать его вместо type при создании классов."
   ]
  },
  {
   "cell_type": "markdown",
   "metadata": {
    "deletable": true,
    "editable": true
   },
   "source": [
    "При создании нового класса с помощью ключевого слова class происходит следующее:  \n",
    "* Метакласс определяется путём поиска у себя или у предков keyword-аргумента metaclass для класса.\n",
    "* Подготавливается namespace-словарь перед выполнением тела класса для того, чтобы поля добавлялись в него. Для этого используется опциональный метод (classmethod) \\_\\_prepare\\_\\_ у метакласса.\n",
    "* Python выполняет тело внутри конструкции class как обычный блок кода.\n",
    "* Получившийся дополненный namespace (словарь) содержит в себе аттрибуты будущего класса.\n",
    "* Найденный метакласс вызывается, ему передаётся имя, список базовых классов и аттрибуты создаваемого класса."
   ]
  },
  {
   "cell_type": "markdown",
   "metadata": {
    "deletable": true,
    "editable": true
   },
   "source": [
    "Такой двухэтапный подход позволяет более гибко влиять на создание класса."
   ]
  },
  {
   "cell_type": "markdown",
   "metadata": {
    "deletable": true,
    "editable": true
   },
   "source": [
    "### Пример метакласса - сохраняем порядок полей"
   ]
  },
  {
   "cell_type": "code",
   "execution_count": 15,
   "metadata": {
    "collapsed": true,
    "deletable": true,
    "editable": true
   },
   "outputs": [],
   "source": [
    "import collections\n",
    "\n",
    "class OrderedClass(type):\n",
    "\n",
    "    @classmethod\n",
    "    def __prepare__(metacls, name, bases, **kwargs):\n",
    "        return collections.OrderedDict()\n",
    "\n",
    "    def __new__(cls, name, bases, namespace, **kwargs):\n",
    "        result = type.__new__(cls, name, bases, dict(namespace))\n",
    "        result.members = tuple(namespace)\n",
    "        return result\n",
    "\n",
    "class A(metaclass=OrderedClass):\n",
    "    def one(self):\n",
    "        pass\n",
    "    def two(self):\n",
    "        pass\n",
    "    def three(self):\n",
    "        pass\n",
    "    def four(self):\n",
    "        pass"
   ]
  },
  {
   "cell_type": "code",
   "execution_count": 16,
   "metadata": {
    "collapsed": false,
    "deletable": true,
    "editable": true
   },
   "outputs": [
    {
     "data": {
      "text/plain": [
       "('__module__', '__qualname__', 'one', 'two', 'three', 'four')"
      ]
     },
     "execution_count": 16,
     "metadata": {},
     "output_type": "execute_result"
    }
   ],
   "source": [
    "A.members"
   ]
  },
  {
   "cell_type": "markdown",
   "metadata": {
    "deletable": true,
    "editable": true
   },
   "source": [
    "### Пример метакласса - регистрируем подклассы"
   ]
  },
  {
   "cell_type": "markdown",
   "metadata": {
    "deletable": true,
    "editable": true
   },
   "source": [
    "Следующий метакласс просто добавляет словарь registry (реестр) и каждый раз при создании нового класса кладёт в registry имя этого класса."
   ]
  },
  {
   "cell_type": "code",
   "execution_count": 17,
   "metadata": {
    "collapsed": true,
    "deletable": true,
    "editable": true
   },
   "outputs": [],
   "source": [
    "class DBInterfaceMeta(type):\n",
    "    # we use __init__ rather than __new__ here because we want\n",
    "    # to modify attributes of the class *after* they have been\n",
    "    # created\n",
    "    def __init__(cls, name, bases, dct):\n",
    "        if not hasattr(cls, 'registry'):\n",
    "            # this is the base class.  Create an empty registry\n",
    "            cls.registry = {}\n",
    "        else:\n",
    "            # this is a derived class.  Add cls to the registry\n",
    "            interface_id = name.lower()\n",
    "            cls.registry[interface_id] = cls\n",
    "\n",
    "        super(DBInterfaceMeta, cls).__init__(name, bases, dct)"
   ]
  },
  {
   "cell_type": "markdown",
   "metadata": {
    "deletable": true,
    "editable": true
   },
   "source": [
    "Мы можем задать классу другой (вместо type) метакласс путём присваивания аргументу metaclass:"
   ]
  },
  {
   "cell_type": "code",
   "execution_count": 18,
   "metadata": {
    "collapsed": false,
    "deletable": true,
    "editable": true
   },
   "outputs": [
    {
     "name": "stdout",
     "output_type": "stream",
     "text": [
      "{}\n"
     ]
    }
   ],
   "source": [
    "class DBInterface(metaclass=DBInterfaceMeta):\n",
    "    pass\n",
    "    \n",
    "print(DBInterface.registry)"
   ]
  },
  {
   "cell_type": "markdown",
   "metadata": {
    "deletable": true,
    "editable": true
   },
   "source": [
    "После добавления подклассов:"
   ]
  },
  {
   "cell_type": "code",
   "execution_count": 19,
   "metadata": {
    "collapsed": false,
    "deletable": true,
    "editable": true
   },
   "outputs": [
    {
     "name": "stdout",
     "output_type": "stream",
     "text": [
      "{'secondinterfacemodified': <class '__main__.SecondInterfaceModified'>, 'firstinterface': <class '__main__.FirstInterface'>, 'secondinterface': <class '__main__.SecondInterface'>}\n"
     ]
    }
   ],
   "source": [
    "class FirstInterface(DBInterface):\n",
    "    pass\n",
    "\n",
    "class SecondInterface(DBInterface):\n",
    "    pass\n",
    "\n",
    "class SecondInterfaceModified(SecondInterface):\n",
    "    pass\n",
    "\n",
    "print(DBInterface.registry)"
   ]
  },
  {
   "cell_type": "markdown",
   "metadata": {
    "deletable": true,
    "editable": true
   },
   "source": [
    "### Составной пример метакласса"
   ]
  },
  {
   "cell_type": "markdown",
   "metadata": {
    "deletable": true,
    "editable": true
   },
   "source": [
    "В Python существует два метода, которые используются при создании объекта (в т.ч. классов и метаклассов):  \n",
    "* \\_\\_new\\_\\_ - конструктор, вызывается непосредственно для создания объекта, редко когда нужен (если нам надо иметь  контроль над созданием объекта).\n",
    "* \\_\\_init\\_\\_ - инициализатор, вызывается после создания объекта для его инициализации, в основном используется этот метод."
   ]
  },
  {
   "cell_type": "markdown",
   "metadata": {
    "deletable": true,
    "editable": true
   },
   "source": [
    "В случае с метаклассами редко, но может иметь смысл перегрузка функции \\_\\_call\\_\\_ в метаклассе (вызывается, когда идёт создание объекта с помощью имени класса MyClass())."
   ]
  },
  {
   "cell_type": "markdown",
   "metadata": {
    "deletable": true,
    "editable": true
   },
   "source": [
    "По сути, эти три функции позволяют влиять на разные этапы создания класса и его объектов."
   ]
  },
  {
   "cell_type": "code",
   "execution_count": 20,
   "metadata": {
    "collapsed": false,
    "deletable": true,
    "editable": true
   },
   "outputs": [],
   "source": [
    "def make_hook(f):\n",
    "    \"\"\"Decorator to turn 'foo' method into '__foo__'\"\"\"\n",
    "    f.is_hook = 1\n",
    "    return f\n",
    "\n",
    "class MyType(type):\n",
    "    def __new__(cls, name, bases, attrs):\n",
    "        print(\"__new__ for {}\".format(name))\n",
    "        if name.startswith('None'):\n",
    "            return None\n",
    "\n",
    "        # Go over attributes and see if they should be renamed.\n",
    "        newattrs = {}\n",
    "        for attrname, attrvalue in attrs.items():\n",
    "            if getattr(attrvalue, 'is_hook', 0):\n",
    "                newattrs['__%s__' % attrname] = attrvalue\n",
    "            else:\n",
    "                newattrs[attrname] = attrvalue\n",
    "\n",
    "        return super(MyType, cls).__new__(cls, name, bases, newattrs)\n",
    "\n",
    "    def __init__(self, name, bases, attrs):\n",
    "        super(MyType, self).__init__(name, bases, attrs)\n",
    "\n",
    "        print(\"__init__ for {}\".format(self))\n",
    "\n",
    "    def __add__(self, other):\n",
    "        class AutoClass(self, other):\n",
    "            pass\n",
    "        return AutoClass\n",
    "        # Alternatively, to autogenerate the classname as well as the class:\n",
    "        # return type(self.__name__ + other.__name__, (self, other), {})\n",
    "\n",
    "    def say_hello(self):\n",
    "        print(\"Hello, {}\".format(self))"
   ]
  },
  {
   "cell_type": "code",
   "execution_count": 21,
   "metadata": {
    "collapsed": false,
    "deletable": true,
    "editable": true,
    "scrolled": true
   },
   "outputs": [
    {
     "name": "stdout",
     "output_type": "stream",
     "text": [
      "__new__ for MyObject\n",
      "__init__ for <class '__main__.MyObject'>\n"
     ]
    }
   ],
   "source": [
    "class MyObject(metaclass=MyType):\n",
    "    pass"
   ]
  },
  {
   "cell_type": "code",
   "execution_count": 22,
   "metadata": {
    "collapsed": false,
    "deletable": true,
    "editable": true
   },
   "outputs": [
    {
     "name": "stdout",
     "output_type": "stream",
     "text": [
      "__new__ for NoneSample\n",
      "<class 'NoneType'> None\n"
     ]
    }
   ],
   "source": [
    "class NoneSample(MyObject):\n",
    "    pass\n",
    "\n",
    "# Will print \"NoneType None\"\n",
    "print(type(NoneSample), repr(NoneSample))"
   ]
  },
  {
   "cell_type": "code",
   "execution_count": 23,
   "metadata": {
    "collapsed": false,
    "deletable": true,
    "editable": true
   },
   "outputs": [
    {
     "name": "stdout",
     "output_type": "stream",
     "text": [
      "__new__ for Example\n",
      "__init__ for <class '__main__.Example'>\n",
      "Hello, <class '__main__.Example'>\n"
     ]
    }
   ],
   "source": [
    "class Example(MyObject):\n",
    "    def __init__(self, value):\n",
    "        self.value = value\n",
    "\n",
    "    @make_hook\n",
    "    def add(self, other):\n",
    "        return self.__class__(self.value + other.value)\n",
    "\n",
    "Example.say_hello()"
   ]
  },
  {
   "cell_type": "code",
   "execution_count": 24,
   "metadata": {
    "collapsed": false,
    "deletable": true,
    "editable": true
   },
   "outputs": [
    {
     "name": "stdout",
     "output_type": "stream",
     "text": [
      "<__main__.Example object at 0x7f219038bf98>\n"
     ]
    }
   ],
   "source": [
    "inst = Example(10)\n",
    "\n",
    "print(inst + inst)"
   ]
  },
  {
   "cell_type": "code",
   "execution_count": 25,
   "metadata": {
    "collapsed": false,
    "deletable": true,
    "editable": true
   },
   "outputs": [
    {
     "name": "stdout",
     "output_type": "stream",
     "text": [
      "__new__ for Sibling\n",
      "__init__ for <class '__main__.Sibling'>\n",
      "__new__ for AutoClass\n",
      "__init__ for <class '__main__.MyType.__add__.<locals>.AutoClass'>\n",
      "<class '__main__.MyType.__add__.<locals>.AutoClass'>\n",
      "(<class '__main__.MyType.__add__.<locals>.AutoClass'>, <class '__main__.Example'>, <class '__main__.Sibling'>, <class '__main__.MyObject'>, <class 'object'>)\n"
     ]
    }
   ],
   "source": [
    "class Sibling(MyObject):\n",
    "    pass\n",
    "\n",
    "ExampleSibling = Example + Sibling\n",
    "# ExampleSibling is now a subclass of both Example and Sibling (with no\n",
    "# content of its own) although it will believe it's called 'AutoClass'\n",
    "print(ExampleSibling)\n",
    "print(ExampleSibling.__mro__)"
   ]
  },
  {
   "cell_type": "markdown",
   "metadata": {
    "deletable": true,
    "editable": true
   },
   "source": [
    "### Дополнительное чтение про метаклассы"
   ]
  },
  {
   "cell_type": "markdown",
   "metadata": {
    "deletable": true,
    "editable": true
   },
   "source": [
    "* https://docs.python.org/3.5/reference/datamodel.html#metaclasses - в деталях про этапы создания класса.\n",
    "* https://www.python.org/dev/peps/pep-3115/ - PEP про метаклассы в python 3.x\n",
    "* http://eli.thegreenplace.net/2011/08/14/python-metaclasses-by-example - местами более подробная версия этой лекции, но в варианте для python 2.x, с дополнительными примерами кода и применения в библиотеках. Большая часть актуальна и для 3.x.\n",
    "* http://blog.ionelmc.ro/2015/02/09/understanding-python-metaclasses/ - подробная статья, в деталях соединяющая (с картинками) материал этой лекции и одной из предыдущих про аттрибуты. Версия для python 2.x, но большая часть актуальна и для 3.x.  "
   ]
  },
  {
   "cell_type": "markdown",
   "metadata": {
    "deletable": true,
    "editable": true
   },
   "source": [
    "## Тестирование и Python"
   ]
  },
  {
   "cell_type": "markdown",
   "metadata": {
    "deletable": true,
    "editable": true
   },
   "source": [
    "### Пару слов про тестирование и программирование."
   ]
  },
  {
   "cell_type": "markdown",
   "metadata": {
    "deletable": true,
    "editable": true
   },
   "source": [
    "Тестирование как способ проверить работу программы или её части в заданных условиях."
   ]
  },
  {
   "cell_type": "markdown",
   "metadata": {
    "deletable": true,
    "editable": true
   },
   "source": [
    "#### Некоторые типы тестирования"
   ]
  },
  {
   "cell_type": "markdown",
   "metadata": {
    "deletable": true,
    "editable": true
   },
   "source": [
    "* юнит\n",
    "* модульное\n",
    "* интеграционное\n",
    "* регрессионное\n",
    "* нагрузочное\n",
    "* fuzzy"
   ]
  },
  {
   "cell_type": "markdown",
   "metadata": {
    "deletable": true,
    "editable": true
   },
   "source": [
    "#### Порядок среди хаоса"
   ]
  },
  {
   "cell_type": "markdown",
   "metadata": {
    "deletable": true,
    "editable": true
   },
   "source": [
    "* Интерфейсы и соглашения об ожидаемом поведении кода\n",
    "* Фиксация \"контрактов\" на поведение через тесты"
   ]
  },
  {
   "cell_type": "markdown",
   "metadata": {
    "deletable": true,
    "editable": true
   },
   "source": [
    "### Почему нужно писать тесты"
   ]
  },
  {
   "cell_type": "markdown",
   "metadata": {
    "deletable": true,
    "editable": true
   },
   "source": [
    "* Python - динамически типизированный язык программирования, нет привычной по другим языкам статической проверки типов.\n",
    "* Удобно авматоматизировать ручные проверки старых и новых функций и их взаимодействия.\n",
    "* При внесении изменений в код хотелось бы иметь простой способ быстро убедиться, что ничего не сломалось.\n",
    "* При работе в команде это способ отслеживания состояния и работоспособности проекта.\n",
    "* Тесты - некоторого рода документация, описывающая как взаимодействовать с кодом."
   ]
  },
  {
   "cell_type": "markdown",
   "metadata": {
    "deletable": true,
    "editable": true
   },
   "source": [
    "### Юнит-тестирование"
   ]
  },
  {
   "cell_type": "markdown",
   "metadata": {
    "deletable": true,
    "editable": true
   },
   "source": [
    "* Существует ряд различных типов тестирования, которые применяются так или  иначе для проверки отдельных аспектов работы программы.\n",
    "* Нас интересует один из часто используемых - юнит-тестирование.\n",
    "* Юнит-тестирование (unit testing) предполагает написание тестов для небольших частей кода (функций или классов).\n",
    "* В таких тестах проверяется выполнение ожидаемых инвариантов работы с помощью различных вариантов функции assert.\n",
    "* Проверяем: что вернулось ожидаемое значение, что два значения равны, что было выброшено (или не выброшено) исключение,  что вызов завершился до истечения таймаута и т.п."
   ]
  },
  {
   "cell_type": "markdown",
   "metadata": {
    "deletable": true,
    "editable": true
   },
   "source": [
    "### Python unittest"
   ]
  },
  {
   "cell_type": "markdown",
   "metadata": {
    "deletable": true,
    "editable": true
   },
   "source": [
    "* В результате развития подходом и библиотек для языка Java в какой-то момент появилась успешная библиотека JUnit.\n",
    "* unittest - реализации идей этой библиотеки для языка Python."
   ]
  },
  {
   "cell_type": "markdown",
   "metadata": {
    "deletable": true,
    "editable": true
   },
   "source": [
    "Основные концепции выполнения тестов:"
   ]
  },
  {
   "cell_type": "markdown",
   "metadata": {
    "deletable": true,
    "editable": true
   },
   "source": [
    "* создание начальных условий для отдельного теста\n",
    "* задание завершающих действий для отдельного теста\n",
    "* объединение тестов в группы\n",
    "* автоматизированный запуск наборов тестов\n",
    "* независимое отображение результатов выполнения тестов"
   ]
  },
  {
   "cell_type": "markdown",
   "metadata": {
    "deletable": true,
    "editable": true
   },
   "source": [
    "Для реализации этих концепций используются понятия:"
   ]
  },
  {
   "cell_type": "markdown",
   "metadata": {
    "deletable": true,
    "editable": true
   },
   "source": [
    "* Отдельный тест (test case, класс TestCase) - описывает действия подготовки и завершения (setUp и tearDown), а также сам тест.\n",
    "* Набор тестов (test suite, TestSuite) - объединяет в себе несколько тестов.\n",
    "* Тестовые установки (test fixture, TestFixture) - представляют действия для подготовки и завершения одного или нескольких тестов (создание временных таблиц, директорий и т.п.)\n",
    "* Исполнитель тестов (test runner, TestRunner) - компонент, отвечающий за запуск тестов и отображения их результатов (текстовы, графический интерфейсы)."
   ]
  },
  {
   "cell_type": "markdown",
   "metadata": {
    "deletable": true,
    "editable": true
   },
   "source": [
    "Пример отдельного теста:"
   ]
  },
  {
   "cell_type": "code",
   "execution_count": 26,
   "metadata": {
    "collapsed": true,
    "deletable": true,
    "editable": true
   },
   "outputs": [],
   "source": [
    "import unittest\n",
    "\n",
    "class TestStringMethods(unittest.TestCase):\n",
    "\n",
    "  def test_upper(self):\n",
    "      self.assertEqual('foo'.upper(), 'FOO')\n",
    "\n",
    "  def test_isupper(self):\n",
    "      self.assertTrue('FOO'.isupper())\n",
    "      self.assertFalse('Foo'.isupper())\n",
    "\n",
    "  def test_split(self):\n",
    "      s = 'hello world'\n",
    "      self.assertEqual(s.split(), ['hello', 'world'])\n",
    "      # check that s.split fails when the separator is not a string\n",
    "      with self.assertRaises(TypeError):\n",
    "          s.split(2)"
   ]
  },
  {
   "cell_type": "code",
   "execution_count": 27,
   "metadata": {
    "collapsed": false,
    "deletable": true,
    "editable": true,
    "scrolled": true
   },
   "outputs": [
    {
     "name": "stderr",
     "output_type": "stream",
     "text": [
      "test_isupper (__main__.TestStringMethods) ... ok\n",
      "test_split (__main__.TestStringMethods) ... ok\n",
      "test_upper (__main__.TestStringMethods) ... ok\n",
      "\n",
      "----------------------------------------------------------------------\n",
      "Ran 3 tests in 0.006s\n",
      "\n",
      "OK\n"
     ]
    },
    {
     "data": {
      "text/plain": [
       "<unittest.runner.TextTestResult run=3 errors=0 failures=0>"
      ]
     },
     "execution_count": 27,
     "metadata": {},
     "output_type": "execute_result"
    }
   ],
   "source": [
    "suite = unittest.TestLoader().loadTestsFromTestCase(TestStringMethods)\n",
    "unittest.TextTestRunner(verbosity=2).run(suite)"
   ]
  },
  {
   "cell_type": "code",
   "execution_count": 28,
   "metadata": {
    "collapsed": true,
    "deletable": true,
    "editable": true
   },
   "outputs": [],
   "source": [
    "import unittest\n",
    "\n",
    "class WidgetTestCase(unittest.TestCase):\n",
    "    def setUp(self):\n",
    "        self.widget = Widget('The widget')\n",
    "\n",
    "    def tearDown(self):\n",
    "        self.widget.dispose()\n",
    "        self.widget = None\n",
    "\n",
    "    def test_default_size(self):\n",
    "        self.assertEqual(self.widget.size(), (50,50),\n",
    "                         'incorrect default size')\n",
    "\n",
    "    def test_resize(self):\n",
    "        self.widget.resize(100,150)\n",
    "        self.assertEqual(self.widget.size(), (100,150),\n",
    "                         'wrong size after resize')"
   ]
  },
  {
   "cell_type": "code",
   "execution_count": 29,
   "metadata": {
    "collapsed": true,
    "deletable": true,
    "editable": true
   },
   "outputs": [],
   "source": [
    "import unittest\n",
    "\n",
    "class SimpleWidgetTestCase(unittest.TestCase):\n",
    "    def setUp(self):\n",
    "        self.widget = Widget('The widget')\n",
    "\n",
    "class DefaultWidgetSizeTestCase(SimpleWidgetTestCase):\n",
    "    def runTest(self):\n",
    "        self.assertEqual(self.widget.size(), (50,50),\n",
    "                         'incorrect default size')\n",
    "\n",
    "class WidgetResizeTestCase(SimpleWidgetTestCase):\n",
    "    def runTest(self):\n",
    "        self.widget.resize(100,150)\n",
    "        self.assertEqual(self.widget.size(), (100,150),\n",
    "                         'wrong size after resize')\n"
   ]
  },
  {
   "cell_type": "code",
   "execution_count": null,
   "metadata": {
    "collapsed": false,
    "deletable": true,
    "editable": true
   },
   "outputs": [],
   "source": [
    "class MyTestCase(unittest.TestCase):\n",
    "\n",
    "    @unittest.skip(\"demonstrating skipping\")\n",
    "    def test_nothing(self):\n",
    "        self.fail(\"shouldn't happen\")\n",
    "\n",
    "    @unittest.skipIf(mylib.__version__ < (1, 3),\n",
    "                     \"not supported in this library version\")\n",
    "    def test_format(self):\n",
    "        # Tests that work for only a certain version of the library.\n",
    "        pass\n",
    "\n",
    "    @unittest.skipUnless(sys.platform.startswith(\"win\"), \"requires Windows\")\n",
    "    def test_windows_support(self):\n",
    "        # windows specific testing code\n",
    "        pass"
   ]
  },
  {
   "cell_type": "markdown",
   "metadata": {
    "deletable": true,
    "editable": true
   },
   "source": [
    "Предлагается самостоятельно почитать подробнее, изучить примеры и попробовать писать тесты:"
   ]
  },
  {
   "cell_type": "markdown",
   "metadata": {
    "deletable": true,
    "editable": true
   },
   "source": [
    "https://docs.python.org/3.5/library/unittest.html - официальная документация по библиотеке unittest и ссылки на альтернативы."
   ]
  },
  {
   "cell_type": "markdown",
   "metadata": {
    "deletable": true,
    "editable": true
   },
   "source": [
    "### Библиотеки для юнит-тестов"
   ]
  },
  {
   "cell_type": "markdown",
   "metadata": {
    "deletable": true,
    "editable": true
   },
   "source": [
    "Существует также ряд других библиотек, которые могут быть интересны в будущем:"
   ]
  },
  {
   "cell_type": "markdown",
   "metadata": {
    "deletable": true,
    "editable": true
   },
   "source": [
    "* doctest - выполнение тестов особого вида, помещённых прямо в docstring.\n",
    "* pytest - альтернатива стандартному unittest, может подкупить простым интерфейсом, есть удобная параметризация тестов.\n",
    "* nose - расширяет unittest упрощая тестирование (test discovery, показатель test coverage).\n",
    "* tox - автоматизация управления тестовым окружением, позволяет задавать матрицы параметров для тестов.\n",
    "* mock - библиотека для тестирования, позволяет просто создавать объекты-заглушки для тестирования и заменять части системы на время тестирования (см. mock тестирование)."
   ]
  },
  {
   "cell_type": "code",
   "execution_count": 30,
   "metadata": {
    "collapsed": false,
    "deletable": true,
    "editable": true
   },
   "outputs": [
    {
     "name": "stdout",
     "output_type": "stream",
     "text": [
      "**********************************************************************\n",
      "File \"__main__\", line 29, in __main__.factorial\n",
      "Failed example:\n",
      "    factorial(30.0)\n",
      "Expected:\n",
      "    65252859812191058636308480000000\n",
      "Got:\n",
      "    265252859812191058636308480000000\n",
      "**********************************************************************\n",
      "1 items had failures:\n",
      "   1 of   7 in __main__.factorial\n",
      "***Test Failed*** 1 failures.\n"
     ]
    }
   ],
   "source": [
    "\"\"\"\n",
    "This is the \"example\" module.\n",
    "\n",
    "The example module supplies one function, factorial().  For example,\n",
    "\n",
    ">>> factorial(5)\n",
    "120\n",
    "\"\"\"\n",
    "\n",
    "def factorial(n):\n",
    "    \"\"\"Return the factorial of n, an exact integer >= 0.\n",
    "\n",
    "    >>> [factorial(n) for n in range(6)]\n",
    "    [1, 1, 2, 6, 24, 120]\n",
    "    >>> factorial(30)\n",
    "    265252859812191058636308480000000\n",
    "    >>> factorial(30)\n",
    "    265252859812191058636308480000000\n",
    "    >>> factorial(-1)\n",
    "    Traceback (most recent call last):\n",
    "        ...\n",
    "    ValueError: n must be >= 0\n",
    "\n",
    "    Factorials of floats are OK, but the float must be an exact integer:\n",
    "    >>> factorial(30.1)\n",
    "    Traceback (most recent call last):\n",
    "        ...\n",
    "    ValueError: n must be exact integer\n",
    "    >>> factorial(30.0)\n",
    "    65252859812191058636308480000000\n",
    "\n",
    "    It must also not be ridiculously large:\n",
    "    >>> factorial(1e100)\n",
    "    Traceback (most recent call last):\n",
    "        ...\n",
    "    OverflowError: n too large\n",
    "    \"\"\"\n",
    "\n",
    "    import math\n",
    "    if not n >= 0:\n",
    "        raise ValueError(\"n must be >= 0\")\n",
    "    if math.floor(n) != n:\n",
    "        raise ValueError(\"n must be exact integer\")\n",
    "    if n+1 == n:  # catch a value like 1e300\n",
    "        raise OverflowError(\"n too large\")\n",
    "    result = 1\n",
    "    factor = 2\n",
    "    while factor <= n:\n",
    "        result *= factor\n",
    "        factor += 1\n",
    "    return result\n",
    "\n",
    "\n",
    "if __name__ == \"__main__\":\n",
    "    import doctest\n",
    "    doctest.testmod()"
   ]
  },
  {
   "cell_type": "markdown",
   "metadata": {
    "deletable": true,
    "editable": true
   },
   "source": [
    "### Общие советы по написанию тестов"
   ]
  },
  {
   "cell_type": "markdown",
   "metadata": {
    "deletable": true,
    "editable": true
   },
   "source": [
    "* Обычно тесты кладут в папку tests в проекте.\n",
    "* Удобно использовать по одному файлу с тестами на каждый модуль.\n",
    "* Стараться избавляться от избыточной дупликации кода в отдельных тестах, если это можно сделать.\n",
    "* Отдельный тест должен проверять небольшую часть функциональности (если пройден, то она верна).\n",
    "* Каждый тест должен быть полностью независимым.\n",
    "* Тесты должны работать быстро, иначе будут проблемы с их частым и массовым запуском.\n",
    "* Удобно, когда на каждый коммит в репозиторий автоматически запускаются тесты.\n",
    "* Если есть долгие тесты, то можно их запускать по расписанию, а не при каждом коммите.\n",
    "* Полезно писать как можно подробные имена тестов."
   ]
  }
 ],
 "metadata": {
  "kernelspec": {
   "display_name": "Python 3",
   "language": "python",
   "name": "python3"
  },
  "language_info": {
   "codemirror_mode": {
    "name": "ipython",
    "version": 3
   },
   "file_extension": ".py",
   "mimetype": "text/x-python",
   "name": "python",
   "nbconvert_exporter": "python",
   "pygments_lexer": "ipython3",
   "version": "3.5.2"
  }
 },
 "nbformat": 4,
 "nbformat_minor": 0
}
