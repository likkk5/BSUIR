{
 "cells": [
  {
   "cell_type": "markdown",
   "metadata": {
    "deletable": true,
    "editable": true
   },
   "source": [
    "# Лекция 16: диспетчеризация урлов, представления и шаблонизация верстки в Django"
   ]
  },
  {
   "cell_type": "markdown",
   "metadata": {
    "deletable": true,
    "editable": true
   },
   "source": [
    "## Немного принципов\n",
    "* KISS\n",
    "* DRY\n",
    "* NIH\n",
    "* YAGNI"
   ]
  },
  {
   "cell_type": "markdown",
   "metadata": {
    "deletable": true,
    "editable": true
   },
   "source": [
    "## Диспетчеризация урлов"
   ]
  },
  {
   "cell_type": "markdown",
   "metadata": {
    "deletable": true,
    "editable": true
   },
   "source": [
    "### ЧПУ"
   ]
  },
  {
   "cell_type": "markdown",
   "metadata": {
    "deletable": true,
    "editable": true
   },
   "source": [
    "ЧПУ - (человеко-понятные урлы) - идея формирования \"хороших\" урлов, которые были бы удобнее, в первую очередь, для человека, а не машины:  \n",
    "  * содержат читаемые слова и даты  \n",
    "  * латинский алфавит  \n",
    "  * показывают вложенность директорий сайта  \n",
    "  * отражают название сущности, на которую они ссылаются  \n",
    "  * избегаются технические части текста (расширения, спецсимволы)"
   ]
  },
  {
   "cell_type": "markdown",
   "metadata": {
    "deletable": true,
    "editable": true
   },
   "source": [
    "### URLconf"
   ]
  },
  {
   "cell_type": "markdown",
   "metadata": {
    "deletable": true,
    "editable": true
   },
   "source": [
    "* URL dispatcher - (диспетчеризация урлов, routes, роуты) - способ задания схемы отображения из урла запроса на обработчик запроса.\n",
    "* URLconf - неформальное название задаваемого разработчиком отображения с помощью встроенного в Django механизма.\n",
    "* Содержится в файлах urls.py.\n",
    "* Отображение задаётся с помощью кода на Python, которому указывается простое регулярное выражение (описание урла) и обрабатывающий объект-представление.\n",
    "* URLConf могут вкладываться один в другой - обычно в корневой URLConfg проекта включаются URLConf дочерних приложений."
   ]
  },
  {
   "cell_type": "markdown",
   "metadata": {
    "deletable": true,
    "editable": true
   },
   "source": [
    "Пример:"
   ]
  },
  {
   "cell_type": "code",
   "execution_count": null,
   "metadata": {
    "collapsed": false,
    "deletable": true,
    "editable": true
   },
   "outputs": [],
   "source": [
    "from django.conf.urls import url\n",
    "\n",
    "from . import views\n",
    "\n",
    "urlpatterns = [\n",
    "    url(r'^articles/2003/$', views.special_case_2003),\n",
    "    url(r'^articles/([0-9]{4})/$', views.year_archive, name='news-year-archive'),\n",
    "    url(r'^articles/([0-9]{4})/([0-9]{2})/$', views.month_archive),\n",
    "    url(r'^articles/([0-9]{4})/([0-9]{2})/([0-9]+)/$', views.article_detail),\n",
    "]"
   ]
  },
  {
   "cell_type": "markdown",
   "metadata": {
    "deletable": true,
    "editable": true
   },
   "source": [
    "Иногда нужно искать url по шаблону (чтобы было проще вносить изменения и меньше повторяться)."
   ]
  },
  {
   "cell_type": "markdown",
   "metadata": {
    "deletable": true,
    "editable": true
   },
   "source": [
    "Для этого существуют механизмы как в Python коде:"
   ]
  },
  {
   "cell_type": "code",
   "execution_count": null,
   "metadata": {
    "collapsed": true,
    "deletable": true,
    "editable": true
   },
   "outputs": [],
   "source": [
    "reverse('news-year-archive', args=(year,))"
   ]
  },
  {
   "cell_type": "markdown",
   "metadata": {
    "deletable": true,
    "editable": true
   },
   "source": [
    "Так и в шаблонах:"
   ]
  },
  {
   "cell_type": "code",
   "execution_count": null,
   "metadata": {
    "collapsed": true,
    "deletable": true,
    "editable": true
   },
   "outputs": [],
   "source": [
    "<a href=\"{% url 'news-year-archive' 2012 %}\">2012 Archive</a>"
   ]
  },
  {
   "cell_type": "markdown",
   "metadata": {
    "deletable": true,
    "editable": true
   },
   "source": [
    "* Подробнее про возможности URLConf:\n",
    "  * https://docs.djangoproject.com/en/1.11/topics/http/urls/\n",
    "  * http://djbook.ru/rel1.9/topics/http/urls.html"
   ]
  },
  {
   "cell_type": "markdown",
   "metadata": {
    "deletable": true,
    "editable": true
   },
   "source": [
    "## Представления"
   ]
  },
  {
   "cell_type": "markdown",
   "metadata": {
    "deletable": true,
    "editable": true
   },
   "source": [
    "* Представление - (view, вид) - функция (или класс определённого вида) на языке Python, в Django с помощью их реализуются обработчики запросов.  \n",
    "* Принимает на вход объект-запрос (*django.http.HttpRequest*) и возвращает объект-ответ (*django.http.HttpResponse*).\n",
    "* Ответ должен задаваться во view, обычно он генерирует html."
   ]
  },
  {
   "cell_type": "markdown",
   "metadata": {
    "deletable": true,
    "editable": true
   },
   "source": [
    "Пример:"
   ]
  },
  {
   "cell_type": "code",
   "execution_count": null,
   "metadata": {
    "collapsed": true,
    "deletable": true,
    "editable": true
   },
   "outputs": [],
   "source": [
    "from django.http import HttpResponse\n",
    "import datetime\n",
    "\n",
    "def current_datetime(request):\n",
    "    now = datetime.datetime.now()\n",
    "    html = \"<html><body>It is now %s.</body></html>\" % now\n",
    "    return HttpResponse(html)"
   ]
  },
  {
   "cell_type": "code",
   "execution_count": null,
   "metadata": {
    "collapsed": true,
    "deletable": true,
    "editable": true
   },
   "outputs": [],
   "source": [
    "from django.http import HttpResponse, HttpResponseNotFound\n",
    "\n",
    "def my_view(request):\n",
    "    # ...\n",
    "    if foo:\n",
    "        return HttpResponseNotFound('<h1>Page not found</h1>')\n",
    "    else:\n",
    "        return HttpResponse('<h1>Page was found</h1>')"
   ]
  },
  {
   "cell_type": "code",
   "execution_count": null,
   "metadata": {
    "collapsed": true,
    "deletable": true,
    "editable": true
   },
   "outputs": [],
   "source": [
    "# default will be used or specify your own 404.html template\n",
    "from django.http import Http404\n",
    "from django.shortcuts import render_to_response\n",
    "from polls.models import Poll\n",
    "\n",
    "def detail(request, poll_id):\n",
    "    try:\n",
    "        p = Poll.objects.get(pk=poll_id)\n",
    "    except Poll.DoesNotExist:\n",
    "        raise Http404(\"Poll does not exist\")\n",
    "    return render_to_response('polls/detail.html', {'poll': p})"
   ]
  },
  {
   "cell_type": "markdown",
   "metadata": {
    "deletable": true,
    "editable": true
   },
   "source": [
    "### Вспомогательные функции"
   ]
  },
  {
   "cell_type": "markdown",
   "metadata": {
    "deletable": true,
    "editable": true
   },
   "source": [
    "* Лежат в django.shortcuts.\n",
    "* Позволяют упростить ряд рутинных или часто нужных действий."
   ]
  },
  {
   "cell_type": "markdown",
   "metadata": {
    "deletable": true,
    "editable": true
   },
   "source": [
    "#### render \n",
    "Рендерит шаблон и создаёт сооветствующий HttpResponse."
   ]
  },
  {
   "cell_type": "code",
   "execution_count": null,
   "metadata": {
    "collapsed": true,
    "deletable": true,
    "editable": true
   },
   "outputs": [],
   "source": [
    "from django.shortcuts import render\n",
    "\n",
    "def my_view(request):\n",
    "    # View code here...\n",
    "    return render(request, 'myapp/index.html', {\"foo\": \"bar\"},\n",
    "        content_type=\"application/xhtml+xml\")"
   ]
  },
  {
   "cell_type": "code",
   "execution_count": null,
   "metadata": {
    "collapsed": true,
    "deletable": true,
    "editable": true
   },
   "outputs": [],
   "source": [
    "from django.http import HttpResponse\n",
    "from django.template import RequestContext, loader\n",
    "\n",
    "def my_view(request):\n",
    "    # View code here...\n",
    "    t = loader.get_template('myapp/index.html')\n",
    "    c = RequestContext(request, {'foo': 'bar'})\n",
    "    return HttpResponse(t.render(c),\n",
    "        content_type=\"application/xhtml+xml\")"
   ]
  },
  {
   "cell_type": "markdown",
   "metadata": {
    "deletable": true,
    "editable": true
   },
   "source": [
    "#### redirect"
   ]
  },
  {
   "cell_type": "markdown",
   "metadata": {
    "deletable": true,
    "editable": true
   },
   "source": [
    "Позволяет выполнить редирект путём возвращения специального ответа, создает HttpResponseRedirect на соответствующий url."
   ]
  },
  {
   "cell_type": "code",
   "execution_count": null,
   "metadata": {
    "collapsed": true,
    "deletable": true,
    "editable": true
   },
   "outputs": [],
   "source": [
    "from django.shortcuts import redirect\n",
    "\n",
    "def my_view(request):\n",
    "    ...\n",
    "    object = MyModel.objects.get(...)\n",
    "    return redirect(object)"
   ]
  },
  {
   "cell_type": "code",
   "execution_count": null,
   "metadata": {
    "collapsed": true,
    "deletable": true,
    "editable": true
   },
   "outputs": [],
   "source": [
    "def my_view(request):\n",
    "    ...\n",
    "    return redirect('some-view-name', foo='bar')"
   ]
  },
  {
   "cell_type": "code",
   "execution_count": null,
   "metadata": {
    "collapsed": true,
    "deletable": true,
    "editable": true
   },
   "outputs": [],
   "source": [
    "def my_view(request):\n",
    "    ...\n",
    "    return redirect('/some/url/')"
   ]
  },
  {
   "cell_type": "code",
   "execution_count": null,
   "metadata": {
    "collapsed": true,
    "deletable": true,
    "editable": true
   },
   "outputs": [],
   "source": [
    "def my_view(request):\n",
    "    ...\n",
    "    return redirect('http://example.com/')"
   ]
  },
  {
   "cell_type": "markdown",
   "metadata": {
    "deletable": true,
    "editable": true
   },
   "source": [
    "#### get_object_or_404"
   ]
  },
  {
   "cell_type": "markdown",
   "metadata": {
    "deletable": true,
    "editable": true
   },
   "source": [
    "Оборачивает получение объекта из базы (get): если не найдет, то вернёт ответ 404."
   ]
  },
  {
   "cell_type": "code",
   "execution_count": null,
   "metadata": {
    "collapsed": true,
    "deletable": true,
    "editable": true
   },
   "outputs": [],
   "source": [
    "from django.shortcuts import get_object_or_404\n",
    "\n",
    "def my_view(request):\n",
    "    my_object = get_object_or_404(MyModel, pk=1)"
   ]
  },
  {
   "cell_type": "code",
   "execution_count": null,
   "metadata": {
    "collapsed": true,
    "deletable": true,
    "editable": true
   },
   "outputs": [],
   "source": [
    "from django.http import Http404\n",
    "\n",
    "def my_view(request):\n",
    "    try:\n",
    "        my_object = MyModel.objects.get(pk=1)\n",
    "    except MyModel.DoesNotExist:\n",
    "        raise Http404(\"No MyModel matches the given query.\")"
   ]
  },
  {
   "cell_type": "code",
   "execution_count": null,
   "metadata": {
    "collapsed": true,
    "deletable": true,
    "editable": true
   },
   "outputs": [],
   "source": [
    "queryset = Book.objects.filter(title__startswith='M')\n",
    "get_object_or_404(queryset, pk=1)"
   ]
  },
  {
   "cell_type": "markdown",
   "metadata": {
    "deletable": true,
    "editable": true
   },
   "source": [
    "#### get_list_or_404"
   ]
  },
  {
   "cell_type": "markdown",
   "metadata": {
    "deletable": true,
    "editable": true
   },
   "source": [
    "Как предыдущий, только для нескольких объектов (filter)."
   ]
  },
  {
   "cell_type": "code",
   "execution_count": null,
   "metadata": {
    "collapsed": true,
    "deletable": true,
    "editable": true
   },
   "outputs": [],
   "source": [
    "from django.shortcuts import get_list_or_404\n",
    "\n",
    "def my_view(request):\n",
    "    my_objects = get_list_or_404(MyModel, published=True)"
   ]
  },
  {
   "cell_type": "code",
   "execution_count": null,
   "metadata": {
    "collapsed": true,
    "deletable": true,
    "editable": true
   },
   "outputs": [],
   "source": [
    "from django.http import Http404\n",
    "\n",
    "def my_view(request):\n",
    "    my_objects = list(MyModel.objects.filter(published=True))\n",
    "    if not my_objects:\n",
    "        raise Http404(\"No MyModel matches the given query.\")"
   ]
  },
  {
   "cell_type": "markdown",
   "metadata": {
    "deletable": true,
    "editable": true
   },
   "source": [
    "Подробнее про представления:\n",
    "* https://docs.djangoproject.com/en/1.11/#the-view-layer\n",
    "* http://djbook.ru/rel1.9/#the-view-layer"
   ]
  },
  {
   "cell_type": "markdown",
   "metadata": {
    "deletable": true,
    "editable": true
   },
   "source": [
    "## Шаблонизация в Django"
   ]
  },
  {
   "cell_type": "markdown",
   "metadata": {
    "deletable": true,
    "editable": true
   },
   "source": [
    "### Шаблонизация верстки"
   ]
  },
  {
   "cell_type": "markdown",
   "metadata": {
    "deletable": true,
    "editable": true
   },
   "source": [
    "* Django динамически генерирует верстку.\n",
    "* Для этого используется механизм шаблонов.\n",
    "* Django поддерживает выбор бэкэнда шаблонизации.\n",
    "* Шаблоны предоставляет API, через которое можно загружать и рендерить шаблоны независимо от конкретного бэкэнда.\n",
    "  * Загрузка - поиск шаблона и его предобработка.\n",
    "  * Рендеринг - преобразование шаблона и доп. данных текст (обычно html).\n",
    "* Можно использовать или встроенный механизм Django шаблонов или какой-нибудь внешний шаблонизатор (например, jinja2)."
   ]
  },
  {
   "cell_type": "markdown",
   "metadata": {
    "deletable": true,
    "editable": true
   },
   "source": [
    "### Язык шаблонов Django"
   ]
  },
  {
   "cell_type": "markdown",
   "metadata": {
    "deletable": true,
    "editable": true
   },
   "source": [
    "* Django-шаблон - строка или тестовый файл, содержащий элементы языка django-шаблонов и текст.\n",
    "* Текст может быть разных форматов: html, json, csv, javascript и т.д."
   ]
  },
  {
   "cell_type": "markdown",
   "metadata": {
    "deletable": true,
    "editable": true
   },
   "source": [
    "Основные элементы языка шаблонов Django:\n",
    "* переменные (и фильтры над ними)\n",
    "* теги"
   ]
  },
  {
   "cell_type": "markdown",
   "metadata": {
    "deletable": true,
    "editable": true
   },
   "source": [
    "Пример:"
   ]
  },
  {
   "cell_type": "code",
   "execution_count": null,
   "metadata": {
    "collapsed": true,
    "deletable": true,
    "editable": true
   },
   "outputs": [],
   "source": [
    "{% extends \"base_generic.html\" %}\n",
    "\n",
    "{% block title %}{{ section.title }}{% endblock %}\n",
    "\n",
    "{% block content %}\n",
    "<h1>{{ section.title }}</h1>\n",
    "\n",
    "{% for story in story_list %}\n",
    "<h2>\n",
    "  <a href=\"{{ story.get_absolute_url }}\">\n",
    "    {{ story.headline|upper }}\n",
    "  </a>\n",
    "</h2>\n",
    "<p>{{ story.tease|truncatewords:\"100\" }}</p>\n",
    "{% endfor %}\n",
    "{% endblock %}"
   ]
  },
  {
   "cell_type": "markdown",
   "metadata": {
    "deletable": true,
    "editable": true
   },
   "source": [
    "#### Переменные"
   ]
  },
  {
   "cell_type": "markdown",
   "metadata": {
    "deletable": true,
    "editable": true
   },
   "source": [
    "* Записываются как {{ variable }} и {{ section.title }}.\n",
    "* Переменная заменяется результатом её вычисления.\n",
    "* Вычисление переменной:\n",
    "  * Если простое имя, то берётся соответствующее значение из переданного контекста шаблона.\n",
    "  * Если составное имя с точками, то последовательно  происходит обращение разыменование частей пути значению.\n",
    "* Когда в имени переменной содержится точка, то шаблонизатор пытается:\n",
    "  * получить значение по ключу из словаря (могут быть неожиданности, если хотели метод, например у defaultdict)\n",
    "  * использовать объект как атрибут или метод (вызывается без аргументов и результат используется как значение).\n",
    "  * индекс списка"
   ]
  },
  {
   "cell_type": "markdown",
   "metadata": {
    "deletable": true,
    "editable": true
   },
   "source": [
    "#### Фильтры"
   ]
  },
  {
   "cell_type": "markdown",
   "metadata": {
    "deletable": true,
    "editable": true
   },
   "source": [
    "Фильтры позволяют динамически выполнять цепочечные преобразования над значением переменной."
   ]
  },
  {
   "cell_type": "markdown",
   "metadata": {
    "deletable": true,
    "editable": true
   },
   "source": [
    "Пример применения фильтра lower к переменной name: "
   ]
  },
  {
   "cell_type": "code",
   "execution_count": null,
   "metadata": {
    "collapsed": true,
    "deletable": true,
    "editable": true
   },
   "outputs": [],
   "source": [
    "{{ name|lower }}"
   ]
  },
  {
   "cell_type": "markdown",
   "metadata": {
    "deletable": true,
    "editable": true
   },
   "source": [
    "Цепочка фильтров:"
   ]
  },
  {
   "cell_type": "code",
   "execution_count": null,
   "metadata": {
    "collapsed": true,
    "deletable": true,
    "editable": true
   },
   "outputs": [],
   "source": [
    "{{ text|escape|linebreaks }}"
   ]
  },
  {
   "cell_type": "markdown",
   "metadata": {
    "deletable": true,
    "editable": true
   },
   "source": [
    "Передача аргумента фильтру:"
   ]
  },
  {
   "cell_type": "code",
   "execution_count": null,
   "metadata": {
    "collapsed": true,
    "deletable": true,
    "editable": true
   },
   "outputs": [],
   "source": [
    "{{ text|truncatewords:30 }}"
   ]
  },
  {
   "cell_type": "markdown",
   "metadata": {
    "deletable": true,
    "editable": true
   },
   "source": [
    "Ещё несколько примеров:"
   ]
  },
  {
   "cell_type": "code",
   "execution_count": null,
   "metadata": {
    "collapsed": true,
    "deletable": true,
    "editable": true
   },
   "outputs": [],
   "source": [
    "{{ value|default:\"nothing\" }}"
   ]
  },
  {
   "cell_type": "code",
   "execution_count": null,
   "metadata": {
    "collapsed": true,
    "deletable": true,
    "editable": true
   },
   "outputs": [],
   "source": [
    "{{ value|length }}"
   ]
  },
  {
   "cell_type": "code",
   "execution_count": null,
   "metadata": {
    "collapsed": true,
    "deletable": true,
    "editable": true
   },
   "outputs": [],
   "source": [
    "{{ value|filesizeformat }}"
   ]
  },
  {
   "cell_type": "markdown",
   "metadata": {
    "deletable": true,
    "editable": true
   },
   "source": [
    "Подробнее про встроенные фильтры:\n",
    "* http://djbook.ru/rel1.9/ref/templates/builtins.html#ref-templates-builtins-filters\n",
    "* https://docs.djangoproject.com/en/1.11/ref/templates/builtins/#ref-templates-builtins-filters"
   ]
  },
  {
   "cell_type": "markdown",
   "metadata": {
    "deletable": true,
    "editable": true
   },
   "source": [
    "#### Тэги"
   ]
  },
  {
   "cell_type": "markdown",
   "metadata": {
    "deletable": true,
    "editable": true
   },
   "source": [
    "Тэг - инструкция языка Django-шаблонов. Есть множество уже существующих, а также можно создавать свои."
   ]
  },
  {
   "cell_type": "markdown",
   "metadata": {
    "deletable": true,
    "editable": true
   },
   "source": [
    "Рассмотрим некоторые встроенные:"
   ]
  },
  {
   "cell_type": "markdown",
   "metadata": {
    "deletable": true,
    "editable": true
   },
   "source": [
    "*for*"
   ]
  },
  {
   "cell_type": "code",
   "execution_count": null,
   "metadata": {
    "collapsed": true,
    "deletable": true,
    "editable": true
   },
   "outputs": [],
   "source": [
    "<ul>\n",
    "{% for athlete in athlete_list %}\n",
    "    <li>{{ athlete.name }}</li>\n",
    "{% endfor %}\n",
    "</ul>"
   ]
  },
  {
   "cell_type": "markdown",
   "metadata": {
    "deletable": true,
    "editable": true
   },
   "source": [
    "*if, elif, и else*"
   ]
  },
  {
   "cell_type": "code",
   "execution_count": null,
   "metadata": {
    "collapsed": true,
    "deletable": true,
    "editable": true
   },
   "outputs": [],
   "source": [
    "{% if athlete_list %}\n",
    "    Number of athletes: {{ athlete_list|length }}\n",
    "{% elif athlete_in_locker_room_list %}\n",
    "    Athletes should be out of the locker room soon!\n",
    "{% else %}\n",
    "    No athletes.\n",
    "{% endif %}"
   ]
  },
  {
   "cell_type": "code",
   "execution_count": null,
   "metadata": {
    "collapsed": true,
    "deletable": true,
    "editable": true
   },
   "outputs": [],
   "source": [
    "{% if athlete_list|length > 1 %}\n",
    "   Team: {% for athlete in athlete_list %} ... {% endfor %}\n",
    "{% else %}\n",
    "   Athlete: {{ athlete_list.0.name }}\n",
    "{% endif %}"
   ]
  },
  {
   "cell_type": "markdown",
   "metadata": {
    "deletable": true,
    "editable": true
   },
   "source": [
    "Комментарии:"
   ]
  },
  {
   "cell_type": "code",
   "execution_count": null,
   "metadata": {
    "collapsed": true,
    "deletable": true,
    "editable": true
   },
   "outputs": [],
   "source": [
    "{# greeting #}hello"
   ]
  },
  {
   "cell_type": "code",
   "execution_count": null,
   "metadata": {
    "collapsed": true,
    "deletable": true,
    "editable": true
   },
   "outputs": [],
   "source": [
    "{# {% if foo %}bar{% else %} #}"
   ]
  },
  {
   "cell_type": "code",
   "execution_count": null,
   "metadata": {
    "collapsed": true,
    "deletable": true,
    "editable": true
   },
   "outputs": [],
   "source": [
    "<p>Rendered text with {{ pub_date|date:\"c\" }}</p>\n",
    "{% comment \"Optional note\" %}\n",
    "    <p>Commented out text with {{ create_date|date:\"c\" }}</p>\n",
    "{% endcomment %}"
   ]
  },
  {
   "cell_type": "markdown",
   "metadata": {
    "deletable": true,
    "editable": true
   },
   "source": [
    "Подробнее про встроенные теги:\n",
    "* http://djbook.ru/rel1.9/ref/templates/builtins.html#ref-templates-builtins-tags\n",
    "* https://docs.djangoproject.com/en/1.11/ref/templates/builtins/#ref-templates-builtins-tags"
   ]
  },
  {
   "cell_type": "markdown",
   "metadata": {
    "deletable": true,
    "editable": true
   },
   "source": [
    "#### Наследование шаблонов"
   ]
  },
  {
   "cell_type": "markdown",
   "metadata": {
    "deletable": true,
    "editable": true
   },
   "source": [
    "* Механизм наследования шаблонов позволяет переиспользовать общие части шаблонов.\n",
    "* Создаём базовый шаблон (шаблоны).\n",
    "* Помечаем в этих шаблонах специальным образом блоки.\n",
    "* В шаблонах-потомках можем переопределять только эти блоки (или их часть), а остальное рендерится так, как у предка."
   ]
  },
  {
   "cell_type": "markdown",
   "metadata": {
    "deletable": true,
    "editable": true
   },
   "source": [
    "Базовый шаблон (base.html):"
   ]
  },
  {
   "cell_type": "code",
   "execution_count": null,
   "metadata": {
    "collapsed": true,
    "deletable": true,
    "editable": true
   },
   "outputs": [],
   "source": [
    "<!DOCTYPE html>\n",
    "<html lang=\"en\">\n",
    "<head>\n",
    "    <link rel=\"stylesheet\" href=\"style.css\" />\n",
    "    <title>{% block title %}My amazing site{% endblock %}</title>\n",
    "</head>\n",
    "\n",
    "<body>\n",
    "    <div id=\"sidebar\">\n",
    "        {% block sidebar %}\n",
    "        <ul>\n",
    "            <li><a href=\"/\">Home</a></li>\n",
    "            <li><a href=\"/blog/\">Blog</a></li>\n",
    "        </ul>\n",
    "        {% endblock %}\n",
    "    </div>\n",
    "\n",
    "    <div id=\"content\">\n",
    "        {% block content %}{% endblock %}\n",
    "    </div>\n",
    "</body>\n",
    "</html>"
   ]
  },
  {
   "cell_type": "markdown",
   "metadata": {
    "deletable": true,
    "editable": true
   },
   "source": [
    "Дочерний шаблон:"
   ]
  },
  {
   "cell_type": "code",
   "execution_count": null,
   "metadata": {
    "collapsed": true,
    "deletable": true,
    "editable": true
   },
   "outputs": [],
   "source": [
    "{% extends \"base.html\" %}\n",
    "\n",
    "{% block title %}My amazing blog{% endblock %}\n",
    "\n",
    "{% block content %}\n",
    "{% for entry in blog_entries %}\n",
    "    <h2>{{ entry.title }}</h2>\n",
    "    <p>{{ entry.body }}</p>\n",
    "{% endfor %}\n",
    "{% endblock %}"
   ]
  },
  {
   "cell_type": "markdown",
   "metadata": {
    "deletable": true,
    "editable": true
   },
   "source": [
    "Пример результата:"
   ]
  },
  {
   "cell_type": "code",
   "execution_count": null,
   "metadata": {
    "collapsed": true,
    "deletable": true,
    "editable": true
   },
   "outputs": [],
   "source": [
    "<!DOCTYPE html>\n",
    "<html lang=\"en\">\n",
    "<head>\n",
    "    <link rel=\"stylesheet\" href=\"style.css\" />\n",
    "    <title>My amazing blog</title>\n",
    "</head>\n",
    "\n",
    "<body>\n",
    "    <div id=\"sidebar\">\n",
    "        <ul>\n",
    "            <li><a href=\"/\">Home</a></li>\n",
    "            <li><a href=\"/blog/\">Blog</a></li>\n",
    "        </ul>\n",
    "    </div>\n",
    "\n",
    "    <div id=\"content\">\n",
    "        <h2>Entry one</h2>\n",
    "        <p>This is my first entry.</p>\n",
    "\n",
    "        <h2>Entry two</h2>\n",
    "        <p>This is my second entry.</p>\n",
    "    </div>\n",
    "</body>\n",
    "</html>"
   ]
  },
  {
   "cell_type": "markdown",
   "metadata": {
    "deletable": true,
    "editable": true
   },
   "source": [
    "Подробно про язык django-шаблонов:\n",
    "* http://djbook.ru/rel1.9/ref/templates/language.html\n",
    "* https://docs.djangoproject.com/en/1.11/ref/templates/language/"
   ]
  },
  {
   "cell_type": "markdown",
   "metadata": {
    "deletable": true,
    "editable": true
   },
   "source": [
    "### Обсуждение и самостоятельное изучение"
   ]
  },
  {
   "cell_type": "markdown",
   "metadata": {
    "deletable": true,
    "editable": true
   },
   "source": [
    "* Формы в Django\n",
    "  * http://djbook.ru/rel1.9/#forms\n",
    "  * https://docs.djangoproject.com/en/1.11/#forms\n",
    "* Интерфейс администратора\n",
    "  * http://djbook.ru/rel1.9/#the-admin\n",
    "  * https://docs.djangoproject.com/en/1.11/#the-admin\n",
    "* Процесс разработки\n",
    "  * http://djbook.ru/rel1.9/#the-development-process\n",
    "  * https://docs.djangoproject.com/en/1.11/#the-development-process\n",
    "* Безопасность\n",
    "  * http://djbook.ru/rel1.9/#security\n",
    "  * https://docs.djangoproject.com/en/1.11/#security\n",
    "* Интернационализация и локализация\n",
    "  * http://djbook.ru/rel1.9/#internationalization-and-localization\n",
    "  * https://docs.djangoproject.com/en/1.11/#internationalization-and-localization"
   ]
  }
 ],
 "metadata": {
  "kernelspec": {
   "display_name": "Python 3",
   "language": "python",
   "name": "python3"
  },
  "language_info": {
   "codemirror_mode": {
    "name": "ipython",
    "version": 3
   },
   "file_extension": ".py",
   "mimetype": "text/x-python",
   "name": "python",
   "nbconvert_exporter": "python",
   "pygments_lexer": "ipython3",
   "version": "3.5.2"
  }
 },
 "nbformat": 4,
 "nbformat_minor": 0
}
