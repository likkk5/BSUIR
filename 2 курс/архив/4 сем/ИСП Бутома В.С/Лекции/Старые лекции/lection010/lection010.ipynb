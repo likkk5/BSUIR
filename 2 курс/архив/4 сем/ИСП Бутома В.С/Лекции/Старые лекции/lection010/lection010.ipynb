{
 "cells": [
  {
   "cell_type": "markdown",
   "metadata": {
    "collapsed": true,
    "deletable": true,
    "editable": true
   },
   "source": [
    "# Лекция 10: введение в параллельные вычисления"
   ]
  },
  {
   "cell_type": "markdown",
   "metadata": {
    "deletable": true,
    "editable": true
   },
   "source": [
    "Сначала рассмотрим параллельные вычисления в общем, какие бывают и как реализуются, а в дальнейшем перейдём к использованию их на Python."
   ]
  },
  {
   "cell_type": "markdown",
   "metadata": {
    "deletable": true,
    "editable": true
   },
   "source": [
    "## Concurrency и параллелизм"
   ]
  },
  {
   "cell_type": "markdown",
   "metadata": {
    "deletable": true,
    "editable": true
   },
   "source": [
    "* Про важность темы в дальнейшем.\n",
    "* Введение про переход от последовательных к параллельным программам, сложности."
   ]
  },
  {
   "cell_type": "markdown",
   "metadata": {
    "deletable": true,
    "editable": true
   },
   "source": [
    "Основные логические элементы:\n",
    "\n",
    "* Processing Unit (PU, processor, процессор, обработчик)\n",
    "* Data (данные, память)\n",
    "* Instruction (инструкции, команды, процессы)"
   ]
  },
  {
   "cell_type": "markdown",
   "metadata": {
    "deletable": true,
    "editable": true
   },
   "source": [
    "Пара определений (важно разделять понятия):\n",
    "* Concurrency - про совместное, но не обязательно параллельное выполнение задач (логическое разделение процессов в системах, в т.ч. для совместного выполнения).\n",
    "* Параллелизм - про одновременное параллельное выполнение задач (физическое разделение).\n",
    "* В зависимости от контекста, в обсуждении параллелизм может подразумевать в т.ч. concurrency."
   ]
  },
  {
   "cell_type": "markdown",
   "metadata": {
    "deletable": true,
    "editable": true
   },
   "source": [
    "### Цель применения\n",
    "* решение задачи за меньшее время\n",
    "* решене бОльших задач, чем при последовательном выполнении"
   ]
  },
  {
   "cell_type": "markdown",
   "metadata": {
    "deletable": true,
    "editable": true
   },
   "source": [
    "### Создание параллельного алгоритма\n",
    "* Поиск параллелизма в последовательном, модификация или создание нового алгоритма\n",
    "* Декомпозиция задачи на подзадачи, которые могут выполняться параллельно\n",
    "* Анализ зависимостей между задачами"
   ]
  },
  {
   "cell_type": "markdown",
   "metadata": {
    "deletable": true,
    "editable": true
   },
   "source": [
    "### Реализация параллельной программы\n",
    "* Распределение задач между процессорами\n",
    "* Организация взаимодействия подзадач\n",
    "* Учет архитектуры целевой параллельной системы\n",
    "* Запуск, измерение и анализ показателей эффективности"
   ]
  },
  {
   "cell_type": "markdown",
   "metadata": {
    "deletable": true,
    "editable": true
   },
   "source": [
    "### Характерно для параллелизма в операционных системах, серверах и GUI"
   ]
  },
  {
   "cell_type": "markdown",
   "metadata": {
    "deletable": true,
    "editable": true
   },
   "source": [
    "* Данность: много разных процессов, асинхронность\n",
    "* Безопасное разделение и оптимальное использование ресурсов между многими процессорами\n",
    "* Акцент на пропускной способности и времени отклика"
   ]
  },
  {
   "cell_type": "markdown",
   "metadata": {
    "deletable": true,
    "editable": true
   },
   "source": [
    "### Характерно для параллелизма в параллельных вычислениях"
   ]
  },
  {
   "cell_type": "markdown",
   "metadata": {
    "deletable": true,
    "editable": true
   },
   "source": [
    "* Процессы надо найти внутри алгоритма\n",
    "* Изоляция процессов друг от друга не так важна\n",
    "* Минимизация времени выполнения одной программы"
   ]
  },
  {
   "cell_type": "markdown",
   "metadata": {
    "deletable": true,
    "editable": true
   },
   "source": [
    "### Режимы выполнения параллельной программы"
   ]
  },
  {
   "cell_type": "markdown",
   "metadata": {
    "deletable": true,
    "editable": true
   },
   "source": [
    "#### Многозадачный режим\n",
    "  * Режим разделения времени\n",
    "  * Активен только один процесс\n",
    "  * Примеры: многозадачность в однопроцессорной среде, корутины."
   ]
  },
  {
   "cell_type": "markdown",
   "metadata": {
    "deletable": true,
    "editable": true
   },
   "source": [
    "#### Параллельное выполнение\n",
    "  * Многопроцессорная система\n",
    "  * Конвейерные и векторные устройства\n",
    "  * Пример технологий: обычная параллельность (OpenMP), гетерогенное выполнение (OpenCL, CUDA), ручные реализации."
   ]
  },
  {
   "cell_type": "markdown",
   "metadata": {
    "deletable": true,
    "editable": true
   },
   "source": [
    "#### Распределенные вычисления\n",
    "  * Несколько независимых машин\n",
    "  * Влияние сети на скорость обмена данными, отказы и т.п.\n",
    "  * Примеры технологий: OpenMPI, MapReduce, ручные реализации."
   ]
  },
  {
   "cell_type": "markdown",
   "metadata": {},
   "source": [
    "### Примеры параллельных программ и систем"
   ]
  },
  {
   "cell_type": "markdown",
   "metadata": {},
   "source": [
    "- Загрузку данных по сети\n",
    "- Математические операции на матрицах и векторах\n",
    "- Обработка и вывод данных пользователю в локальной программе\n",
    "- Обработка данных в формате, который можно параллельно обрабатывать\n",
    "- Веб-сервер\n",
    "- Интернет"
   ]
  },
  {
   "cell_type": "markdown",
   "metadata": {
    "deletable": true,
    "editable": true
   },
   "source": [
    "## Параллельные вычислительные системы"
   ]
  },
  {
   "cell_type": "markdown",
   "metadata": {
    "deletable": true,
    "editable": true
   },
   "source": [
    "### Классификация Флинна"
   ]
  },
  {
   "cell_type": "markdown",
   "metadata": {
    "deletable": true,
    "editable": true
   },
   "source": [
    "#### Общая таблица"
   ]
  },
  {
   "cell_type": "markdown",
   "metadata": {
    "deletable": true,
    "editable": true
   },
   "source": [
    "![Общая таблица таксономии Флинна](flynn_taxonomy_01.png)"
   ]
  },
  {
   "cell_type": "markdown",
   "metadata": {
    "deletable": true,
    "editable": true
   },
   "source": [
    "#### Детали по каждому из классов"
   ]
  },
  {
   "cell_type": "markdown",
   "metadata": {
    "deletable": true,
    "editable": true
   },
   "source": [
    "![Детальная таблица таксономии Флинна](flynn_taxonomy_02.png)"
   ]
  },
  {
   "cell_type": "markdown",
   "metadata": {
    "deletable": true,
    "editable": true
   },
   "source": [
    "### Детализация  класса MIMD"
   ]
  },
  {
   "cell_type": "markdown",
   "metadata": {
    "deletable": true,
    "editable": true
   },
   "source": [
    "* Системы с общей разделяемой памятью (мультипроцессоры)\n",
    "* Системы с распределённой памятью (мультикомпьютеры)\n",
    "* Гибридные системы"
   ]
  },
  {
   "cell_type": "markdown",
   "metadata": {
    "deletable": true,
    "editable": true
   },
   "source": [
    "#### Общая разделяемая память"
   ]
  },
  {
   "cell_type": "markdown",
   "metadata": {
    "deletable": true,
    "editable": true
   },
   "source": [
    "##### Симметричные мультипроцессоры"
   ]
  },
  {
   "cell_type": "markdown",
   "metadata": {
    "deletable": true,
    "editable": true
   },
   "source": [
    "![Symmetric multiprocessors](shared_memory_systems_01.png)"
   ]
  },
  {
   "cell_type": "markdown",
   "metadata": {
    "deletable": true,
    "editable": true
   },
   "source": [
    "##### Неоднородный доступ к памяти"
   ]
  },
  {
   "cell_type": "markdown",
   "metadata": {
    "deletable": true,
    "editable": true
   },
   "source": [
    "![NUMA system](shared_memory_systems_02.png)"
   ]
  },
  {
   "cell_type": "markdown",
   "metadata": {
    "deletable": true,
    "editable": true
   },
   "source": [
    "##### Преимущества и недостатки систем с общей памятью"
   ]
  },
  {
   "cell_type": "markdown",
   "metadata": {
    "deletable": true,
    "editable": true
   },
   "source": [
    "Преимущества:\n",
    "* Привычная модель программирования\n",
    "* Высокая скорость обмена данными"
   ]
  },
  {
   "cell_type": "markdown",
   "metadata": {
    "deletable": true,
    "editable": true
   },
   "source": [
    "Проблемы:\n",
    "* Синхронизация при доступе к общим данным\n",
    "* Когерентность кэшей, ложное разделение данных\n",
    "* Масштабируемость\n",
    "* Эффективное использование памяти в NUMA"
   ]
  },
  {
   "cell_type": "markdown",
   "metadata": {
    "deletable": true,
    "editable": true
   },
   "source": [
    "#### Распределённая память"
   ]
  },
  {
   "cell_type": "markdown",
   "metadata": {
    "deletable": true,
    "editable": true
   },
   "source": [
    "* Процессоры (Cell (у каждого из ядер этого процессора есть локальная память и с ней работает))\n",
    "* Массивно-параллельные системы (MPP, много ядер и памяти в одной системе)\n",
    "* Кластеры (много самостоятельных узлов рядом)\n",
    "* Network of workstations (NOW, много самостоятельных рабочих станций рядом)\n",
    "* Grid (много распределённых на большой площади самостоятельных вычислительных узлов)"
   ]
  },
  {
   "cell_type": "markdown",
   "metadata": {
    "deletable": true,
    "editable": true
   },
   "source": [
    "##### Преимущества и недостатки систем с распределённой памятью "
   ]
  },
  {
   "cell_type": "markdown",
   "metadata": {
    "deletable": true,
    "editable": true
   },
   "source": [
    "Преимущества:\n",
    "* Низкая стоимость\n",
    "* Высокая масштабируемость\n",
    "* Меньше проблем с синхронизацией\n",
    "* Декомпозиция на крупные подзадачи"
   ]
  },
  {
   "cell_type": "markdown",
   "metadata": {
    "deletable": true,
    "editable": true
   },
   "source": [
    "Проблемы:\n",
    "* Необходимость использования сообщений\n",
    "* Высокие временные задержки и низкая пропускная способность\n",
    "* Неоднородность, отказы узлов"
   ]
  },
  {
   "cell_type": "markdown",
   "metadata": {
    "deletable": true,
    "editable": true
   },
   "source": [
    "## Принципы разработки параллельных алгоритмов"
   ]
  },
  {
   "cell_type": "markdown",
   "metadata": {
    "deletable": true,
    "editable": true
   },
   "source": [
    "### Прежде чем начать"
   ]
  },
  {
   "cell_type": "markdown",
   "metadata": {
    "deletable": true,
    "editable": true
   },
   "source": [
    "* Стоит ли задача усилий?\n",
    "* Оптимизирован ли код?\n",
    "* Используется ли эффективный алгоритм?\n",
    "* Какие задачи наиболее интенсивны в вычислительном соотношении?\n",
    "* Есть ли там параллелизм?\n",
    "* Есть ли готовые параллельные реализации?"
   ]
  },
  {
   "cell_type": "markdown",
   "metadata": {
    "deletable": true,
    "editable": true
   },
   "source": [
    "### Методология PCAM"
   ]
  },
  {
   "cell_type": "markdown",
   "metadata": {
    "deletable": true,
    "editable": true
   },
   "source": [
    "* Partition - декомпозиция на подзадачи\n",
    "* Communicate - анализ зависимостей и организация взаимодействия между подзадачами\n",
    "* Выбор вычислительной системы\n",
    "* Agglomerate - масштабирование подзадач\n",
    "* Map - Распределение подзадач между процессорами"
   ]
  },
  {
   "cell_type": "markdown",
   "metadata": {
    "deletable": true,
    "editable": true
   },
   "source": [
    "![PCAM methodology](pcam_methodology.png)"
   ]
  },
  {
   "cell_type": "markdown",
   "metadata": {
    "deletable": true,
    "editable": true
   },
   "source": [
    "#### Первый этап PCAM: декомпозиция на подзадачи"
   ]
  },
  {
   "cell_type": "markdown",
   "metadata": {
    "deletable": true,
    "editable": true
   },
   "source": [
    "* Выявление возможностей для параллельного выполнения\n",
    "* Размер подзадач выбирается минимальным (максимально возможное число подзадач, далее могут быть укрупнены)\n",
    "* Виды декомпозиции:\n",
    "  * По данным (domain decomposition)\n",
    "  * Функциональная (functional decomposition)\n",
    "* Избегание дублирования вычислений и данных"
   ]
  },
  {
   "cell_type": "markdown",
   "metadata": {
    "deletable": true,
    "editable": true
   },
   "source": [
    "##### Выбор структуры алгоритма:"
   ]
  },
  {
   "cell_type": "markdown",
   "metadata": {
    "deletable": true,
    "editable": true
   },
   "source": [
    "* Существуют типовые структуры параллельных алгоритмов\n",
    "  * см. книгу Patterns for Parallel Programming в рекомендованных\n",
    "* Декомпозиция:\n",
    "  * По заданиям\n",
    "  * По данным\n",
    "  * По потокам данных\n",
    "* Комбинация нескольких структур\n",
    "  * Последовательность, иерархия, композиция\n"
   ]
  },
  {
   "cell_type": "markdown",
   "metadata": {
    "deletable": true,
    "editable": true
   },
   "source": [
    "##### Декомпозиция на задания"
   ]
  },
  {
   "cell_type": "markdown",
   "metadata": {
    "deletable": true,
    "editable": true
   },
   "source": [
    "![Task parallelism](task_decomposition_01.png)"
   ]
  },
  {
   "cell_type": "markdown",
   "metadata": {
    "deletable": true,
    "editable": true
   },
   "source": [
    "###### Task parallelism"
   ]
  },
  {
   "cell_type": "markdown",
   "metadata": {
    "deletable": true,
    "editable": true
   },
   "source": [
    "Задачи и примеры:\n",
    "* Монте-Карло, рендеринг\n",
    "  * Большое количество заданий, нет зависимостей\n",
    "(embarassingly parallel)"
   ]
  },
  {
   "cell_type": "markdown",
   "metadata": {
    "deletable": true,
    "editable": true
   },
   "source": [
    "* Молекулярная динамика\n",
    "  * Вычисление сил, действующих на атом ~ O(n*N), n << N\n",
    "  * Требуется координация ~ O(N)"
   ]
  },
  {
   "cell_type": "markdown",
   "metadata": {
    "deletable": true,
    "editable": true
   },
   "source": [
    "* Метод «ветвей и границ» (branch and bound)\n",
    "  * Обход и разбиение множества решений в соответствии с правилами отсева и ветвления\n",
    "  * Динамическое порождение заданий\n",
    "  * Не требуется выполнение всех заданий"
   ]
  },
  {
   "cell_type": "markdown",
   "metadata": {
    "deletable": true,
    "editable": true
   },
   "source": [
    "![Divide and Conqueror](task_decomposition_02.png)"
   ]
  },
  {
   "cell_type": "markdown",
   "metadata": {
    "deletable": true,
    "editable": true
   },
   "source": [
    "###### Divide and Conquer"
   ]
  },
  {
   "cell_type": "markdown",
   "metadata": {
    "deletable": true,
    "editable": true
   },
   "source": [
    "![Divide and conqueror recursive scheme](divide_and_conqueror_01.png)"
   ]
  },
  {
   "cell_type": "markdown",
   "metadata": {
    "deletable": true,
    "editable": true
   },
   "source": [
    "Особенности:\n",
    "* Степень параллелизма изменяется в ходе выполнения алгоритма\n",
    "* Операции split и merge могут стать узким местом (см. закон Амдала)\n",
    "* Задания порождаются динамически\n",
    "* Очень большое количество заданий может привести к значительным накладным расходам"
   ]
  },
  {
   "cell_type": "markdown",
   "metadata": {
    "deletable": true,
    "editable": true
   },
   "source": [
    "##### Декомпозиция данных"
   ]
  },
  {
   "cell_type": "markdown",
   "metadata": {
    "deletable": true,
    "editable": true
   },
   "source": [
    "![Geometric data decomposition](data_decomposition_01.png)"
   ]
  },
  {
   "cell_type": "markdown",
   "metadata": {
    "deletable": true,
    "editable": true
   },
   "source": [
    "###### Геометрическая декомпозиция"
   ]
  },
  {
   "cell_type": "markdown",
   "metadata": {
    "deletable": true,
    "editable": true
   },
   "source": [
    "![Geometric data decomposition cube sample](data_decomposition_01_01.png)"
   ]
  },
  {
   "cell_type": "markdown",
   "metadata": {
    "deletable": true,
    "editable": true
   },
   "source": [
    "* Алгоритм организован вокруг структуры данных, разбитой на набор одновременно обновляемых областей\n",
    "* Подзадачами являются обновления отдельных областей структуры данных\n",
    "* Вычисления локализованы внутри области?\n",
    "  * Да: независимый параллелизм, см. Task Parallelism\n",
    "  * Нет: требуется разделение данных между областями"
   ]
  },
  {
   "cell_type": "markdown",
   "metadata": {
    "deletable": true,
    "editable": true
   },
   "source": [
    "Ключевые моменты:\n",
    "* Декомпозиция структуры данных на области\n",
    "  * Размер подзадач обычно подбирается эмпирически\n",
    "  * Форма области влияет на накладные расходы (Соотношение объема к площади поверхности)\n",
    "  * Дублирование соседних точек\n",
    "* Реализация обмена данными\n",
    "  * Перед операцией обновления\n",
    "  * Параллельно с операцией обновления"
   ]
  },
  {
   "cell_type": "markdown",
   "metadata": {
    "deletable": true,
    "editable": true
   },
   "source": [
    "![Recursive data decomposition](data_decomposition_02.png)"
   ]
  },
  {
   "cell_type": "markdown",
   "metadata": {
    "deletable": true,
    "editable": true
   },
   "source": [
    "###### Рекурсивные данные"
   ]
  },
  {
   "cell_type": "markdown",
   "metadata": {
    "deletable": true,
    "editable": true
   },
   "source": [
    "* Алгоритм работает с рекурсивной структурой данных (список, дерево, граф)\n",
    "  * Часто кажется, что единственный способ решения – последовательный обход структуры\n",
    "  * Однако иногда возможно перестроить алгоритм так, что операции над отдельными элементами можно выполнять одновременно"
   ]
  },
  {
   "cell_type": "markdown",
   "metadata": {
    "deletable": true,
    "editable": true
   },
   "source": [
    "##### Поток данных"
   ]
  },
  {
   "cell_type": "markdown",
   "metadata": {
    "deletable": true,
    "editable": true
   },
   "source": [
    "![Conveyor data decomposition](data_flow_decomposition_01_01.png)"
   ]
  },
  {
   "cell_type": "markdown",
   "metadata": {
    "deletable": true,
    "editable": true
   },
   "source": [
    "###### Конвейерная обработка"
   ]
  },
  {
   "cell_type": "markdown",
   "metadata": {
    "deletable": true,
    "editable": true
   },
   "source": [
    "* Вычисления производятся над набором элементов данных, каждый из которых проходит несколько стадий обработки\n",
    "* Регулярный, односторонний, стабильный поток данных\n",
    "* Подзадачи\n",
    "  * Применение операции \"стадия N\" к каждому элементу данных\n",
    "* Примеры\n",
    "  * Конвейерная обработка команд процессором\n",
    "  * Обработка сигналов, фильтры, графика\n",
    "  * Unix pipes"
   ]
  },
  {
   "cell_type": "markdown",
   "metadata": {
    "deletable": true,
    "editable": true
   },
   "source": [
    "![Conveyor data decomposition visualization](data_flow_decomposition_01_02.png)"
   ]
  },
  {
   "cell_type": "markdown",
   "metadata": {
    "deletable": true,
    "editable": true
   },
   "source": [
    "Особенности:\n",
    "* Параллелизм ограничен числом стадий\n",
    "* В идеале времена работы каждой стадии должны быть одинаковыми\n",
    "  * Самая медленная стадия становится узким местом\n",
    "  * Комбинирование и декомпозиция стадий\n",
    "  * Распараллеливание медленной стадии\n",
    "* Времена заполнения и опустошения конвейера"
   ]
  },
  {
   "cell_type": "markdown",
   "metadata": {
    "deletable": true,
    "editable": true
   },
   "source": [
    "![Event based data decomposition](data_flow_decomposition_02.png)"
   ]
  },
  {
   "cell_type": "markdown",
   "metadata": {
    "deletable": true,
    "editable": true
   },
   "source": [
    "###### Координация на основе событий"
   ]
  },
  {
   "cell_type": "markdown",
   "metadata": {
    "deletable": true,
    "editable": true
   },
   "source": [
    "* Декомпозиция на слабосвязанные компоненты, взаимодействующие нерегулярным образом\n",
    "* Ср. с конвейером\n",
    "  * Не обязательно линейная структура\n",
    "  * Двусторонние потоки данных\n",
    "  * Нерегулярные, непредсказуемые взаимодействия\n",
    "* Задания\n",
    "  * Прием, обработка и отправка событий для отдельного компонента\n",
    "* Примеры\n",
    "  * Моделирование с дискретными событиями\n",
    "  * Координация между заданиями в других шаблонах\n",
    "  * Распределенные системы"
   ]
  },
  {
   "cell_type": "markdown",
   "metadata": {
    "deletable": true,
    "editable": true
   },
   "source": [
    "Особенности:\n",
    "* Сохранение порядка событий\n",
    "* Высокий риск возникновения взаимной блокировки\n",
    "* Нерегулярность усложняет распределение заданий по исполнителям"
   ]
  },
  {
   "cell_type": "markdown",
   "metadata": {
    "deletable": true,
    "editable": true
   },
   "source": [
    "##### Контрольные вопросы перед завершением этапа декомпозиции на подзадачи"
   ]
  },
  {
   "cell_type": "markdown",
   "metadata": {
    "deletable": true,
    "editable": true
   },
   "source": [
    "* Превосходит ли количество подзадач число процессоров в целевой системе как минимум на порядок?\n",
    "* Не приводит ли декомпозиция к дублированию вычислений и увеличению требований к хранению данных?\n",
    "* Имеют ли подзадачи сопоставимый размер?\n",
    "* Увеличивается ли количество подзадач с ростом размера задачи?\n",
    "* Определено ли несколько альтернативных схем декомпозиции?"
   ]
  },
  {
   "cell_type": "markdown",
   "metadata": {
    "deletable": true,
    "editable": true
   },
   "source": [
    "#### Второй этап PCAM: анализ зависимостей и организация взаимодействия между подзадачами"
   ]
  },
  {
   "cell_type": "markdown",
   "metadata": {
    "deletable": true,
    "editable": true
   },
   "source": [
    "##### Взаимодействие между подзадачами"
   ]
  },
  {
   "cell_type": "markdown",
   "metadata": {
    "deletable": true,
    "editable": true
   },
   "source": [
    "* Выделение информационных зависимостей между подзадачами => операции взаимодействия\n",
    "* Граф «подзадачи-каналы-сообщения»\n",
    "* Минимизация числа каналов и операций взаимодействия\n",
    "* Распределение операций взаимодействий между процессами, с возможностью их параллельного выполнения"
   ]
  },
  {
   "cell_type": "markdown",
   "metadata": {
    "deletable": true,
    "editable": true
   },
   "source": [
    "##### Виды взаимодействий\n",
    "* Локальные и глобальные\n",
    "* Структурированные и неструктурированные\n",
    "* Статические и динамические\n",
    "* Синхронные и асинхронные"
   ]
  },
  {
   "cell_type": "markdown",
   "metadata": {
    "deletable": true,
    "editable": true
   },
   "source": [
    "##### Примеры"
   ]
  },
  {
   "cell_type": "markdown",
   "metadata": {
    "deletable": true,
    "editable": true
   },
   "source": [
    "![Subtask dependencies samples](subtask_dependencies_01.png)"
   ]
  },
  {
   "cell_type": "markdown",
   "metadata": {
    "deletable": true,
    "editable": true
   },
   "source": [
    "##### Контрольные вопросы перед завершением этапа организации взаимодействия между подзадачами"
   ]
  },
  {
   "cell_type": "markdown",
   "metadata": {
    "deletable": true,
    "editable": true
   },
   "source": [
    "* Является ли одинаковой интенсивность взаимодействий для всех подзадач?\n",
    "* Взаимодействует ли каждая подзадача только с небольшим числом «соседей» (локальность)?\n",
    "* Могут ли операции взаимодействия выполняться одновременно?\n",
    "* Не препятствует ли выбранная схема взаимодействия параллельному выполнению подзадач?"
   ]
  },
  {
   "cell_type": "markdown",
   "metadata": {
    "deletable": true,
    "editable": true
   },
   "source": [
    "#### Промежуточный этап: выбор вычислительной системы"
   ]
  },
  {
   "cell_type": "markdown",
   "metadata": {
    "deletable": true,
    "editable": true
   },
   "source": [
    "* Соблюдение баланса между\n",
    "  * Абстрактностью и переносимостью алгоритма\n",
    "  * Эффективностью для целевой платформы\n",
    "* На ранних стадиях разработки параллельного алгоритма лучше избегать тесной привязки к конкретной платформе\n",
    "  * Алгоритм хорошо работает на целевой платформе\n",
    "  * Алгоритм достаточно гибок для того, чтобы его можно было адаптировать под другие платформы и архитектуры\n",
    "* Количество процессоров P\n",
    "  * Можно подобрать P одинаковых подзадач\n",
    "  * Можно подобрать N>>P подзадач\n",
    "* Обмен данными между процессорами\n",
    "  * Большой объем общих данных или интенсивные обмены данными => общая память, SMP\n",
    "  * Группировка подзадач по процессорам\n",
    "* Соотношение между временами вычислений и обмена данными (синхронизации)\n",
    "  * Зависит от размера подзадачи и характеристик платформы"
   ]
  },
  {
   "cell_type": "markdown",
   "metadata": {
    "deletable": true,
    "editable": true
   },
   "source": [
    "#### Третий этап PCAM: масштабирование подзадач\n",
    "* Адаптация алгоритма для эффективного выполнения на целевой системе\n",
    "  * Учет доступного количества процессоров\n",
    "  * Уменьшение накладных расходов на взаимодействие, создание подзадач...\n",
    "* Укрупнение (агломерация) подзадач\n",
    "  * Какое количество подзадач выбрать?\n",
    "* Репликация данных и вычислений"
   ]
  },
  {
   "cell_type": "markdown",
   "metadata": {
    "deletable": true,
    "editable": true
   },
   "source": [
    "##### Объединение подзадач"
   ]
  },
  {
   "cell_type": "markdown",
   "metadata": {
    "deletable": true,
    "editable": true
   },
   "source": [
    "![Subtask agglomeration](subtask_agglomerate_01.png)"
   ]
  },
  {
   "cell_type": "markdown",
   "metadata": {
    "deletable": true,
    "editable": true
   },
   "source": [
    "##### Репликация вычислений"
   ]
  },
  {
   "cell_type": "markdown",
   "metadata": {
    "deletable": true,
    "editable": true
   },
   "source": [
    "![Calculation replication](calculation_replication_01.png)"
   ]
  },
  {
   "cell_type": "markdown",
   "metadata": {
    "deletable": true,
    "editable": true
   },
   "source": [
    "Гибкость:\n",
    "* Отсутствие ограничений на количество подзадач\n",
    "* Возможность легко увеличивать и уменьшать количество подзадач\n",
    "* Возможность автоматически изменять число подзадач в зависимости от количества процессоров"
   ]
  },
  {
   "cell_type": "markdown",
   "metadata": {
    "deletable": true,
    "editable": true
   },
   "source": [
    "##### Контрольные вопросы перед завершением этапа масштабирования подзадач"
   ]
  },
  {
   "cell_type": "markdown",
   "metadata": {
    "deletable": true,
    "editable": true
   },
   "source": [
    "* Уменьшились ли расходы на взаимодействия в результате увеличения локальности вычислений?\n",
    "* Перевешивают ли преимущества от дублирования вычислений дополнительные расходы? (для задач разного размера и разного кол-ва процессоров)\n",
    "* Не ограничивает ли дублирование данных масштабируемость алгоритма?\n",
    "* Имеют ли полученные подзадачи одинаковую вычислительную и коммуникационную сложность?\n",
    "* Масштабируется ли по-прежнему количество подзадач с ростом размера задачи?\n",
    "* Достаточно ли имеющегося в алгоритме параллелизма для текущей и будущих систем?\n",
    "* Может ли количество подзадач быть далее уменьшено без нежелательных последствий?"
   ]
  },
  {
   "cell_type": "markdown",
   "metadata": {
    "deletable": true,
    "editable": true
   },
   "source": [
    "#### Признаки хорошего алгоритма"
   ]
  },
  {
   "cell_type": "markdown",
   "metadata": {
    "deletable": true,
    "editable": true
   },
   "source": [
    "* Возможность варьировать число и размер подзадач => параметризация подзадач\n",
    "* Подзадачи должны быть достаточно крупными, чтобы компенсировать накладные расходы\n",
    "* Подзадачи должны быть достаточно независимыми, чтобы координация не стала узким местом\n",
    "* Время обработки подзадач должно быть примерно одинаковым для лучшей балансировки нагрузки"
   ]
  },
  {
   "cell_type": "markdown",
   "metadata": {
    "deletable": true,
    "editable": true
   },
   "source": [
    "#### Четвёртый этап PCAM: распределение подзадач между процессорами"
   ]
  },
  {
   "cell_type": "markdown",
   "metadata": {
    "deletable": true,
    "editable": true
   },
   "source": [
    "* Минимизация времени выполнения алгоритма\n",
    "* Размещение подзадач, которые могут выполняться одновременно, на разных процессорах\n",
    "* Размещение подзадач, которые часто взаимодействуют, на одном процессоре\n",
    "* Равномерная загрузка процессоров\n"
   ]
  },
  {
   "cell_type": "markdown",
   "metadata": {
    "deletable": true,
    "editable": true
   },
   "source": [
    "##### Тривиальное статическое планирование"
   ]
  },
  {
   "cell_type": "markdown",
   "metadata": {
    "deletable": true,
    "editable": true
   },
   "source": [
    "* Подзадачи одинакового размера\n",
    "* Фиксированное число подзадач\n",
    "* Структурированные локальные и глобальные взаимодействия\n",
    "* Фиксированное число процессоров\n",
    "  * Однородная система\n",
    "  * Гетерогенная система"
   ]
  },
  {
   "cell_type": "markdown",
   "metadata": {
    "deletable": true,
    "editable": true
   },
   "source": [
    "##### Балансировка нагрузки"
   ]
  },
  {
   "cell_type": "markdown",
   "metadata": {
    "deletable": true,
    "editable": true
   },
   "source": [
    "![Load balancing](load_balancing_01.png)"
   ]
  },
  {
   "cell_type": "markdown",
   "metadata": {
    "deletable": true,
    "editable": true
   },
   "source": [
    "##### Статическое планирование с балансировкой нагрузки"
   ]
  },
  {
   "cell_type": "markdown",
   "metadata": {
    "deletable": true,
    "editable": true
   },
   "source": [
    "* Подзадачи различного размера\n",
    "* Неструктурированные взаимодействия\n",
    "* Число подзадач >> числа процессоров\n",
    "  * Случайное распределени\n",
    "  * Циклическая схема"
   ]
  },
  {
   "cell_type": "markdown",
   "metadata": {
    "deletable": true,
    "editable": true
   },
   "source": [
    "##### Динамическое планирование с балансировкой нагрузки"
   ]
  },
  {
   "cell_type": "markdown",
   "metadata": {
    "deletable": true,
    "editable": true
   },
   "source": [
    "* Динамически изменяются во время выполнения алгоритма\n",
    "  * Число подзадач\n",
    "  * Вычислительная и коммуникационная сложность подзадач\n",
    "  * Состав процессоров\n",
    "* Типичные стратегии\n",
    "  * Общая очередь заданий (master-worker)\n",
    "  * Децентрализованная схема (work stealing)\n",
    "  * Миграция вычислений"
   ]
  },
  {
   "cell_type": "markdown",
   "metadata": {
    "deletable": true,
    "editable": true
   },
   "source": [
    "##### Контрольные вопросы перед завершением этапа распределения подзадач между процессорами\n",
    "* Существует ли необходимость динамической балансировки вычислений?\n",
    "* Не станет ли мастер узким местом при централизованной схеме балансировки нагрузки?\n",
    "* Произведена ли оценка относительной сложности различных стратегий при динамической балансировке нагрузки?\n",
    "* Имеется ли достаточно большое число подзадач при использовании случайной или циклической схем статической балансировки?"
   ]
  },
  {
   "cell_type": "markdown",
   "metadata": {},
   "source": [
    "## Про парадигму Mapreduce"
   ]
  },
  {
   "cell_type": "markdown",
   "metadata": {},
   "source": [
    "Рассмотрели на лекции теоретическое описание, примеры решения нескольких задач."
   ]
  },
  {
   "cell_type": "markdown",
   "metadata": {},
   "source": [
    "### Почитать и посмотреть"
   ]
  },
  {
   "cell_type": "markdown",
   "metadata": {},
   "source": [
    "* MapReduce: Simplified Data Processing on Large Clusters (Jeffrey Dean, Sanjay Ghemawat)\n",
    "  - 2004: http://research.google.com/archive/mapreduce-osdi04.pdf\n",
    "  - 2008: http://burtonator.files.wordpress.com/2008/01/p107-dean.pdf\n",
    "* Data-Intensive Text Processing with MapReduce (Jimmy Lin, Chris Dyer)\n",
    "  - http://lintool.github.com/MapReduceAlgorithms/\n",
    "* Design Patterns for Efficient Graph Algorithms in MapReduce (Jimmy Lin, Michael Schatz, 2010)\n",
    "  - http://www.umiacs.umd.edu/~jimmylin/publications/Lin_Schatz_MLG2010.pdf  \n",
    "* Открытые видеолекции ШАД по параллельным вычислениям (ниже)"
   ]
  },
  {
   "cell_type": "markdown",
   "metadata": {
    "deletable": true,
    "editable": true
   },
   "source": [
    "## Источники материалов и самостоятельное изучение"
   ]
  },
  {
   "cell_type": "markdown",
   "metadata": {
    "deletable": true,
    "editable": true
   },
   "source": [
    "#### Лекции по параллельному программированию\n",
    "* Эта лекция сделана на основе одного из отличных курсов ШАД по курсу \"Параллельные и распределённые вычисления\".\n",
    "* Видеолекции (теоретическая часть курса) есть в открытом доступе: https://yandexdataschool.ru/edu-process/courses/parallel  \n",
    "* Советую к следующей лекции посмотреть первые три видео (можно и все, со временем, тогда будет ещё полезнее), чтобы закрепить и углубить материал, а также подготовить почву для лучшего понимания примеров на Python.\n",
    "* Также во второй лекции есть моменты, которые в этой пропущены, в т.ч. некоторые теоретические основы параллельных вычислений (например, про модель параллельного алгоритма и закон Амдала).\n",
    "* Хинт: можно попробовать  смотреть видео на ускорении 1.3-1.7, если получается воспринимать."
   ]
  },
  {
   "cell_type": "markdown",
   "metadata": {
    "deletable": true,
    "editable": true
   },
   "source": [
    "#### Welcome to the jungle\n",
    "* Хорошая песня от Guns N’ Roses.\n",
    "* Название второй из пары интересных заметок от Герба Саттера про состояние (на некоторый момент, в прошлом) технологий и тенденций в параллельных вычислениях."
   ]
  },
  {
   "cell_type": "markdown",
   "metadata": {
    "deletable": true,
    "editable": true
   },
   "source": [
    "Как всё выглядело в 2005 году:\n",
    "  * The Free Lunch Is Over - A Fundamental Turn Toward Concurrency in Software по адресу http://www.gotw.ca/publications/concurrency-ddj.htm\n"
   ]
  },
  {
   "cell_type": "markdown",
   "metadata": {
    "deletable": true,
    "editable": true
   },
   "source": [
    "И как в 2011-2012:\n",
    "* Welcome to the Jungle по адресу https://herbsutter.com/welcome-to-the-jungle/"
   ]
  },
  {
   "cell_type": "markdown",
   "metadata": {
    "deletable": true,
    "editable": true
   },
   "source": [
    "In the twilight of Moore’s Law, the transitions to multicore processors, GPU computing, and HaaS cloud computing are not separate trends, but aspects of a single trend – mainstream computers from desktops to ‘smartphones’ are being permanently transformed into heterogeneous supercomputer clusters. Henceforth, a single compute-intensive application will need to harness different kinds of cores, in immense numbers, to get its job done.\n",
    "\n",
    "The free lunch is over. Now welcome to the hardware jungle."
   ]
  },
  {
   "cell_type": "markdown",
   "metadata": {
    "deletable": true,
    "editable": true
   },
   "source": [
    "#### Книга Foster I. Designing and Building Parallel Programs: Concepts and Tools for Software Engineering\n",
    "http://www.mcs.anl.gov/~itf/dbpp/"
   ]
  },
  {
   "cell_type": "markdown",
   "metadata": {
    "deletable": true,
    "editable": true
   },
   "source": [
    "#### Ещё несколько книг\n",
    "* Foundations of Multithreaded, Parallel, and Distributed Programming by Gregory R Andrews\n",
    "* Patterns for Parallel Programming by Mattson, Sanders, Massingill\n",
    "* https://software.intel.com/en-us/articles/technical-books-for-multi-core-software-developers"
   ]
  }
 ],
 "metadata": {
  "kernelspec": {
   "display_name": "Python 3",
   "language": "python",
   "name": "python3"
  },
  "language_info": {
   "codemirror_mode": {
    "name": "ipython",
    "version": 3
   },
   "file_extension": ".py",
   "mimetype": "text/x-python",
   "name": "python",
   "nbconvert_exporter": "python",
   "pygments_lexer": "ipython3",
   "version": "3.5.2"
  }
 },
 "nbformat": 4,
 "nbformat_minor": 0
}
