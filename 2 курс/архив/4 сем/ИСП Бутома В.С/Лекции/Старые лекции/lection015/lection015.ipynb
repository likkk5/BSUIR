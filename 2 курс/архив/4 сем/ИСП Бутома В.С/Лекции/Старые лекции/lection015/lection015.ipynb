{
 "cells": [
  {
   "cell_type": "markdown",
   "metadata": {
    "deletable": true,
    "editable": true
   },
   "source": [
    "# Лекция 15: Введение в Django. Модели."
   ]
  },
  {
   "cell_type": "markdown",
   "metadata": {},
   "source": [
    "## Фреймворк Django"
   ]
  },
  {
   "cell_type": "markdown",
   "metadata": {},
   "source": [
    "* Что такое фреймворк, разница между фреймворком и набором библиотек: \"A Library is a tool. A Framework is a way of life.\"\n",
    "* Вспомним задачи решаемые с помощью Django (с прошлой лекции)"
   ]
  },
  {
   "cell_type": "markdown",
   "metadata": {
    "deletable": true,
    "editable": true
   },
   "source": [
    "## Версии"
   ]
  },
  {
   "cell_type": "markdown",
   "metadata": {
    "deletable": true,
    "editable": true
   },
   "source": [
    "На данный момент есть две актуальные версии (1.11 и 2.0), мы будем использовать и рассматривать 1.11"
   ]
  },
  {
   "cell_type": "markdown",
   "metadata": {
    "deletable": true,
    "editable": true
   },
   "source": [
    "## Установка и создание заготовки проекта"
   ]
  },
  {
   "cell_type": "markdown",
   "metadata": {
    "deletable": true,
    "editable": true
   },
   "source": [
    "Сперва необходимо установить Django, в Ubuntu это можно сделать следующей командой в терминале (при условии, что актуальная версия Django для вашего репозитория < 2):"
   ]
  },
  {
   "cell_type": "code",
   "execution_count": null,
   "metadata": {
    "collapsed": true,
    "deletable": true,
    "editable": true
   },
   "outputs": [],
   "source": [
    "# sudo apt-get install python-django"
   ]
  },
  {
   "cell_type": "markdown",
   "metadata": {
    "deletable": true,
    "editable": true
   },
   "source": [
    "Но лучше, если актуальная версия в репозитории не та, или чтобы явно использовать нужную версию в virtualenv, воспользуемся pip."
   ]
  },
  {
   "cell_type": "markdown",
   "metadata": {
    "deletable": true,
    "editable": true
   },
   "source": [
    "Если pip не установлен, то доставим:"
   ]
  },
  {
   "cell_type": "code",
   "execution_count": null,
   "metadata": {
    "collapsed": true,
    "deletable": true,
    "editable": true
   },
   "outputs": [],
   "source": [
    "# sudo apt-get install python3-pip"
   ]
  },
  {
   "cell_type": "markdown",
   "metadata": {
    "deletable": true,
    "editable": true
   },
   "source": [
    "Глобально установим django нужной версии (как вариант, лучше посмотреть на virtualenv и начать использовать его):"
   ]
  },
  {
   "cell_type": "code",
   "execution_count": null,
   "metadata": {
    "collapsed": true,
    "deletable": true,
    "editable": true
   },
   "outputs": [],
   "source": [
    "# sudo pip3 install django==1.11"
   ]
  },
  {
   "cell_type": "markdown",
   "metadata": {},
   "source": [
    "Рекомендуется самостоятельно почитать про virtualenv и устанавливать Django со всеми зависимостями туда."
   ]
  },
  {
   "cell_type": "markdown",
   "metadata": {
    "deletable": true,
    "editable": true
   },
   "source": [
    "# Более подробно про установку можно почитать: \n",
    "* https://docs.djangoproject.com/en/1.11/intro/install/ - на отдельной странице в официальной документации\n",
    "* http://djbook.ru/rel1.9/intro/install.html - в русском переводе этой страницы (версии запаздывают, сейчас только 1.9)"
   ]
  },
  {
   "cell_type": "markdown",
   "metadata": {
    "deletable": true,
    "editable": true
   },
   "source": [
    "При условии успешно установленного Django создать заготовку для нового проекта  можно следующей консольной командой:"
   ]
  },
  {
   "cell_type": "code",
   "execution_count": null,
   "metadata": {
    "collapsed": true,
    "deletable": true,
    "editable": true
   },
   "outputs": [],
   "source": [
    "# python3 -m django startproject projectname"
   ]
  },
  {
   "cell_type": "markdown",
   "metadata": {
    "deletable": true,
    "editable": true
   },
   "source": [
    "Результат этого будет выглядеть как-то так:"
   ]
  },
  {
   "cell_type": "code",
   "execution_count": null,
   "metadata": {
    "collapsed": true,
    "deletable": true,
    "editable": true
   },
   "outputs": [],
   "source": [
    "# projectname  \n",
    "#      | manage.py  \n",
    "#      | projectname  \n",
    "#          | __init__.py  \n",
    "#          | settings.py  \n",
    "#          | urls.py  \n",
    "#          | wsgi.py  "
   ]
  },
  {
   "cell_type": "markdown",
   "metadata": {
    "deletable": true,
    "editable": true
   },
   "source": [
    "* projectname (внешний) - корневая директория проекта, её название не важно (можно переименовать)  \n",
    "* manage.py - вспомогательный скрипт, позволяющий  взаимодействовать с и управлять созданным проектом  \n",
    "* projectname (вложенный) - директория, которая является Python-пакетом вашего проекта (например, используется как корневая при импортах и т.п.)  \n",
    "* \\_\\_init\\_\\_.py - обычный пустой файл (служит для задания Python-пакета)  \n",
    "* settings.py - настройки проекта\n",
    "* wsgi.py - входная точка для веб-серверов поддерживающих wsgi для работы с проектом."
   ]
  },
  {
   "cell_type": "markdown",
   "metadata": {
    "deletable": true,
    "editable": true
   },
   "source": [
    "Код, в отличие некоторых от других языков (P?P), рекомендуется размещать вне корневой директории веб-сервера (/var/www) - это позволит избежать ряда уязвимостей "
   ]
  },
  {
   "cell_type": "markdown",
   "metadata": {
    "deletable": true,
    "editable": true
   },
   "source": [
    "## База данных"
   ]
  },
  {
   "cell_type": "markdown",
   "metadata": {
    "deletable": true,
    "editable": true
   },
   "source": [
    "* Перед использованием необходимо определить в настройках базу данных.\n",
    "* По-умолчанию выбрана SQLite (всё хранится в файле) и с ней проще всего начать работать, если нужно  быстро попробовать Django.\n",
    "* Для более менее серьёзных задач нужно выбирать более подходящую базу данных с нужными возможностями (рекомендуется попробовать PostgreSQL).\n",
    "* Лучше сразу выбрать ту базу, с которой будете дальше работать, т.к. переход с одной БД на другую может быть нетривиальным."
   ]
  },
  {
   "cell_type": "markdown",
   "metadata": {
    "deletable": true,
    "editable": true
   },
   "source": [
    "Подробности про различные аспекты работы с Django, в т.ч. про изначальную и продвинутую настройку базы можно найти в онлайн книге:\n",
    "* http://djangobook.com/the-django-book/"
   ]
  },
  {
   "cell_type": "markdown",
   "metadata": {
    "deletable": true,
    "editable": true
   },
   "source": [
    "## Сервер"
   ]
  },
  {
   "cell_type": "markdown",
   "metadata": {
    "deletable": true,
    "editable": true
   },
   "source": [
    "* В общем случае ещё нужно проводить дополнительные настройки сервера и взаимодействия приложения с отдельным веб-сервером.\n",
    "* Для упрощения разработки в Django встроен простой веб-сервер.\n",
    "* Он предназначен *только* для разработки - как самостоятельный веб-сервер он сильно ограничен и использовать его для чего-то серьёзного строго не рекомендуется:\n",
    "  * мало возможностей\n",
    "  * не предназначен для нагрузки\n",
    "  * может быть более уязвимым с точки зрения безопасности"
   ]
  },
  {
   "cell_type": "markdown",
   "metadata": {
    "deletable": true,
    "editable": true
   },
   "source": [
    "Запустить встроенный сервер можно следующей командой:"
   ]
  },
  {
   "cell_type": "code",
   "execution_count": null,
   "metadata": {
    "collapsed": true,
    "deletable": true,
    "editable": true
   },
   "outputs": [],
   "source": [
    "# python3 manage.py runserver 0.0.0.0:8000"
   ]
  },
  {
   "cell_type": "markdown",
   "metadata": {
    "deletable": true,
    "editable": true
   },
   "source": [
    "Здесь:"
   ]
  },
  {
   "cell_type": "markdown",
   "metadata": {
    "deletable": true,
    "editable": true
   },
   "source": [
    "* 0.0.0.0 - ip-адрес (должен быть на текущей машине) по которому будет доступен сервер.\n",
    "  * 127.0.0.1 - только локально\n",
    "  * 0.0.0.0 - все публичные ip-адреса текущего сервера\n",
    "  * xxx.xxx.xxx.xxx - какой-то определённый адрес\n",
    "* 8000 - номер порта по которому будет происходить соеднинение и работа с сервером."
   ]
  },
  {
   "cell_type": "markdown",
   "metadata": {
    "deletable": true,
    "editable": true
   },
   "source": [
    "У встроенного сервера есть удобное свойство: он автоматически перегружается, когда изменяются файлы проекта (правда, только существующие, при добавлении новых может быть нужен ручной перезапуск)."
   ]
  },
  {
   "cell_type": "markdown",
   "metadata": {
    "deletable": true,
    "editable": true
   },
   "source": [
    "Сильно более подробно про развертывание Django на боевом сервере можно почитать: \n",
    "* http://djangobook.com/deploying-django/"
   ]
  },
  {
   "cell_type": "markdown",
   "metadata": {
    "deletable": true,
    "editable": true
   },
   "source": [
    "## Проекты и приложения"
   ]
  },
  {
   "cell_type": "markdown",
   "metadata": {
    "deletable": true,
    "editable": true
   },
   "source": [
    "* Выше мы создали простейший пустой проект (project) - по сути, в нём пока есть только конфигурация.\n",
    "* Проект (в терминах Django) - совокупность конфигурации и множества приложений (app, application) составляющих отдельный веб-сайт.\n",
    "* Приложение - часть проекта предназначенная для выполнения определённой выделенной цели.\n",
    "* Проект состоит из приложений.\n",
    "* Приложение может быть в разных проектах (переиспользоваться)."
   ]
  },
  {
   "cell_type": "markdown",
   "metadata": {
    "deletable": true,
    "editable": true
   },
   "source": [
    "### Общая организация Django-приложения"
   ]
  },
  {
   "cell_type": "markdown",
   "metadata": {
    "deletable": true,
    "editable": true
   },
   "source": [
    "#### Файл с настройками"
   ]
  },
  {
   "cell_type": "markdown",
   "metadata": {
    "deletable": true,
    "editable": true
   },
   "source": [
    "Для начала рассмотрим и разберём содержимое файла с настройками."
   ]
  },
  {
   "cell_type": "code",
   "execution_count": null,
   "metadata": {
    "collapsed": true,
    "deletable": true,
    "editable": true
   },
   "outputs": [],
   "source": [
    "# less settings.py"
   ]
  },
  {
   "cell_type": "markdown",
   "metadata": {
    "deletable": true,
    "editable": true
   },
   "source": [
    "#### Создание приложения"
   ]
  },
  {
   "cell_type": "markdown",
   "metadata": {
    "deletable": true,
    "editable": true
   },
   "source": [
    "* Далее мы будем рассматривать создание простого Django-приложения на примере приложения для голосования (стандартный пример из официальной документации).\n",
    "* Приложения могут размещаться в любом месте доступном через PYTHONPATH.\n",
    "  * Можно, например, размещать на одном уровне с manage.py (для доступа при импорте через имя приложения).\n",
    "  * Или внутри пакета проекта, чтобы всё имело общий корень."
   ]
  },
  {
   "cell_type": "markdown",
   "metadata": {
    "deletable": true,
    "editable": true
   },
   "source": [
    "Создадим новое приложение:"
   ]
  },
  {
   "cell_type": "code",
   "execution_count": null,
   "metadata": {
    "collapsed": true,
    "deletable": true,
    "editable": true
   },
   "outputs": [],
   "source": [
    "# python3 manage.py startapp polls"
   ]
  },
  {
   "cell_type": "markdown",
   "metadata": {
    "deletable": true,
    "editable": true
   },
   "source": [
    "#### Структура приложения"
   ]
  },
  {
   "cell_type": "markdown",
   "metadata": {
    "deletable": true,
    "editable": true
   },
   "source": [
    "Попробуем рассмотреть код проекта примера и понять, что за что отвечает:\n",
    "* https://github.com/kirpit/django-sample-app"
   ]
  },
  {
   "cell_type": "markdown",
   "metadata": {
    "deletable": true,
    "editable": true
   },
   "source": [
    "Также может быть полезным попытаться запустить этот проект у себя самостоятельно."
   ]
  },
  {
   "cell_type": "markdown",
   "metadata": {
    "deletable": true,
    "editable": true
   },
   "source": [
    "  \n",
    "  \n",
    "  \n",
    "  \n",
    "  \n",
    "  \n",
    "  "
   ]
  },
  {
   "cell_type": "markdown",
   "metadata": {
    "deletable": true,
    "editable": true
   },
   "source": [
    " "
   ]
  },
  {
   "cell_type": "markdown",
   "metadata": {
    "deletable": true,
    "editable": true
   },
   "source": [
    " "
   ]
  },
  {
   "cell_type": "markdown",
   "metadata": {
    "deletable": true,
    "editable": true
   },
   "source": [
    " "
   ]
  },
  {
   "cell_type": "markdown",
   "metadata": {
    "deletable": true,
    "editable": true
   },
   "source": [
    " "
   ]
  },
  {
   "cell_type": "markdown",
   "metadata": {
    "deletable": true,
    "editable": true
   },
   "source": [
    " "
   ]
  },
  {
   "cell_type": "markdown",
   "metadata": {
    "deletable": true,
    "editable": true
   },
   "source": [
    "Основные файлы:\n",
    "* urls.py\n",
    "  * содержат routes (роуты)\n",
    "  * задают соответствие между урлами и обработчиками запросов (view)\n",
    "* views.py\n",
    "  * содержит view (вид, вьюха)\n",
    "  * на вход view получает объект представляющий собой запрос\n",
    "  * на выход отдают объект-ответ\n",
    "  * объект ответ часто включет в себя сгенерированный с помощью шаблонов (templates) html\n",
    "* шаблоны (templates)\n",
    "  * набор html-подобного текста с вкраплениями инструкций на языке Django-шаблонизатора\n",
    "  * позволяют леко генерировать html по данным\n",
    "* models.py\n",
    "  * содержит models (модели)\n",
    "  * специальные классы описывающие элементы хранимые в базе данных\n",
    "  * на основе их ORM генерирует методы работы с базой - через них можно искать, создавать, изменять, удалять объекты в базе\n",
    "* forms.py\n",
    "  * содержит forms (формы)\n",
    "  * по декларативному описанию умеют создавать html-формы, а также обрабатывать данные от них на стороне сервера."
   ]
  },
  {
   "cell_type": "markdown",
   "metadata": {
    "deletable": true,
    "editable": true
   },
   "source": [
    "Что почитать:"
   ]
  },
  {
   "cell_type": "markdown",
   "metadata": {
    "deletable": true,
    "editable": true
   },
   "source": [
    "* https://docs.djangoproject.com/en/1.11/ - официальная документация для версии 1.11\n",
    "* http://djbook.ru/rel1.9/ - сайт про Django на русском, есть частичный перевод официальной документации (версии отстают от официальной документации)\n",
    "* http://djangobook.com/the-django-book/ - книга по Django, более подробно рассматривает темы (версии частично обновлены до 1.11, но есть отставание с версии 1.8)\n",
    "* https://code.djangoproject.com/wiki/DjangoResources?version=457 - версия с частично устаревшей, но достаточно обширной информацией (многие ссылки могут быть актульны, смотрите за версией)"
   ]
  },
  {
   "cell_type": "markdown",
   "metadata": {
    "deletable": true,
    "editable": true
   },
   "source": [
    "## Модели в Django"
   ]
  },
  {
   "cell_type": "markdown",
   "metadata": {
    "deletable": true,
    "editable": true
   },
   "source": [
    "Для абстрагирования при работе с данными в Django используется понятие слоя моделей (model layer)."
   ]
  },
  {
   "cell_type": "markdown",
   "metadata": {
    "deletable": true,
    "editable": true
   },
   "source": [
    "### Django ORM"
   ]
  },
  {
   "cell_type": "markdown",
   "metadata": {
    "deletable": true,
    "editable": true
   },
   "source": [
    "* Для взаимодействия с базой в Django принято использовать встроенный ORM (Object-Relational Mapper, механизм объектно-ориентированного отображения).\n",
    "* Описание объектное представление данных задаётся с помощью моделей (models).\n",
    "* Модель отображается на отдельную таблицу в базе данных.\n",
    "* Фреймворк представляет автоматически генерируемое API для работы с данными и генерации операций при работе с базой.\n",
    "* Django ORM имеет встроенный механизм миграций."
   ]
  },
  {
   "cell_type": "markdown",
   "metadata": {
    "deletable": true,
    "editable": true
   },
   "source": [
    "### Модели"
   ]
  },
  {
   "cell_type": "markdown",
   "metadata": {
    "deletable": true,
    "editable": true
   },
   "source": [
    "* Модель - класс наследник *django.db.models.Model*.\n",
    "* Атрибут модели - поле в базе данных.\n",
    "* По этим данным Django ORM автоматически генерирует API для работы с базой.\n",
    "* При работе с моделями нужно использовать миграции и не забывать их генерировать\\применять при изменении моделей."
   ]
  },
  {
   "cell_type": "markdown",
   "metadata": {
    "deletable": true,
    "editable": true
   },
   "source": [
    "### Атрибуты моделей"
   ]
  },
  {
   "cell_type": "markdown",
   "metadata": {
    "deletable": true,
    "editable": true
   },
   "source": [
    "* Поля класса описывающего модель.\n",
    "* Наследники django.db.models.Field.\n",
    "* С помощью их определяется:\n",
    "  * тип данных в базе\n",
    "  * HTML виджет, который будет использован при рендеринге формы\n",
    "  * базовые примитивные правила валидации\n",
    "* Есть много уже готовых классов (примеры):\n",
    "  * IntegerField\n",
    "  * BooleanField\n",
    "  * CharField\n",
    "  * DateField\n",
    "  * DurationField\n",
    "  * ImageField\n",
    "  * и т.д.\n",
    "* Специальный атрибут objects, создаётся для каждой модели автоматически и является интерфейсом через который происходит взаимодействие с базой."
   ]
  },
  {
   "cell_type": "markdown",
   "metadata": {
    "deletable": true,
    "editable": true
   },
   "source": [
    "### Параметры аттрибутов\n",
    "  * Есть как свои для отдельных типов полей, так и общие.\n",
    "  * Некоторые общие аргументы (опциональны):\n",
    "    * null - если True, то NULL для пустых значений в базе.\n",
    "    * blank - если True, то поле может быть пустым (с точки зрения валидации, а не данных в базе).\n",
    "    * choices - iterable и пар (значение\\_в\\_базе, человекочитаемый\\_текст).\n",
    "    * default - значение по-умолчанию для поля.\n",
    "    * help_text - текст, будет отображен в виджете формы (также удобно просто для документации).\n",
    "    * unique - значение должно быть уникальным (среди всех таких полей в таблице).\n",
    "    * primary_key - если True, то текущее поле станет primary ключом в таблице."
   ]
  },
  {
   "cell_type": "markdown",
   "metadata": {
    "deletable": true,
    "editable": true
   },
   "source": [
    "Если в таблице модели нет атрибутов с параметром primary_key, то отдельное поле будет создано автоматически."
   ]
  },
  {
   "cell_type": "code",
   "execution_count": null,
   "metadata": {
    "collapsed": true,
    "deletable": true,
    "editable": true
   },
   "outputs": [],
   "source": [
    "id = models.AutoField(primary_key=True)"
   ]
  },
  {
   "cell_type": "markdown",
   "metadata": {
    "deletable": true,
    "editable": true
   },
   "source": [
    "### Примеры моделей"
   ]
  },
  {
   "cell_type": "code",
   "execution_count": null,
   "metadata": {
    "collapsed": true,
    "deletable": true,
    "editable": true
   },
   "outputs": [],
   "source": [
    "from django.db import models\n",
    "\n",
    "class Musician(models.Model):\n",
    "    first_name = models.CharField(max_length=50)\n",
    "    last_name = models.CharField(max_length=50)\n",
    "    instrument = models.CharField(max_length=100)\n",
    "\n",
    "class Album(models.Model):\n",
    "    artist = models.ForeignKey(Musician)\n",
    "    name = models.CharField(max_length=100)\n",
    "    release_date = models.DateField()\n",
    "    num_stars = models.IntegerField()"
   ]
  },
  {
   "cell_type": "code",
   "execution_count": null,
   "metadata": {
    "collapsed": true,
    "deletable": true,
    "editable": true
   },
   "outputs": [],
   "source": [
    "from django.db import models\n",
    "\n",
    "class Fruit(models.Model):\n",
    "    name = models.CharField(max_length=100, primary_key=True)"
   ]
  },
  {
   "cell_type": "code",
   "execution_count": null,
   "metadata": {
    "collapsed": true,
    "deletable": true,
    "editable": true
   },
   "outputs": [],
   "source": [
    ">>> fruit = Fruit.objects.create(name='Apple')\n",
    ">>> fruit.name = 'Pear'\n",
    ">>> fruit.save()\n",
    ">>> Fruit.objects.values_list('name', flat=True)\n",
    "['Apple', 'Pear']"
   ]
  },
  {
   "cell_type": "code",
   "execution_count": null,
   "metadata": {
    "collapsed": true,
    "deletable": true,
    "editable": true
   },
   "outputs": [],
   "source": [
    "from django.db import models\n",
    "\n",
    "class Person(models.Model):\n",
    "    name = models.CharField(max_length=128)\n",
    "\n",
    "    def __str__(self):              # __unicode__ on Python 2\n",
    "        return self.name\n",
    "\n",
    "class Group(models.Model):\n",
    "    name = models.CharField(max_length=128)\n",
    "    members = models.ManyToManyField(Person, through='Membership')\n",
    "\n",
    "    def __str__(self):              # __unicode__ on Python 2\n",
    "        return self.name\n",
    "\n",
    "class Membership(models.Model):\n",
    "    person = models.ForeignKey(Person)\n",
    "    group = models.ForeignKey(Group)\n",
    "    date_joined = models.DateField()\n",
    "    invite_reason = models.CharField(max_length=64)"
   ]
  },
  {
   "cell_type": "code",
   "execution_count": null,
   "metadata": {
    "collapsed": true,
    "deletable": true,
    "editable": true
   },
   "outputs": [],
   "source": [
    ">>> ringo = Person.objects.create(name=\"Ringo Starr\")\n",
    ">>> paul = Person.objects.create(name=\"Paul McCartney\")\n",
    ">>> beatles = Group.objects.create(name=\"The Beatles\")\n",
    ">>> m1 = Membership(person=ringo, group=beatles,\n",
    "...     date_joined=date(1962, 8, 16),\n",
    "...     invite_reason=\"Needed a new drummer.\")\n",
    ">>> m1.save()\n",
    ">>> beatles.members.all()\n",
    "[<Person: Ringo Starr>]\n",
    ">>> ringo.group_set.all()\n",
    "[<Group: The Beatles>]\n",
    ">>> m2 = Membership.objects.create(person=paul, group=beatles,\n",
    "...     date_joined=date(1960, 8, 1),\n",
    "...     invite_reason=\"Wanted to form a band.\")\n",
    ">>> beatles.members.all()\n",
    "[<Person: Ringo Starr>, <Person: Paul McCartney>]"
   ]
  },
  {
   "cell_type": "markdown",
   "metadata": {
    "deletable": true,
    "editable": true
   },
   "source": [
    "Подробнее про модели:  \n",
    "* https://docs.djangoproject.com/en/1.11/#the-model-layer"
   ]
  },
  {
   "cell_type": "markdown",
   "metadata": {
    "deletable": true,
    "editable": true
   },
   "source": [
    "### Практика"
   ]
  },
  {
   "cell_type": "markdown",
   "metadata": {
    "deletable": true,
    "editable": true
   },
   "source": [
    "Рассмотрим первую главу туториала (+вопросы):\n",
    "  * https://docs.djangoproject.com/en/1.11/intro/tutorial01/\n",
    "  * http://djbook.ru/rel1.9/intro/tutorial01.html (отстаёт в версии от официальной документации)"
   ]
  }
 ],
 "metadata": {
  "kernelspec": {
   "display_name": "Python 3",
   "language": "python",
   "name": "python3"
  },
  "language_info": {
   "codemirror_mode": {
    "name": "ipython",
    "version": 3
   },
   "file_extension": ".py",
   "mimetype": "text/x-python",
   "name": "python",
   "nbconvert_exporter": "python",
   "pygments_lexer": "ipython3",
   "version": "3.5.2"
  }
 },
 "nbformat": 4,
 "nbformat_minor": 0
}
