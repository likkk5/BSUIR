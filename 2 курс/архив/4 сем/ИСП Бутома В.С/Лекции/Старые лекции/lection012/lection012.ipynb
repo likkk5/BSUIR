{
 "cells": [
  {
   "cell_type": "markdown",
   "metadata": {
    "collapsed": true,
    "deletable": true,
    "editable": true
   },
   "source": [
    "# Лекция 12: параллелизм и Python - продолжение"
   ]
  },
  {
   "cell_type": "markdown",
   "metadata": {
    "deletable": true,
    "editable": true
   },
   "source": [
    "## Python multiprocessing"
   ]
  },
  {
   "cell_type": "markdown",
   "metadata": {
    "deletable": true,
    "editable": true
   },
   "source": [
    "* Ввиду ограничений GIL стандартного интерпретатора в Python принято использовать модуль multiprocessing для реализации параллельного выполнения кода.\n",
    "* Модуль даёт необходимые инструменты для запуска выполнения в нескольких процессах, передачи данных и синхронизации между ними.\n",
    "* Во всех примерах ниже вывод на stdout из разных процессов может быть перемешан, если мы не синхронизируем это явно."
   ]
  },
  {
   "cell_type": "markdown",
   "metadata": {
    "deletable": true,
    "editable": true
   },
   "source": [
    "#### Немного про fork"
   ]
  },
  {
   "cell_type": "markdown",
   "metadata": {
    "deletable": true,
    "editable": true
   },
   "source": [
    "* fork в Unix системах - операция по клонированию текущего процесса\n",
    "* После вызова fork() происходит создание отдельного процесса с копией адресного пространства первого.\n",
    "* Созданный процесс будет выполняться начиная с инструкции непосредственно после вызова fork().\n",
    "* В Python в модуле os есть функция fork().\n",
    "* Дочерний процесс в результате вызова получает свой PID (process identifier).\n",
    "* C помощью возвращаемого значения можно понять где мы оказались:\n",
    "  * 0 - в дочернем.\n",
    "  * \\> 0 - в родительском (значение - pid дочернего для нас).\n",
    "  * < 0 - ошибка.\n",
    "* https://docs.python.org/3/library/os.html#os.fork\n",
    "* http://www.python-course.eu/forking.php\n",
    "* https://mildopinions.wordpress.com/2008/05/31/python-and-parallel-programming/"
   ]
  },
  {
   "cell_type": "code",
   "execution_count": 1,
   "metadata": {
    "collapsed": false,
    "deletable": true,
    "editable": true
   },
   "outputs": [
    {
     "name": "stdout",
     "output_type": "stream",
     "text": [
      "parent: 10905, child: 10920\n",
      "\n",
      "\n",
      "A new child  10920\n",
      "q for quit / c for new forkc\n",
      "parent: 10905, child: 10926\n",
      "\n",
      "\n",
      "A new child  10926\n",
      "q for quit / c for new forkc\n",
      "parent: 10905, child: 10931\n",
      "\n",
      "\n",
      "A new child  10931\n",
      "q for quit / c for new forkc\n",
      "parent: 10905, child: 10936\n",
      "\n",
      "\n",
      "A new child  10936\n",
      "q for quit / c for new forkq\n"
     ]
    }
   ],
   "source": [
    "import os\n",
    "\n",
    "def child():\n",
    "   print('\\nA new child ',  os.getpid())\n",
    "   os._exit(0)  \n",
    "\n",
    "def parent():\n",
    "   while True:\n",
    "      newpid = os.fork()\n",
    "\n",
    "      if newpid == 0:\n",
    "         child()\n",
    "      else:\n",
    "         pids = (os.getpid(), newpid)\n",
    "         print(\"parent: %d, child: %d\\n\" % pids)\n",
    "      reply = input(\"q for quit / c for new fork\")\n",
    "\n",
    "      if reply == 'c': \n",
    "          continue\n",
    "      else:\n",
    "          break\n",
    "\n",
    "parent()"
   ]
  },
  {
   "cell_type": "markdown",
   "metadata": {
    "deletable": true,
    "editable": true
   },
   "source": [
    "##### sys.exit vs os._exit"
   ]
  },
  {
   "cell_type": "markdown",
   "metadata": {
    "deletable": true,
    "editable": true
   },
   "source": [
    "* Специфичные для Python-мира функции.\n",
    "* sys.exit - кросплатформенный вызов exit, аргументом передаём код возврата.\n",
    "* sys.exit выполняет дополнительные действия по выводу из буфера stdio (flush stdio), вызову обработчиков по atexit и т.д.\n",
    "* os._exit - unix-специфичный вызов exit, аргументом передаём код возврата, выполняет минимум дополнительных действий в userspace, например, закрытие файловых дескрипторов и некоторые другие.\n",
    "* os._exit следует использовать только для дочерних процессов в результате fork.\n",
    "* https://docs.python.org/3/library/os.html#os._exit"
   ]
  },
  {
   "cell_type": "markdown",
   "metadata": {
    "deletable": true,
    "editable": true
   },
   "source": [
    "#### Простой пример"
   ]
  },
  {
   "cell_type": "markdown",
   "metadata": {
    "deletable": true,
    "editable": true
   },
   "source": [
    "С выводом на экран есть артефакты в многих примерах ниже (нет синхронизаций в этом у отдельных процессов, IPython только усугубляет перемешивание сообщений)."
   ]
  },
  {
   "cell_type": "code",
   "execution_count": 2,
   "metadata": {
    "collapsed": false,
    "deletable": true,
    "editable": true
   },
   "outputs": [
    {
     "name": "stdout",
     "output_type": "stream",
     "text": [
      "Worker\n",
      "Worker\n",
      "Worker\n",
      "Worker\n",
      "Worker\n"
     ]
    }
   ],
   "source": [
    "import multiprocessing\n",
    "\n",
    "def worker():\n",
    "    \"\"\"worker function\"\"\"\n",
    "    print('Worker')\n",
    "    return\n",
    "\n",
    "if __name__ == '__main__':\n",
    "    jobs = []\n",
    "    for i in range(5):\n",
    "        p = multiprocessing.Process(target=worker)\n",
    "        jobs.append(p)\n",
    "        p.start()"
   ]
  },
  {
   "cell_type": "markdown",
   "metadata": {
    "deletable": true,
    "editable": true
   },
   "source": [
    "#### Передача аргументов"
   ]
  },
  {
   "cell_type": "markdown",
   "metadata": {
    "deletable": true,
    "editable": true
   },
   "source": [
    "* Для передачи аргументов данные необходимо сериализовать через pickle.\n",
    "* Объект должен поддерживать синхронизацию через этот модуль, конвертация пройдёт автоматически.\n",
    "* Есть много подводных камней с некоторыми типами данных."
   ]
  },
  {
   "cell_type": "code",
   "execution_count": 3,
   "metadata": {
    "collapsed": false,
    "deletable": true,
    "editable": true
   },
   "outputs": [
    {
     "name": "stdout",
     "output_type": "stream",
     "text": [
      "Worker: 0\n",
      "Worker: 2\n",
      "Worker: 3\n",
      "Worker: 1\n"
     ]
    }
   ],
   "source": [
    "def worker(num):\n",
    "    \"\"\"thread worker function\"\"\"\n",
    "    print('Worker:', num)\n",
    "    return\n",
    "\n",
    "if __name__ == '__main__':\n",
    "    jobs = []\n",
    "    for i in range(5):\n",
    "        p = multiprocessing.Process(target=worker, args=(i,))\n",
    "        jobs.append(p)\n",
    "        p.start()"
   ]
  },
  {
   "cell_type": "markdown",
   "metadata": {
    "deletable": true,
    "editable": true
   },
   "source": [
    "#### multiprocessing и импортируемость"
   ]
  },
  {
   "cell_type": "markdown",
   "metadata": {
    "deletable": true,
    "editable": true
   },
   "source": [
    "* Для работы multiprocessing текущий модуль (модуль содержащий целевую функцию) должен быть импортируемым.\n",
    "* Поэтому функция main должна быть обязательно защищена проверкой, которую рассматривали ранее.\n",
    "* Альтернатива: определить целевую функцию в другом модуле (не там, где main)."
   ]
  },
  {
   "cell_type": "markdown",
   "metadata": {
    "deletable": true,
    "editable": true
   },
   "source": [
    "#### Определяем текущий процесс"
   ]
  },
  {
   "cell_type": "code",
   "execution_count": 4,
   "metadata": {
    "collapsed": false,
    "deletable": true,
    "editable": true
   },
   "outputs": [
    {
     "name": "stdout",
     "output_type": "stream",
     "text": [
      "worker 1 Starting\n",
      "Process-13 Starting\n"
     ]
    }
   ],
   "source": [
    "import multiprocessing\n",
    "import time\n",
    "\n",
    "def worker():\n",
    "    name = multiprocessing.current_process().name\n",
    "    print(name, 'Starting')\n",
    "    time.sleep(2)\n",
    "    print(name, 'Exiting')\n",
    "\n",
    "def my_service():\n",
    "    name = multiprocessing.current_process().name\n",
    "    print(name, 'Starting')\n",
    "    time.sleep(3)\n",
    "    print(name, 'Exiting')\n",
    "\n",
    "if __name__ == '__main__':\n",
    "    service = multiprocessing.Process(name='my_service', target=my_service)\n",
    "    worker_1 = multiprocessing.Process(name='worker 1', target=worker)\n",
    "    worker_2 = multiprocessing.Process(target=worker) # use default name\n",
    "\n",
    "    worker_1.start()\n",
    "    worker_2.start()\n",
    "    service.start()"
   ]
  },
  {
   "cell_type": "markdown",
   "metadata": {
    "deletable": true,
    "editable": true
   },
   "source": [
    "#### Процессы-демоны"
   ]
  },
  {
   "cell_type": "markdown",
   "metadata": {
    "deletable": true,
    "editable": true
   },
   "source": [
    "* По-умолчанию основная программа не завершится, пока все порождённые не завершатся.\n",
    "* Процессы также можно делать демонами."
   ]
  },
  {
   "cell_type": "code",
   "execution_count": 5,
   "metadata": {
    "collapsed": false,
    "deletable": true,
    "editable": true
   },
   "outputs": [
    {
     "name": "stdout",
     "output_type": "stream",
     "text": [
      "Starting: daemon 10982\n"
     ]
    }
   ],
   "source": [
    "import multiprocessing\n",
    "import time\n",
    "import sys\n",
    "\n",
    "def daemon():\n",
    "    p = multiprocessing.current_process()\n",
    "    print('Starting:', p.name, p.pid)\n",
    "    sys.stdout.flush()\n",
    "    time.sleep(2)\n",
    "    print('Exiting :', p.name, p.pid)\n",
    "    sys.stdout.flush()\n",
    "\n",
    "def non_daemon():\n",
    "    p = multiprocessing.current_process()\n",
    "    print('Starting:', p.name, p.pid)\n",
    "    sys.stdout.flush()\n",
    "    print('Exiting :', p.name, p.pid)\n",
    "    sys.stdout.flush()\n",
    "\n",
    "if __name__ == '__main__':\n",
    "    d = multiprocessing.Process(name='daemon', target=daemon)\n",
    "    d.daemon = True\n",
    "\n",
    "    n = multiprocessing.Process(name='non-daemon', target=non_daemon)\n",
    "    n.daemon = False\n",
    "\n",
    "    d.start()\n",
    "    time.sleep(1)\n",
    "    n.start()"
   ]
  },
  {
   "cell_type": "markdown",
   "metadata": {
    "deletable": true,
    "editable": true
   },
   "source": [
    "#### Ждём процессы и join"
   ]
  },
  {
   "cell_type": "markdown",
   "metadata": {
    "deletable": true,
    "editable": true
   },
   "source": [
    "Опять же, всё сильно напоминает threading - интерфейсы специально так сделаны."
   ]
  },
  {
   "cell_type": "code",
   "execution_count": 6,
   "metadata": {
    "collapsed": false,
    "deletable": true,
    "editable": true,
    "scrolled": true
   },
   "outputs": [
    {
     "name": "stdout",
     "output_type": "stream",
     "text": [
      "Starting: daemon\n",
      "Starting: non-daemon\n",
      "Exiting : non-daemon\n",
      "d.is_alive() True\n"
     ]
    }
   ],
   "source": [
    "import multiprocessing\n",
    "import time\n",
    "import sys\n",
    "\n",
    "def daemon():\n",
    "    print('Starting:', multiprocessing.current_process().name)\n",
    "    time.sleep(2)\n",
    "    print('Exiting :', multiprocessing.current_process().name)\n",
    "\n",
    "def non_daemon():\n",
    "    print('Starting:', multiprocessing.current_process().name)\n",
    "    print('Exiting :', multiprocessing.current_process().name)\n",
    "\n",
    "if __name__ == '__main__':\n",
    "    d = multiprocessing.Process(name='daemon', target=daemon)\n",
    "    d.daemon = True\n",
    "\n",
    "    n = multiprocessing.Process(name='non-daemon', target=non_daemon)\n",
    "    n.daemon = False\n",
    "\n",
    "    d.start()\n",
    "    n.start()\n",
    "\n",
    "    d.join(1)\n",
    "    print('d.is_alive()', d.is_alive())\n",
    "    n.join()"
   ]
  },
  {
   "cell_type": "markdown",
   "metadata": {
    "deletable": true,
    "editable": true
   },
   "source": [
    "#### Завершаем процессы"
   ]
  },
  {
   "cell_type": "markdown",
   "metadata": {
    "deletable": true,
    "editable": true
   },
   "source": [
    "* Лучше передать процессу сообщение, чтобы он завершился (poison pill method).\n",
    "* Если не подходит (завис, например), то можно вызвать принудительный terminate()."
   ]
  },
  {
   "cell_type": "code",
   "execution_count": 7,
   "metadata": {
    "collapsed": false,
    "deletable": true,
    "editable": true
   },
   "outputs": [
    {
     "name": "stdout",
     "output_type": "stream",
     "text": [
      "BEFORE: <Process(Process-18, initial)> False\n",
      "DURING: <Process(Process-18, started)> True\n",
      "TERMINATED: <Process(Process-18, started)> True\n",
      "JOINED: <Process(Process-18, stopped[SIGTERM])> False\n"
     ]
    }
   ],
   "source": [
    "import multiprocessing\n",
    "import time\n",
    "\n",
    "def slow_worker():\n",
    "    print('Starting worker')\n",
    "    time.sleep(0.1)\n",
    "    print('Finished worker')\n",
    "\n",
    "if __name__ == '__main__':\n",
    "    p = multiprocessing.Process(target=slow_worker)\n",
    "    print('BEFORE:', p, p.is_alive())\n",
    "    \n",
    "    p.start()\n",
    "    print('DURING:', p, p.is_alive())\n",
    "    \n",
    "    p.terminate()\n",
    "    print('TERMINATED:', p, p.is_alive())\n",
    "\n",
    "    p.join()\n",
    "    print('JOINED:', p, p.is_alive())"
   ]
  },
  {
   "cell_type": "markdown",
   "metadata": {
    "deletable": true,
    "editable": true
   },
   "source": [
    "Важно вызвать join(), чтобы дать время на обновление состояние терминированного процесса в соответствующем объекте."
   ]
  },
  {
   "cell_type": "markdown",
   "metadata": {
    "deletable": true,
    "editable": true
   },
   "source": [
    "#### Обработка кодов возврата"
   ]
  },
  {
   "cell_type": "markdown",
   "metadata": {
    "deletable": true,
    "editable": true
   },
   "source": [
    "* Как и другие процессы, процессы создаваемые через multiprocessing имеют коды возврата (код, с которым завершилось выполнение).\n",
    "* Возможные значения:\n",
    "  * exitcode == 0 - нет ошибки\n",
    "  * exitcode > 0 - была ошибка, процесс вернул этот код\n",
    "  * exitcode < 0 - процесс был убит с сигналом -1 * exitcode\n",
    "* Процессы, закончившиеся из-за Exception автоматически имеют exitcode равный единице."
   ]
  },
  {
   "cell_type": "code",
   "execution_count": 8,
   "metadata": {
    "collapsed": false,
    "deletable": true,
    "editable": true
   },
   "outputs": [
    {
     "name": "stdout",
     "output_type": "stream",
     "text": [
      "Starting process for exit_error\n",
      "Starting process for exit_ok\n",
      "Starting process for return_value\n",
      "Starting process for raises\n",
      "Starting process for terminated\n"
     ]
    },
    {
     "name": "stderr",
     "output_type": "stream",
     "text": [
      "Process raises:\n"
     ]
    },
    {
     "name": "stdout",
     "output_type": "stream",
     "text": [
      "exit_error.exitcode = 1\n",
      "exit_ok.exitcode = 0\n",
      "return_value.exitcode = 0\n"
     ]
    },
    {
     "name": "stderr",
     "output_type": "stream",
     "text": [
      "Traceback (most recent call last):\n",
      "  File \"/usr/lib/python3.5/multiprocessing/process.py\", line 249, in _bootstrap\n",
      "    self.run()\n",
      "  File \"/usr/lib/python3.5/multiprocessing/process.py\", line 93, in run\n",
      "    self._target(*self._args, **self._kwargs)\n",
      "  File \"<ipython-input-8-b699d4f1b0af>\", line 15, in raises\n",
      "    raise RuntimeError('There was an error!')\n",
      "RuntimeError: There was an error!\n"
     ]
    },
    {
     "name": "stdout",
     "output_type": "stream",
     "text": [
      "raises.exitcode = 1\n",
      "terminated.exitcode = -15\n"
     ]
    }
   ],
   "source": [
    "import multiprocessing\n",
    "import sys\n",
    "import time\n",
    "\n",
    "def exit_error():\n",
    "    sys.exit(1)\n",
    "\n",
    "def exit_ok():\n",
    "    return\n",
    "\n",
    "def return_value():\n",
    "    return 1\n",
    "\n",
    "def raises():\n",
    "    raise RuntimeError('There was an error!')\n",
    "\n",
    "def terminated():\n",
    "    time.sleep(3)\n",
    "\n",
    "if __name__ == '__main__':\n",
    "    jobs = []\n",
    "    for f in [exit_error, exit_ok, return_value, raises, terminated]:\n",
    "        print('Starting process for', f.__name__)\n",
    "        j = multiprocessing.Process(target=f, name=f.__name__)\n",
    "        jobs.append(j)\n",
    "        j.start()\n",
    "        \n",
    "    jobs[-1].terminate()\n",
    "\n",
    "    for j in jobs:\n",
    "        j.join()\n",
    "        print('%s.exitcode = %s' % (j.name, j.exitcode))"
   ]
  },
  {
   "cell_type": "markdown",
   "metadata": {
    "deletable": true,
    "editable": true
   },
   "source": [
    "#### Логгирование multiprocessing"
   ]
  },
  {
   "cell_type": "markdown",
   "metadata": {
    "deletable": true,
    "editable": true
   },
   "source": [
    "* Функция log_to_stderr() устанавливает логгер в logging и добавляет туда же обработчик, записывающий сообщения в stderr.\n",
    "* По-умолчанию уровень там стоит уровень NOTSET."
   ]
  },
  {
   "cell_type": "code",
   "execution_count": 9,
   "metadata": {
    "collapsed": false,
    "deletable": true,
    "editable": true
   },
   "outputs": [
    {
     "name": "stderr",
     "output_type": "stream",
     "text": [
      "[INFO/Process-24] child process calling self.run()\n"
     ]
    },
    {
     "name": "stdout",
     "output_type": "stream",
     "text": [
      "Doing some work\n"
     ]
    },
    {
     "name": "stderr",
     "output_type": "stream",
     "text": [
      "[INFO/Process-24] process shutting down\n",
      "[DEBUG/Process-24] running all \"atexit\" finalizers with priority >= 0\n",
      "[DEBUG/Process-24] running the remaining \"atexit\" finalizers\n",
      "[INFO/Process-24] process exiting with exitcode 0\n"
     ]
    }
   ],
   "source": [
    "import multiprocessing\n",
    "import logging\n",
    "import sys\n",
    "\n",
    "def worker():\n",
    "    print('Doing some work')\n",
    "    sys.stdout.flush()\n",
    "\n",
    "if __name__ == '__main__':\n",
    "    multiprocessing.log_to_stderr(logging.DEBUG)\n",
    "    p = multiprocessing.Process(target=worker)\n",
    "    p.start()\n",
    "    p.join()"
   ]
  },
  {
   "cell_type": "markdown",
   "metadata": {
    "deletable": true,
    "editable": true
   },
   "source": [
    "#### Наследуемся от Process"
   ]
  },
  {
   "cell_type": "code",
   "execution_count": 10,
   "metadata": {
    "collapsed": false,
    "deletable": true,
    "editable": true
   },
   "outputs": [
    {
     "name": "stderr",
     "output_type": "stream",
     "text": [
      "[INFO/Worker-25] child process calling self.run()\n",
      "[INFO/Worker-27] child process calling self.run()\n",
      "[INFO/Worker-28] child process calling self.run()\n"
     ]
    },
    {
     "name": "stdout",
     "output_type": "stream",
     "text": [
      "In Worker-25\n"
     ]
    },
    {
     "name": "stderr",
     "output_type": "stream",
     "text": [
      "[INFO/Worker-26] child process calling self.run()\n"
     ]
    },
    {
     "name": "stdout",
     "output_type": "stream",
     "text": [
      "In Worker-28\n"
     ]
    },
    {
     "name": "stderr",
     "output_type": "stream",
     "text": [
      "[INFO/Worker-25] process shutting down\n",
      "[INFO/Worker-29] child process calling self.run()\n"
     ]
    },
    {
     "name": "stdout",
     "output_type": "stream",
     "text": [
      "In Worker-29\n",
      "In Worker-27\n",
      "In Worker-26\n"
     ]
    },
    {
     "name": "stderr",
     "output_type": "stream",
     "text": [
      "[DEBUG/Worker-25] running all \"atexit\" finalizers with priority >= 0\n",
      "[INFO/Worker-26] process shutting down\n",
      "[DEBUG/Worker-26] running all \"atexit\" finalizers with priority >= 0\n",
      "[INFO/Worker-28] process shutting down\n",
      "[DEBUG/Worker-28] running all \"atexit\" finalizers with priority >= 0\n",
      "[DEBUG/Worker-25] running the remaining \"atexit\" finalizers\n",
      "[INFO/Worker-27] process shutting down\n",
      "[DEBUG/Worker-26] running the remaining \"atexit\" finalizers\n",
      "[INFO/Worker-26] process exiting with exitcode 0\n",
      "[INFO/Worker-29] process shutting down\n",
      "[DEBUG/Worker-29] running all \"atexit\" finalizers with priority >= 0\n",
      "[DEBUG/Worker-27] running all \"atexit\" finalizers with priority >= 0\n",
      "[DEBUG/Worker-28] running the remaining \"atexit\" finalizers\n",
      "[INFO/Worker-25] process exiting with exitcode 0\n",
      "[INFO/Worker-28] process exiting with exitcode 0\n",
      "[DEBUG/Worker-29] running the remaining \"atexit\" finalizers\n",
      "[DEBUG/Worker-27] running the remaining \"atexit\" finalizers\n",
      "[INFO/Worker-29] process exiting with exitcode 0\n",
      "[INFO/Worker-27] process exiting with exitcode 0\n"
     ]
    }
   ],
   "source": [
    "import multiprocessing\n",
    "\n",
    "class Worker(multiprocessing.Process):\n",
    "\n",
    "    def run(self):\n",
    "        print('In %s' % self.name)\n",
    "        return\n",
    "\n",
    "if __name__ == '__main__':\n",
    "    jobs = []\n",
    "    for i in range(5):\n",
    "        p = Worker()\n",
    "        jobs.append(p)\n",
    "        p.start()\n",
    "    for j in jobs:\n",
    "        j.join()"
   ]
  },
  {
   "cell_type": "markdown",
   "metadata": {
    "deletable": true,
    "editable": true
   },
   "source": [
    "#### Обмен сообщениями между процессами"
   ]
  },
  {
   "cell_type": "markdown",
   "metadata": {
    "deletable": true,
    "editable": true
   },
   "source": [
    "* multiprocessing.Queue - очередь для обмена сообщениями между процессами (имеет нужные синхронизации).\n",
    "* Объект, передавайемый в Queue должен уметь сериализовываться и десериализовываться через pickle (pickle-able)."
   ]
  },
  {
   "cell_type": "markdown",
   "metadata": {
    "deletable": true,
    "editable": true
   },
   "source": [
    "Простой пример:"
   ]
  },
  {
   "cell_type": "code",
   "execution_count": 11,
   "metadata": {
    "collapsed": false,
    "deletable": true,
    "editable": true
   },
   "outputs": [
    {
     "name": "stderr",
     "output_type": "stream",
     "text": [
      "[DEBUG/MainProcess] created semlock with handle 140091336916992\n",
      "[DEBUG/MainProcess] created semlock with handle 140091336912896\n",
      "[DEBUG/MainProcess] created semlock with handle 140091336908800\n",
      "[DEBUG/MainProcess] Queue._after_fork()\n",
      "[DEBUG/MainProcess] Queue._start_thread()\n",
      "[DEBUG/Process-30] Queue._after_fork()\n",
      "[DEBUG/MainProcess] doing self._thread.start()\n",
      "[INFO/Process-30] child process calling self.run()\n",
      "[DEBUG/MainProcess] starting thread to feed data to pipe\n",
      "[DEBUG/MainProcess] ... done self._thread.start()\n",
      "[DEBUG/MainProcess] telling queue thread to quit\n",
      "[DEBUG/MainProcess] Queue.join_thread()\n",
      "[DEBUG/MainProcess] feeder thread got sentinel -- exiting\n"
     ]
    },
    {
     "name": "stdout",
     "output_type": "stream",
     "text": [
      "Doing something fancy in Process-30 for Fancy Dan!\n"
     ]
    },
    {
     "name": "stderr",
     "output_type": "stream",
     "text": [
      "[INFO/Process-30] process shutting down\n",
      "[DEBUG/Process-30] running all \"atexit\" finalizers with priority >= 0\n",
      "[DEBUG/Process-30] running the remaining \"atexit\" finalizers\n",
      "[INFO/Process-30] process exiting with exitcode 0\n"
     ]
    }
   ],
   "source": [
    "import multiprocessing\n",
    "\n",
    "class MyFancyClass:\n",
    "    \n",
    "    def __init__(self, name):\n",
    "        self.name = name\n",
    "    \n",
    "    def do_something(self):\n",
    "        proc_name = multiprocessing.current_process().name\n",
    "        print('Doing something fancy in %s for %s!' % (proc_name, self.name))\n",
    "\n",
    "\n",
    "def worker(q):\n",
    "    obj = q.get()\n",
    "    obj.do_something()\n",
    "\n",
    "\n",
    "if __name__ == '__main__':\n",
    "    queue = multiprocessing.Queue()\n",
    "\n",
    "    p = multiprocessing.Process(target=worker, args=(queue,))\n",
    "    p.start()\n",
    "    \n",
    "    queue.put(MyFancyClass('Fancy Dan'))\n",
    "    \n",
    "    # Wait for the worker to finish\n",
    "    queue.close()\n",
    "    queue.join_thread()\n",
    "    p.join()"
   ]
  },
  {
   "cell_type": "markdown",
   "metadata": {
    "deletable": true,
    "editable": true
   },
   "source": [
    "Рассмотрим более сложный пример с задачами и поставщиками задач:"
   ]
  },
  {
   "cell_type": "code",
   "execution_count": 12,
   "metadata": {
    "collapsed": false,
    "deletable": true,
    "editable": true
   },
   "outputs": [
    {
     "name": "stderr",
     "output_type": "stream",
     "text": [
      "[DEBUG/MainProcess] created semlock with handle 140091336904704\n",
      "[DEBUG/MainProcess] created semlock with handle 140091336900608\n",
      "[DEBUG/MainProcess] created semlock with handle 140091336896512\n",
      "[DEBUG/MainProcess] Queue._after_fork()\n",
      "[DEBUG/MainProcess] created semlock with handle 140091336892416\n",
      "[DEBUG/MainProcess] created semlock with handle 140091336888320\n",
      "[DEBUG/MainProcess] created semlock with handle 140091336884224\n",
      "[DEBUG/MainProcess] created semlock with handle 140091336880128\n",
      "[DEBUG/MainProcess] created semlock with handle 140091336876032\n",
      "[DEBUG/MainProcess] created semlock with handle 140091336871936\n",
      "[DEBUG/MainProcess] created semlock with handle 140091336867840\n",
      "[DEBUG/MainProcess] created semlock with handle 140091336863744\n",
      "[DEBUG/MainProcess] Queue._after_fork()\n"
     ]
    },
    {
     "name": "stdout",
     "output_type": "stream",
     "text": [
      "Creating 8 consumers\n"
     ]
    },
    {
     "name": "stderr",
     "output_type": "stream",
     "text": [
      "[DEBUG/Consumer-31] Queue._after_fork()\n",
      "[DEBUG/Consumer-31] Queue._after_fork()\n",
      "[DEBUG/Consumer-31] Queue._after_fork()\n",
      "[DEBUG/Consumer-32] Queue._after_fork()\n",
      "[INFO/Consumer-31] child process calling self.run()\n",
      "[DEBUG/Consumer-32] Queue._after_fork()\n",
      "[DEBUG/Consumer-32] Queue._after_fork()\n",
      "[INFO/Consumer-32] child process calling self.run()\n",
      "[DEBUG/Consumer-34] Queue._after_fork()\n",
      "[DEBUG/Consumer-33] Queue._after_fork()\n",
      "[DEBUG/Consumer-34] Queue._after_fork()\n",
      "[DEBUG/Consumer-35] Queue._after_fork()\n",
      "[DEBUG/Consumer-35] Queue._after_fork()\n",
      "[DEBUG/Consumer-33] Queue._after_fork()\n",
      "[DEBUG/Consumer-34] Queue._after_fork()\n",
      "[DEBUG/Consumer-35] Queue._after_fork()\n",
      "[DEBUG/Consumer-33] Queue._after_fork()\n",
      "[INFO/Consumer-35] child process calling self.run()\n",
      "[DEBUG/MainProcess] Queue._start_thread()\n",
      "[DEBUG/Consumer-36] Queue._after_fork()\n",
      "[INFO/Consumer-33] child process calling self.run()\n",
      "[DEBUG/MainProcess] doing self._thread.start()\n",
      "[INFO/Consumer-34] child process calling self.run()\n",
      "[DEBUG/Consumer-36] Queue._after_fork()\n",
      "[DEBUG/Consumer-36] Queue._after_fork()\n",
      "[INFO/Consumer-36] child process calling self.run()\n",
      "[DEBUG/MainProcess] starting thread to feed data to pipe\n",
      "[DEBUG/Consumer-37] Queue._after_fork()\n",
      "[DEBUG/Consumer-38] Queue._after_fork()\n",
      "[DEBUG/MainProcess] ... done self._thread.start()\n",
      "[DEBUG/Consumer-37] Queue._after_fork()\n",
      "[DEBUG/Consumer-38] Queue._after_fork()\n",
      "[DEBUG/Consumer-37] Queue._after_fork()\n",
      "[DEBUG/Consumer-38] Queue._after_fork()\n",
      "[INFO/Consumer-38] child process calling self.run()\n",
      "[INFO/Consumer-37] child process calling self.run()\n"
     ]
    },
    {
     "name": "stdout",
     "output_type": "stream",
     "text": [
      "Consumer-33: 2 * 2\n",
      "Consumer-32: 3 * 3\n",
      "Consumer-35: 4 * 4\n",
      "Consumer-37: 7 * 7\n",
      "Consumer-36: 6 * 6\n",
      "Consumer-34: 5 * 5\n",
      "Consumer-38: 1 * 1\n",
      "Consumer-31: 0 * 0\n"
     ]
    },
    {
     "name": "stderr",
     "output_type": "stream",
     "text": [
      "[DEBUG/Consumer-32] Queue._start_thread()\n",
      "[DEBUG/Consumer-32] doing self._thread.start()\n",
      "[DEBUG/Consumer-32] starting thread to feed data to pipe\n",
      "[DEBUG/Consumer-33] Queue._start_thread()\n",
      "[DEBUG/Consumer-38] Queue._start_thread()\n",
      "[DEBUG/Consumer-34] Queue._start_thread()\n",
      "[DEBUG/Consumer-35] Queue._start_thread()\n",
      "[DEBUG/Consumer-33] doing self._thread.start()\n",
      "[DEBUG/Consumer-36] Queue._start_thread()\n",
      "[DEBUG/Consumer-37] Queue._start_thread()\n",
      "[DEBUG/Consumer-38] doing self._thread.start()\n",
      "[DEBUG/Consumer-36] doing self._thread.start()\n",
      "[DEBUG/Consumer-37] doing self._thread.start()\n",
      "[DEBUG/Consumer-37] starting thread to feed data to pipe\n",
      "[DEBUG/Consumer-38] starting thread to feed data to pipe\n",
      "[DEBUG/Consumer-34] doing self._thread.start()\n",
      "[DEBUG/Consumer-35] doing self._thread.start()\n",
      "[DEBUG/Consumer-34] starting thread to feed data to pipe\n",
      "[DEBUG/Consumer-36] starting thread to feed data to pipe\n",
      "[DEBUG/Consumer-38] ... done self._thread.start()\n",
      "[DEBUG/Consumer-37] ... done self._thread.start()\n",
      "[DEBUG/Consumer-31] Queue._start_thread()\n"
     ]
    },
    {
     "name": "stdout",
     "output_type": "stream",
     "text": [
      "Consumer-38: 8 * 8\n"
     ]
    },
    {
     "name": "stderr",
     "output_type": "stream",
     "text": [
      "[DEBUG/Consumer-32] ... done self._thread.start()\n",
      "[DEBUG/Consumer-33] starting thread to feed data to pipe\n"
     ]
    },
    {
     "name": "stdout",
     "output_type": "stream",
     "text": [
      "Consumer-37: 9 * 9\n"
     ]
    },
    {
     "name": "stderr",
     "output_type": "stream",
     "text": [
      "[DEBUG/Consumer-35] starting thread to feed data to pipe\n"
     ]
    },
    {
     "name": "stdout",
     "output_type": "stream",
     "text": [
      "Consumer-32: Exiting\n"
     ]
    },
    {
     "name": "stderr",
     "output_type": "stream",
     "text": [
      "[DEBUG/Consumer-33] ... done self._thread.start()\n",
      "[DEBUG/Consumer-31] doing self._thread.start()\n",
      "[DEBUG/Consumer-34] ... done self._thread.start()\n",
      "[DEBUG/Consumer-36] ... done self._thread.start()\n",
      "[DEBUG/Consumer-35] ... done self._thread.start()\n"
     ]
    },
    {
     "name": "stdout",
     "output_type": "stream",
     "text": [
      "Consumer-36: Exiting\n"
     ]
    },
    {
     "name": "stderr",
     "output_type": "stream",
     "text": [
      "[INFO/Consumer-32] process shutting down\n"
     ]
    },
    {
     "name": "stdout",
     "output_type": "stream",
     "text": [
      "Consumer-34: Exiting\n",
      "Consumer-35: Exiting\n",
      "Consumer-33: Exiting\n"
     ]
    },
    {
     "name": "stderr",
     "output_type": "stream",
     "text": [
      "[INFO/Consumer-36] process shutting down\n",
      "[INFO/Consumer-34] process shutting down\n",
      "[DEBUG/Consumer-31] starting thread to feed data to pipe\n",
      "[INFO/Consumer-35] process shutting down\n",
      "[DEBUG/Consumer-36] running all \"atexit\" finalizers with priority >= 0\n",
      "[DEBUG/Consumer-32] running all \"atexit\" finalizers with priority >= 0\n",
      "[INFO/Consumer-33] process shutting down\n",
      "[DEBUG/Consumer-34] running all \"atexit\" finalizers with priority >= 0\n",
      "[DEBUG/Consumer-33] running all \"atexit\" finalizers with priority >= 0\n",
      "[DEBUG/Consumer-34] telling queue thread to quit\n",
      "[DEBUG/Consumer-31] ... done self._thread.start()\n",
      "[DEBUG/Consumer-33] telling queue thread to quit\n",
      "[DEBUG/Consumer-32] telling queue thread to quit\n"
     ]
    },
    {
     "name": "stdout",
     "output_type": "stream",
     "text": [
      "Consumer-31: Exiting\n"
     ]
    },
    {
     "name": "stderr",
     "output_type": "stream",
     "text": [
      "[DEBUG/Consumer-33] running the remaining \"atexit\" finalizers\n",
      "[DEBUG/Consumer-34] running the remaining \"atexit\" finalizers\n",
      "[DEBUG/Consumer-33] ... queue thread joined\n",
      "[DEBUG/Consumer-33] joining queue thread\n",
      "[DEBUG/Consumer-33] feeder thread got sentinel -- exiting\n",
      "[DEBUG/Consumer-36] telling queue thread to quit\n",
      "[DEBUG/Consumer-35] running all \"atexit\" finalizers with priority >= 0\n",
      "[INFO/Consumer-31] process shutting down\n",
      "[DEBUG/Consumer-31] running all \"atexit\" finalizers with priority >= 0\n",
      "[INFO/Consumer-33] process exiting with exitcode 0\n",
      "[DEBUG/Consumer-32] running the remaining \"atexit\" finalizers\n",
      "[DEBUG/Consumer-36] running the remaining \"atexit\" finalizers\n",
      "[DEBUG/Consumer-35] telling queue thread to quit\n",
      "[DEBUG/Consumer-36] joining queue thread\n",
      "[DEBUG/Consumer-35] running the remaining \"atexit\" finalizers\n",
      "[DEBUG/Consumer-36] feeder thread got sentinel -- exiting\n",
      "[DEBUG/Consumer-35] joining queue thread\n",
      "[DEBUG/Consumer-35] feeder thread got sentinel -- exiting\n",
      "[DEBUG/Consumer-35] ... queue thread joined\n",
      "[DEBUG/Consumer-32] joining queue thread\n",
      "[DEBUG/Consumer-34] joining queue thread\n",
      "[DEBUG/Consumer-31] telling queue thread to quit\n",
      "[INFO/Consumer-35] process exiting with exitcode 0\n",
      "[DEBUG/Consumer-36] ... queue thread joined\n",
      "[DEBUG/Consumer-31] running the remaining \"atexit\" finalizers\n",
      "[INFO/Consumer-36] process exiting with exitcode 0\n",
      "[DEBUG/Consumer-34] feeder thread got sentinel -- exiting\n",
      "[DEBUG/Consumer-32] feeder thread got sentinel -- exiting\n",
      "[DEBUG/Consumer-31] joining queue thread\n",
      "[DEBUG/Consumer-34] ... queue thread joined\n",
      "[DEBUG/Consumer-32] ... queue thread joined\n",
      "[DEBUG/Consumer-31] feeder thread got sentinel -- exiting\n",
      "[INFO/Consumer-32] process exiting with exitcode 0\n",
      "[INFO/Consumer-34] process exiting with exitcode 0\n",
      "[DEBUG/Consumer-31] ... queue thread joined\n",
      "[INFO/Consumer-31] process exiting with exitcode 0\n"
     ]
    },
    {
     "name": "stdout",
     "output_type": "stream",
     "text": [
      "Consumer-38: Exiting\n"
     ]
    },
    {
     "name": "stderr",
     "output_type": "stream",
     "text": [
      "[INFO/Consumer-38] process shutting down\n"
     ]
    },
    {
     "name": "stdout",
     "output_type": "stream",
     "text": [
      "Consumer-37: Exiting\n"
     ]
    },
    {
     "name": "stderr",
     "output_type": "stream",
     "text": [
      "[DEBUG/Consumer-38] running all \"atexit\" finalizers with priority >= 0\n",
      "[DEBUG/Consumer-38] telling queue thread to quit\n",
      "[DEBUG/Consumer-38] running the remaining \"atexit\" finalizers\n",
      "[DEBUG/Consumer-38] joining queue thread\n",
      "[DEBUG/Consumer-38] feeder thread got sentinel -- exiting\n"
     ]
    },
    {
     "name": "stdout",
     "output_type": "stream",
     "text": [
      "Result: 1 * 1 = 1\n",
      "Result: 7 * 7 = 49\n",
      "Result: 3 * 3 = 9\n",
      "Result: 2 * 2 = 4\n",
      "Result: 5 * 5 = 25\n",
      "Result: 6 * 6 = 36\n",
      "Result: 4 * 4 = 16\n",
      "Result: 0 * 0 = 0\n",
      "Result: 8 * 8 = 64\n",
      "Result: 9 * 9 = 81\n"
     ]
    },
    {
     "name": "stderr",
     "output_type": "stream",
     "text": [
      "[DEBUG/Consumer-38] ... queue thread joined\n",
      "[INFO/Consumer-37] process shutting down\n",
      "[INFO/Consumer-38] process exiting with exitcode 0\n",
      "[DEBUG/Consumer-37] running all \"atexit\" finalizers with priority >= 0\n"
     ]
    }
   ],
   "source": [
    "import multiprocessing\n",
    "import time\n",
    "\n",
    "class Consumer(multiprocessing.Process):\n",
    "    \n",
    "    def __init__(self, task_queue, result_queue):\n",
    "        multiprocessing.Process.__init__(self)\n",
    "        self.task_queue = task_queue\n",
    "        self.result_queue = result_queue\n",
    "\n",
    "    def run(self):\n",
    "        proc_name = self.name\n",
    "        while True:\n",
    "            next_task = self.task_queue.get()\n",
    "            if next_task is None:\n",
    "                # Poison pill means shutdown\n",
    "                print('%s: Exiting' % proc_name)\n",
    "                self.task_queue.task_done()\n",
    "                break\n",
    "            print('%s: %s' % (proc_name, next_task))\n",
    "            answer = next_task()\n",
    "            self.task_queue.task_done()\n",
    "            self.result_queue.put(answer)\n",
    "        return\n",
    "\n",
    "\n",
    "class Task(object):\n",
    "    def __init__(self, a, b):\n",
    "        self.a = a\n",
    "        self.b = b\n",
    "    def __call__(self):\n",
    "        time.sleep(0.1) # pretend to take some time to do the work\n",
    "        return '%s * %s = %s' % (self.a, self.b, self.a * self.b)\n",
    "    def __str__(self):\n",
    "        return '%s * %s' % (self.a, self.b)\n",
    "\n",
    "\n",
    "if __name__ == '__main__':\n",
    "    # Establish communication queues\n",
    "    tasks = multiprocessing.JoinableQueue()\n",
    "    results = multiprocessing.Queue()\n",
    "    \n",
    "    # Start consumers\n",
    "    num_consumers = multiprocessing.cpu_count() * 2\n",
    "    print('Creating %d consumers' % num_consumers)\n",
    "    consumers = [ Consumer(tasks, results)\n",
    "                  for i in range(num_consumers) ]\n",
    "    for w in consumers:\n",
    "        w.start()\n",
    "    \n",
    "    # Enqueue jobs\n",
    "    num_jobs = 10\n",
    "    for i in range(num_jobs):\n",
    "        tasks.put(Task(i, i))\n",
    "    \n",
    "    # Add a poison pill for each consumer\n",
    "    for i in range(num_consumers):\n",
    "        tasks.put(None)\n",
    "\n",
    "    # Wait for all of the tasks to finish\n",
    "    tasks.join()\n",
    "    \n",
    "    # Start printing results\n",
    "    while num_jobs:\n",
    "        result = results.get()\n",
    "        print('Result:', result)\n",
    "        num_jobs -= 1"
   ]
  },
  {
   "cell_type": "markdown",
   "metadata": {
    "deletable": true,
    "editable": true
   },
   "source": [
    "#### Передача сигналов между процессами"
   ]
  },
  {
   "cell_type": "markdown",
   "metadata": {
    "deletable": true,
    "editable": true
   },
   "source": [
    "С помощью класса Event можно передавать состояние бинарного флага между процессами."
   ]
  },
  {
   "cell_type": "code",
   "execution_count": 13,
   "metadata": {
    "collapsed": false,
    "deletable": true,
    "editable": true,
    "scrolled": true
   },
   "outputs": [
    {
     "name": "stderr",
     "output_type": "stream",
     "text": [
      "[DEBUG/MainProcess] created semlock with handle 140091336859648\n",
      "[DEBUG/MainProcess] created semlock with handle 140091336855552\n",
      "[DEBUG/MainProcess] created semlock with handle 140091336851456\n",
      "[DEBUG/MainProcess] created semlock with handle 140091336847360\n",
      "[DEBUG/MainProcess] created semlock with handle 140091336843264\n",
      "[DEBUG/block] Queue._after_fork()\n",
      "[DEBUG/block] Queue._after_fork()\n",
      "[DEBUG/non-block] Queue._after_fork()\n",
      "[DEBUG/block] Queue._after_fork()\n",
      "[INFO/block] child process calling self.run()\n"
     ]
    },
    {
     "name": "stdout",
     "output_type": "stream",
     "text": [
      "wait_for_event: starting\n"
     ]
    },
    {
     "name": "stderr",
     "output_type": "stream",
     "text": [
      "[DEBUG/non-block] Queue._after_fork()\n",
      "[DEBUG/non-block] Queue._after_fork()\n",
      "[INFO/non-block] child process calling self.run()\n"
     ]
    },
    {
     "name": "stdout",
     "output_type": "stream",
     "text": [
      "wait_for_event_timeout: starting\n",
      "main: waiting before calling Event.set()\n",
      "wait_for_event_timeout: e.is_set()-> False\n"
     ]
    },
    {
     "name": "stderr",
     "output_type": "stream",
     "text": [
      "[INFO/non-block] process shutting down\n",
      "[DEBUG/non-block] running all \"atexit\" finalizers with priority >= 0\n",
      "[DEBUG/non-block] running the remaining \"atexit\" finalizers\n",
      "[INFO/non-block] process exiting with exitcode 0\n"
     ]
    },
    {
     "name": "stdout",
     "output_type": "stream",
     "text": [
      "main: event is set\n",
      "wait_for_event: e.is_set()-> True\n"
     ]
    },
    {
     "name": "stderr",
     "output_type": "stream",
     "text": [
      "[INFO/block] process shutting down\n",
      "[DEBUG/block] running all \"atexit\" finalizers with priority >= 0\n",
      "[DEBUG/block] running the remaining \"atexit\" finalizers\n",
      "[INFO/block] process exiting with exitcode 0\n"
     ]
    }
   ],
   "source": [
    "import multiprocessing\n",
    "import time\n",
    "\n",
    "def wait_for_event(e):\n",
    "    \"\"\"Wait for the event to be set before doing anything\"\"\"\n",
    "    print('wait_for_event: starting')\n",
    "    e.wait()\n",
    "    print('wait_for_event: e.is_set()->', e.is_set())\n",
    "\n",
    "def wait_for_event_timeout(e, t):\n",
    "    \"\"\"Wait t seconds and then timeout\"\"\"\n",
    "    print('wait_for_event_timeout: starting')\n",
    "    e.wait(t)\n",
    "    print('wait_for_event_timeout: e.is_set()->', e.is_set())\n",
    "\n",
    "\n",
    "if __name__ == '__main__':\n",
    "    e = multiprocessing.Event()\n",
    "    w1 = multiprocessing.Process(name='block', \n",
    "                                 target=wait_for_event,\n",
    "                                 args=(e,))\n",
    "    w1.start()\n",
    "\n",
    "    w2 = multiprocessing.Process(name='non-block', \n",
    "                                 target=wait_for_event_timeout, \n",
    "                                 args=(e, 2))\n",
    "    w2.start()\n",
    "\n",
    "    print('main: waiting before calling Event.set()')\n",
    "    time.sleep(3)\n",
    "    e.set()\n",
    "    print('main: event is set')"
   ]
  },
  {
   "cell_type": "markdown",
   "metadata": {
    "deletable": true,
    "editable": true
   },
   "source": [
    "Завершение wait() по таймауту не приводит к ошибке, вызывающий должен сам проверить is_set()."
   ]
  },
  {
   "cell_type": "markdown",
   "metadata": {
    "deletable": true,
    "editable": true
   },
   "source": [
    "#### Управление доступом к ресурсам"
   ]
  },
  {
   "cell_type": "markdown",
   "metadata": {
    "deletable": true,
    "editable": true
   },
   "source": [
    "С помощью Lock можно организовать критическую секцию кода, доступк которой будет эксклюзивным."
   ]
  },
  {
   "cell_type": "code",
   "execution_count": 14,
   "metadata": {
    "collapsed": false,
    "deletable": true,
    "editable": true
   },
   "outputs": [
    {
     "name": "stderr",
     "output_type": "stream",
     "text": [
      "[DEBUG/MainProcess] created semlock with handle 140091336839168\n",
      "[DEBUG/Process-41] Queue._after_fork()\n",
      "[DEBUG/Process-41] Queue._after_fork()\n",
      "[DEBUG/Process-41] Queue._after_fork()\n",
      "[INFO/Process-41] child process calling self.run()\n"
     ]
    },
    {
     "name": "stdout",
     "output_type": "stream",
     "text": [
      "Lock acquired via with\n"
     ]
    },
    {
     "name": "stderr",
     "output_type": "stream",
     "text": [
      "[INFO/Process-41] process shutting down\n",
      "[DEBUG/Process-42] Queue._after_fork()\n",
      "[DEBUG/Process-41] running all \"atexit\" finalizers with priority >= 0\n",
      "[DEBUG/Process-42] Queue._after_fork()\n",
      "[DEBUG/Process-41] running the remaining \"atexit\" finalizers\n",
      "[DEBUG/Process-42] Queue._after_fork()\n",
      "[INFO/Process-41] process exiting with exitcode 0\n",
      "[INFO/Process-42] child process calling self.run()\n"
     ]
    },
    {
     "name": "stdout",
     "output_type": "stream",
     "text": [
      "Lock acquired directly\n"
     ]
    },
    {
     "name": "stderr",
     "output_type": "stream",
     "text": [
      "[INFO/Process-42] process shutting down\n",
      "[DEBUG/Process-42] running all \"atexit\" finalizers with priority >= 0\n",
      "[DEBUG/Process-42] running the remaining \"atexit\" finalizers\n",
      "[INFO/Process-42] process exiting with exitcode 0\n"
     ]
    }
   ],
   "source": [
    "import multiprocessing\n",
    "import sys\n",
    "\n",
    "def worker_with(lock, stream):\n",
    "    with lock:\n",
    "        stream.write('Lock acquired via with\\n')\n",
    "        \n",
    "def worker_no_with(lock, stream):\n",
    "    lock.acquire()\n",
    "    try:\n",
    "        stream.write('Lock acquired directly\\n')\n",
    "    finally:\n",
    "        lock.release()\n",
    "\n",
    "lock = multiprocessing.Lock()\n",
    "w = multiprocessing.Process(target=worker_with, args=(lock, sys.stdout))\n",
    "nw = multiprocessing.Process(target=worker_no_with, args=(lock, sys.stdout))\n",
    "\n",
    "w.start()\n",
    "nw.start()\n",
    "\n",
    "w.join()\n",
    "nw.join()"
   ]
  },
  {
   "cell_type": "markdown",
   "metadata": {
    "deletable": true,
    "editable": true
   },
   "source": [
    "#### Синхронизация выполнения операций"
   ]
  },
  {
   "cell_type": "markdown",
   "metadata": {
    "deletable": true,
    "editable": true
   },
   "source": [
    "С помощью Condition можно использовать межпроцессную условную переменную."
   ]
  },
  {
   "cell_type": "code",
   "execution_count": 15,
   "metadata": {
    "collapsed": false,
    "deletable": true,
    "editable": true
   },
   "outputs": [
    {
     "name": "stderr",
     "output_type": "stream",
     "text": [
      "[DEBUG/MainProcess] created semlock with handle 140091336835072\n",
      "[DEBUG/MainProcess] created semlock with handle 140091336830976\n",
      "[DEBUG/MainProcess] created semlock with handle 140091336826880\n",
      "[DEBUG/MainProcess] created semlock with handle 140091336822784\n",
      "[DEBUG/stage_2[1]] Queue._after_fork()\n",
      "[DEBUG/stage_2[1]] Queue._after_fork()\n",
      "[DEBUG/stage_2[1]] Queue._after_fork()\n",
      "[INFO/stage_2[1]] child process calling self.run()\n"
     ]
    },
    {
     "name": "stdout",
     "output_type": "stream",
     "text": [
      "Starting stage_2[1]\n"
     ]
    },
    {
     "name": "stderr",
     "output_type": "stream",
     "text": [
      "[DEBUG/stage_2[2]] Queue._after_fork()\n",
      "[DEBUG/stage_2[2]] Queue._after_fork()\n",
      "[DEBUG/stage_2[2]] Queue._after_fork()\n",
      "[INFO/stage_2[2]] child process calling self.run()\n"
     ]
    },
    {
     "name": "stdout",
     "output_type": "stream",
     "text": [
      "Starting stage_2[2]\n"
     ]
    },
    {
     "name": "stderr",
     "output_type": "stream",
     "text": [
      "[DEBUG/s1] Queue._after_fork()\n",
      "[DEBUG/s1] Queue._after_fork()\n",
      "[DEBUG/s1] Queue._after_fork()\n",
      "[INFO/s1] child process calling self.run()\n"
     ]
    },
    {
     "name": "stdout",
     "output_type": "stream",
     "text": [
      "Starting s1\n",
      "s1 done and ready for stage 2\n",
      "stage_2[1] running\n"
     ]
    },
    {
     "name": "stderr",
     "output_type": "stream",
     "text": [
      "[INFO/s1] process shutting down\n"
     ]
    },
    {
     "name": "stdout",
     "output_type": "stream",
     "text": [
      "stage_2[2] running\n"
     ]
    },
    {
     "name": "stderr",
     "output_type": "stream",
     "text": [
      "[DEBUG/s1] running all \"atexit\" finalizers with priority >= 0\n",
      "[INFO/stage_2[1]] process shutting down\n",
      "[INFO/stage_2[2]] process shutting down\n",
      "[DEBUG/s1] running the remaining \"atexit\" finalizers\n",
      "[DEBUG/stage_2[1]] running all \"atexit\" finalizers with priority >= 0\n",
      "[DEBUG/stage_2[1]] running the remaining \"atexit\" finalizers\n",
      "[DEBUG/stage_2[2]] running all \"atexit\" finalizers with priority >= 0\n",
      "[INFO/stage_2[1]] process exiting with exitcode 0\n",
      "[DEBUG/stage_2[2]] running the remaining \"atexit\" finalizers\n",
      "[INFO/s1] process exiting with exitcode 0\n",
      "[INFO/stage_2[2]] process exiting with exitcode 0\n"
     ]
    }
   ],
   "source": [
    "import multiprocessing\n",
    "import time\n",
    "\n",
    "def stage_1(cond):\n",
    "    \"\"\"perform first stage of work, then notify stage_2 to continue\"\"\"\n",
    "    name = multiprocessing.current_process().name\n",
    "    print('Starting', name)\n",
    "    with cond:\n",
    "        print('%s done and ready for stage 2' % name)\n",
    "        cond.notify_all()\n",
    "\n",
    "def stage_2(cond):\n",
    "    \"\"\"wait for the condition telling us stage_1 is done\"\"\"\n",
    "    name = multiprocessing.current_process().name\n",
    "    print('Starting', name)\n",
    "    with cond:\n",
    "        cond.wait()\n",
    "        print('%s running' % name)\n",
    "\n",
    "if __name__ == '__main__':\n",
    "    condition = multiprocessing.Condition()\n",
    "    s1 = multiprocessing.Process(name='s1', target=stage_1, args=(condition,))\n",
    "    s2_clients = [\n",
    "        multiprocessing.Process(name='stage_2[%d]' % i, target=stage_2, args=(condition,))\n",
    "        for i in range(1, 3)\n",
    "        ]\n",
    "\n",
    "    for c in s2_clients:\n",
    "        c.start()\n",
    "        time.sleep(1)\n",
    "    s1.start()\n",
    "\n",
    "    s1.join()\n",
    "    for c in s2_clients:\n",
    "        c.join()"
   ]
  },
  {
   "cell_type": "markdown",
   "metadata": {
    "deletable": true,
    "editable": true
   },
   "source": [
    "#### Контроль параллельного доступа к ресурсам"
   ]
  },
  {
   "cell_type": "markdown",
   "metadata": {
    "deletable": true,
    "editable": true
   },
   "source": [
    "С помощью Semaphore можно ограничить количество одновременно работающих (или имеющих доступ к чему-то) процессов. Например, для ограничения количества одновременных соединений или параллельных загрузок."
   ]
  },
  {
   "cell_type": "code",
   "execution_count": 16,
   "metadata": {
    "collapsed": false,
    "deletable": true,
    "editable": true
   },
   "outputs": [
    {
     "name": "stderr",
     "output_type": "stream",
     "text": [
      "[DEBUG/SyncManager-46] Queue._after_fork()\n",
      "[DEBUG/SyncManager-46] Queue._after_fork()\n",
      "[DEBUG/SyncManager-46] Queue._after_fork()\n",
      "[INFO/SyncManager-46] child process calling self.run()\n",
      "[INFO/SyncManager-46] created temp directory /tmp/pymp-ckdkmmww\n",
      "[INFO/SyncManager-46] manager serving at '/tmp/pymp-ckdkmmww/listener-hv63xapc'\n",
      "[DEBUG/MainProcess] requesting creation of a shared 'list' object\n",
      "[DEBUG/SyncManager-46] 'list' callable returned object with id '7f69841fe588'\n",
      "[DEBUG/MainProcess] INCREF '7f69841fe588'\n",
      "[DEBUG/MainProcess] created semlock with handle 140091336818688\n",
      "[DEBUG/MainProcess] created semlock with handle 140091336814592\n",
      "[DEBUG/0] Queue._after_fork()\n",
      "[DEBUG/2] Queue._after_fork()\n",
      "[DEBUG/1] Queue._after_fork()\n",
      "[DEBUG/8] Queue._after_fork()\n",
      "[DEBUG/0] Queue._after_fork()\n",
      "[DEBUG/3] Queue._after_fork()\n",
      "[DEBUG/2] Queue._after_fork()\n",
      "[DEBUG/5] Queue._after_fork()\n",
      "[DEBUG/7] Queue._after_fork()\n",
      "[DEBUG/6] Queue._after_fork()\n",
      "[DEBUG/4] Queue._after_fork()\n",
      "[DEBUG/3] Queue._after_fork()\n",
      "[DEBUG/7] Queue._after_fork()\n",
      "[DEBUG/5] Queue._after_fork()\n",
      "[DEBUG/6] Queue._after_fork()\n",
      "[DEBUG/9] Queue._after_fork()\n",
      "[DEBUG/8] Queue._after_fork()\n",
      "[DEBUG/3] Queue._after_fork()\n",
      "[DEBUG/2] Queue._after_fork()\n",
      "[DEBUG/4] Queue._after_fork()\n",
      "[DEBUG/5] Queue._after_fork()\n",
      "[DEBUG/7] Queue._after_fork()\n",
      "[DEBUG/6] Queue._after_fork()\n",
      "[DEBUG/8] Queue._after_fork()\n",
      "[DEBUG/4] Queue._after_fork()\n",
      "[DEBUG/3] INCREF '7f69841fe588'\n",
      "[DEBUG/2] INCREF '7f69841fe588'\n",
      "[DEBUG/0] Queue._after_fork()\n",
      "[DEBUG/9] Queue._after_fork()\n",
      "[INFO/3] child process calling self.run()\n",
      "[DEBUG/5] INCREF '7f69841fe588'\n",
      "[DEBUG/8] INCREF '7f69841fe588'\n",
      "[DEBUG/1] Queue._after_fork()\n",
      "[DEBUG/4] INCREF '7f69841fe588'\n",
      "[DEBUG/0] INCREF '7f69841fe588'\n",
      "[DEBUG/1] Queue._after_fork()\n",
      "[DEBUG/7] INCREF '7f69841fe588'\n",
      "[DEBUG/3] thread 'MainThread' does not own a connection\n",
      "[INFO/5] child process calling self.run()\n",
      "[DEBUG/9] Queue._after_fork()\n",
      "[DEBUG/6] INCREF '7f69841fe588'\n",
      "[INFO/8] child process calling self.run()\n",
      "[INFO/4] child process calling self.run()\n",
      "[INFO/0] child process calling self.run()\n",
      "[INFO/7] child process calling self.run()\n",
      "[INFO/6] child process calling self.run()\n",
      "[INFO/2] child process calling self.run()\n",
      "[DEBUG/3] making connection to manager\n",
      "[INFO/1] child process calling self.run()\n",
      "[DEBUG/9] INCREF '7f69841fe588'\n",
      "[DEBUG/1] INCREF '7f69841fe588'\n",
      "[DEBUG/SyncManager-46] starting server thread to service '3'\n",
      "[INFO/9] child process calling self.run()\n",
      "[DEBUG/5] thread 'MainThread' does not own a connection\n"
     ]
    },
    {
     "name": "stdout",
     "output_type": "stream",
     "text": [
      "Now running: ['3']\n"
     ]
    },
    {
     "name": "stderr",
     "output_type": "stream",
     "text": [
      "[DEBUG/5] making connection to manager\n",
      "[DEBUG/SyncManager-46] starting server thread to service '5'\n",
      "[DEBUG/8] thread 'MainThread' does not own a connection\n"
     ]
    },
    {
     "name": "stdout",
     "output_type": "stream",
     "text": [
      "Now running: ['3', '5']\n"
     ]
    },
    {
     "name": "stderr",
     "output_type": "stream",
     "text": [
      "[DEBUG/8] making connection to manager\n",
      "[DEBUG/SyncManager-46] starting server thread to service '8'\n"
     ]
    },
    {
     "name": "stdout",
     "output_type": "stream",
     "text": [
      "Now running: ['3', '5', '8']\n"
     ]
    },
    {
     "name": "stderr",
     "output_type": "stream",
     "text": [
      "[INFO/3] process shutting down\n",
      "[DEBUG/6] thread 'MainThread' does not own a connection\n",
      "[DEBUG/3] running all \"atexit\" finalizers with priority >= 0\n",
      "[DEBUG/3] DECREF '7f69841fe588'\n",
      "[DEBUG/6] making connection to manager\n",
      "[DEBUG/3] thread 'MainThread' has no more proxies so closing conn\n",
      "[DEBUG/SyncManager-46] starting server thread to service '6'\n",
      "[DEBUG/3] running the remaining \"atexit\" finalizers\n",
      "[DEBUG/SyncManager-46] got EOF -- exiting thread serving '3'\n"
     ]
    },
    {
     "name": "stdout",
     "output_type": "stream",
     "text": [
      "Now running: ['5', '8', '6']\n"
     ]
    },
    {
     "name": "stderr",
     "output_type": "stream",
     "text": [
      "[INFO/3] process exiting with exitcode 0\n",
      "[INFO/5] process shutting down\n",
      "[DEBUG/2] thread 'MainThread' does not own a connection\n",
      "[DEBUG/5] running all \"atexit\" finalizers with priority >= 0\n",
      "[DEBUG/2] making connection to manager\n",
      "[DEBUG/5] DECREF '7f69841fe588'\n",
      "[DEBUG/SyncManager-46] starting server thread to service '2'\n",
      "[DEBUG/5] thread 'MainThread' has no more proxies so closing conn\n",
      "[DEBUG/5] running the remaining \"atexit\" finalizers\n"
     ]
    },
    {
     "name": "stdout",
     "output_type": "stream",
     "text": [
      "Now running: ['8', '6', '2']\n"
     ]
    },
    {
     "name": "stderr",
     "output_type": "stream",
     "text": [
      "[DEBUG/SyncManager-46] got EOF -- exiting thread serving '5'\n",
      "[INFO/5] process exiting with exitcode 0\n",
      "[DEBUG/7] thread 'MainThread' does not own a connection\n",
      "[INFO/8] process shutting down\n",
      "[DEBUG/7] making connection to manager\n",
      "[DEBUG/8] running all \"atexit\" finalizers with priority >= 0\n",
      "[DEBUG/8] DECREF '7f69841fe588'\n",
      "[DEBUG/SyncManager-46] starting server thread to service '7'\n",
      "[INFO/2] process shutting down\n",
      "[DEBUG/8] thread 'MainThread' has no more proxies so closing conn\n",
      "[DEBUG/0] thread 'MainThread' does not own a connection\n"
     ]
    },
    {
     "name": "stdout",
     "output_type": "stream",
     "text": [
      "Now running: ['6', '2', '7']\n"
     ]
    },
    {
     "name": "stderr",
     "output_type": "stream",
     "text": [
      "[DEBUG/0] making connection to manager\n",
      "[DEBUG/2] running all \"atexit\" finalizers with priority >= 0\n",
      "[DEBUG/8] running the remaining \"atexit\" finalizers\n",
      "[INFO/8] process exiting with exitcode 0\n",
      "[DEBUG/2] DECREF '7f69841fe588'\n",
      "[DEBUG/SyncManager-46] got EOF -- exiting thread serving '8'\n",
      "[DEBUG/SyncManager-46] starting server thread to service '0'\n",
      "[DEBUG/2] thread 'MainThread' has no more proxies so closing conn\n"
     ]
    },
    {
     "name": "stdout",
     "output_type": "stream",
     "text": [
      "Now running: ['6', '7', '0']\n"
     ]
    },
    {
     "name": "stderr",
     "output_type": "stream",
     "text": [
      "[DEBUG/SyncManager-46] got EOF -- exiting thread serving '2'\n",
      "[DEBUG/2] running the remaining \"atexit\" finalizers\n",
      "[INFO/2] process exiting with exitcode 0\n",
      "[INFO/6] process shutting down\n",
      "[DEBUG/4] thread 'MainThread' does not own a connection\n",
      "[DEBUG/6] running all \"atexit\" finalizers with priority >= 0\n",
      "[DEBUG/6] DECREF '7f69841fe588'\n",
      "[DEBUG/4] making connection to manager\n",
      "[DEBUG/6] thread 'MainThread' has no more proxies so closing conn\n",
      "[DEBUG/SyncManager-46] starting server thread to service '4'\n",
      "[DEBUG/6] running the remaining \"atexit\" finalizers\n",
      "[INFO/6] process exiting with exitcode 0\n",
      "[DEBUG/SyncManager-46] got EOF -- exiting thread serving '6'\n"
     ]
    },
    {
     "name": "stdout",
     "output_type": "stream",
     "text": [
      "Now running: ['7', '0', '4']\n"
     ]
    },
    {
     "name": "stderr",
     "output_type": "stream",
     "text": [
      "[INFO/4] process shutting down\n",
      "[DEBUG/1] thread 'MainThread' does not own a connection\n",
      "[DEBUG/4] running all \"atexit\" finalizers with priority >= 0\n",
      "[DEBUG/1] making connection to manager\n",
      "[DEBUG/4] DECREF '7f69841fe588'\n",
      "[DEBUG/SyncManager-46] starting server thread to service '1'\n"
     ]
    },
    {
     "name": "stdout",
     "output_type": "stream",
     "text": [
      "Now running: ['7', '0', '1']\n"
     ]
    },
    {
     "name": "stderr",
     "output_type": "stream",
     "text": [
      "[DEBUG/4] thread 'MainThread' has no more proxies so closing conn\n",
      "[DEBUG/SyncManager-46] got EOF -- exiting thread serving '4'\n",
      "[DEBUG/4] running the remaining \"atexit\" finalizers\n",
      "[INFO/4] process exiting with exitcode 0\n",
      "[INFO/7] process shutting down\n",
      "[DEBUG/9] thread 'MainThread' does not own a connection\n",
      "[DEBUG/9] making connection to manager\n",
      "[DEBUG/7] running all \"atexit\" finalizers with priority >= 0\n",
      "[DEBUG/7] DECREF '7f69841fe588'\n",
      "[DEBUG/SyncManager-46] starting server thread to service '9'\n",
      "[DEBUG/7] thread 'MainThread' has no more proxies so closing conn\n",
      "[DEBUG/7] running the remaining \"atexit\" finalizers\n",
      "[DEBUG/SyncManager-46] got EOF -- exiting thread serving '7'\n"
     ]
    },
    {
     "name": "stdout",
     "output_type": "stream",
     "text": [
      "Now running: ['0', '1', '9']\n"
     ]
    },
    {
     "name": "stderr",
     "output_type": "stream",
     "text": [
      "[INFO/7] process exiting with exitcode 0\n",
      "[INFO/9] process shutting down\n",
      "[DEBUG/9] running all \"atexit\" finalizers with priority >= 0\n",
      "[DEBUG/9] DECREF '7f69841fe588'\n",
      "[DEBUG/9] thread 'MainThread' has no more proxies so closing conn\n",
      "[DEBUG/SyncManager-46] got EOF -- exiting thread serving '9'\n",
      "[DEBUG/9] running the remaining \"atexit\" finalizers\n",
      "[INFO/9] process exiting with exitcode 0\n",
      "[INFO/0] process shutting down\n",
      "[DEBUG/0] running all \"atexit\" finalizers with priority >= 0\n",
      "[DEBUG/0] DECREF '7f69841fe588'\n",
      "[DEBUG/0] thread 'MainThread' has no more proxies so closing conn\n",
      "[DEBUG/SyncManager-46] got EOF -- exiting thread serving '0'\n",
      "[DEBUG/0] running the remaining \"atexit\" finalizers\n",
      "[INFO/0] process exiting with exitcode 0\n",
      "[DEBUG/MainProcess] thread 'MainThread' does not own a connection\n",
      "[DEBUG/MainProcess] making connection to manager\n",
      "[DEBUG/SyncManager-46] starting server thread to service 'MainProcess'\n",
      "[INFO/1] process shutting down\n",
      "[DEBUG/1] running all \"atexit\" finalizers with priority >= 0\n",
      "[DEBUG/1] DECREF '7f69841fe588'\n",
      "[DEBUG/1] thread 'MainThread' has no more proxies so closing conn\n",
      "[DEBUG/SyncManager-46] got EOF -- exiting thread serving '1'\n",
      "[DEBUG/1] running the remaining \"atexit\" finalizers\n",
      "[INFO/1] process exiting with exitcode 0\n"
     ]
    },
    {
     "name": "stdout",
     "output_type": "stream",
     "text": [
      "Now running: ['1']\n",
      "Now running: []\n",
      "Now running: []\n",
      "Now running: []\n",
      "Now running: []\n",
      "Now running: []\n",
      "Now running: []\n",
      "Now running: []\n",
      "Now running: []\n",
      "Now running: []\n"
     ]
    }
   ],
   "source": [
    "import random\n",
    "import multiprocessing\n",
    "import time\n",
    "\n",
    "class ActivePool:\n",
    "    def __init__(self):\n",
    "        super(ActivePool, self).__init__()\n",
    "        self.mgr = multiprocessing.Manager()\n",
    "        self.active = self.mgr.list()\n",
    "        self.lock = multiprocessing.Lock()\n",
    "    def makeActive(self, name):\n",
    "        with self.lock:\n",
    "            self.active.append(name)\n",
    "    def makeInactive(self, name):\n",
    "        with self.lock:\n",
    "            self.active.remove(name)\n",
    "    def __str__(self):\n",
    "        with self.lock:\n",
    "            return str(self.active)\n",
    "\n",
    "def worker(s, pool):\n",
    "    name = multiprocessing.current_process().name\n",
    "    with s:\n",
    "        pool.makeActive(name)\n",
    "        print('Now running: %s' % str(pool))\n",
    "        time.sleep(random.random())\n",
    "        pool.makeInactive(name)\n",
    "\n",
    "if __name__ == '__main__':\n",
    "    pool = ActivePool()\n",
    "    s = multiprocessing.Semaphore(3)\n",
    "    jobs = [\n",
    "        multiprocessing.Process(target=worker, name=str(i), args=(s, pool))\n",
    "        for i in range(10)\n",
    "        ]\n",
    "\n",
    "    for j in jobs:\n",
    "        j.start()\n",
    "\n",
    "    for j in jobs:\n",
    "        j.join()\n",
    "        print('Now running: %s' % str(pool))"
   ]
  },
  {
   "cell_type": "markdown",
   "metadata": {
    "deletable": true,
    "editable": true
   },
   "source": [
    "#### Управление  общим состоянием"
   ]
  },
  {
   "cell_type": "markdown",
   "metadata": {
    "deletable": true,
    "editable": true
   },
   "source": [
    "Класс Manager предоставляет, среди прочих, dict и list для совместного доступа из различных процессов (использовался и в прошлом примере). "
   ]
  },
  {
   "cell_type": "code",
   "execution_count": 17,
   "metadata": {
    "collapsed": false,
    "deletable": true,
    "editable": true
   },
   "outputs": [
    {
     "name": "stderr",
     "output_type": "stream",
     "text": [
      "[DEBUG/SyncManager-57] Queue._after_fork()\n",
      "[DEBUG/SyncManager-57] Queue._after_fork()\n",
      "[DEBUG/SyncManager-57] Queue._after_fork()\n",
      "[DEBUG/SyncManager-57] INCREF '7f69841fe588'\n",
      "[INFO/SyncManager-57] child process calling self.run()\n",
      "[INFO/SyncManager-57] created temp directory /tmp/pymp-ayb6hj9w\n",
      "[DEBUG/MainProcess] requesting creation of a shared 'dict' object\n",
      "[INFO/SyncManager-57] manager serving at '/tmp/pymp-ayb6hj9w/listener-rx9hpr31'\n",
      "[DEBUG/SyncManager-57] 'dict' callable returned object with id '7f6984290508'\n",
      "[DEBUG/MainProcess] INCREF '7f6984290508'\n",
      "[DEBUG/Process-59] Queue._after_fork()\n",
      "[DEBUG/Process-60] Queue._after_fork()\n",
      "[DEBUG/Process-58] Queue._after_fork()\n",
      "[DEBUG/Process-61] Queue._after_fork()\n",
      "[DEBUG/Process-60] Queue._after_fork()\n",
      "[DEBUG/Process-59] Queue._after_fork()\n",
      "[DEBUG/Process-61] Queue._after_fork()\n",
      "[DEBUG/Process-63] Queue._after_fork()\n",
      "[DEBUG/Process-58] Queue._after_fork()\n",
      "[DEBUG/Process-64] Queue._after_fork()\n",
      "[DEBUG/Process-59] Queue._after_fork()\n",
      "[DEBUG/Process-61] Queue._after_fork()\n",
      "[DEBUG/Process-65] Queue._after_fork()\n",
      "[DEBUG/Process-60] Queue._after_fork()\n",
      "[DEBUG/Process-62] Queue._after_fork()\n",
      "[DEBUG/Process-58] Queue._after_fork()\n",
      "[DEBUG/Process-65] Queue._after_fork()\n",
      "[DEBUG/Process-64] Queue._after_fork()\n",
      "[DEBUG/Process-62] Queue._after_fork()\n",
      "[DEBUG/Process-67] Queue._after_fork()\n",
      "[DEBUG/Process-66] Queue._after_fork()\n",
      "[DEBUG/Process-65] Queue._after_fork()\n",
      "[DEBUG/Process-67] Queue._after_fork()\n",
      "[DEBUG/Process-64] Queue._after_fork()\n",
      "[DEBUG/Process-66] Queue._after_fork()\n",
      "[DEBUG/Process-61] INCREF '7f69841fe588'\n",
      "[DEBUG/Process-62] Queue._after_fork()\n",
      "[DEBUG/Process-63] Queue._after_fork()\n",
      "[DEBUG/Process-60] INCREF '7f69841fe588'\n",
      "[DEBUG/Process-67] Queue._after_fork()\n",
      "[DEBUG/Process-63] Queue._after_fork()\n",
      "[DEBUG/Process-59] INCREF '7f69841fe588'\n",
      "[DEBUG/Process-58] INCREF '7f69841fe588'\n",
      "[DEBUG/Process-66] Queue._after_fork()\n",
      "[DEBUG/Process-61] INCREF '7f6984290508'\n",
      "[INFO/Process-61] child process calling self.run()\n",
      "[DEBUG/Process-65] INCREF '7f69841fe588'\n",
      "[DEBUG/Process-60] INCREF '7f6984290508'\n",
      "[DEBUG/Process-59] INCREF '7f6984290508'\n",
      "[INFO/Process-60] child process calling self.run()\n",
      "[INFO/Process-59] child process calling self.run()\n",
      "[DEBUG/Process-65] INCREF '7f6984290508'\n",
      "[DEBUG/Process-61] thread 'MainThread' does not own a connection\n",
      "[DEBUG/Process-62] INCREF '7f69841fe588'\n",
      "[DEBUG/Process-67] INCREF '7f69841fe588'\n",
      "[DEBUG/Process-59] thread 'MainThread' does not own a connection\n",
      "[DEBUG/Process-63] INCREF '7f69841fe588'\n",
      "[DEBUG/Process-58] INCREF '7f6984290508'\n",
      "[DEBUG/Process-60] thread 'MainThread' does not own a connection\n",
      "[DEBUG/Process-62] INCREF '7f6984290508'\n",
      "[DEBUG/Process-59] making connection to manager\n",
      "[INFO/Process-62] child process calling self.run()\n",
      "[INFO/Process-65] child process calling self.run()\n",
      "[INFO/Process-58] child process calling self.run()\n",
      "[DEBUG/Process-61] making connection to manager\n",
      "[DEBUG/Process-66] INCREF '7f69841fe588'\n",
      "[DEBUG/Process-63] INCREF '7f6984290508'\n",
      "[DEBUG/Process-60] making connection to manager\n",
      "[DEBUG/Process-64] INCREF '7f69841fe588'\n",
      "[DEBUG/Process-67] INCREF '7f6984290508'\n",
      "[DEBUG/Process-65] thread 'MainThread' does not own a connection\n",
      "[DEBUG/Process-58] thread 'MainThread' does not own a connection\n",
      "[INFO/Process-67] child process calling self.run()\n",
      "[INFO/Process-63] child process calling self.run()\n",
      "[DEBUG/Process-58] making connection to manager\n",
      "[DEBUG/Process-67] thread 'MainThread' does not own a connection\n",
      "[DEBUG/Process-65] making connection to manager\n",
      "[DEBUG/Process-66] INCREF '7f6984290508'\n",
      "[DEBUG/Process-64] INCREF '7f6984290508'\n",
      "[DEBUG/SyncManager-57] starting server thread to service 'Process-61'\n",
      "[DEBUG/Process-63] thread 'MainThread' does not own a connection\n",
      "[DEBUG/Process-61] DECREF '7f6984290508'\n",
      "[DEBUG/SyncManager-57] starting server thread to service 'Process-59'\n",
      "[DEBUG/Process-67] making connection to manager\n",
      "[INFO/Process-61] process shutting down\n",
      "[INFO/Process-66] child process calling self.run()\n",
      "[DEBUG/Process-61] running all \"atexit\" finalizers with priority >= 0\n",
      "[INFO/Process-59] process shutting down\n",
      "[DEBUG/Process-62] thread 'MainThread' does not own a connection\n",
      "[DEBUG/Process-61] thread 'MainThread' has no more proxies so closing conn\n",
      "[DEBUG/Process-61] DECREF '7f69841fe588'\n",
      "[DEBUG/Process-59] running all \"atexit\" finalizers with priority >= 0\n",
      "[DEBUG/Process-62] making connection to manager\n",
      "[DEBUG/SyncManager-57] starting server thread to service 'Process-65'\n",
      "[DEBUG/Process-66] thread 'MainThread' does not own a connection\n",
      "[DEBUG/Process-59] DECREF '7f6984290508'\n",
      "[INFO/Process-64] child process calling self.run()\n",
      "[INFO/Process-65] process shutting down\n",
      "[DEBUG/SyncManager-57] starting server thread to service 'Process-60'\n",
      "[DEBUG/Process-63] making connection to manager\n",
      "[DEBUG/Process-66] making connection to manager\n",
      "[DEBUG/Process-64] thread 'MainThread' does not own a connection\n",
      "[DEBUG/Process-61] running the remaining \"atexit\" finalizers\n",
      "[INFO/Process-60] process shutting down\n",
      "[DEBUG/Process-59] thread 'MainThread' has no more proxies so closing conn\n",
      "[DEBUG/Process-64] making connection to manager\n",
      "[DEBUG/Process-65] running all \"atexit\" finalizers with priority >= 0\n",
      "[DEBUG/SyncManager-57] got EOF -- exiting thread serving 'Process-61'\n",
      "[DEBUG/Process-65] DECREF '7f6984290508'\n",
      "[DEBUG/SyncManager-57] starting server thread to service 'Process-58'\n",
      "[INFO/Process-61] process exiting with exitcode 0\n",
      "[DEBUG/Process-60] running all \"atexit\" finalizers with priority >= 0\n",
      "[DEBUG/Process-60] DECREF '7f6984290508'\n",
      "[DEBUG/Process-59] DECREF '7f69841fe588'\n",
      "[INFO/Process-58] process shutting down\n",
      "[DEBUG/SyncManager-57] starting server thread to service 'Process-62'\n",
      "[DEBUG/SyncManager-57] starting server thread to service 'Process-67'\n",
      "[INFO/Process-67] process shutting down\n",
      "[DEBUG/Process-59] running the remaining \"atexit\" finalizers\n",
      "[INFO/Process-62] process shutting down\n",
      "[DEBUG/SyncManager-57] got EOF -- exiting thread serving 'Process-59'\n",
      "[DEBUG/Process-58] running all \"atexit\" finalizers with priority >= 0\n",
      "[DEBUG/Process-62] running all \"atexit\" finalizers with priority >= 0\n",
      "[DEBUG/SyncManager-57] starting server thread to service 'Process-66'\n",
      "[DEBUG/SyncManager-57] starting server thread to service 'Process-63'\n",
      "[DEBUG/Process-58] DECREF '7f6984290508'\n",
      "[DEBUG/Process-62] DECREF '7f6984290508'\n",
      "[DEBUG/Process-67] running all \"atexit\" finalizers with priority >= 0\n",
      "[DEBUG/Process-60] thread 'MainThread' has no more proxies so closing conn\n",
      "[DEBUG/Process-67] DECREF '7f6984290508'\n",
      "[INFO/Process-63] process shutting down\n",
      "[DEBUG/Process-60] DECREF '7f69841fe588'\n",
      "[DEBUG/Process-62] thread 'MainThread' has no more proxies so closing conn\n",
      "[DEBUG/SyncManager-57] got EOF -- exiting thread serving 'Process-60'\n",
      "[INFO/Process-66] process shutting down\n",
      "[DEBUG/Process-62] DECREF '7f69841fe588'\n",
      "[DEBUG/Process-66] running all \"atexit\" finalizers with priority >= 0\n",
      "[DEBUG/Process-66] DECREF '7f6984290508'\n",
      "[DEBUG/Process-62] running the remaining \"atexit\" finalizers\n",
      "[INFO/Process-62] process exiting with exitcode 0\n",
      "[DEBUG/Process-63] running all \"atexit\" finalizers with priority >= 0\n",
      "[DEBUG/Process-58] thread 'MainThread' has no more proxies so closing conn\n",
      "[DEBUG/Process-67] thread 'MainThread' has no more proxies so closing conn\n",
      "[DEBUG/SyncManager-57] got EOF -- exiting thread serving 'Process-62'\n",
      "[DEBUG/Process-60] running the remaining \"atexit\" finalizers\n",
      "[INFO/Process-59] process exiting with exitcode 0\n",
      "[DEBUG/Process-65] thread 'MainThread' has no more proxies so closing conn\n",
      "[DEBUG/Process-58] DECREF '7f69841fe588'\n",
      "[DEBUG/Process-66] thread 'MainThread' has no more proxies so closing conn\n",
      "[DEBUG/SyncManager-57] starting server thread to service 'Process-64'\n",
      "[DEBUG/Process-58] running the remaining \"atexit\" finalizers\n",
      "[INFO/Process-60] process exiting with exitcode 0\n",
      "[DEBUG/Process-65] DECREF '7f69841fe588'\n",
      "[DEBUG/Process-63] DECREF '7f6984290508'\n",
      "[DEBUG/Process-66] DECREF '7f69841fe588'\n",
      "[DEBUG/Process-67] DECREF '7f69841fe588'\n",
      "[INFO/Process-64] process shutting down\n",
      "[INFO/Process-58] process exiting with exitcode 0\n",
      "[DEBUG/Process-64] running all \"atexit\" finalizers with priority >= 0\n",
      "[DEBUG/SyncManager-57] got EOF -- exiting thread serving 'Process-58'\n",
      "[DEBUG/Process-65] running the remaining \"atexit\" finalizers\n",
      "[DEBUG/Process-67] running the remaining \"atexit\" finalizers\n",
      "[DEBUG/SyncManager-57] got EOF -- exiting thread serving 'Process-67'\n",
      "[DEBUG/Process-64] DECREF '7f6984290508'\n",
      "[DEBUG/Process-66] running the remaining \"atexit\" finalizers\n",
      "[DEBUG/SyncManager-57] got EOF -- exiting thread serving 'Process-65'\n",
      "[INFO/Process-67] process exiting with exitcode 0\n",
      "[INFO/Process-65] process exiting with exitcode 0\n",
      "[DEBUG/SyncManager-57] got EOF -- exiting thread serving 'Process-66'\n",
      "[INFO/Process-66] process exiting with exitcode 0\n",
      "[DEBUG/Process-63] thread 'MainThread' has no more proxies so closing conn\n",
      "[DEBUG/SyncManager-57] got EOF -- exiting thread serving 'Process-63'\n",
      "[DEBUG/Process-63] DECREF '7f69841fe588'\n",
      "[DEBUG/Process-64] thread 'MainThread' has no more proxies so closing conn\n",
      "[DEBUG/Process-64] DECREF '7f69841fe588'\n",
      "[DEBUG/SyncManager-57] got EOF -- exiting thread serving 'Process-64'\n",
      "[DEBUG/Process-64] running the remaining \"atexit\" finalizers\n",
      "[DEBUG/Process-63] running the remaining \"atexit\" finalizers\n",
      "[INFO/Process-64] process exiting with exitcode 0\n",
      "[INFO/Process-63] process exiting with exitcode 0\n",
      "[DEBUG/MainProcess] thread 'MainThread' does not own a connection\n",
      "[DEBUG/MainProcess] making connection to manager\n",
      "[DEBUG/SyncManager-57] starting server thread to service 'MainProcess'\n"
     ]
    },
    {
     "name": "stdout",
     "output_type": "stream",
     "text": [
      "Results: {0: 0, 1: 2, 2: 4, 3: 6, 4: 8, 5: 10, 6: 12, 7: 14, 8: 16, 9: 18}\n"
     ]
    }
   ],
   "source": [
    "import multiprocessing\n",
    "\n",
    "def worker(d, key, value):\n",
    "    d[key] = value\n",
    "\n",
    "if __name__ == '__main__':\n",
    "    mgr = multiprocessing.Manager()\n",
    "    d = mgr.dict()\n",
    "    jobs = [ multiprocessing.Process(target=worker, args=(d, i, i*2))\n",
    "             for i in range(10) \n",
    "             ]\n",
    "    for j in jobs:\n",
    "        j.start()\n",
    "    for j in jobs:\n",
    "        j.join()\n",
    "    print('Results:', d)"
   ]
  },
  {
   "cell_type": "markdown",
   "metadata": {
    "deletable": true,
    "editable": true
   },
   "source": [
    "#### Shared namespaces"
   ]
  },
  {
   "cell_type": "markdown",
   "metadata": {
    "deletable": true,
    "editable": true
   },
   "source": [
    "С помощью Manager можно создать общий разделяемый Namespace. Любые добавленные имена будут доступны всем инстансам."
   ]
  },
  {
   "cell_type": "code",
   "execution_count": 18,
   "metadata": {
    "collapsed": false,
    "deletable": true,
    "editable": true
   },
   "outputs": [
    {
     "name": "stderr",
     "output_type": "stream",
     "text": [
      "[DEBUG/SyncManager-68] Queue._after_fork()\n",
      "[DEBUG/SyncManager-68] Queue._after_fork()\n",
      "[DEBUG/SyncManager-68] Queue._after_fork()\n",
      "[DEBUG/SyncManager-68] INCREF '7f69841fe588'\n",
      "[DEBUG/SyncManager-68] INCREF '7f6984290508'\n",
      "[INFO/SyncManager-68] child process calling self.run()\n",
      "[INFO/SyncManager-68] created temp directory /tmp/pymp-btloyphn\n",
      "[DEBUG/MainProcess] requesting creation of a shared 'Namespace' object\n",
      "[INFO/SyncManager-68] manager serving at '/tmp/pymp-btloyphn/listener-lef4au2q'\n",
      "[DEBUG/SyncManager-68] 'Namespace' callable returned object with id '7f6987303390'\n",
      "[DEBUG/MainProcess] INCREF '7f6987303390'\n",
      "[DEBUG/MainProcess] created semlock with handle 140091336810496\n",
      "[DEBUG/MainProcess] created semlock with handle 140091335471104\n",
      "[DEBUG/MainProcess] created semlock with handle 140091335467008\n",
      "[DEBUG/MainProcess] created semlock with handle 140091335462912\n",
      "[DEBUG/MainProcess] created semlock with handle 140091335458816\n",
      "[DEBUG/Process-70] Queue._after_fork()\n",
      "[DEBUG/Process-69] Queue._after_fork()\n",
      "[DEBUG/Process-70] Queue._after_fork()\n",
      "[DEBUG/Process-69] Queue._after_fork()\n",
      "[DEBUG/Process-70] Queue._after_fork()\n",
      "[DEBUG/Process-69] Queue._after_fork()\n",
      "[DEBUG/Process-70] INCREF '7f69841fe588'\n",
      "[DEBUG/Process-69] INCREF '7f69841fe588'\n",
      "[DEBUG/Process-70] INCREF '7f6984290508'\n",
      "[DEBUG/Process-69] INCREF '7f6984290508'\n",
      "[DEBUG/Process-70] INCREF '7f6987303390'\n",
      "[INFO/Process-70] child process calling self.run()\n",
      "[DEBUG/Process-69] INCREF '7f6987303390'\n",
      "[DEBUG/Process-70] thread 'MainThread' does not own a connection\n",
      "[INFO/Process-69] child process calling self.run()\n",
      "[DEBUG/Process-70] making connection to manager\n",
      "[DEBUG/Process-69] thread 'MainThread' does not own a connection\n",
      "[DEBUG/SyncManager-68] starting server thread to service 'Process-70'\n",
      "[DEBUG/Process-69] making connection to manager\n"
     ]
    },
    {
     "name": "stdout",
     "output_type": "stream",
     "text": [
      "Before event, consumer got: 'Namespace' object has no attribute 'value'\n"
     ]
    },
    {
     "name": "stderr",
     "output_type": "stream",
     "text": [
      "[DEBUG/SyncManager-68] starting server thread to service 'Process-69'\n"
     ]
    },
    {
     "name": "stdout",
     "output_type": "stream",
     "text": [
      "After event, consumer got: This is the value\n"
     ]
    },
    {
     "name": "stderr",
     "output_type": "stream",
     "text": [
      "[INFO/Process-69] process shutting down\n",
      "[DEBUG/Process-69] running all \"atexit\" finalizers with priority >= 0\n",
      "[DEBUG/Process-69] DECREF '7f6987303390'\n",
      "[INFO/Process-70] process shutting down\n",
      "[DEBUG/Process-69] thread 'MainThread' has no more proxies so closing conn\n",
      "[DEBUG/Process-70] running all \"atexit\" finalizers with priority >= 0\n",
      "[DEBUG/Process-70] DECREF '7f6987303390'\n",
      "[DEBUG/Process-69] DECREF '7f6984290508'\n",
      "[DEBUG/Process-69] DECREF '7f69841fe588'\n",
      "[DEBUG/Process-69] running the remaining \"atexit\" finalizers\n",
      "[INFO/Process-69] process exiting with exitcode 0\n",
      "[DEBUG/SyncManager-68] got EOF -- exiting thread serving 'Process-69'\n",
      "[DEBUG/Process-70] thread 'MainThread' has no more proxies so closing conn\n",
      "[DEBUG/Process-70] DECREF '7f6984290508'\n",
      "[DEBUG/SyncManager-68] got EOF -- exiting thread serving 'Process-70'\n",
      "[DEBUG/Process-70] DECREF '7f69841fe588'\n",
      "[DEBUG/Process-70] running the remaining \"atexit\" finalizers\n",
      "[INFO/Process-70] process exiting with exitcode 0\n"
     ]
    }
   ],
   "source": [
    "import multiprocessing\n",
    "\n",
    "def producer(ns, event):\n",
    "    ns.value = 'This is the value'\n",
    "    event.set()\n",
    "\n",
    "def consumer(ns, event):\n",
    "    try:\n",
    "        value = ns.value\n",
    "    except Exception as err:\n",
    "        print('Before event, consumer got:', str(err))\n",
    "    event.wait()\n",
    "    print('After event, consumer got:', ns.value)\n",
    "\n",
    "if __name__ == '__main__':\n",
    "    mgr = multiprocessing.Manager()\n",
    "    namespace = mgr.Namespace()\n",
    "    event = multiprocessing.Event()\n",
    "    p = multiprocessing.Process(target=producer, args=(namespace, event))\n",
    "    c = multiprocessing.Process(target=consumer, args=(namespace, event))\n",
    "    \n",
    "    c.start()\n",
    "    p.start()\n",
    "    \n",
    "    c.join()\n",
    "    p.join()"
   ]
  },
  {
   "cell_type": "markdown",
   "metadata": {
    "deletable": true,
    "editable": true
   },
   "source": [
    "Важно помнить, что апдейты (не добавления) изменяемых значений не будут автоматически распространяться, поэтому нужно явно добавить элемент ещё раз."
   ]
  },
  {
   "cell_type": "code",
   "execution_count": 19,
   "metadata": {
    "collapsed": false,
    "deletable": true,
    "editable": true
   },
   "outputs": [
    {
     "name": "stderr",
     "output_type": "stream",
     "text": [
      "[DEBUG/SyncManager-71] Queue._after_fork()\n",
      "[DEBUG/SyncManager-71] Queue._after_fork()\n",
      "[DEBUG/SyncManager-71] Queue._after_fork()\n",
      "[DEBUG/SyncManager-71] INCREF '7f69841fe588'\n",
      "[DEBUG/SyncManager-71] INCREF '7f6984290508'\n",
      "[DEBUG/SyncManager-71] INCREF '7f6987303390'\n",
      "[INFO/SyncManager-71] child process calling self.run()\n",
      "[INFO/SyncManager-71] created temp directory /tmp/pymp-7qg1ez5k\n",
      "[DEBUG/MainProcess] requesting creation of a shared 'Namespace' object\n",
      "[INFO/SyncManager-71] manager serving at '/tmp/pymp-7qg1ez5k/listener-k6ue89mb'\n",
      "[DEBUG/SyncManager-71] 'Namespace' callable returned object with id '7f6984259978'\n",
      "[DEBUG/MainProcess] INCREF '7f6984259978'\n",
      "[DEBUG/MainProcess] thread 'MainThread' does not own a connection\n",
      "[DEBUG/MainProcess] making connection to manager\n",
      "[DEBUG/SyncManager-71] starting server thread to service 'MainProcess'\n",
      "[DEBUG/MainProcess] created semlock with handle 140091335454720\n",
      "[DEBUG/MainProcess] created semlock with handle 140091335450624\n",
      "[DEBUG/MainProcess] created semlock with handle 140091335446528\n",
      "[DEBUG/MainProcess] created semlock with handle 140091335442432\n",
      "[DEBUG/MainProcess] created semlock with handle 140091335438336\n",
      "[DEBUG/MainProcess] DECREF '7f6987303390'\n",
      "[INFO/MainProcess] sending shutdown message to manager\n",
      "[DEBUG/Process-73] Queue._after_fork()\n",
      "[DEBUG/Process-73] Queue._after_fork()\n",
      "[DEBUG/Process-73] Queue._after_fork()\n",
      "[DEBUG/Process-73] INCREF '7f69841fe588'\n",
      "[DEBUG/Process-73] INCREF '7f6984290508'\n",
      "[DEBUG/Process-73] INCREF '7f6984259978'\n",
      "[INFO/Process-73] child process calling self.run()\n",
      "[DEBUG/Process-73] thread 'MainThread' does not own a connection\n",
      "[DEBUG/Process-73] making connection to manager\n",
      "[DEBUG/SyncManager-71] starting server thread to service 'Process-73'\n"
     ]
    },
    {
     "name": "stdout",
     "output_type": "stream",
     "text": [
      "Before event, consumer got: []\n"
     ]
    },
    {
     "name": "stderr",
     "output_type": "stream",
     "text": [
      "[DEBUG/Process-72] Queue._after_fork()\n",
      "[DEBUG/Process-72] Queue._after_fork()\n",
      "[DEBUG/Process-72] Queue._after_fork()\n",
      "[DEBUG/Process-72] INCREF '7f69841fe588'\n",
      "[DEBUG/Process-72] INCREF '7f6984290508'\n",
      "[DEBUG/Process-72] INCREF '7f6984259978'\n",
      "[INFO/Process-72] child process calling self.run()\n",
      "[DEBUG/Process-72] thread 'MainThread' does not own a connection\n",
      "[DEBUG/Process-72] making connection to manager\n",
      "[DEBUG/SyncManager-71] starting server thread to service 'Process-72'\n"
     ]
    },
    {
     "name": "stdout",
     "output_type": "stream",
     "text": [
      "After event, consumer got: []\n"
     ]
    },
    {
     "name": "stderr",
     "output_type": "stream",
     "text": [
      "[INFO/Process-72] process shutting down\n",
      "[INFO/Process-73] process shutting down\n",
      "[DEBUG/Process-72] running all \"atexit\" finalizers with priority >= 0\n",
      "[DEBUG/Process-73] running all \"atexit\" finalizers with priority >= 0\n",
      "[DEBUG/Process-72] DECREF '7f6984259978'\n",
      "[DEBUG/Process-73] DECREF '7f6984259978'\n",
      "[DEBUG/Process-72] thread 'MainThread' has no more proxies so closing conn\n",
      "[DEBUG/Process-73] thread 'MainThread' has no more proxies so closing conn\n",
      "[DEBUG/Process-73] DECREF '7f6984290508'\n",
      "[DEBUG/Process-72] DECREF '7f6984290508'\n",
      "[DEBUG/SyncManager-71] got EOF -- exiting thread serving 'Process-72'\n",
      "[DEBUG/SyncManager-71] got EOF -- exiting thread serving 'Process-73'\n",
      "[DEBUG/Process-72] DECREF '7f69841fe588'\n",
      "[DEBUG/Process-73] DECREF '7f69841fe588'\n",
      "[DEBUG/Process-72] running the remaining \"atexit\" finalizers\n",
      "[INFO/Process-72] process exiting with exitcode 0\n",
      "[DEBUG/Process-73] running the remaining \"atexit\" finalizers\n",
      "[INFO/Process-73] process exiting with exitcode 0\n"
     ]
    }
   ],
   "source": [
    "import multiprocessing\n",
    "\n",
    "def producer(ns, event):\n",
    "    ns.my_list.append('This is the value') # DOES NOT UPDATE GLOBAL VALUE!\n",
    "    event.set()\n",
    "\n",
    "def consumer(ns, event):\n",
    "    print('Before event, consumer got:', ns.my_list)\n",
    "    event.wait()\n",
    "    print('After event, consumer got:', ns.my_list)\n",
    "\n",
    "if __name__ == '__main__':\n",
    "    mgr = multiprocessing.Manager()\n",
    "    namespace = mgr.Namespace()\n",
    "    namespace.my_list = []\n",
    "    \n",
    "    event = multiprocessing.Event()\n",
    "    p = multiprocessing.Process(target=producer, args=(namespace, event))\n",
    "    c = multiprocessing.Process(target=consumer, args=(namespace, event))\n",
    "    \n",
    "    c.start()\n",
    "    p.start()\n",
    "    \n",
    "    c.join()\n",
    "    p.join()"
   ]
  },
  {
   "cell_type": "markdown",
   "metadata": {
    "deletable": true,
    "editable": true
   },
   "source": [
    "#### Пулы процессов"
   ]
  },
  {
   "cell_type": "markdown",
   "metadata": {
    "deletable": true,
    "editable": true
   },
   "source": [
    "* С помощью Pool можно поддерживать фиксированное множество процессов-рабочих (workers).\n",
    "* map() аналогичен встроенному, но выполняется в отдельных процессах."
   ]
  },
  {
   "cell_type": "code",
   "execution_count": 20,
   "metadata": {
    "collapsed": false,
    "deletable": true,
    "editable": true
   },
   "outputs": [
    {
     "name": "stderr",
     "output_type": "stream",
     "text": [
      "[DEBUG/MainProcess] created semlock with handle 140091336810496\n",
      "[DEBUG/MainProcess] created semlock with handle 140091335471104\n",
      "[DEBUG/MainProcess] created semlock with handle 140091335467008\n",
      "[DEBUG/MainProcess] created semlock with handle 140091335462912\n"
     ]
    },
    {
     "name": "stdout",
     "output_type": "stream",
     "text": [
      "Input   : [0, 1, 2, 3, 4, 5, 6, 7, 8, 9]\n",
      "Built-in: [0, 2, 4, 6, 8, 10, 12, 14, 16, 18]\n"
     ]
    },
    {
     "name": "stderr",
     "output_type": "stream",
     "text": [
      "[DEBUG/MainProcess] added worker\n",
      "[DEBUG/ForkPoolWorker-74] Queue._after_fork()\n",
      "[DEBUG/MainProcess] added worker\n",
      "[DEBUG/MainProcess] added worker\n",
      "[DEBUG/ForkPoolWorker-75] Queue._after_fork()\n",
      "[DEBUG/ForkPoolWorker-74] Queue._after_fork()\n",
      "[DEBUG/ForkPoolWorker-74] Queue._after_fork()\n",
      "[DEBUG/ForkPoolWorker-75] Queue._after_fork()\n",
      "[DEBUG/ForkPoolWorker-75] Queue._after_fork()\n",
      "[DEBUG/MainProcess] added worker\n",
      "[DEBUG/ForkPoolWorker-76] Queue._after_fork()\n",
      "[DEBUG/ForkPoolWorker-74] INCREF '7f69841fe588'\n",
      "[DEBUG/MainProcess] added worker\n",
      "[DEBUG/ForkPoolWorker-77] Queue._after_fork()\n",
      "[DEBUG/ForkPoolWorker-75] INCREF '7f69841fe588'\n",
      "[DEBUG/ForkPoolWorker-77] Queue._after_fork()\n",
      "[DEBUG/MainProcess] added worker\n",
      "[DEBUG/ForkPoolWorker-77] Queue._after_fork()\n",
      "[DEBUG/ForkPoolWorker-77] INCREF '7f69841fe588'\n",
      "[DEBUG/MainProcess] added worker\n",
      "[DEBUG/ForkPoolWorker-76] Queue._after_fork()\n",
      "[DEBUG/ForkPoolWorker-79] Queue._after_fork()\n",
      "[DEBUG/ForkPoolWorker-79] Queue._after_fork()\n",
      "[DEBUG/ForkPoolWorker-76] Queue._after_fork()\n",
      "[DEBUG/MainProcess] added worker\n",
      "[DEBUG/ForkPoolWorker-79] Queue._after_fork()\n",
      "[DEBUG/ForkPoolWorker-80] Queue._after_fork()\n",
      "[DEBUG/ForkPoolWorker-74] INCREF '7f6984290508'\n",
      "[DEBUG/ForkPoolWorker-74] INCREF '7f6984259978'\n",
      "[DEBUG/ForkPoolWorker-75] INCREF '7f6984290508'\n",
      "[INFO/ForkPoolWorker-74] child process calling self.run()\n"
     ]
    },
    {
     "name": "stdout",
     "output_type": "stream",
     "text": [
      "Starting ForkPoolWorker-74\n"
     ]
    },
    {
     "name": "stderr",
     "output_type": "stream",
     "text": [
      "[DEBUG/ForkPoolWorker-79] INCREF '7f69841fe588'\n",
      "[DEBUG/ForkPoolWorker-76] INCREF '7f69841fe588'\n",
      "[DEBUG/ForkPoolWorker-75] INCREF '7f6984259978'\n",
      "[DEBUG/ForkPoolWorker-77] INCREF '7f6984290508'\n",
      "[DEBUG/ForkPoolWorker-80] Queue._after_fork()\n",
      "[DEBUG/ForkPoolWorker-76] INCREF '7f6984290508'\n",
      "[INFO/ForkPoolWorker-75] child process calling self.run()\n",
      "[DEBUG/ForkPoolWorker-80] Queue._after_fork()\n",
      "[DEBUG/ForkPoolWorker-77] INCREF '7f6984259978'\n"
     ]
    },
    {
     "name": "stdout",
     "output_type": "stream",
     "text": [
      "Starting ForkPoolWorker-75\n"
     ]
    },
    {
     "name": "stderr",
     "output_type": "stream",
     "text": [
      "[DEBUG/MainProcess] DECREF '7f69841fe588'\n",
      "[INFO/ForkPoolWorker-77] child process calling self.run()\n",
      "[DEBUG/ForkPoolWorker-80] INCREF '7f69841fe588'\n",
      "[DEBUG/ForkPoolWorker-78] INCREF '7f6984290508'\n",
      "[DEBUG/MainProcess] thread 'MainThread' has no more proxies so closing conn\n",
      "[DEBUG/ForkPoolWorker-78] Queue._after_fork()\n",
      "[DEBUG/ForkPoolWorker-79] INCREF '7f6984290508'\n",
      "[DEBUG/ForkPoolWorker-76] INCREF '7f6984259978'\n",
      "[INFO/MainProcess] sending shutdown message to manager\n",
      "[DEBUG/ForkPoolWorker-81] Queue._after_fork()\n",
      "[INFO/ForkPoolWorker-76] child process calling self.run()\n",
      "[DEBUG/ForkPoolWorker-78] Queue._after_fork()\n"
     ]
    },
    {
     "name": "stdout",
     "output_type": "stream",
     "text": [
      "Starting ForkPoolWorker-77\n"
     ]
    },
    {
     "name": "stderr",
     "output_type": "stream",
     "text": [
      "[DEBUG/ForkPoolWorker-79] INCREF '7f6984259978'\n",
      "[DEBUG/ForkPoolWorker-80] INCREF '7f6984290508'\n"
     ]
    },
    {
     "name": "stdout",
     "output_type": "stream",
     "text": [
      "Starting ForkPoolWorker-76\n"
     ]
    },
    {
     "name": "stderr",
     "output_type": "stream",
     "text": [
      "[DEBUG/ForkPoolWorker-78] Queue._after_fork()\n",
      "[DEBUG/ForkPoolWorker-81] Queue._after_fork()\n",
      "[INFO/ForkPoolWorker-79] child process calling self.run()\n",
      "[DEBUG/ForkPoolWorker-81] Queue._after_fork()\n"
     ]
    },
    {
     "name": "stdout",
     "output_type": "stream",
     "text": [
      "Starting ForkPoolWorker-79\n"
     ]
    },
    {
     "name": "stderr",
     "output_type": "stream",
     "text": [
      "[DEBUG/ForkPoolWorker-78] INCREF '7f69841fe588'\n",
      "[DEBUG/ForkPoolWorker-80] INCREF '7f6984259978'\n",
      "[DEBUG/ForkPoolWorker-81] INCREF '7f69841fe588'\n",
      "[DEBUG/ForkPoolWorker-78] INCREF '7f6984259978'\n",
      "[INFO/ForkPoolWorker-80] child process calling self.run()\n",
      "[DEBUG/ForkPoolWorker-81] INCREF '7f6984290508'\n"
     ]
    },
    {
     "name": "stdout",
     "output_type": "stream",
     "text": [
      "Starting ForkPoolWorker-80\n"
     ]
    },
    {
     "name": "stderr",
     "output_type": "stream",
     "text": [
      "[INFO/ForkPoolWorker-78] child process calling self.run()\n"
     ]
    },
    {
     "name": "stdout",
     "output_type": "stream",
     "text": [
      "Starting ForkPoolWorker-78\n"
     ]
    },
    {
     "name": "stderr",
     "output_type": "stream",
     "text": [
      "[DEBUG/ForkPoolWorker-81] INCREF '7f6984259978'\n",
      "[INFO/ForkPoolWorker-81] child process calling self.run()\n"
     ]
    },
    {
     "name": "stdout",
     "output_type": "stream",
     "text": [
      "Starting ForkPoolWorker-81\n"
     ]
    },
    {
     "name": "stderr",
     "output_type": "stream",
     "text": [
      "[DEBUG/MainProcess] closing pool\n",
      "[DEBUG/MainProcess] joining pool\n",
      "[DEBUG/MainProcess] worker handler exiting\n",
      "[DEBUG/MainProcess] task handler got sentinel\n",
      "[DEBUG/MainProcess] task handler sending sentinel to result handler\n",
      "[DEBUG/MainProcess] task handler sending sentinel to workers\n",
      "[DEBUG/MainProcess] task handler exiting\n",
      "[DEBUG/MainProcess] result handler got sentinel\n",
      "[DEBUG/ForkPoolWorker-78] worker got sentinel -- exiting\n",
      "[DEBUG/MainProcess] ensuring that outqueue is not full\n",
      "[DEBUG/MainProcess] result handler exiting: len(cache)=0, thread._state=0\n",
      "[DEBUG/ForkPoolWorker-78] worker exiting after 2 tasks\n",
      "[INFO/ForkPoolWorker-78] process shutting down\n",
      "[DEBUG/ForkPoolWorker-78] running all \"atexit\" finalizers with priority >= 0\n",
      "[DEBUG/ForkPoolWorker-78] DECREF '7f6984259978'\n",
      "[DEBUG/ForkPoolWorker-75] worker got sentinel -- exiting\n",
      "[DEBUG/ForkPoolWorker-80] worker got sentinel -- exiting\n",
      "[DEBUG/ForkPoolWorker-76] worker got sentinel -- exiting\n",
      "[DEBUG/ForkPoolWorker-79] worker got sentinel -- exiting\n",
      "[DEBUG/ForkPoolWorker-74] worker got sentinel -- exiting\n",
      "[DEBUG/ForkPoolWorker-75] worker exiting after 2 tasks\n",
      "[DEBUG/ForkPoolWorker-81] worker got sentinel -- exiting\n",
      "[INFO/ForkPoolWorker-75] process shutting down\n",
      "[DEBUG/ForkPoolWorker-76] worker exiting after 0 tasks\n",
      "[DEBUG/ForkPoolWorker-79] worker exiting after 0 tasks\n",
      "[INFO/ForkPoolWorker-76] process shutting down\n",
      "[DEBUG/ForkPoolWorker-75] running all \"atexit\" finalizers with priority >= 0\n",
      "[DEBUG/ForkPoolWorker-74] worker exiting after 6 tasks\n",
      "[DEBUG/ForkPoolWorker-81] worker exiting after 0 tasks\n",
      "[DEBUG/ForkPoolWorker-80] worker exiting after 0 tasks\n",
      "[DEBUG/ForkPoolWorker-75] DECREF '7f6984259978'\n",
      "[DEBUG/ForkPoolWorker-76] running all \"atexit\" finalizers with priority >= 0\n",
      "[DEBUG/ForkPoolWorker-77] worker got sentinel -- exiting\n",
      "[INFO/ForkPoolWorker-79] process shutting down\n",
      "[INFO/ForkPoolWorker-74] process shutting down\n",
      "[INFO/ForkPoolWorker-81] process shutting down\n",
      "[DEBUG/ForkPoolWorker-76] DECREF '7f6984259978'\n",
      "[INFO/ForkPoolWorker-80] process shutting down\n",
      "[DEBUG/ForkPoolWorker-81] running all \"atexit\" finalizers with priority >= 0\n",
      "[DEBUG/ForkPoolWorker-75] DECREF '7f6984290508'\n",
      "[DEBUG/ForkPoolWorker-79] running all \"atexit\" finalizers with priority >= 0\n",
      "[DEBUG/ForkPoolWorker-74] running all \"atexit\" finalizers with priority >= 0\n",
      "[DEBUG/ForkPoolWorker-76] DECREF '7f6984290508'\n",
      "[DEBUG/ForkPoolWorker-80] running all \"atexit\" finalizers with priority >= 0\n",
      "[DEBUG/ForkPoolWorker-81] DECREF '7f6984259978'\n",
      "[DEBUG/ForkPoolWorker-78] DECREF '7f6984290508'\n",
      "[DEBUG/ForkPoolWorker-75] DECREF '7f69841fe588'\n",
      "[DEBUG/ForkPoolWorker-81] DECREF '7f6984290508'\n",
      "[DEBUG/ForkPoolWorker-80] DECREF '7f6984259978'\n",
      "[DEBUG/ForkPoolWorker-75] ... decref failed [Errno 2] No such file or directory\n",
      "[DEBUG/ForkPoolWorker-79] DECREF '7f6984259978'\n",
      "[DEBUG/ForkPoolWorker-77] worker exiting after 0 tasks\n",
      "[DEBUG/ForkPoolWorker-74] DECREF '7f6984259978'\n",
      "[DEBUG/ForkPoolWorker-76] DECREF '7f69841fe588'\n",
      "[DEBUG/ForkPoolWorker-76] ... decref failed [Errno 2] No such file or directory\n",
      "[INFO/ForkPoolWorker-77] process shutting down\n",
      "[DEBUG/ForkPoolWorker-78] DECREF '7f69841fe588'\n",
      "[DEBUG/ForkPoolWorker-77] running all \"atexit\" finalizers with priority >= 0\n",
      "[DEBUG/ForkPoolWorker-76] running the remaining \"atexit\" finalizers\n",
      "[DEBUG/ForkPoolWorker-75] running the remaining \"atexit\" finalizers\n",
      "[DEBUG/ForkPoolWorker-80] DECREF '7f6984290508'\n",
      "[DEBUG/ForkPoolWorker-74] DECREF '7f6984290508'\n",
      "[DEBUG/ForkPoolWorker-77] DECREF '7f6984259978'\n",
      "[DEBUG/ForkPoolWorker-78] ... decref failed [Errno 2] No such file or directory\n",
      "[DEBUG/ForkPoolWorker-81] DECREF '7f69841fe588'\n",
      "[INFO/ForkPoolWorker-76] process exiting with exitcode 0\n",
      "[INFO/ForkPoolWorker-75] process exiting with exitcode 0\n",
      "[DEBUG/ForkPoolWorker-74] DECREF '7f69841fe588'\n",
      "[DEBUG/ForkPoolWorker-78] running the remaining \"atexit\" finalizers\n",
      "[DEBUG/ForkPoolWorker-81] ... decref failed [Errno 2] No such file or directory\n",
      "[DEBUG/ForkPoolWorker-81] running the remaining \"atexit\" finalizers\n",
      "[DEBUG/ForkPoolWorker-74] ... decref failed [Errno 2] No such file or directory\n",
      "[DEBUG/ForkPoolWorker-74] running the remaining \"atexit\" finalizers\n",
      "[INFO/ForkPoolWorker-78] process exiting with exitcode 0\n",
      "[INFO/ForkPoolWorker-81] process exiting with exitcode 0\n",
      "[INFO/ForkPoolWorker-74] process exiting with exitcode 0\n",
      "[DEBUG/ForkPoolWorker-77] DECREF '7f6984290508'\n",
      "[DEBUG/ForkPoolWorker-79] DECREF '7f6984290508'\n",
      "[DEBUG/ForkPoolWorker-79] DECREF '7f69841fe588'\n",
      "[DEBUG/ForkPoolWorker-77] DECREF '7f69841fe588'\n",
      "[DEBUG/ForkPoolWorker-80] DECREF '7f69841fe588'\n",
      "[DEBUG/ForkPoolWorker-79] ... decref failed [Errno 2] No such file or directory\n",
      "[DEBUG/ForkPoolWorker-80] ... decref failed [Errno 2] No such file or directory\n",
      "[DEBUG/ForkPoolWorker-80] running the remaining \"atexit\" finalizers\n",
      "[DEBUG/ForkPoolWorker-79] running the remaining \"atexit\" finalizers\n",
      "[DEBUG/ForkPoolWorker-77] ... decref failed [Errno 2] No such file or directory\n",
      "[INFO/ForkPoolWorker-80] process exiting with exitcode 0\n",
      "[INFO/ForkPoolWorker-79] process exiting with exitcode 0\n",
      "[DEBUG/ForkPoolWorker-77] running the remaining \"atexit\" finalizers\n",
      "[INFO/ForkPoolWorker-77] process exiting with exitcode 0\n"
     ]
    },
    {
     "name": "stdout",
     "output_type": "stream",
     "text": [
      "Pool    : [0, 2, 4, 6, 8, 10, 12, 14, 16, 18]\n"
     ]
    }
   ],
   "source": [
    "import multiprocessing\n",
    "\n",
    "def do_calculation(data):\n",
    "    return data * 2\n",
    "\n",
    "def start_process():\n",
    "    print('Starting', multiprocessing.current_process().name)\n",
    "\n",
    "if __name__ == '__main__':\n",
    "    inputs = list(range(10))\n",
    "    print('Input   :', inputs)\n",
    "    \n",
    "    builtin_outputs = map(do_calculation, inputs)\n",
    "    print('Built-in:', list(builtin_outputs))\n",
    "    \n",
    "    pool_size = multiprocessing.cpu_count() * 2\n",
    "    pool = multiprocessing.Pool(processes=pool_size,\n",
    "                                initializer=start_process,\n",
    "                                )\n",
    "    pool_outputs = pool.map(do_calculation, inputs)\n",
    "    pool.close() # no more tasks\n",
    "    pool.join()  # wrap up current tasks\n",
    "\n",
    "    print('Pool    :', pool_outputs)"
   ]
  },
  {
   "cell_type": "code",
   "execution_count": 21,
   "metadata": {
    "collapsed": false,
    "deletable": true,
    "editable": true
   },
   "outputs": [
    {
     "name": "stderr",
     "output_type": "stream",
     "text": [
      "[DEBUG/MainProcess] created semlock with handle 140091336818688\n",
      "[DEBUG/MainProcess] created semlock with handle 140091335458816\n",
      "[DEBUG/MainProcess] created semlock with handle 140091335434240\n",
      "[DEBUG/MainProcess] created semlock with handle 140091335430144\n"
     ]
    },
    {
     "name": "stdout",
     "output_type": "stream",
     "text": [
      "Input   : [0, 1, 2, 3, 4, 5, 6, 7, 8, 9]\n",
      "Built-in: <map object at 0x7f6984259940>\n"
     ]
    },
    {
     "name": "stderr",
     "output_type": "stream",
     "text": [
      "[DEBUG/MainProcess] added worker\n",
      "[DEBUG/MainProcess] added worker\n",
      "[DEBUG/ForkPoolWorker-82] Queue._after_fork()\n",
      "[DEBUG/MainProcess] added worker\n",
      "[DEBUG/ForkPoolWorker-83] Queue._after_fork()\n",
      "[DEBUG/ForkPoolWorker-83] Queue._after_fork()\n",
      "[DEBUG/ForkPoolWorker-82] Queue._after_fork()\n",
      "[DEBUG/MainProcess] added worker\n",
      "[DEBUG/MainProcess] added worker\n",
      "[DEBUG/ForkPoolWorker-83] Queue._after_fork()\n",
      "[DEBUG/ForkPoolWorker-82] Queue._after_fork()\n",
      "[DEBUG/ForkPoolWorker-85] Queue._after_fork()\n",
      "[DEBUG/ForkPoolWorker-83] INCREF '7f6984290508'\n",
      "[DEBUG/MainProcess] added worker\n",
      "[DEBUG/ForkPoolWorker-86] Queue._after_fork()\n",
      "[DEBUG/ForkPoolWorker-85] Queue._after_fork()\n",
      "[DEBUG/ForkPoolWorker-84] Queue._after_fork()\n",
      "[DEBUG/ForkPoolWorker-86] Queue._after_fork()\n",
      "[DEBUG/ForkPoolWorker-85] Queue._after_fork()\n",
      "[DEBUG/MainProcess] added worker\n",
      "[DEBUG/ForkPoolWorker-83] INCREF '7f6984259978'\n",
      "[DEBUG/ForkPoolWorker-84] Queue._after_fork()\n",
      "[DEBUG/ForkPoolWorker-88] Queue._after_fork()\n",
      "[DEBUG/ForkPoolWorker-82] INCREF '7f6984290508'\n",
      "[INFO/ForkPoolWorker-83] child process calling self.run()\n",
      "[DEBUG/MainProcess] added worker\n",
      "[DEBUG/ForkPoolWorker-86] Queue._after_fork()\n"
     ]
    },
    {
     "name": "stdout",
     "output_type": "stream",
     "text": [
      "Starting ForkPoolWorker-83\n"
     ]
    },
    {
     "name": "stderr",
     "output_type": "stream",
     "text": [
      "[DEBUG/ForkPoolWorker-84] Queue._after_fork()\n",
      "[DEBUG/ForkPoolWorker-85] INCREF '7f6984290508'\n",
      "[DEBUG/ForkPoolWorker-87] Queue._after_fork()\n",
      "[DEBUG/ForkPoolWorker-88] Queue._after_fork()\n",
      "[DEBUG/ForkPoolWorker-87] Queue._after_fork()\n",
      "[DEBUG/MainProcess] finalizing pool\n",
      "[DEBUG/MainProcess] helping task handler/workers to finish\n",
      "[DEBUG/MainProcess] removing tasks from inqueue until task handler finished\n",
      "[DEBUG/MainProcess] joining worker handler\n",
      "[DEBUG/MainProcess] terminating workers\n",
      "[DEBUG/MainProcess] joining task handler\n",
      "[DEBUG/MainProcess] joining result handler\n",
      "[DEBUG/MainProcess] joining pool workers\n",
      "[DEBUG/ForkPoolWorker-86] INCREF '7f6984290508'\n",
      "[DEBUG/ForkPoolWorker-88] Queue._after_fork()\n",
      "[DEBUG/ForkPoolWorker-89] Queue._after_fork()\n",
      "[DEBUG/ForkPoolWorker-82] INCREF '7f6984259978'\n",
      "[DEBUG/ForkPoolWorker-84] INCREF '7f6984290508'\n",
      "[DEBUG/ForkPoolWorker-85] INCREF '7f6984259978'\n",
      "[INFO/ForkPoolWorker-82] child process calling self.run()\n",
      "[DEBUG/ForkPoolWorker-87] Queue._after_fork()\n",
      "[DEBUG/ForkPoolWorker-89] Queue._after_fork()\n",
      "[DEBUG/ForkPoolWorker-83] worker exiting after 2 tasks\n",
      "[DEBUG/ForkPoolWorker-86] INCREF '7f6984259978'\n",
      "[DEBUG/ForkPoolWorker-89] Queue._after_fork()\n",
      "[INFO/ForkPoolWorker-83] process shutting down\n",
      "[DEBUG/ForkPoolWorker-87] INCREF '7f6984290508'\n",
      "[INFO/ForkPoolWorker-85] child process calling self.run()\n"
     ]
    },
    {
     "name": "stdout",
     "output_type": "stream",
     "text": [
      "Starting ForkPoolWorker-82\n"
     ]
    },
    {
     "name": "stderr",
     "output_type": "stream",
     "text": [
      "[INFO/ForkPoolWorker-86] child process calling self.run()\n",
      "[DEBUG/ForkPoolWorker-89] INCREF '7f6984290508'\n"
     ]
    },
    {
     "name": "stdout",
     "output_type": "stream",
     "text": [
      "Starting ForkPoolWorker-85\n"
     ]
    },
    {
     "name": "stderr",
     "output_type": "stream",
     "text": [
      "[DEBUG/ForkPoolWorker-83] running all \"atexit\" finalizers with priority >= 0\n",
      "[DEBUG/ForkPoolWorker-88] INCREF '7f6984290508'\n",
      "[DEBUG/ForkPoolWorker-87] INCREF '7f6984259978'\n",
      "[DEBUG/ForkPoolWorker-85] worker exiting after 2 tasks\n",
      "[DEBUG/ForkPoolWorker-84] INCREF '7f6984259978'\n",
      "[DEBUG/ForkPoolWorker-83] DECREF '7f6984259978'\n",
      "[INFO/ForkPoolWorker-87] child process calling self.run()\n",
      "[INFO/ForkPoolWorker-85] process shutting down\n",
      "[DEBUG/ForkPoolWorker-89] INCREF '7f6984259978'\n"
     ]
    },
    {
     "name": "stdout",
     "output_type": "stream",
     "text": [
      "Starting ForkPoolWorker-87\n"
     ]
    },
    {
     "name": "stderr",
     "output_type": "stream",
     "text": [
      "[INFO/ForkPoolWorker-89] child process calling self.run()\n",
      "[DEBUG/ForkPoolWorker-82] worker exiting after 2 tasks\n",
      "[DEBUG/ForkPoolWorker-85] running all \"atexit\" finalizers with priority >= 0\n",
      "[DEBUG/ForkPoolWorker-87] worker exiting after 2 tasks\n"
     ]
    },
    {
     "name": "stdout",
     "output_type": "stream",
     "text": [
      "Starting ForkPoolWorker-86\n"
     ]
    },
    {
     "name": "stderr",
     "output_type": "stream",
     "text": [
      "[DEBUG/ForkPoolWorker-85] DECREF '7f6984259978'\n"
     ]
    },
    {
     "name": "stdout",
     "output_type": "stream",
     "text": [
      "Starting ForkPoolWorker-89\n"
     ]
    },
    {
     "name": "stderr",
     "output_type": "stream",
     "text": [
      "[DEBUG/MainProcess] closing pool\n",
      "[INFO/ForkPoolWorker-82] process shutting down\n",
      "[DEBUG/MainProcess] joining pool\n",
      "[INFO/ForkPoolWorker-87] process shutting down\n",
      "[INFO/ForkPoolWorker-84] child process calling self.run()\n",
      "[DEBUG/ForkPoolWorker-89] worker exiting after 2 tasks\n",
      "[DEBUG/ForkPoolWorker-87] running all \"atexit\" finalizers with priority >= 0\n",
      "[INFO/ForkPoolWorker-89] process shutting down\n",
      "[DEBUG/ForkPoolWorker-87] DECREF '7f6984259978'\n",
      "[DEBUG/ForkPoolWorker-89] running all \"atexit\" finalizers with priority >= 0\n",
      "[DEBUG/ForkPoolWorker-89] DECREF '7f6984259978'\n",
      "[DEBUG/ForkPoolWorker-88] INCREF '7f6984259978'\n",
      "[DEBUG/ForkPoolWorker-83] DECREF '7f6984290508'\n",
      "[DEBUG/ForkPoolWorker-82] running all \"atexit\" finalizers with priority >= 0\n",
      "[DEBUG/ForkPoolWorker-85] DECREF '7f6984290508'\n",
      "[INFO/ForkPoolWorker-88] child process calling self.run()\n",
      "[DEBUG/ForkPoolWorker-83] running the remaining \"atexit\" finalizers\n"
     ]
    },
    {
     "name": "stdout",
     "output_type": "stream",
     "text": [
      "Starting ForkPoolWorker-84\n"
     ]
    },
    {
     "name": "stderr",
     "output_type": "stream",
     "text": [
      "[DEBUG/ForkPoolWorker-82] DECREF '7f6984259978'\n",
      "[DEBUG/ForkPoolWorker-87] DECREF '7f6984290508'\n",
      "[DEBUG/ForkPoolWorker-85] running the remaining \"atexit\" finalizers\n"
     ]
    },
    {
     "name": "stdout",
     "output_type": "stream",
     "text": [
      "Starting ForkPoolWorker-88\n"
     ]
    },
    {
     "name": "stderr",
     "output_type": "stream",
     "text": [
      "[INFO/ForkPoolWorker-83] process exiting with exitcode 0\n",
      "[DEBUG/ForkPoolWorker-89] DECREF '7f6984290508'\n",
      "[DEBUG/ForkPoolWorker-82] DECREF '7f6984290508'\n",
      "[INFO/ForkPoolWorker-85] process exiting with exitcode 0\n",
      "[DEBUG/ForkPoolWorker-87] running the remaining \"atexit\" finalizers\n",
      "[DEBUG/ForkPoolWorker-89] running the remaining \"atexit\" finalizers\n",
      "[INFO/ForkPoolWorker-87] process exiting with exitcode 0\n",
      "[DEBUG/ForkPoolWorker-82] running the remaining \"atexit\" finalizers\n",
      "[INFO/ForkPoolWorker-89] process exiting with exitcode 0\n",
      "[INFO/ForkPoolWorker-82] process exiting with exitcode 0\n",
      "[DEBUG/MainProcess] worker handler exiting\n",
      "[DEBUG/MainProcess] task handler got sentinel\n",
      "[DEBUG/MainProcess] task handler sending sentinel to result handler\n",
      "[DEBUG/MainProcess] task handler sending sentinel to workers\n",
      "[DEBUG/MainProcess] task handler exiting\n",
      "[DEBUG/MainProcess] result handler got sentinel\n",
      "[DEBUG/MainProcess] ensuring that outqueue is not full\n",
      "[DEBUG/MainProcess] result handler exiting: len(cache)=0, thread._state=0\n",
      "[DEBUG/ForkPoolWorker-86] worker got sentinel -- exiting\n",
      "[DEBUG/ForkPoolWorker-88] worker got sentinel -- exiting\n",
      "[DEBUG/ForkPoolWorker-84] worker got sentinel -- exiting\n",
      "[DEBUG/ForkPoolWorker-86] worker exiting after 0 tasks\n",
      "[DEBUG/ForkPoolWorker-88] worker exiting after 0 tasks\n",
      "[DEBUG/ForkPoolWorker-84] worker exiting after 0 tasks\n",
      "[INFO/ForkPoolWorker-86] process shutting down\n",
      "[INFO/ForkPoolWorker-84] process shutting down\n",
      "[DEBUG/ForkPoolWorker-86] running all \"atexit\" finalizers with priority >= 0\n",
      "[INFO/ForkPoolWorker-88] process shutting down\n",
      "[DEBUG/ForkPoolWorker-86] DECREF '7f6984259978'\n",
      "[DEBUG/ForkPoolWorker-84] running all \"atexit\" finalizers with priority >= 0\n",
      "[DEBUG/ForkPoolWorker-86] DECREF '7f6984290508'\n",
      "[DEBUG/ForkPoolWorker-84] DECREF '7f6984259978'\n",
      "[DEBUG/ForkPoolWorker-88] running all \"atexit\" finalizers with priority >= 0\n",
      "[DEBUG/ForkPoolWorker-86] running the remaining \"atexit\" finalizers\n",
      "[DEBUG/ForkPoolWorker-84] DECREF '7f6984290508'\n",
      "[DEBUG/ForkPoolWorker-88] DECREF '7f6984259978'\n",
      "[INFO/ForkPoolWorker-86] process exiting with exitcode 0\n",
      "[DEBUG/ForkPoolWorker-84] running the remaining \"atexit\" finalizers\n",
      "[INFO/ForkPoolWorker-84] process exiting with exitcode 0\n",
      "[DEBUG/ForkPoolWorker-88] DECREF '7f6984290508'\n",
      "[DEBUG/ForkPoolWorker-88] running the remaining \"atexit\" finalizers\n",
      "[INFO/ForkPoolWorker-88] process exiting with exitcode 0\n"
     ]
    },
    {
     "name": "stdout",
     "output_type": "stream",
     "text": [
      "Pool    : [0, 2, 4, 6, 8, 10, 12, 14, 16, 18]\n"
     ]
    }
   ],
   "source": [
    "import multiprocessing\n",
    "\n",
    "def do_calculation(data):\n",
    "    return data * 2\n",
    "\n",
    "def start_process():\n",
    "    print('Starting', multiprocessing.current_process().name)\n",
    "\n",
    "if __name__ == '__main__':\n",
    "    inputs = list(range(10))\n",
    "    print('Input   :', inputs)\n",
    "    \n",
    "    builtin_outputs = map(do_calculation, inputs)\n",
    "    print('Built-in:', builtin_outputs)\n",
    "    \n",
    "    pool_size = multiprocessing.cpu_count() * 2\n",
    "    pool = multiprocessing.Pool(processes=pool_size,\n",
    "                                initializer=start_process,\n",
    "                                maxtasksperchild=2,\n",
    "                                )\n",
    "    pool_outputs = pool.map(do_calculation, inputs)\n",
    "    pool.close() # no more tasks\n",
    "    pool.join()  # wrap up current tasks\n",
    "    \n",
    "    print('Pool    :', pool_outputs)"
   ]
  },
  {
   "cell_type": "code",
   "execution_count": 22,
   "metadata": {
    "collapsed": false,
    "deletable": true,
    "editable": true
   },
   "outputs": [
    {
     "name": "stderr",
     "output_type": "stream",
     "text": [
      "[DEBUG/MainProcess] created semlock with handle 140091336810496\n",
      "[DEBUG/MainProcess] created semlock with handle 140091335471104\n",
      "[DEBUG/MainProcess] created semlock with handle 140091335467008\n",
      "[DEBUG/MainProcess] created semlock with handle 140091335462912\n"
     ]
    },
    {
     "name": "stdout",
     "output_type": "stream",
     "text": [
      "Input   : [0, 1, 2, 3, 4, 5, 6, 7, 8, 9]\n",
      "Built-in: <map object at 0x7f6984220fd0>\n"
     ]
    },
    {
     "name": "stderr",
     "output_type": "stream",
     "text": [
      "[DEBUG/MainProcess] added worker\n",
      "[DEBUG/ForkPoolWorker-90] Queue._after_fork()\n",
      "[DEBUG/ForkPoolWorker-90] Queue._after_fork()\n",
      "[DEBUG/MainProcess] added worker\n",
      "[DEBUG/ForkPoolWorker-90] Queue._after_fork()\n",
      "[DEBUG/MainProcess] added worker\n",
      "[DEBUG/ForkPoolWorker-91] Queue._after_fork()\n",
      "[DEBUG/ForkPoolWorker-91] Queue._after_fork()\n",
      "[DEBUG/MainProcess] added worker\n",
      "[DEBUG/ForkPoolWorker-90] INCREF '7f6984290508'\n",
      "[DEBUG/ForkPoolWorker-91] Queue._after_fork()\n",
      "[DEBUG/ForkPoolWorker-91] INCREF '7f6984290508'\n",
      "[DEBUG/MainProcess] added worker\n",
      "[DEBUG/MainProcess] added worker\n",
      "[DEBUG/ForkPoolWorker-91] INCREF '7f6984259978'\n",
      "[DEBUG/ForkPoolWorker-94] Queue._after_fork()\n",
      "[DEBUG/ForkPoolWorker-93] Queue._after_fork()\n",
      "[DEBUG/MainProcess] added worker\n",
      "[DEBUG/ForkPoolWorker-90] INCREF '7f6984259978'\n",
      "[DEBUG/ForkPoolWorker-92] Queue._after_fork()\n",
      "[DEBUG/ForkPoolWorker-92] Queue._after_fork()\n",
      "[INFO/ForkPoolWorker-90] child process calling self.run()\n",
      "[DEBUG/ForkPoolWorker-94] Queue._after_fork()\n",
      "[DEBUG/ForkPoolWorker-93] Queue._after_fork()\n",
      "[INFO/ForkPoolWorker-91] child process calling self.run()\n",
      "[DEBUG/ForkPoolWorker-95] Queue._after_fork()\n",
      "[DEBUG/MainProcess] added worker\n",
      "[DEBUG/ForkPoolWorker-92] Queue._after_fork()\n",
      "[DEBUG/MainProcess] finalizing pool\n",
      "[DEBUG/MainProcess] helping task handler/workers to finish\n",
      "[DEBUG/MainProcess] removing tasks from inqueue until task handler finished\n",
      "[DEBUG/MainProcess] joining worker handler\n",
      "[DEBUG/MainProcess] terminating workers\n",
      "[DEBUG/MainProcess] joining task handler\n"
     ]
    },
    {
     "name": "stdout",
     "output_type": "stream",
     "text": [
      "Starting ForkPoolWorker-90\n"
     ]
    },
    {
     "name": "stderr",
     "output_type": "stream",
     "text": [
      "[DEBUG/MainProcess] joining result handler\n",
      "[DEBUG/ForkPoolWorker-94] Queue._after_fork()\n",
      "[DEBUG/MainProcess] joining pool workers\n",
      "[DEBUG/ForkPoolWorker-93] Queue._after_fork()\n"
     ]
    },
    {
     "name": "stdout",
     "output_type": "stream",
     "text": [
      "Starting ForkPoolWorker-91\n"
     ]
    },
    {
     "name": "stderr",
     "output_type": "stream",
     "text": [
      "[DEBUG/ForkPoolWorker-97] Queue._after_fork()\n",
      "[DEBUG/ForkPoolWorker-96] Queue._after_fork()\n",
      "[DEBUG/ForkPoolWorker-95] Queue._after_fork()\n",
      "[DEBUG/ForkPoolWorker-95] Queue._after_fork()\n",
      "[DEBUG/ForkPoolWorker-96] Queue._after_fork()\n",
      "[DEBUG/ForkPoolWorker-92] INCREF '7f6984290508'\n",
      "[DEBUG/ForkPoolWorker-91] worker exiting after 2 tasks\n",
      "[DEBUG/ForkPoolWorker-90] worker exiting after 2 tasks\n",
      "[DEBUG/ForkPoolWorker-93] INCREF '7f6984290508'\n",
      "[DEBUG/ForkPoolWorker-97] Queue._after_fork()\n",
      "[DEBUG/ForkPoolWorker-96] Queue._after_fork()\n",
      "[INFO/ForkPoolWorker-91] process shutting down\n",
      "[DEBUG/ForkPoolWorker-91] running all \"atexit\" finalizers with priority >= 0\n",
      "[DEBUG/ForkPoolWorker-97] Queue._after_fork()\n",
      "[INFO/ForkPoolWorker-90] process shutting down\n",
      "[DEBUG/ForkPoolWorker-92] INCREF '7f6984259978'\n",
      "[DEBUG/ForkPoolWorker-91] DECREF '7f6984259978'\n",
      "[DEBUG/ForkPoolWorker-96] INCREF '7f6984290508'\n",
      "[DEBUG/ForkPoolWorker-93] INCREF '7f6984259978'\n",
      "[DEBUG/ForkPoolWorker-95] INCREF '7f6984290508'\n",
      "[INFO/ForkPoolWorker-92] child process calling self.run()\n",
      "[DEBUG/ForkPoolWorker-97] INCREF '7f6984290508'\n",
      "[DEBUG/ForkPoolWorker-90] running all \"atexit\" finalizers with priority >= 0\n",
      "[DEBUG/ForkPoolWorker-91] DECREF '7f6984290508'\n"
     ]
    },
    {
     "name": "stdout",
     "output_type": "stream",
     "text": [
      "Starting ForkPoolWorker-92\n"
     ]
    },
    {
     "name": "stderr",
     "output_type": "stream",
     "text": [
      "[INFO/ForkPoolWorker-93] child process calling self.run()\n",
      "[DEBUG/ForkPoolWorker-90] DECREF '7f6984259978'\n",
      "[DEBUG/ForkPoolWorker-96] INCREF '7f6984259978'\n",
      "[DEBUG/ForkPoolWorker-92] worker exiting after 2 tasks\n"
     ]
    },
    {
     "name": "stdout",
     "output_type": "stream",
     "text": [
      "Starting ForkPoolWorker-93\n"
     ]
    },
    {
     "name": "stderr",
     "output_type": "stream",
     "text": [
      "[DEBUG/ForkPoolWorker-93] worker exiting after 2 tasks\n",
      "[INFO/ForkPoolWorker-93] process shutting down\n",
      "[INFO/ForkPoolWorker-92] process shutting down\n",
      "[DEBUG/ForkPoolWorker-95] INCREF '7f6984259978'\n",
      "[INFO/ForkPoolWorker-96] child process calling self.run()\n",
      "[DEBUG/ForkPoolWorker-94] INCREF '7f6984290508'\n",
      "[DEBUG/ForkPoolWorker-91] running the remaining \"atexit\" finalizers\n",
      "[DEBUG/ForkPoolWorker-97] INCREF '7f6984259978'\n",
      "[DEBUG/ForkPoolWorker-92] running all \"atexit\" finalizers with priority >= 0\n",
      "[INFO/ForkPoolWorker-95] child process calling self.run()\n"
     ]
    },
    {
     "name": "stdout",
     "output_type": "stream",
     "text": [
      "Starting ForkPoolWorker-96\n"
     ]
    },
    {
     "name": "stderr",
     "output_type": "stream",
     "text": [
      "[DEBUG/MainProcess] closing pool\n",
      "[DEBUG/ForkPoolWorker-93] running all \"atexit\" finalizers with priority >= 0\n",
      "[DEBUG/MainProcess] joining pool\n",
      "[DEBUG/ForkPoolWorker-90] DECREF '7f6984290508'\n",
      "[INFO/ForkPoolWorker-97] child process calling self.run()\n"
     ]
    },
    {
     "name": "stdout",
     "output_type": "stream",
     "text": [
      "Starting ForkPoolWorker-95\n"
     ]
    },
    {
     "name": "stderr",
     "output_type": "stream",
     "text": [
      "[DEBUG/ForkPoolWorker-96] worker exiting after 2 tasks\n",
      "[INFO/ForkPoolWorker-91] process exiting with exitcode 0\n",
      "[DEBUG/ForkPoolWorker-92] DECREF '7f6984259978'\n",
      "[DEBUG/ForkPoolWorker-93] DECREF '7f6984259978'\n",
      "[DEBUG/ForkPoolWorker-94] INCREF '7f6984259978'\n"
     ]
    },
    {
     "name": "stdout",
     "output_type": "stream",
     "text": [
      "Starting ForkPoolWorker-97\n"
     ]
    },
    {
     "name": "stderr",
     "output_type": "stream",
     "text": [
      "[INFO/ForkPoolWorker-94] child process calling self.run()\n",
      "[DEBUG/ForkPoolWorker-92] DECREF '7f6984290508'\n",
      "[INFO/ForkPoolWorker-96] process shutting down\n",
      "[DEBUG/ForkPoolWorker-90] running the remaining \"atexit\" finalizers\n",
      "[DEBUG/ForkPoolWorker-96] running all \"atexit\" finalizers with priority >= 0\n"
     ]
    },
    {
     "name": "stdout",
     "output_type": "stream",
     "text": [
      "Starting ForkPoolWorker-94\n"
     ]
    },
    {
     "name": "stderr",
     "output_type": "stream",
     "text": [
      "[DEBUG/ForkPoolWorker-92] running the remaining \"atexit\" finalizers\n",
      "[DEBUG/ForkPoolWorker-96] DECREF '7f6984259978'\n",
      "[INFO/ForkPoolWorker-92] process exiting with exitcode 0\n",
      "[INFO/ForkPoolWorker-90] process exiting with exitcode 0\n",
      "[DEBUG/ForkPoolWorker-96] DECREF '7f6984290508'\n",
      "[DEBUG/ForkPoolWorker-93] DECREF '7f6984290508'\n",
      "[DEBUG/ForkPoolWorker-96] running the remaining \"atexit\" finalizers\n",
      "[DEBUG/ForkPoolWorker-93] running the remaining \"atexit\" finalizers\n",
      "[INFO/ForkPoolWorker-96] process exiting with exitcode 0\n",
      "[INFO/ForkPoolWorker-93] process exiting with exitcode 0\n",
      "[DEBUG/MainProcess] worker handler exiting\n",
      "[DEBUG/MainProcess] task handler got sentinel\n",
      "[DEBUG/MainProcess] task handler sending sentinel to result handler\n",
      "[DEBUG/MainProcess] task handler sending sentinel to workers\n",
      "[DEBUG/MainProcess] result handler got sentinel\n",
      "[DEBUG/MainProcess] ensuring that outqueue is not full\n",
      "[DEBUG/ForkPoolWorker-97] worker got sentinel -- exiting\n",
      "[DEBUG/MainProcess] result handler exiting: len(cache)=0, thread._state=0\n",
      "[DEBUG/ForkPoolWorker-94] worker got sentinel -- exiting\n",
      "[DEBUG/MainProcess] task handler exiting\n",
      "[DEBUG/ForkPoolWorker-97] worker exiting after 0 tasks\n",
      "[INFO/ForkPoolWorker-97] process shutting down\n",
      "[DEBUG/ForkPoolWorker-94] worker exiting after 0 tasks\n",
      "[INFO/ForkPoolWorker-94] process shutting down\n",
      "[DEBUG/ForkPoolWorker-97] running all \"atexit\" finalizers with priority >= 0\n",
      "[DEBUG/ForkPoolWorker-94] running all \"atexit\" finalizers with priority >= 0\n",
      "[DEBUG/ForkPoolWorker-97] DECREF '7f6984259978'\n",
      "[DEBUG/ForkPoolWorker-94] DECREF '7f6984259978'\n",
      "[DEBUG/ForkPoolWorker-97] DECREF '7f6984290508'\n",
      "[DEBUG/ForkPoolWorker-94] DECREF '7f6984290508'\n",
      "[DEBUG/ForkPoolWorker-95] worker got sentinel -- exiting\n",
      "[DEBUG/ForkPoolWorker-94] running the remaining \"atexit\" finalizers\n",
      "[DEBUG/ForkPoolWorker-97] running the remaining \"atexit\" finalizers\n",
      "[DEBUG/ForkPoolWorker-95] worker exiting after 0 tasks\n",
      "[INFO/ForkPoolWorker-94] process exiting with exitcode 0\n",
      "[INFO/ForkPoolWorker-97] process exiting with exitcode 0\n",
      "[INFO/ForkPoolWorker-95] process shutting down\n",
      "[DEBUG/ForkPoolWorker-95] running all \"atexit\" finalizers with priority >= 0\n",
      "[DEBUG/ForkPoolWorker-95] DECREF '7f6984259978'\n",
      "[DEBUG/ForkPoolWorker-95] DECREF '7f6984290508'\n",
      "[DEBUG/ForkPoolWorker-95] running the remaining \"atexit\" finalizers\n",
      "[INFO/ForkPoolWorker-95] process exiting with exitcode 0\n"
     ]
    },
    {
     "name": "stdout",
     "output_type": "stream",
     "text": [
      "Pool    : [0, 2, 4, 6, 8, 10, 12, 14, 16, 18]\n"
     ]
    }
   ],
   "source": [
    "import multiprocessing\n",
    "\n",
    "def do_calculation(data):\n",
    "    return data * 2\n",
    "\n",
    "def start_process():\n",
    "    print('Starting', multiprocessing.current_process().name)\n",
    "\n",
    "if __name__ == '__main__':\n",
    "    inputs = list(range(10))\n",
    "    print('Input   :', inputs)\n",
    "    \n",
    "    builtin_outputs = map(do_calculation, inputs)\n",
    "    print('Built-in:', builtin_outputs)\n",
    "    \n",
    "    pool_size = multiprocessing.cpu_count() * 2\n",
    "    pool = multiprocessing.Pool(processes=pool_size,\n",
    "                                initializer=start_process,\n",
    "                                maxtasksperchild=2,\n",
    "                                )\n",
    "    pool_outputs = pool.map(do_calculation, inputs)\n",
    "    pool.close() # no more tasks\n",
    "    pool.join()  # wrap up current tasks\n",
    "    \n",
    "    print('Pool    :', pool_outputs)"
   ]
  },
  {
   "cell_type": "markdown",
   "metadata": {
    "deletable": true,
    "editable": true
   },
   "source": [
    "#### Что почитать"
   ]
  },
  {
   "cell_type": "markdown",
   "metadata": {
    "deletable": true,
    "editable": true
   },
   "source": [
    "* https://docs.python.org/3/library/multiprocessing.html\n",
    "* https://pymotw.com/3/multiprocessing/index.html\n",
    "* https://habrahabr.ru/post/167503/\n",
    "* https://www.ibm.com/developerworks/aix/library/au-multiprocessing/index.html"
   ]
  },
  {
   "cell_type": "markdown",
   "metadata": {
    "deletable": true,
    "editable": true
   },
   "source": [
    "## Несколько интересных библиотек для параллельного выполнения"
   ]
  },
  {
   "cell_type": "markdown",
   "metadata": {
    "deletable": true,
    "editable": true
   },
   "source": [
    "* ipython shell\n",
    "* pp\n",
    "* pyMPI\n",
    "* и др."
   ]
  },
  {
   "cell_type": "markdown",
   "metadata": {
    "deletable": true,
    "editable": true
   },
   "source": [
    "Почитать про библиотеки и способы:\n",
    "* https://wiki.python.org/moin/ParallelProcessing\n",
    "* http://www.python-course.eu/forking.php\n",
    "* http://www.davekuhlman.org/python_multiprocessing_01.html\n",
    "* http://materials.jeremybejarano.com/MPIwithPython/\n",
    "* https://pythonhosted.org/mpi4py/"
   ]
  }
 ],
 "metadata": {
  "kernelspec": {
   "display_name": "Python 3",
   "language": "python",
   "name": "python3"
  },
  "language_info": {
   "codemirror_mode": {
    "name": "ipython",
    "version": 3
   },
   "file_extension": ".py",
   "mimetype": "text/x-python",
   "name": "python",
   "nbconvert_exporter": "python",
   "pygments_lexer": "ipython3",
   "version": "3.5.2"
  }
 },
 "nbformat": 4,
 "nbformat_minor": 0
}
