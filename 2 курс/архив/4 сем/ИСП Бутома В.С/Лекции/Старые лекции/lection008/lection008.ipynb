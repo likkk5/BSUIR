{
 "cells": [
  {
   "cell_type": "markdown",
   "metadata": {
    "deletable": true,
    "editable": true
   },
   "source": [
    "# Лекция 8: строки, кодировки и Python"
   ]
  },
  {
   "cell_type": "markdown",
   "metadata": {
    "deletable": true,
    "editable": true
   },
   "source": [
    "## Разговор про строки в общем"
   ]
  },
  {
   "cell_type": "markdown",
   "metadata": {
    "deletable": true,
    "editable": true
   },
   "source": [
    "Краткий конспект этой части:"
   ]
  },
  {
   "cell_type": "markdown",
   "metadata": {
    "deletable": true,
    "editable": true
   },
   "source": [
    "* Символы и строки как абстрактное понятие без привязки к битам.\n",
    "* Способы представления (Си-строки, длина и идея lenval)\n",
    "* Хранение (сжатие, интернирование, cow, ropes, бор (trie), лексикографический порядок)\n",
    "* Алгоритмы (поиск подстроки, расстояние между строками, поиск в множестве по совпадению точному и нет). "
   ]
  },
  {
   "cell_type": "markdown",
   "metadata": {
    "deletable": true,
    "editable": true
   },
   "source": [
    "Почитать:"
   ]
  },
  {
   "cell_type": "markdown",
   "metadata": {
    "deletable": true,
    "editable": true
   },
   "source": [
    "* https://ru.wikipedia.org/wiki/Строковый_тип\n",
    "* https://en.wikipedia.org/wiki/String_(computer_science)\n",
    "* Билл Смит, \"Методы и алгоритмы вычислений на строках\"\n",
    "* http://neerc.ifmo.ru/wiki/index.php?title=%D0%90%D0%BB%D0%B3%D0%BE%D1%80%D0%B8%D1%82%D0%BC%D1%8B_%D0%BD%D0%B0_%D1%81%D1%82%D1%80%D0%BE%D0%BA%D0%B0%D1%85\n",
    "* http://russian.joelonsoftware.com/Articles/BacktoBasics.html\n",
    "* https://queue.acm.org/detail.cfm?id=2010365"
   ]
  },
  {
   "cell_type": "markdown",
   "metadata": {
    "deletable": true,
    "editable": true
   },
   "source": [
    "## Кодировки и стандарт Unicode"
   ]
  },
  {
   "cell_type": "markdown",
   "metadata": {
    "deletable": true,
    "editable": true
   },
   "source": [
    "### Что такое кодировки и как появились"
   ]
  },
  {
   "cell_type": "markdown",
   "metadata": {
    "deletable": true,
    "editable": true
   },
   "source": [
    "#### Что такое кодировка?"
   ]
  },
  {
   "cell_type": "markdown",
   "metadata": {
    "deletable": true,
    "editable": true
   },
   "source": [
    "* В компьютере данные представлены в виде набора бит объединённых в байты.\n",
    "* Биты и байты можно можно использовать для записи текста.\n",
    "* Формат представления текста в бинарном виде называется кодировкой."
   ]
  },
  {
   "cell_type": "markdown",
   "metadata": {
    "deletable": true,
    "editable": true
   },
   "source": [
    "#### ASCII"
   ]
  },
  {
   "cell_type": "markdown",
   "metadata": {
    "deletable": true,
    "editable": true
   },
   "source": [
    "* American Standard Code for Information\n",
    "* 1968 год\n",
    "* Определяла коды для символов, от 0 до 127.\n",
    "* В основном состояла из строчных и прописных символов английского алфавита, цифр, пунктуации, математических символов и специальных управляющих кодов.\n",
    "* 'a' = 97\n",
    "* \"a..z\" (и \"A..Z\") идут подряд (не во всех кодировках так)"
   ]
  },
  {
   "cell_type": "markdown",
   "metadata": {
    "deletable": true,
    "editable": true
   },
   "source": [
    "#### Локальные альтернативы ascii\n",
    "* Американский стандарт, не было нужных символов с диакритикой (французский) или просто символов алфавита (русский). Какое-то время с этим мирились.\n",
    "* Некоторые компании создавали свои альтернативы, но они не были общеприняты.\n",
    "* В 1980 большинство персональных компьютеров имели 8-битные байты, поэтому можно было хранить значения 0..255.\n",
    "* Альтернативные кодировки дополняли ascii дописывая используя вторую половину байта.\n",
    "* Примеры: для русского (koi8-r, cp1251), французского (latin1) и т.д. "
   ]
  },
  {
   "cell_type": "markdown",
   "metadata": {
    "deletable": true,
    "editable": true
   },
   "source": [
    "#### Проблемы с однобайтовыми кодировками"
   ]
  },
  {
   "cell_type": "markdown",
   "metadata": {
    "deletable": true,
    "editable": true
   },
   "source": [
    "* Сложно использовать несколько языков одновременно.\n",
    "* Нетривиальность определения кодировок при совместном использовании (поэтому обычно использовали одну).\n",
    "* Неправильное отображение при неправильном определении.\n",
    "* Неуниверсальность записи различных данных."
   ]
  },
  {
   "cell_type": "markdown",
   "metadata": {
    "deletable": true,
    "editable": true
   },
   "source": [
    "### Стандарт Unicode"
   ]
  },
  {
   "cell_type": "markdown",
   "metadata": {
    "deletable": true,
    "editable": true
   },
   "source": [
    "#####  Начало стандартизации"
   ]
  },
  {
   "cell_type": "markdown",
   "metadata": {
    "deletable": true,
    "editable": true
   },
   "source": [
    "* В 1980-х люди хотели решить проблемы связанные с использованием однобайтных кодировок.\n",
    "* Началось движение в сторону стандартизации общего Unicode формата представления и записи символов.\n",
    "* Сначала хотели 16-битные символы, но оказалось мало.\n",
    "* Решили формально не ограничивать пространство кодов (но по факту сейчас все символы помещаются в 4 байта и расширять пока не планируется)."
   ]
  },
  {
   "cell_type": "markdown",
   "metadata": {
    "deletable": true,
    "editable": true
   },
   "source": [
    "##### Две основные части стандарта"
   ]
  },
  {
   "cell_type": "markdown",
   "metadata": {
    "deletable": true,
    "editable": true
   },
   "source": [
    "* UCS (universal character set) - универсальный набор символов Unicode, задано соответствие между символом и кодом.\n",
    "* UTF (unicode transformation format) - семейство кодировок определяет машинное представление последовательности кодов UCS."
   ]
  },
  {
   "cell_type": "markdown",
   "metadata": {
    "deletable": true,
    "editable": true
   },
   "source": [
    "##### Определения\n",
    "* Символ (character) - наименьшая единица текста ('A', 'È', 'Ω' и ...).\n",
    "* Точка кода (code point) - целое число из таблицы отображения символов на коды, представляет отдельный символ.\n",
    "* Глиф (glyph) - графические элементы записи конкретного символа (обычно обрабатываются прозрачно для нас, заботу на себя берёт ОС, браузер, GUI).\n",
    "* Юникод (Unicode) - стандарт кодирования символов, по сути представляет собой таблицу с описаниями символов, правила и рекомендации их представления и использования. \n",
    "* Кодировка - правила перевода символов Unicode в последовательность байт (UTF часть стандарта)."
   ]
  },
  {
   "cell_type": "markdown",
   "metadata": {
    "deletable": true,
    "editable": true
   },
   "source": [
    "##### Детальнее про внутреннее представление"
   ]
  },
  {
   "cell_type": "markdown",
   "metadata": {
    "deletable": true,
    "editable": true
   },
   "source": [
    "* https://ru.wikipedia.org/wiki/Юникод\n",
    "* https://www.unicode.org/faq/"
   ]
  },
  {
   "cell_type": "markdown",
   "metadata": {
    "deletable": true,
    "editable": true
   },
   "source": [
    "#### Кодировки и Unicode"
   ]
  },
  {
   "cell_type": "markdown",
   "metadata": {
    "deletable": true,
    "editable": true
   },
   "source": [
    "* Кодировки могут быть постоянного и переменного размера.\n",
    "* Постоянного:\n",
    "  * latin1 (однобайтовая, не юникод)\n",
    "  * UCS-2 (двухбайтовая; аналог UTF-16 без суррогатных пар)\n",
    "  * UCS-4 (четырёхбайтовая, синоним UTF-32).\n",
    "* Переменного:\n",
    "  * UTF-8"
   ]
  },
  {
   "cell_type": "markdown",
   "metadata": {
    "deletable": true,
    "editable": true
   },
   "source": [
    "#### UTF-16 и UTF-32"
   ]
  },
  {
   "cell_type": "markdown",
   "metadata": {
    "deletable": true,
    "editable": true
   },
   "source": [
    "* 2 и 4 байтовые юникод кодировки.\n",
    "* Фиксированной длинны.\n",
    "* Важен порядок байт: BE (big-endian) или LE (little-endian).\n",
    "* В начале файлов часто бывает символ BOM - byte order mark - обозначающий BE или LE.\n",
    "* Из-за BOM могут возникать проблемы. Важно понимать, когда он есть и когда его убирать.\n",
    "* А лучше использовать UTF-8."
   ]
  },
  {
   "cell_type": "markdown",
   "metadata": {
    "deletable": true,
    "editable": true
   },
   "source": [
    "#### UTF-8"
   ]
  },
  {
   "cell_type": "markdown",
   "metadata": {
    "deletable": true,
    "editable": true
   },
   "source": [
    "##### Правила записи UTF-8"
   ]
  },
  {
   "cell_type": "markdown",
   "metadata": {
    "deletable": true,
    "editable": true
   },
   "source": [
    "* Если код меньше 128, то просто записываем байт.\n",
    "* Если код между 128 и 0x7ff, то записываем два байта со значениями между 128 и 255.\n",
    "* Для кодов больше 0x7ff используются трёх и четырёх байтовые последовательности, каждый байт со значениями между 128 и 255.\n",
    "* Теоретически, расширяется до 6 байт, но на практике (в текущем Unicode) хватает только 4 байт, т.к. нет символов с кодом больше 0x10FFFF)."
   ]
  },
  {
   "cell_type": "markdown",
   "metadata": {
    "deletable": true,
    "editable": true
   },
   "source": [
    "Unicode UTF-8:\n",
    "* 0x00000000 — 0x0000007F: 0xxxxxxx\n",
    "* 0x00000080 — 0x000007FF: 110xxxxx 10xxxxxx\n",
    "* 0x00000800 — 0x0000FFFF: 1110xxxx 10xxxxxx 10xxxxxx\n",
    "* 0x00010000 — 0x001FFFFF: 11110xxx 10xxxxxx 10xxxxxx 10xxxxxx"
   ]
  },
  {
   "cell_type": "markdown",
   "metadata": {
    "deletable": true,
    "editable": true
   },
   "source": [
    "Теоретически возможны, но не включены в стандарт также:\n",
    "\n",
    "* 0x00200000 — 0x03FFFFFF: 111110xx 10xxxxxx 10xxxxxx 10xxxxxx 10xxxxxx\n",
    "* 0x04000000 — 0x7FFFFFFF: 1111110x 10xxxxxx 10xxxxxx 10xxxxxx 10xxxxxx 10xxxxxx"
   ]
  },
  {
   "cell_type": "markdown",
   "metadata": {
    "deletable": true,
    "editable": true
   },
   "source": [
    "Замечания:\n",
    "* Несмотря на то, что UTF-8 позволяет указать один и тот же символ несколькими способами, только наиболее короткий из них правильный.\n",
    "* Остальные формы должны отвергаться по соображениям безопасности."
   ]
  },
  {
   "cell_type": "markdown",
   "metadata": {
    "deletable": true,
    "editable": true
   },
   "source": [
    "##### Удобные свойства UTF-8\n",
    "* Можно записать любой существующий символ Unicode.\n",
    "* В записях utf-8 символов нет промежуточных нулевых байт, поэтому такие строки совместимы с C-функциями вроде strcpy и т.д., а также могут передаваться по протоколам не поддерживающим промежуточные нулевые байты.\n",
    "* Строка ASCII - валидный UTF-8 текст.\n",
    "* UTF-8 достаточно компактен: большинство используемых символов помещаются в 1-2 байтовые последовательности.\n",
    "* В случае повреждения или потери данных можно определить начало следующего UTF-8 кода и продолжить с этого места (+ маловероятно, что случайные данные будут выглядеть как UTF-8)."
   ]
  },
  {
   "cell_type": "markdown",
   "metadata": {
    "deletable": true,
    "editable": true
   },
   "source": [
    "## Работа с кодировками в Python"
   ]
  },
  {
   "cell_type": "markdown",
   "metadata": {
    "deletable": true,
    "editable": true
   },
   "source": [
    "Работаем с кодировками когда:\n",
    "* На входе и выходе данных программы.\n",
    "* Форматы хранения."
   ]
  },
  {
   "cell_type": "markdown",
   "metadata": {
    "deletable": true,
    "editable": true
   },
   "source": [
    "### Байты и текст"
   ]
  },
  {
   "cell_type": "markdown",
   "metadata": {
    "deletable": true,
    "editable": true
   },
   "source": [
    "* bytes - байты, строка как последовательности байт полученная в результате чтения из источников и/или кодирования/декодирования между форматами.\n",
    "* str - строка, юникод-строка в кодировке utf-8.\n",
    "* Оба типа immutable."
   ]
  },
  {
   "cell_type": "markdown",
   "metadata": {
    "deletable": true,
    "editable": true
   },
   "source": [
    "#### bytes\n",
    "* b\"...\" - литерал для последовательности байт.\n",
    "* bytes(iterable_of_ints) - последовательность чисел в последовательность байт.\n",
    "* bytes(string, encoding[, errors]) - превратить str строку в байты.\n",
    "* bytes(bytes_or_buffer) - неизменяемый вариант переданного буфера или копия bytes-объекта.\n",
    "* bytes(int) - набор null-байтов длины входного int\n",
    "* bytes() - пустой объект\n",
    "* Есть редко нужный в повседневном использовании mutable-вариант bytearray."
   ]
  },
  {
   "cell_type": "code",
   "execution_count": 1,
   "metadata": {
    "collapsed": false,
    "deletable": true,
    "editable": true
   },
   "outputs": [
    {
     "data": {
      "text/plain": [
       "b'abcdef'"
      ]
     },
     "execution_count": 1,
     "metadata": {},
     "output_type": "execute_result"
    }
   ],
   "source": [
    "b'abcdef'"
   ]
  },
  {
   "cell_type": "code",
   "execution_count": 2,
   "metadata": {
    "collapsed": false,
    "deletable": true,
    "editable": true
   },
   "outputs": [
    {
     "data": {
      "text/plain": [
       "b'e'"
      ]
     },
     "execution_count": 2,
     "metadata": {},
     "output_type": "execute_result"
    }
   ],
   "source": [
    "b'\\x65'"
   ]
  },
  {
   "cell_type": "code",
   "execution_count": 3,
   "metadata": {
    "collapsed": false,
    "deletable": true,
    "editable": true
   },
   "outputs": [
    {
     "data": {
      "text/plain": [
       "bytes"
      ]
     },
     "execution_count": 3,
     "metadata": {},
     "output_type": "execute_result"
    }
   ],
   "source": [
    "type(b'\\x65')"
   ]
  },
  {
   "cell_type": "code",
   "execution_count": 4,
   "metadata": {
    "collapsed": false,
    "deletable": true,
    "editable": true
   },
   "outputs": [
    {
     "data": {
      "text/plain": [
       "b'abcdef'"
      ]
     },
     "execution_count": 4,
     "metadata": {},
     "output_type": "execute_result"
    }
   ],
   "source": [
    "bytes(\"abcdef\", encoding=\"utf-8\")"
   ]
  },
  {
   "cell_type": "markdown",
   "metadata": {
    "deletable": true,
    "editable": true
   },
   "source": [
    "#### str\n",
    "* \"...\" или '...' или \"\"\"...\"\"\" - строковый литерал.\n",
    "* str(bytes_or_buffer[, encoding, errors]) - конвертировать байтовую последовательность в строку.\n",
    "* str(object='') - превратить объект в строку (\\_\\_str\\_\\_, repr)"
   ]
  },
  {
   "cell_type": "code",
   "execution_count": 5,
   "metadata": {
    "collapsed": false,
    "deletable": true,
    "editable": true
   },
   "outputs": [
    {
     "data": {
      "text/plain": [
       "'abcdef'"
      ]
     },
     "execution_count": 5,
     "metadata": {},
     "output_type": "execute_result"
    }
   ],
   "source": [
    "'abcdef'"
   ]
  },
  {
   "cell_type": "code",
   "execution_count": 6,
   "metadata": {
    "collapsed": true,
    "deletable": true,
    "editable": true
   },
   "outputs": [],
   "source": [
    "s = str('abcdef')"
   ]
  },
  {
   "cell_type": "code",
   "execution_count": 7,
   "metadata": {
    "collapsed": false,
    "deletable": true,
    "editable": true
   },
   "outputs": [
    {
     "data": {
      "text/plain": [
       "str"
      ]
     },
     "execution_count": 7,
     "metadata": {},
     "output_type": "execute_result"
    }
   ],
   "source": [
    "type(s)"
   ]
  },
  {
   "cell_type": "code",
   "execution_count": 8,
   "metadata": {
    "collapsed": false,
    "deletable": true,
    "editable": true,
    "scrolled": true
   },
   "outputs": [
    {
     "data": {
      "text/plain": [
       "\"<class 'str'>\""
      ]
     },
     "execution_count": 8,
     "metadata": {},
     "output_type": "execute_result"
    }
   ],
   "source": [
    "str(str)"
   ]
  },
  {
   "cell_type": "markdown",
   "metadata": {
    "deletable": true,
    "editable": true
   },
   "source": [
    "Аргумент errors определяет поведение при ошибке:\n",
    "* 'strict' - (выбран по-умолчанию) выбрасывать исключение UnicodeDecodeError.\n",
    "* 'replace' - замена проблемных символов на U+FFFD (‘REPLACEMENT CHARACTER’).\n",
    "* 'ignore' - пропустить проблемный символ, не учитывать его в результирующей юникод записи."
   ]
  },
  {
   "cell_type": "code",
   "execution_count": 9,
   "metadata": {
    "collapsed": false,
    "deletable": true,
    "editable": true
   },
   "outputs": [
    {
     "ename": "UnicodeDecodeError",
     "evalue": "'utf-8' codec can't decode byte 0x80 in position 0: invalid start byte",
     "output_type": "error",
     "traceback": [
      "\u001b[0;31m---------------------------------------------------------------------------\u001b[0m",
      "\u001b[0;31mUnicodeDecodeError\u001b[0m                        Traceback (most recent call last)",
      "\u001b[0;32m<ipython-input-9-c131963a87da>\u001b[0m in \u001b[0;36m<module>\u001b[0;34m()\u001b[0m\n\u001b[0;32m----> 1\u001b[0;31m \u001b[0mstr\u001b[0m\u001b[0;34m(\u001b[0m\u001b[0;34mb'\\x80abc'\u001b[0m\u001b[0;34m,\u001b[0m \u001b[0merrors\u001b[0m\u001b[0;34m=\u001b[0m\u001b[0;34m'strict'\u001b[0m\u001b[0;34m)\u001b[0m\u001b[0;34m\u001b[0m\u001b[0m\n\u001b[0m",
      "\u001b[0;31mUnicodeDecodeError\u001b[0m: 'utf-8' codec can't decode byte 0x80 in position 0: invalid start byte"
     ]
    }
   ],
   "source": [
    "str(b'\\x80abc', errors='strict')  "
   ]
  },
  {
   "cell_type": "code",
   "execution_count": 10,
   "metadata": {
    "collapsed": false,
    "deletable": true,
    "editable": true
   },
   "outputs": [
    {
     "data": {
      "text/plain": [
       "'�abc'"
      ]
     },
     "execution_count": 10,
     "metadata": {},
     "output_type": "execute_result"
    }
   ],
   "source": [
    "str(b'\\x80abc', errors='replace')"
   ]
  },
  {
   "cell_type": "code",
   "execution_count": 11,
   "metadata": {
    "collapsed": false,
    "deletable": true,
    "editable": true
   },
   "outputs": [
    {
     "data": {
      "text/plain": [
       "'abc'"
      ]
     },
     "execution_count": 11,
     "metadata": {},
     "output_type": "execute_result"
    }
   ],
   "source": [
    "str(b'\\x80abc', errors='ignore')"
   ]
  },
  {
   "cell_type": "markdown",
   "metadata": {
    "deletable": true,
    "editable": true
   },
   "source": [
    "Можно создавать односимвольные строки из чисел:"
   ]
  },
  {
   "cell_type": "code",
   "execution_count": 12,
   "metadata": {
    "collapsed": false,
    "deletable": true,
    "editable": true
   },
   "outputs": [
    {
     "data": {
      "text/plain": [
       "'ꀀ'"
      ]
     },
     "execution_count": 12,
     "metadata": {},
     "output_type": "execute_result"
    }
   ],
   "source": [
    "chr(40960)"
   ]
  },
  {
   "cell_type": "markdown",
   "metadata": {
    "deletable": true,
    "editable": true
   },
   "source": [
    "И обратно:"
   ]
  },
  {
   "cell_type": "code",
   "execution_count": 13,
   "metadata": {
    "collapsed": false,
    "deletable": true,
    "editable": true,
    "scrolled": true
   },
   "outputs": [
    {
     "data": {
      "text/plain": [
       "40960"
      ]
     },
     "execution_count": 13,
     "metadata": {},
     "output_type": "execute_result"
    }
   ],
   "source": [
    "ord('\\ua000')"
   ]
  },
  {
   "cell_type": "markdown",
   "metadata": {
    "deletable": true,
    "editable": true
   },
   "source": [
    "### Кодирование и декодирование"
   ]
  },
  {
   "cell_type": "markdown",
   "metadata": {
    "deletable": true,
    "editable": true
   },
   "source": [
    "* Кодировка в Python задаётся своим названием (таблица встроенных кодировок https://docs.python.org/3.5/library/codecs.html#standard-encodings).\n",
    "* Методы encode (и decode) используют имя кодировки для явного указания целевой кодировки (кодировки источника)."
   ]
  },
  {
   "cell_type": "markdown",
   "metadata": {
    "deletable": true,
    "editable": true
   },
   "source": [
    "#### .encode([encoding], [errors='strict'])"
   ]
  },
  {
   "cell_type": "markdown",
   "metadata": {
    "deletable": true,
    "editable": true
   },
   "source": [
    "Конвертация str() строки в bytes() с указанной кодировкой encoding."
   ]
  },
  {
   "cell_type": "code",
   "execution_count": 14,
   "metadata": {
    "collapsed": false,
    "deletable": true,
    "editable": true
   },
   "outputs": [
    {
     "name": "stdout",
     "output_type": "stream",
     "text": [
      "ꀀabcd޴\n"
     ]
    }
   ],
   "source": [
    "u = chr(40960) + 'abcd' + chr(1972)\n",
    "print(u)"
   ]
  },
  {
   "cell_type": "code",
   "execution_count": 15,
   "metadata": {
    "collapsed": false,
    "deletable": true,
    "editable": true
   },
   "outputs": [
    {
     "data": {
      "text/plain": [
       "b'\\xea\\x80\\x80abcd\\xde\\xb4'"
      ]
     },
     "execution_count": 15,
     "metadata": {},
     "output_type": "execute_result"
    }
   ],
   "source": [
    "u.encode('utf-8')"
   ]
  },
  {
   "cell_type": "code",
   "execution_count": 16,
   "metadata": {
    "collapsed": false,
    "deletable": true,
    "editable": true
   },
   "outputs": [
    {
     "name": "stdout",
     "output_type": "stream",
     "text": [
      "['0b11101010', '0b10000000', '0b10000000', '0b1100001', '0b1100010', '0b1100011', '0b1100100', '0b11011110', '0b10110100']\n"
     ]
    }
   ],
   "source": [
    "print([bin(elem) for elem in u.encode('utf-8')])"
   ]
  },
  {
   "cell_type": "code",
   "execution_count": 17,
   "metadata": {
    "collapsed": false,
    "deletable": true,
    "editable": true
   },
   "outputs": [
    {
     "ename": "UnicodeEncodeError",
     "evalue": "'ascii' codec can't encode character '\\ua000' in position 0: ordinal not in range(128)",
     "output_type": "error",
     "traceback": [
      "\u001b[0;31m---------------------------------------------------------------------------\u001b[0m",
      "\u001b[0;31mUnicodeEncodeError\u001b[0m                        Traceback (most recent call last)",
      "\u001b[0;32m<ipython-input-17-186a5a4d99f6>\u001b[0m in \u001b[0;36m<module>\u001b[0;34m()\u001b[0m\n\u001b[0;32m----> 1\u001b[0;31m \u001b[0mu\u001b[0m\u001b[0;34m.\u001b[0m\u001b[0mencode\u001b[0m\u001b[0;34m(\u001b[0m\u001b[0;34m'ascii'\u001b[0m\u001b[0;34m)\u001b[0m\u001b[0;34m\u001b[0m\u001b[0m\n\u001b[0m",
      "\u001b[0;31mUnicodeEncodeError\u001b[0m: 'ascii' codec can't encode character '\\ua000' in position 0: ordinal not in range(128)"
     ]
    }
   ],
   "source": [
    "u.encode('ascii')"
   ]
  },
  {
   "cell_type": "code",
   "execution_count": 18,
   "metadata": {
    "collapsed": false,
    "deletable": true,
    "editable": true
   },
   "outputs": [
    {
     "data": {
      "text/plain": [
       "b'abcd'"
      ]
     },
     "execution_count": 18,
     "metadata": {},
     "output_type": "execute_result"
    }
   ],
   "source": [
    "u.encode('ascii', 'ignore')"
   ]
  },
  {
   "cell_type": "code",
   "execution_count": 19,
   "metadata": {
    "collapsed": false,
    "deletable": true,
    "editable": true
   },
   "outputs": [
    {
     "data": {
      "text/plain": [
       "b'?abcd?'"
      ]
     },
     "execution_count": 19,
     "metadata": {},
     "output_type": "execute_result"
    }
   ],
   "source": [
    "u.encode('ascii', 'replace')"
   ]
  },
  {
   "cell_type": "code",
   "execution_count": 20,
   "metadata": {
    "collapsed": false,
    "deletable": true,
    "editable": true
   },
   "outputs": [
    {
     "data": {
      "text/plain": [
       "b'&#40960;abcd&#1972;'"
      ]
     },
     "execution_count": 20,
     "metadata": {},
     "output_type": "execute_result"
    }
   ],
   "source": [
    "u.encode('ascii', 'xmlcharrefreplace')"
   ]
  },
  {
   "cell_type": "markdown",
   "metadata": {
    "deletable": true,
    "editable": true
   },
   "source": [
    "#### .decode([encoding], [errors])"
   ]
  },
  {
   "cell_type": "markdown",
   "metadata": {
    "deletable": true,
    "editable": true
   },
   "source": [
    "Конвертация bytes() в str() предполагая, что bytes() имеет кодировку encoding."
   ]
  },
  {
   "cell_type": "code",
   "execution_count": 21,
   "metadata": {
    "collapsed": true,
    "deletable": true,
    "editable": true
   },
   "outputs": [],
   "source": [
    "u = chr(40960) + u'abcd' + chr(1972) # Assemble a string"
   ]
  },
  {
   "cell_type": "code",
   "execution_count": 22,
   "metadata": {
    "collapsed": false,
    "deletable": true,
    "editable": true
   },
   "outputs": [],
   "source": [
    "utf16_version = u.encode('utf-16') # Encode as UTF-16"
   ]
  },
  {
   "cell_type": "code",
   "execution_count": 23,
   "metadata": {
    "collapsed": false,
    "deletable": true,
    "editable": true,
    "scrolled": true
   },
   "outputs": [
    {
     "data": {
      "text/plain": [
       "(bytes, b'\\xff\\xfe\\x00\\xa0a\\x00b\\x00c\\x00d\\x00\\xb4\\x07', 14)"
      ]
     },
     "execution_count": 23,
     "metadata": {},
     "output_type": "execute_result"
    }
   ],
   "source": [
    "type(utf16_version), utf16_version, len(utf16_version)"
   ]
  },
  {
   "cell_type": "markdown",
   "metadata": {
    "deletable": true,
    "editable": true
   },
   "source": [
    "Запись выше:\n",
    "* 2 байта BOM\n",
    "* 2 байта 40960 (\\x00\\xa0)\n",
    "* 4 по 2 байта на символ (a\\x00 и т.п.)\n",
    "* 2 байта на 1972 (\\xb4\\x07)"
   ]
  },
  {
   "cell_type": "code",
   "execution_count": 24,
   "metadata": {
    "collapsed": false,
    "deletable": true,
    "editable": true
   },
   "outputs": [
    {
     "data": {
      "text/plain": [
       "b'\\xff\\xfea\\x00'"
      ]
     },
     "execution_count": 24,
     "metadata": {},
     "output_type": "execute_result"
    }
   ],
   "source": [
    "\"a\".encode(\"utf-16\")"
   ]
  },
  {
   "cell_type": "code",
   "execution_count": 25,
   "metadata": {
    "collapsed": false,
    "deletable": true,
    "editable": true
   },
   "outputs": [],
   "source": [
    "u2 = utf16_version.decode('utf-16') # Decode using UTF-16"
   ]
  },
  {
   "cell_type": "code",
   "execution_count": 26,
   "metadata": {
    "collapsed": false,
    "deletable": true,
    "editable": true
   },
   "outputs": [
    {
     "data": {
      "text/plain": [
       "True"
      ]
     },
     "execution_count": 26,
     "metadata": {},
     "output_type": "execute_result"
    }
   ],
   "source": [
    "u == u2 # The two strings match"
   ]
  },
  {
   "cell_type": "markdown",
   "metadata": {
    "deletable": true,
    "editable": true
   },
   "source": [
    "#### Низкоуровневые преобразования и работа с кодировками"
   ]
  },
  {
   "cell_type": "markdown",
   "metadata": {
    "deletable": true,
    "editable": true
   },
   "source": [
    "* Можно найти в модуле codecs.\n",
    "* Обычно, это не нужно и базовых достаточно."
   ]
  },
  {
   "cell_type": "markdown",
   "metadata": {
    "deletable": true,
    "editable": true
   },
   "source": [
    "### Строки и символы юникод-литералы"
   ]
  },
  {
   "cell_type": "code",
   "execution_count": 27,
   "metadata": {
    "collapsed": false,
    "deletable": true,
    "editable": true
   },
   "outputs": [],
   "source": [
    "s = \"a\\xac\\u1234\\u20ac\\U00008000\""
   ]
  },
  {
   "cell_type": "markdown",
   "metadata": {
    "deletable": true,
    "editable": true
   },
   "source": [
    "* \\x - два hex.\n",
    "* \\u - четыре hex.\n",
    "* \\U - восемь hex."
   ]
  },
  {
   "cell_type": "code",
   "execution_count": 28,
   "metadata": {
    "collapsed": false,
    "deletable": true,
    "editable": true
   },
   "outputs": [
    {
     "name": "stdout",
     "output_type": "stream",
     "text": [
      "97 172 4660 8364 32768 "
     ]
    }
   ],
   "source": [
    "for character in s:\n",
    "    print(ord(character), end=\" \")"
   ]
  },
  {
   "cell_type": "markdown",
   "metadata": {
    "deletable": true,
    "editable": true
   },
   "source": [
    "### codecs"
   ]
  },
  {
   "cell_type": "markdown",
   "metadata": {
    "deletable": true,
    "editable": true
   },
   "source": [
    "* Иногда необходима низкоуровневая работа с байтами кодировок (например, если оборвана последовательность байт).\n",
    "* Для этого можно воспользоваться модулем codecs.\n",
    "* Также содержит классы для последовательного кодирования-декодирования и более подробной работы с типами кодировок."
   ]
  },
  {
   "cell_type": "code",
   "execution_count": 29,
   "metadata": {
    "collapsed": false,
    "deletable": true,
    "editable": true
   },
   "outputs": [],
   "source": [
    "import codecs"
   ]
  },
  {
   "cell_type": "markdown",
   "metadata": {
    "deletable": true,
    "editable": true
   },
   "source": [
    "#### BOM"
   ]
  },
  {
   "cell_type": "code",
   "execution_count": 30,
   "metadata": {
    "collapsed": false,
    "deletable": true,
    "editable": true
   },
   "outputs": [
    {
     "name": "stdout",
     "output_type": "stream",
     "text": [
      "b'\\xff\\xfe'\n",
      "b'\\xfe\\xff'\n",
      "b'\\xef\\xbb\\xbf'\n"
     ]
    }
   ],
   "source": [
    "print(repr(codecs.BOM_UTF16_LE))\n",
    "print(repr(codecs.BOM_UTF16_BE))\n",
    "print(repr(codecs.BOM_UTF8)) # has no big sense for UTF-8"
   ]
  },
  {
   "cell_type": "markdown",
   "metadata": {
    "deletable": true,
    "editable": true
   },
   "source": [
    "Про удаление BOM:\n",
    "* Декодирование из UTF-16 удаляет BOM автоматически.\n",
    "* Но не из UTF-8: надо явно использовать s.decode('utf-8-sig')"
   ]
  },
  {
   "cell_type": "markdown",
   "metadata": {
    "deletable": true,
    "editable": true
   },
   "source": [
    "### Свойства Unicode символов"
   ]
  },
  {
   "cell_type": "code",
   "execution_count": 31,
   "metadata": {
    "collapsed": false,
    "deletable": true,
    "editable": true
   },
   "outputs": [
    {
     "name": "stdout",
     "output_type": "stream",
     "text": [
      "0 é 00e9 Ll LATIN SMALL LETTER E WITH ACUTE\n",
      "1 ௲ 0bf2 No TAMIL NUMBER ONE THOUSAND\n",
      "2 ྄ 0f84 Mn TIBETAN MARK HALANTA\n",
      "3 ᝰ 1770 Lo TAGBANWA LETTER SA\n",
      "4 ㎯ 33af So SQUARE RAD OVER S SQUARED\n",
      "1000.0\n"
     ]
    }
   ],
   "source": [
    "import unicodedata\n",
    "\n",
    "u = chr(233) + chr(0x0bf2) + chr(3972) + chr(6000) + chr(13231)\n",
    "\n",
    "for i, c in enumerate(u):\n",
    "    print(i, c, '%04x' % ord(c), unicodedata.category(c), end=\" \")\n",
    "    print(unicodedata.name(c))\n",
    "\n",
    "# Get numeric value of second character\n",
    "print(unicodedata.numeric(u[1]))"
   ]
  },
  {
   "cell_type": "markdown",
   "metadata": {
    "deletable": true,
    "editable": true
   },
   "source": [
    "* Категории: Letter, Number, Punctuation, Symbol\n",
    "* Подкатегории зависят от категорий:\n",
    "  * Ll (letter, lowercase)\n",
    "  * No (number, other)\n",
    "  * Mn (mark, nonspacing)\n",
    "  * So (symbol, other)"
   ]
  },
  {
   "cell_type": "markdown",
   "metadata": {
    "deletable": true,
    "editable": true
   },
   "source": [
    "### Общие советы по работе с кодировками"
   ]
  },
  {
   "cell_type": "markdown",
   "metadata": {
    "deletable": true,
    "editable": true
   },
   "source": [
    "#### Декодируем, обрабатываем, кодируем"
   ]
  },
  {
   "cell_type": "markdown",
   "metadata": {
    "deletable": true,
    "editable": true
   },
   "source": [
    "* Стараемся устраивать так, чтобы на вход приходил, по возможности, utf-8.\n",
    "* Если по какой-то причине не так, то декодируем входные данные в str как можно раньше на входе.\n",
    "* Используем внутри своей программы стандартный str (utf-8).\n",
    "* Стремимся к тому, чтобы выходные данные в utf-8 принимались другими части системы.\n",
    "* Если это не так, то кодируем из str только в самом конце перед передачей данных на выход программы."
   ]
  },
  {
   "cell_type": "markdown",
   "metadata": {
    "deletable": true,
    "editable": true
   },
   "source": [
    "#### Юникод и тесты"
   ]
  },
  {
   "cell_type": "markdown",
   "metadata": {
    "deletable": true,
    "editable": true
   },
   "source": [
    "Если на вход или выход идут не utf-8 данные или внутри нужно использовать байты, то помещать проверки работы с байтами и строками в юнит тесты."
   ]
  },
  {
   "cell_type": "markdown",
   "metadata": {
    "deletable": true,
    "editable": true
   },
   "source": [
    "#### Угадывание и UTF-8 ftw"
   ]
  },
  {
   "cell_type": "markdown",
   "metadata": {
    "deletable": true,
    "editable": true
   },
   "source": [
    "* По-умолчанию лучше предполагать (и использовать самому) utf-8.\n",
    "* Дополнительно можно использовать byte order mark для угадывания кодировки.\n",
    "* chardet.detect() от https://chardet.readthedocs.io/en/latest/usage.html"
   ]
  },
  {
   "cell_type": "markdown",
   "metadata": {
    "deletable": true,
    "editable": true
   },
   "source": [
    "## utf-8 playground"
   ]
  },
  {
   "cell_type": "code",
   "execution_count": 32,
   "metadata": {
    "collapsed": false,
    "deletable": true,
    "editable": true
   },
   "outputs": [],
   "source": [
    "def print_utf8_repr(unistr):\n",
    "    utf8_bytes = unistr.encode('utf-8')\n",
    "    for character in utf8_bytes:\n",
    "        print(bin(character)[2:].zfill(8), end=\" \")"
   ]
  },
  {
   "cell_type": "code",
   "execution_count": 33,
   "metadata": {
    "collapsed": false,
    "deletable": true,
    "editable": true
   },
   "outputs": [
    {
     "name": "stdout",
     "output_type": "stream",
     "text": [
      "01111111 "
     ]
    }
   ],
   "source": [
    "print_utf8_repr(chr(127))"
   ]
  },
  {
   "cell_type": "code",
   "execution_count": 34,
   "metadata": {
    "collapsed": false,
    "deletable": true,
    "editable": true
   },
   "outputs": [
    {
     "name": "stdout",
     "output_type": "stream",
     "text": [
      "11000010 10000000 "
     ]
    }
   ],
   "source": [
    "print_utf8_repr(chr(128))"
   ]
  },
  {
   "cell_type": "code",
   "execution_count": 35,
   "metadata": {
    "collapsed": false,
    "deletable": true,
    "editable": true
   },
   "outputs": [
    {
     "name": "stdout",
     "output_type": "stream",
     "text": [
      "11100000 10111111 10111111 "
     ]
    }
   ],
   "source": [
    "print_utf8_repr(chr(4095))"
   ]
  },
  {
   "cell_type": "code",
   "execution_count": 36,
   "metadata": {
    "collapsed": false,
    "deletable": true,
    "editable": true
   },
   "outputs": [
    {
     "name": "stdout",
     "output_type": "stream",
     "text": [
      "11100000 10100000 10000000 "
     ]
    }
   ],
   "source": [
    "print_utf8_repr(chr(2048))"
   ]
  },
  {
   "cell_type": "code",
   "execution_count": 37,
   "metadata": {
    "collapsed": false,
    "deletable": true,
    "editable": true
   },
   "outputs": [
    {
     "name": "stdout",
     "output_type": "stream",
     "text": [
      "11011111 10111111 "
     ]
    }
   ],
   "source": [
    "print_utf8_repr(chr(2047))"
   ]
  },
  {
   "cell_type": "code",
   "execution_count": 38,
   "metadata": {
    "collapsed": false,
    "deletable": true,
    "editable": true
   },
   "outputs": [
    {
     "name": "stdout",
     "output_type": "stream",
     "text": [
      "11110000 10011111 10111111 10111111 "
     ]
    }
   ],
   "source": [
    "print_utf8_repr(chr(131071))"
   ]
  },
  {
   "cell_type": "code",
   "execution_count": 39,
   "metadata": {
    "collapsed": false,
    "deletable": true,
    "editable": true
   },
   "outputs": [
    {
     "name": "stdout",
     "output_type": "stream",
     "text": [
      "11101111 10111111 10111111 "
     ]
    }
   ],
   "source": [
    "print_utf8_repr(chr(65535))"
   ]
  },
  {
   "cell_type": "code",
   "execution_count": 40,
   "metadata": {
    "collapsed": false,
    "deletable": true,
    "editable": true
   },
   "outputs": [
    {
     "name": "stdout",
     "output_type": "stream",
     "text": [
      "11110000 10010000 10000000 10000000 "
     ]
    }
   ],
   "source": [
    "print_utf8_repr(chr(65536))"
   ]
  },
  {
   "cell_type": "markdown",
   "metadata": {
    "deletable": true,
    "editable": true
   },
   "source": [
    "0  \n",
    "  \n",
    "110 10  \n",
    "1110 10  \n",
    "11110 10  "
   ]
  },
  {
   "cell_type": "markdown",
   "metadata": {
    "deletable": true,
    "editable": true
   },
   "source": [
    "#### Самостоятельная задача"
   ]
  },
  {
   "cell_type": "markdown",
   "metadata": {
    "deletable": true,
    "editable": true
   },
   "source": [
    "Рекомендую попробовать написать функцию кодирования (декодирования) utf-8."
   ]
  },
  {
   "cell_type": "markdown",
   "metadata": {
    "deletable": true,
    "editable": true
   },
   "source": [
    "## Про проблемы кодировок в Python 2"
   ]
  },
  {
   "cell_type": "markdown",
   "metadata": {
    "deletable": true,
    "editable": true
   },
   "source": [
    "Частично неактуально, но полезная часть про кодировки в общем и для понимания кода на python 2.7"
   ]
  },
  {
   "cell_type": "markdown",
   "metadata": {
    "deletable": true,
    "editable": true
   },
   "source": [
    "* http://farmdev.com/talks/unicode/\n",
    "* https://pythonhosted.org/kitchen/unicode-frustrations.html"
   ]
  },
  {
   "cell_type": "markdown",
   "metadata": {
    "deletable": true,
    "editable": true
   },
   "source": [
    "* ASCII является кодировкой по-умолчанию в Python 2.\n",
    "* Файлы могут содержать BOM (byte order mark).\n",
    "* Не все внутренние части Python 2 поддерживают юникод.\n",
    "* Невозможно точно угадать кодировку.\n",
    "* Чтение чанками многобайтовых кодировок."
   ]
  },
  {
   "cell_type": "code",
   "execution_count": 41,
   "metadata": {
    "collapsed": false,
    "deletable": true,
    "editable": true
   },
   "outputs": [
    {
     "ename": "NameError",
     "evalue": "name 'unicode' is not defined",
     "output_type": "error",
     "traceback": [
      "\u001b[0;31m---------------------------------------------------------------------------\u001b[0m",
      "\u001b[0;31mNameError\u001b[0m                                 Traceback (most recent call last)",
      "\u001b[0;32m<ipython-input-41-a7eff2c7b000>\u001b[0m in \u001b[0;36m<module>\u001b[0;34m()\u001b[0m\n\u001b[1;32m      6\u001b[0m \u001b[0;34m\u001b[0m\u001b[0m\n\u001b[1;32m      7\u001b[0m \u001b[0mline\u001b[0m \u001b[0;34m=\u001b[0m \u001b[0;34m\"Hello, привет!\\n\"\u001b[0m\u001b[0;34m\u001b[0m\u001b[0m\n\u001b[0;32m----> 8\u001b[0;31m \u001b[0mprint\u001b[0m\u001b[0;34m(\u001b[0m\u001b[0mprocess_line\u001b[0m\u001b[0;34m(\u001b[0m\u001b[0mline\u001b[0m\u001b[0;34m)\u001b[0m\u001b[0;34m)\u001b[0m\u001b[0;34m\u001b[0m\u001b[0m\n\u001b[0m",
      "\u001b[0;32m<ipython-input-41-a7eff2c7b000>\u001b[0m in \u001b[0;36mprocess_line\u001b[0;34m(line)\u001b[0m\n\u001b[1;32m      2\u001b[0m \u001b[0;34m\u001b[0m\u001b[0m\n\u001b[1;32m      3\u001b[0m \u001b[0;32mdef\u001b[0m \u001b[0mprocess_line\u001b[0m\u001b[0;34m(\u001b[0m\u001b[0mline\u001b[0m\u001b[0;34m)\u001b[0m\u001b[0;34m:\u001b[0m\u001b[0;34m\u001b[0m\u001b[0m\n\u001b[0;32m----> 4\u001b[0;31m     \u001b[0mline\u001b[0m \u001b[0;34m=\u001b[0m \u001b[0municode\u001b[0m\u001b[0;34m(\u001b[0m\u001b[0mline\u001b[0m\u001b[0;34m)\u001b[0m\u001b[0;34m\u001b[0m\u001b[0m\n\u001b[0m\u001b[1;32m      5\u001b[0m     \u001b[0;32mreturn\u001b[0m \u001b[0mline\u001b[0m\u001b[0;34m.\u001b[0m\u001b[0msplit\u001b[0m\u001b[0;34m(\u001b[0m\u001b[0;34m' '\u001b[0m\u001b[0;34m)\u001b[0m\u001b[0;34m[\u001b[0m\u001b[0;36m1\u001b[0m\u001b[0;34m]\u001b[0m\u001b[0;34m\u001b[0m\u001b[0m\n\u001b[1;32m      6\u001b[0m \u001b[0;34m\u001b[0m\u001b[0m\n",
      "\u001b[0;31mNameError\u001b[0m: name 'unicode' is not defined"
     ]
    }
   ],
   "source": [
    "# Run with python 2 to see problems.\n",
    "# This code won't work with python3 because 'unicode()' type was removed.\n",
    "\n",
    "def process_line(line):\n",
    "    line = unicode(line)\n",
    "    return line.split(' ')[1]\n",
    "\n",
    "line = \"Hello, привет!\\n\"\n",
    "print(process_line(line))"
   ]
  },
  {
   "cell_type": "markdown",
   "metadata": {
    "deletable": true,
    "editable": true
   },
   "source": [
    "### -\\*- coding: utf-8 -\\*-\n",
    "\n",
    "* Кодировка в Python 2 по-умолчанию - ASCII (в версии до 2.4 использовалась latin-1).\n",
    "* Чтобы упростить запись спецсимволов в файле с исходным кодом, можно задать другую кодировку.\n",
    "* Принято использовать соглашение, взятое из emacs."
   ]
  },
  {
   "cell_type": "code",
   "execution_count": null,
   "metadata": {
    "collapsed": true,
    "deletable": true,
    "editable": true
   },
   "outputs": [],
   "source": [
    "# -*- coding: utf-8 -*-"
   ]
  },
  {
   "cell_type": "markdown",
   "metadata": {
    "deletable": true,
    "editable": true
   },
   "source": [
    "## Источники и детальнее про юникод и кодировки"
   ]
  },
  {
   "cell_type": "markdown",
   "metadata": {
    "deletable": true,
    "editable": true
   },
   "source": [
    "* https://ru.wikipedia.org/wiki/Юникод\n",
    "* https://docs.python.org/3.5/howto/unicode.html\n",
    "* https://docs.python.org/3.5/library/codecs.html#standard-encodings"
   ]
  }
 ],
 "metadata": {
  "kernelspec": {
   "display_name": "Python 3",
   "language": "python",
   "name": "python3"
  },
  "language_info": {
   "codemirror_mode": {
    "name": "ipython",
    "version": 3
   },
   "file_extension": ".py",
   "mimetype": "text/x-python",
   "name": "python",
   "nbconvert_exporter": "python",
   "pygments_lexer": "ipython3",
   "version": "3.5.2"
  }
 },
 "nbformat": 4,
 "nbformat_minor": 0
}
