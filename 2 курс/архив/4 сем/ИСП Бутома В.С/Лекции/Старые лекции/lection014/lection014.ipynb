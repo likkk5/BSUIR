{
 "cells": [
  {
   "cell_type": "markdown",
   "metadata": {
    "deletable": true,
    "editable": true
   },
   "source": [
    "# Лекция 14: обзорная про веб-программирование и Django"
   ]
  },
  {
   "cell_type": "markdown",
   "metadata": {
    "deletable": true,
    "editable": true
   },
   "source": [
    "## Веб-программирование"
   ]
  },
  {
   "cell_type": "markdown",
   "metadata": {
    "deletable": true,
    "editable": true
   },
   "source": [
    "В широком смысле - всё что относится к созданию веб-сайтов (веб-приложений), в более узком - только та часть, которая в ключает в себя программирование в том или ином виде. Далее рассмотрим веб-программирование в общем, а потом перейдём к Django."
   ]
  },
  {
   "cell_type": "markdown",
   "metadata": {
    "deletable": true,
    "editable": true
   },
   "source": [
    "### Немного истории"
   ]
  },
  {
   "cell_type": "markdown",
   "metadata": {
    "deletable": true,
    "editable": true
   },
   "source": [
    "* Про сеть и её элементы: уровни, связи, общие идеи устройства.\n",
    "* Клиент и сервер - основные участники взаимодествия в сети.\n",
    "* Простые веб-сайты.\n",
    "  * статическая, мало изменяющаяся страница.\n",
    "  * ограниченная сессионность с необходимостью обновления страницы (cookies).\n",
    "  * html - для разметки и организации текста.\n",
    "  * css - для оформления того, как выглядит html.\n",
    "* Динамические веб-сайты (aka  web 2.0).\n",
    "  * динамически изменяемое содержимое на странице.\n",
    "  * AJAX (javascript) для взаимодействия с сервером без перезагрузки.\n",
    "  * сессионность с локальным хранением данных (расширенное использование кук, local storage и т.д.).\n",
    "  * html5 - новый стандарт html.\n",
    "* Веб-приложения и интерфейсы сетевого взаимодействия программ - общее устройство\n",
    "  * http-сервер\n",
    "  * интерфейс взаимодействия между сервером и обработчиком запроса\n",
    "  * обработчик запроса - веб-приложение."
   ]
  },
  {
   "cell_type": "markdown",
   "metadata": {
    "deletable": true,
    "editable": true
   },
   "source": [
    "### Клиент-серверное взаимодействие"
   ]
  },
  {
   "cell_type": "markdown",
   "metadata": {
    "deletable": true,
    "editable": true
   },
   "source": [
    "* Клиент посылает запрос и получает ответ.\n",
    "* Форматы сообщений и способов их передачи (xml, html, json, http(s), url).\n",
    "* Способы обработки запроса:\n",
    "  * http-сервер (http apache, nginx, lighttpd).\n",
    "  * интерфейсы обработчиков (cgi, fastcgi, wsgi).\n",
    "  * обработчики (написанные вручную или с помощью фреймворков).\n",
    "* Клиент выполняет постоянный обмен сообщениями с сервером в рамках сессии."
   ]
  },
  {
   "cell_type": "markdown",
   "metadata": {
    "deletable": true,
    "editable": true
   },
   "source": [
    "### Примеры устройства веб-страниц"
   ]
  },
  {
   "cell_type": "markdown",
   "metadata": {
    "deletable": true,
    "editable": true
   },
   "source": [
    "Перейдём и рассмотрим исходный код нескольких страниц."
   ]
  },
  {
   "cell_type": "markdown",
   "metadata": {
    "deletable": true,
    "editable": true
   },
   "source": [
    "* http://fksis.bsuir.by/\n",
    "* http://www.bsuir.by/\n",
    "* http://www.w3schools.com/\n",
    "* https://www.onliner.by/\n",
    "* https://ya.ru/\n",
    "* https://www.google.by/\n",
    "* https://yandex.by/"
   ]
  },
  {
   "cell_type": "markdown",
   "metadata": {
    "deletable": true,
    "editable": true
   },
   "source": [
    "### Важные идеи"
   ]
  },
  {
   "cell_type": "markdown",
   "metadata": {
    "deletable": true,
    "editable": true
   },
   "source": [
    "Ранее уже не раз обсуждали, но повторимся."
   ]
  },
  {
   "cell_type": "markdown",
   "metadata": {
    "deletable": true,
    "editable": true
   },
   "source": [
    "* Разделение представления (html), оформления (css) и логики (javascript).\n",
    "* Осмысленное выделение элементов и уменьшение зависимостей между ними.\n",
    "* Использование готовых проверенных технологий для уменьшения ошибок, упрощения и ускорения разработки. Грехи javascript."
   ]
  },
  {
   "cell_type": "markdown",
   "metadata": {
    "deletable": true,
    "editable": true
   },
   "source": [
    "### Некоторые задачи и инструменты веб-программирования"
   ]
  },
  {
   "cell_type": "markdown",
   "metadata": {
    "deletable": true,
    "editable": true
   },
   "source": [
    "* Организация логики, маршрутизация (routing) и обработка запросов внутри приложения (сайта).\n",
    "* Языки разметки и клиентского программирования.\n",
    "* Шаблонизаторы.\n",
    "* Интернационализация.\n",
    "* Базы данных (SQL, noSQL) и ORM.\n",
    "* Безопасность (авторизация, аутентификация, уязвимости при обработке и хранении данных).\n",
    "* Управление сайтом и его содержимым.\n",
    "* Фреймворки."
   ]
  },
  {
   "cell_type": "markdown",
   "metadata": {
    "deletable": true,
    "editable": true
   },
   "source": [
    "## Django - фреймворк для веб-программирования"
   ]
  },
  {
   "cell_type": "markdown",
   "metadata": {
    "deletable": true,
    "editable": true
   },
   "source": [
    "* Паттерн MVC как способ органзации логики (и отличия в названиях в случае c Django).\n",
    "* URL routers для задания правил маршрутизации при обработке запросов.\n",
    "* html и django templates шаблонизатор - для формирования веб-страниц.\n",
    "* Инструменты интернационализации содержимого сайта, в т.ч. в шаблонах и javascript.\n",
    "* Встроенная Django ORM для упрощения программного взаимодействия с базами данных.\n",
    "* Готовые механизмы авторизации, аутентификации и работы с системой пользователей.\n",
    "* Встроенные возможности для избегания распространённых уязвимостей (SQL injection, XSS, CSRF и т.д.). \n",
    "* Автоматический интерфейс администратора."
   ]
  },
  {
   "cell_type": "markdown",
   "metadata": {
    "deletable": true,
    "editable": true
   },
   "source": [
    "## Ссылки"
   ]
  },
  {
   "cell_type": "markdown",
   "metadata": {
    "deletable": true,
    "editable": true
   },
   "source": [
    "* https://docs.python.org/2.7/howto/webservers.html - неплохое небольшое howto про использование Python в веб: веб-сервера, веб-фреймворки, базы данных (версия текста для 2.7, но большая часть информации +- актуальна).\n",
    "* https://wiki.python.org/moin/WebFrameworks - вики про веб-фреймворки для питона.\n",
    "* https://wiki.python.org/moin/WebProgramming - вики про некоторые части веб-программирования в контексте питона.\n",
    "* http://nginx.org/ru/ - один из наиболее популярных http-серверов.\n",
    "* https://httpd.apache.org/ - более старый и массивный, но также популярный http-сервер.\n",
    "* http://www.lighttpd.net/ - минималистичный, легковесный http-сервер.\n",
    "* http://www.tornadoweb.org/en/stable/ - веб-сервер и веб-фреймворк на Python, часто используется в связке с одним из http-серверов выше для оптимизации обработки запросов.\n",
    "* http://www.w3schools.com/ - различные туториалы по html/css/javascript от w3 консорциума, также удобно использовать в качестве справочника по отдельным элементам этих технологий.\n",
    "* http://htmlbook.ru/ - неплохой ресурс (в первую очередь как справочник, и чуть меньше как самоучитель) по html/css/javascript на русском языке.\n",
    "* https://developer.mozilla.org/ru/ - хороший справочник и документация от разработчиков браузера Firefox (нас интересует часть про html/css/javascript и разработку).\n",
    "* https://developer.mozilla.org/en-US/Learn/Getting_started_with_the_web - раздел про обучение веб-разработке.\n",
    "* http://diveinto.html5doctor.com// - хорошая бесплатная книга Марка Пилгрима про html5 (качественная русская версия легко ищется и выкладывалась в свободный доступ).\n",
    "* http://javascript.ru/ - учебник по javascript на русском языке.\n",
    "* https://htmlacademy.ru/ - пошаговые онлайн-курсы по html/css/javascript на русском языке.\n",
    "* https://jquery.com/ - одна из самых используемых javascript библиотек.\n",
    "* https://getbootstrap.com/ - bootstrap хороший (удобный и простой) html/css/javascript фреймворк.\n",
    "* https://virtualenv.pypa.io/en/stable/ - библиотека для создания виртуального окружения для Python приложения, часто используется совместно в Django (помогает решать проблему обеспечения зависимостей, а также помогается избавляться от конфликтов между приложениями на одной машине).\n",
    "* https://www.sqlite.org/ - легковесная, простая локальная SQL база данных (хранится просто в файле без сервера, удобна для первоначального изучения).\n",
    "* https://www.mysql.com/ - одна из наиболее распространённых и проверенных opensource SQL СУБД (система управления базами данных).\n",
    "* http://www.postgresql.org/ - динамично развивающаяся и также популярная  opensource SQL субд, имеет ряд интересных вещей, которых нет в MySQL.\n",
    "* https://www.mongodb.com/ - документоориентированная база данных, одна из популярных т.н. NoSQL баз.\n",
    "* https://docs.djangoproject.com/en/1.11/ - официальная документация для версии 1.11 (можно выбирать нужную)\n",
    "* https://djbook.ru/rel1.9/ - сайт про Django на русском, есть частичный перевод официальной документации (версии отстают, последняя 1.9)\n",
    "* https://djangobook.com/the-django-book/ - книга по Django, более подробно рассматривает темы\n",
    "* https://code.djangoproject.com/wiki/DjangoResources?version=457 - местами устаревшее, но довольно много ресурсов связанные с Django"
   ]
  }
 ],
 "metadata": {
  "kernelspec": {
   "display_name": "Python 3",
   "language": "python",
   "name": "python3"
  },
  "language_info": {
   "codemirror_mode": {
    "name": "ipython",
    "version": 3
   },
   "file_extension": ".py",
   "mimetype": "text/x-python",
   "name": "python",
   "nbconvert_exporter": "python",
   "pygments_lexer": "ipython3",
   "version": "3.5.2"
  }
 },
 "nbformat": 4,
 "nbformat_minor": 0
}
