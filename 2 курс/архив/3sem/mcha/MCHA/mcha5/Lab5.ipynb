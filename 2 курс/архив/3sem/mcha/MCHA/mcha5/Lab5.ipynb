{
 "cells": [
  {
   "cell_type": "code",
   "execution_count": 2,
   "id": "d95fdbfb",
   "metadata": {},
   "outputs": [],
   "source": [
    "import numpy as np"
   ]
  },
  {
   "cell_type": "markdown",
   "id": "5270df10",
   "metadata": {},
   "source": [
    "## Вспомогательные функции"
   ]
  },
  {
   "cell_type": "code",
   "execution_count": 3,
   "id": "451bed67",
   "metadata": {},
   "outputs": [],
   "source": [
    "def print_array(matrix, msg=\"\", sep='\\n'):\n",
    "    n = matrix.shape[0]\n",
    "    m = None\n",
    "\n",
    "    if msg != \"\":\n",
    "        print(msg)\n",
    "    if len(matrix.shape) == 2:\n",
    "        m = matrix.shape[1]\n",
    "\n",
    "    if len(matrix.shape) == 2:\n",
    "        for i in range(n):\n",
    "            for j in range(m):\n",
    "                print('{:>8.5f}'.format(matrix[i, j]), end=' ')\n",
    "            print(sep, end='')\n",
    "\n",
    "    elif len(matrix.shape) == 1:\n",
    "        for i in range(n):\n",
    "            print('{:>8.5f}'.format(matrix[i]), end=' ')\n",
    "        print(sep, end='')"
   ]
  },
  {
   "cell_type": "code",
   "execution_count": 4,
   "id": "088eb98b",
   "metadata": {},
   "outputs": [],
   "source": [
    "def symmetric_check(matrix, eps):\n",
    "    for i in range(1, len(matrix)):\n",
    "        for j in range(i):\n",
    "            if (abs(matrix[i][j] - matrix[j][i]) >= eps):\n",
    "                raise ValueError(\"Матрица должна быть симметричной!\")"
   ]
  },
  {
   "cell_type": "markdown",
   "id": "54afbdb7",
   "metadata": {},
   "source": [
    "## Вспомогательные функции для метода вращений"
   ]
  },
  {
   "cell_type": "code",
   "execution_count": 5,
   "id": "85a8bd97",
   "metadata": {},
   "outputs": [],
   "source": [
    "def check_equal_dim(matrix):\n",
    "     if matrix.shape[0] != matrix.shape[1]:\n",
    "        raise ValueError(\"Матрица размера не NxN\")"
   ]
  },
  {
   "cell_type": "code",
   "execution_count": 6,
   "id": "4f1cb286",
   "metadata": {},
   "outputs": [],
   "source": [
    "def calc_non_diag(matrix):\n",
    "    check_equal_dim(matrix)\n",
    "\n",
    "    n = matrix.shape[0]\n",
    "    sum_n_diag = 0\n",
    "    for i in range(n):\n",
    "        for j in range(n):\n",
    "            if i == j:\n",
    "                continue\n",
    "            sum_n_diag += abs(matrix[i, j])\n",
    "    return sum_n_diag"
   ]
  },
  {
   "cell_type": "code",
   "execution_count": 7,
   "id": "3afc416f",
   "metadata": {},
   "outputs": [],
   "source": [
    "def max_no_diag(matrix):\n",
    "    check_equal_dim(matrix)\n",
    "\n",
    "    n = matrix.shape[0]\n",
    "    max_val = matrix[0, 1]\n",
    "    val_row = 0\n",
    "    val_col = 1\n",
    "    for i in range(n):\n",
    "        for j in range(i + 1, n):\n",
    "            if abs(matrix[i, j]) > abs(max_val):\n",
    "                max_val = matrix[i, j]\n",
    "                val_row = i\n",
    "                val_col = j\n",
    "\n",
    "    return max_val, val_row, val_col"
   ]
  },
  {
   "cell_type": "markdown",
   "id": "8d286275",
   "metadata": {},
   "source": [
    "## Метод вращений"
   ]
  },
  {
   "cell_type": "code",
   "execution_count": 8,
   "id": "9dd48990",
   "metadata": {},
   "outputs": [],
   "source": [
    "def find_eigen(matrix, err):\n",
    "    check_equal_dim(matrix)\n",
    "    symmetric_check(matrix, err)\n",
    "    A = matrix.copy()\n",
    "    n = A.shape[0]\n",
    "    rotate_matrix = np.eye(n)  # diagonal matrix\n",
    "    eig_vec = np.zeros(shape=A.shape)\n",
    "    iteration = 0\n",
    "    while calc_non_diag(A) > err:\n",
    "        \n",
    "        max_el, p, q = max_no_diag(A)\n",
    "\n",
    "        if A[p, p] == A[q, q]:\n",
    "            if max_el > 0:\n",
    "                teta = np.pi / 4\n",
    "            else:\n",
    "                teta = -1 * np.pi / 4\n",
    "        else:\n",
    "            teta = np.arctan((2 * max_el) / (A[p, p] - A[q, q])) / 2\n",
    "    \n",
    "        # fill rotate matrix\n",
    "        rotate_matrix = np.eye(n)\n",
    "        rotate_matrix[p, p] = np.cos(teta)\n",
    "        rotate_matrix[q, q] = np.cos(teta)\n",
    "        rotate_matrix[p, q] = np.sin(teta) * -1\n",
    "        rotate_matrix[q, p] = np.sin(teta)\n",
    "\n",
    "        A = rotate_matrix.T @ A @ rotate_matrix\n",
    "\n",
    "        if iteration != 0:\n",
    "            eig_vec = eig_vec @ rotate_matrix\n",
    "        else:\n",
    "            eig_vec = rotate_matrix.copy()\n",
    "\n",
    "        iteration += 1\n",
    "\n",
    "    return A, eig_vec, iteration"
   ]
  },
  {
   "cell_type": "code",
   "execution_count": 14,
   "id": "7552ca5a",
   "metadata": {},
   "outputs": [],
   "source": [
    "def solve(A, E):\n",
    "    try:\n",
    "        eig_val, eig_vec, steps = find_eigen(A, E)\n",
    "        print_array(A, 'Матрица согласно условию:')\n",
    "        print(\"\\nВЫПОЛНЯЮТСЯ ВЫЧИСЛЕНИЯ МЕТОДОМ ВРАЩЕНИЙ...\")\n",
    "        print_array(eig_val, '\\nМатрица собственных значений:')\n",
    "        w, v = np.linalg.eig(A)\n",
    "        print_array(w, 'Собственные значения:')\n",
    "        print_array(v, 'Собственные вектора:')\n",
    "        print(\"Количество итераций:\", steps)\n",
    "        print(\"\\nПроверка с помощью numpy:\\n\")\n",
    "        \n",
    "        print_array(w, 'Собственные значения (numpy):')\n",
    "        print_array(v, 'Собственные вектора (numpy):')\n",
    "    except ValueError as err:\n",
    "        print(err)\n",
    "        print(\"Проводится решение другим алгоритмом...\")\n",
    "        w, v = np.linalg.eig(A)\n",
    "        print_array(w, 'Собственные значения:')\n",
    "        print_array(v, 'Собственные вектора:')"
   ]
  },
  {
   "cell_type": "markdown",
   "id": "85ace89c",
   "metadata": {},
   "source": [
    "## Тестовый пример 1"
   ]
  },
  {
   "cell_type": "code",
   "execution_count": 15,
   "id": "431c90cb",
   "metadata": {},
   "outputs": [
    {
     "name": "stdout",
     "output_type": "stream",
     "text": [
      "Матрица согласно условию:\n",
      " 5.00000  1.00000  2.00000 \n",
      " 1.00000  4.00000  1.00000 \n",
      " 2.00000  1.00000  3.00000 \n",
      "\n",
      "ВЫПОЛНЯЮТСЯ ВЫЧИСЛЕНИЯ МЕТОДОМ ВРАЩЕНИЙ...\n",
      "\n",
      "Матрица собственных значений:\n",
      " 6.89511  0.00000  0.00000 \n",
      " 0.00000  3.39730  0.00000 \n",
      "-0.00000  0.00000  1.70760 \n",
      "Собственные значения:\n",
      " 6.89511  3.39730  1.70760 \n",
      "Собственные вектора:\n",
      "-0.75258 -0.45794 -0.47320 \n",
      "-0.43170  0.88574 -0.17060 \n",
      "-0.49725 -0.07589  0.86428 \n",
      "Количество итераций: 7\n",
      "\n",
      "Проверка с помощью numpy:\n",
      "\n",
      "Собственные значения (numpy):\n",
      " 6.89511  3.39730  1.70760 \n",
      "Собственные вектора (numpy):\n",
      "-0.75258 -0.45794 -0.47320 \n",
      "-0.43170  0.88574 -0.17060 \n",
      "-0.49725 -0.07589  0.86428 \n"
     ]
    }
   ],
   "source": [
    "E = 0.000001\n",
    "A = np.array([\n",
    "    [5, 1, 2],\n",
    "    [1, 4, 1],\n",
    "    [2, 1, 3]\n",
    "])\n",
    "\n",
    "solve(A, E)"
   ]
  },
  {
   "cell_type": "markdown",
   "id": "5c6c9f9a",
   "metadata": {},
   "source": [
    "## Тестовый пример 2"
   ]
  },
  {
   "cell_type": "code",
   "execution_count": 16,
   "id": "420a35e1",
   "metadata": {},
   "outputs": [
    {
     "name": "stdout",
     "output_type": "stream",
     "text": [
      "Матрица согласно условию:\n",
      " 1.00000 -3.00000  2.00000 \n",
      "-3.00000  0.00000  1.00000 \n",
      " 2.00000  1.00000  1.00000 \n",
      "\n",
      "ВЫПОЛНЯЮТСЯ ВЫЧИСЛЕНИЯ МЕТОДОМ ВРАЩЕНИЙ...\n",
      "\n",
      "Матрица собственных значений:\n",
      " 3.88824  0.00000  0.00000 \n",
      "-0.00000 -3.50331  0.00000 \n",
      " 0.00000  0.00000  1.61507 \n",
      "Собственные значения:\n",
      "-3.50331  3.88824  1.61507 \n",
      "Собственные вектора:\n",
      "-0.62496 -0.78029 -0.02384 \n",
      "-0.65598  0.50834  0.55792 \n",
      " 0.42322 -0.36432  0.82955 \n",
      "Количество итераций: 7\n",
      "\n",
      "Проверка с помощью numpy:\n",
      "\n",
      "Собственные значения (numpy):\n",
      "-3.50331  3.88824  1.61507 \n",
      "Собственные вектора (numpy):\n",
      "-0.62496 -0.78029 -0.02384 \n",
      "-0.65598  0.50834  0.55792 \n",
      " 0.42322 -0.36432  0.82955 \n"
     ]
    }
   ],
   "source": [
    "E = 0.000001\n",
    "A = np.array([\n",
    "    [1, -3, 2],\n",
    "    [-3, 0, 1],\n",
    "    [2, 1, 1]\n",
    "])\n",
    "\n",
    "solve(A, E)"
   ]
  },
  {
   "cell_type": "markdown",
   "id": "679f4395",
   "metadata": {},
   "source": [
    "## Тестовый пример 3"
   ]
  },
  {
   "cell_type": "code",
   "execution_count": 17,
   "id": "5556bec5",
   "metadata": {},
   "outputs": [
    {
     "name": "stdout",
     "output_type": "stream",
     "text": [
      "Матрица согласно условию:\n",
      " 1.00000  1.00000  1.00000  0.00000 \n",
      " 1.00000  1.00000  0.00000  1.00000 \n",
      " 1.00000  0.00000  1.00000  1.00000 \n",
      " 0.00000  1.00000  1.00000  1.00000 \n",
      "\n",
      "ВЫПОЛНЯЮТСЯ ВЫЧИСЛЕНИЯ МЕТОДОМ ВРАЩЕНИЙ...\n",
      "\n",
      "Матрица собственных значений:\n",
      " 3.00000  0.00000  0.00000  0.00000 \n",
      " 0.00000  1.00000  0.00000  0.00000 \n",
      " 0.00000  0.00000  1.00000  0.00000 \n",
      " 0.00000  0.00000  0.00000 -1.00000 \n",
      "Собственные значения:\n",
      "-1.00000  1.00000  3.00000  1.00000 \n",
      "Собственные вектора:\n",
      " 0.50000 -0.70711 -0.50000 -0.01305 \n",
      "-0.50000 -0.00000 -0.50000  0.70699 \n",
      "-0.50000  0.00000 -0.50000 -0.70699 \n",
      " 0.50000  0.70711 -0.50000  0.01305 \n",
      "Количество итераций: 4\n",
      "\n",
      "Проверка с помощью numpy:\n",
      "\n",
      "Собственные значения (numpy):\n",
      "-1.00000  1.00000  3.00000  1.00000 \n",
      "Собственные вектора (numpy):\n",
      " 0.50000 -0.70711 -0.50000 -0.01305 \n",
      "-0.50000 -0.00000 -0.50000  0.70699 \n",
      "-0.50000  0.00000 -0.50000 -0.70699 \n",
      " 0.50000  0.70711 -0.50000  0.01305 \n"
     ]
    }
   ],
   "source": [
    "E = 0.000001\n",
    "A = np.array([\n",
    "    [1, 1, 1, 0],\n",
    "    [1, 1, 0, 1],\n",
    "    [1, 0, 1, 1],\n",
    "    [0, 1, 1, 1]\n",
    "])\n",
    "\n",
    "solve(A, E)"
   ]
  },
  {
   "cell_type": "markdown",
   "id": "d88c7d19",
   "metadata": {},
   "source": [
    "\n",
    "\n",
    "## Тестовый пример 4"
   ]
  },
  {
   "cell_type": "code",
   "execution_count": 18,
   "id": "2e673681",
   "metadata": {},
   "outputs": [
    {
     "name": "stdout",
     "output_type": "stream",
     "text": [
      "Матрица должна быть симметричной!\n",
      "Проводится решение другим алгоритмом...\n",
      "Собственные значения:\n",
      "12.09902 -1.00000  1.90098  1.00000 \n",
      "Собственные вектора:\n",
      "-0.99158 -0.50000 -0.44798 -0.50000 \n",
      "-0.09081  0.50000  0.33968  0.50000 \n",
      "-0.09081  0.50000  0.33968 -0.50000 \n",
      "-0.01636 -0.50000  0.75402  0.50000 \n"
     ]
    }
   ],
   "source": [
    "E = 0.000001\n",
    "A = np.array([\n",
    "    [11, 11, 1, 0],\n",
    "    [1, 1, 0, 1],\n",
    "    [1, 0, 1, 1],\n",
    "    [0, 1, 1, 1]\n",
    "])\n",
    "\n",
    "solve(A, E)"
   ]
  },
  {
   "cell_type": "markdown",
   "id": "ee08c703",
   "metadata": {},
   "source": [
    "## Решение задания"
   ]
  },
  {
   "cell_type": "code",
   "execution_count": 13,
   "id": "d787fe52",
   "metadata": {},
   "outputs": [
    {
     "name": "stdout",
     "output_type": "stream",
     "text": [
      "Матрица согласно условию:\n",
      " 2.93000  0.81000  1.27000  0.92000 -0.53000 \n",
      " 0.81000  2.93000  0.81000  1.27000  0.92000 \n",
      " 1.27000  0.81000  2.93000  0.81000  1.52000 \n",
      " 0.92000  1.27000  0.81000  2.93000 -0.53000 \n",
      "-0.53000  0.92000  1.52000 -0.53000  2.93000 \n",
      "\n",
      "ВЫПОЛНЯЮТСЯ ВЫЧИСЛЕНИЯ МЕТОДОМ ВРАЩЕНИЙ...\n",
      "\n",
      "Матрица собственных значений:\n",
      " 2.50483 -0.00000 -0.00000  0.00000  0.00000 \n",
      "-0.00000  6.06293  0.00000  0.00000 -0.00000 \n",
      "-0.00000  0.00000  4.08408  0.00000  0.00000 \n",
      " 0.00000  0.00000  0.00000  1.60465  0.00000 \n",
      " 0.00000 -0.00000  0.00000 -0.00000  0.39352 \n",
      "Собственные значения:\n",
      " 2.50483  6.06293  4.08408  1.60465  0.39352 \n",
      "Собственные вектора:\n",
      " 0.56083  0.43337 -0.39300 -0.44298  0.38339 \n",
      "-0.58447  0.50629  0.02368 -0.54518 -0.32295 \n",
      " 0.43481  0.54770  0.26768  0.37704 -0.54512 \n",
      "-0.38669  0.42867 -0.44712  0.60357  0.32017 \n",
      "-0.07269  0.26857  0.75725  0.01025  0.59081 \n",
      "Количество итераций: 28\n",
      "\n",
      "Проверка с помощью numpy:\n",
      "\n",
      "Собственные значения (numpy):\n",
      " 6.06293  4.08408  0.39352  2.50483  1.60465 \n",
      "Собственные вектора (numpy):\n",
      " 0.43337  0.39300 -0.38339 -0.56083 -0.44298 \n",
      " 0.50629 -0.02368  0.32295  0.58447 -0.54518 \n",
      " 0.54770 -0.26768  0.54512 -0.43481  0.37704 \n",
      " 0.42867  0.44711 -0.32017  0.38669  0.60357 \n",
      " 0.26857 -0.75725 -0.59081  0.07269  0.01025 \n"
     ]
    }
   ],
   "source": [
    "E = 0.000001\n",
    "\n",
    "k = 3\n",
    "\n",
    "C = np.array([\n",
    "    [0.2, 0, 0.2, 0, 0],\n",
    "    [0, 0.2, 0, 0.2, 0],\n",
    "    [0.2, 0, 0.2, 0, 0.2],\n",
    "    [0, 0.2, 0, 0.2, 0],\n",
    "    [0, 0, 0.2, 0, 0.2]\n",
    "])\n",
    "\n",
    "D = np.array([\n",
    "    [2.33, 0.81, 0.67, 0.92, -0.53],\n",
    "    [0.81, 2.33, 0.81, 0.67, 0.92],\n",
    "    [0.67, 0.81, 2.33, 0.81, 0.92],\n",
    "    [0.92, 0.67, 0.81, 2.33, -0.53],\n",
    "    [-0.53, 0.92, 0.92, -0.53, 2.33]\n",
    "])\n",
    "\n",
    "A = k * C + D\n",
    "\n",
    "solve(A, E)"
   ]
  },
  {
   "cell_type": "code",
   "execution_count": null,
   "id": "81ecf5e8",
   "metadata": {},
   "outputs": [],
   "source": []
  }
 ],
 "metadata": {
  "kernelspec": {
   "display_name": "Python 3 (ipykernel)",
   "language": "python",
   "name": "python3"
  },
  "language_info": {
   "codemirror_mode": {
    "name": "ipython",
    "version": 3
   },
   "file_extension": ".py",
   "mimetype": "text/x-python",
   "name": "python",
   "nbconvert_exporter": "python",
   "pygments_lexer": "ipython3",
   "version": "3.10.6"
  }
 },
 "nbformat": 4,
 "nbformat_minor": 5
}
