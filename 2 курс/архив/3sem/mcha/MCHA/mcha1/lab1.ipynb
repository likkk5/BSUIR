{
 "cells": [
  {
   "cell_type": "code",
   "execution_count": 1,
   "id": "d6283d24",
   "metadata": {},
   "outputs": [],
   "source": [
    "import numpy"
   ]
  },
  {
   "cell_type": "code",
   "execution_count": 2,
   "id": "035f1236",
   "metadata": {},
   "outputs": [],
   "source": [
    "C = numpy.array([[2.33/3, 0, 0.2, 0, 0],\n",
    "                 [0, 0.2, 0, 0.2, 0],\n",
    "                 [0.2, 0, 0.2, 0, 0.2],\n",
    "                 [0, 0.2, 0, 0.2, 0],\n",
    "                 [0, 0, 0.2, 0, 0.2]])"
   ]
  },
  {
   "cell_type": "code",
   "execution_count": 3,
   "id": "fdb4e6ed",
   "metadata": {},
   "outputs": [
    {
     "data": {
      "text/plain": [
       "array([[0.77666667, 0.        , 0.2       , 0.        , 0.        ],\n",
       "       [0.        , 0.2       , 0.        , 0.2       , 0.        ],\n",
       "       [0.2       , 0.        , 0.2       , 0.        , 0.2       ],\n",
       "       [0.        , 0.2       , 0.        , 0.2       , 0.        ],\n",
       "       [0.        , 0.        , 0.2       , 0.        , 0.2       ]])"
      ]
     },
     "execution_count": 3,
     "metadata": {},
     "output_type": "execute_result"
    }
   ],
   "source": [
    "C"
   ]
  },
  {
   "cell_type": "code",
   "execution_count": 4,
   "id": "ce930bd7",
   "metadata": {},
   "outputs": [],
   "source": [
    "D = numpy.array([[2.33, 0.81, 0.67, 0.92, -0.53],\n",
    "                 [-0.53, 2.33, 0.81, 0.67, 0.92],\n",
    "                 [0.92, -0.53, 2.33, 0.81, 0.67],\n",
    "                 [0.67, 0.92, -0.53, 2.33, 0.81],\n",
    "                 [0.81, 0.67, 0.92, -0.53, 2.33]])"
   ]
  },
  {
   "cell_type": "code",
   "execution_count": 5,
   "id": "2cc7eeb3",
   "metadata": {},
   "outputs": [],
   "source": [
    "b = numpy.array([4.1, 4.2, 4.2, 4.2, 4.2])"
   ]
  },
  {
   "cell_type": "code",
   "execution_count": 6,
   "id": "8e6e2780",
   "metadata": {},
   "outputs": [],
   "source": [
    "b = b.T\n",
    "A = 3 * C - D\n",
    "X = numpy.zeros(len(A))"
   ]
  },
  {
   "cell_type": "code",
   "execution_count": 7,
   "id": "bdc629b9",
   "metadata": {},
   "outputs": [],
   "source": [
    "def swap_columns(a, i, j):\n",
    "    for k in range(len(a)):\n",
    "        a[k][i], a[k][j] = a[k][j], a[k][i]"
   ]
  },
  {
   "cell_type": "code",
   "execution_count": 8,
   "id": "28c979c7",
   "metadata": {},
   "outputs": [],
   "source": [
    "def check_zeros_diag(matrix, b):\n",
    "    nstr = len(matrix)\n",
    "    for i in range(0, nstr):\n",
    "        if matrix[i][i] == 0:\n",
    "            check = True\n",
    "            for j in range(0, nstr):\n",
    "                if matrix[i][j] != 0 and matrix[j][i] != 0:\n",
    "                    swap_columns(matrix, i, j)\n",
    "                    check = False\n",
    "                    break\n",
    "            if check:\n",
    "                if b[i] == 0:\n",
    "                    print('У системы бесконечное количество решений')\n",
    "                else:\n",
    "                    print('У системы нет решений')\n",
    "                exit()"
   ]
  },
  {
   "cell_type": "code",
   "execution_count": 9,
   "id": "7d61ec76",
   "metadata": {},
   "outputs": [],
   "source": [
    "def straight_run(matrix, b):\n",
    "    for nrow, row in enumerate(matrix):  # nrow равен номеру строки row содержит саму строку матрицы\n",
    "        divider = row[nrow]  # диагональный элемент\n",
    "        row /= divider  # делим на диагональный элемент.\n",
    "        b[nrow] /= divider\n",
    "        bfactor = b[nrow]\n",
    "        # вычитаем из всех нижележащих строчек\n",
    "        for lower_row in range(nrow + 1, len(matrix)):\n",
    "            factor = matrix[lower_row][nrow]  # элемент строки в колонке nrow\n",
    "            matrix[lower_row] -= factor * row  # вычитаем, чтобы получить ноль в колонке nrow\n",
    "            b[lower_row] -= factor * bfactor\n",
    "    return matrix, b"
   ]
  },
  {
   "cell_type": "code",
   "execution_count": 10,
   "id": "4d211e65",
   "metadata": {},
   "outputs": [],
   "source": [
    "def reverse_run(a, b):  # перебор строк в обратном порядке\n",
    "    n = len(a)\n",
    "    for k in reversed(range(0, n)):\n",
    "        X[k] = (b[k] - sum(a[k][i] * X[i] for i in range(k + 1, n))) / a[k][k]"
   ]
  },
  {
   "cell_type": "code",
   "execution_count": 11,
   "id": "3d5c0e2e",
   "metadata": {},
   "outputs": [],
   "source": [
    "def gauss(A, b):\n",
    "    check_zeros_diag(A, b)\n",
    "    straight_run(A, b)\n",
    "    reverse_run(A, b)\n",
    "    for i in range(len(X)):\n",
    "        print(\"%.20f\" % X[i], end=\" \")\n",
    "    print('\\n')"
   ]
  },
  {
   "cell_type": "code",
   "execution_count": 12,
   "id": "8bd9ccfd",
   "metadata": {},
   "outputs": [],
   "source": [
    "def straight_run_column(matrix, b):\n",
    "    for nrow in range(len(matrix)): # nrow равен номеру строки\n",
    "        # argmax возвращает номер строки с максимальным элементом в уменьшенной матрице, которая начинается со строки\n",
    "        # nrow. Поэтому нужно прибавить nrow к результату\n",
    "        pivot = nrow + numpy.argmax(abs(matrix[nrow:, nrow]))\n",
    "        if pivot != nrow:\n",
    "            matrix[[nrow, pivot]] = matrix[[pivot, nrow]] # swap\n",
    "            change = b[pivot]\n",
    "            b[pivot] = b[nrow]\n",
    "            b[nrow] = change\n",
    "        row = matrix[nrow]\n",
    "        divider = row[nrow]  # диагональный элемент\n",
    "        if abs(divider) < 1e-9:\n",
    "            # почти нуль на диагонали. Продолжать не имеет смысла, результат счёта неустойчив\n",
    "            print(f\"Результат счёта неустойчив. Максимальный элемент: {nrow}: {divider:.3g}\")\n",
    "            exit()\n",
    "        row /= divider # делим на диагональный элемент.\n",
    "        b[nrow] /= divider\n",
    "        bfactor = b[nrow]\n",
    "        # теперь надо вычесть приведённую строку из всех нижележащих строчек\n",
    "        for lower_row in range(nrow + 1, len(matrix)):\n",
    "            factor = matrix[lower_row][nrow]  # элемент строки в колонке nrow\n",
    "            matrix[lower_row] -= factor * row  # вычитаем, чтобы получить ноль в колонке nrow\n",
    "            b[lower_row] -= factor * bfactor"
   ]
  },
  {
   "cell_type": "code",
   "execution_count": 13,
   "id": "855514f6",
   "metadata": {},
   "outputs": [],
   "source": [
    "def gauss_maxcolumn (A, b):\n",
    "    check_zeros_diag(A, b)\n",
    "    straight_run_column(A,b)\n",
    "    reverse_run(A,b)\n",
    "    for i in range(len(X)):\n",
    "        print(\"%.18f\" % X[i], end=\" \")\n",
    "    print('\\n')"
   ]
  },
  {
   "cell_type": "code",
   "execution_count": 14,
   "id": "0abc1ca7",
   "metadata": {},
   "outputs": [],
   "source": [
    "def straight_run_max(matrix, b):\n",
    "    for nrow in range(len(matrix)): # nrow равен номеру строки\n",
    "        mrow, mcol = max_element(matrix, nrow)\n",
    "        if mrow != nrow:\n",
    "            matrix[[nrow, mrow]] = matrix[[mrow, nrow]] # swap\n",
    "            change = b[mrow]\n",
    "            b[mrow] = b[nrow]\n",
    "            b[nrow] = change\n",
    "        swap_columns(matrix, nrow, mcol)\n",
    "        row = matrix[nrow]\n",
    "        divider = row[nrow]  # диагональный элемент\n",
    "        if abs(divider) < 1e-9:\n",
    "            # почти нуль на диагонали. Продолжать не имеет смысла, результат счёта неустойчив\n",
    "            print(f\"Результат счёта неустойчив. Максимальный элемент: {divider:.3g}\")\n",
    "            exit()\n",
    "        row /= divider # делим на диагональный элемент.\n",
    "        b[nrow] /= divider\n",
    "        bfactor = b[nrow]\n",
    "        # теперь надо вычесть приведённую строку из всех нижележащих строчек\n",
    "        for lower_row in range(nrow + 1, len(matrix)):\n",
    "            factor = matrix[lower_row][nrow]  # элемент строки в колонке nrow\n",
    "            matrix[lower_row] -= factor * row  # вычитаем, чтобы получить ноль в колонке nrow\n",
    "            b[lower_row] -= factor * bfactor"
   ]
  },
  {
   "cell_type": "code",
   "execution_count": 15,
   "id": "dea9fbaa",
   "metadata": {},
   "outputs": [],
   "source": [
    "def max_element(A, k):\n",
    "    maximum = A[k-1][k-1]\n",
    "    max_index = [k-1, k-1]\n",
    "    for i in range(k-1, len(A)):\n",
    "        for j in range(k-1, len(A)):\n",
    "            if maximum < A[i][j]:\n",
    "                maximum = A[i][j]\n",
    "                max_index = [i, j]\n",
    "    return max_index"
   ]
  },
  {
   "cell_type": "code",
   "execution_count": 16,
   "id": "d48cdd98",
   "metadata": {},
   "outputs": [],
   "source": [
    "def gauss_max(A, b):\n",
    "    check_zeros_diag(A, b)\n",
    "    straight_run_max(A, b)\n",
    "    reverse_run(A, b)\n",
    "    for i in range(len(X)):\n",
    "        print(\"%.18f\" % X[i], end=\" \")\n",
    "    print('\\n')"
   ]
  },
  {
   "cell_type": "code",
   "execution_count": 17,
   "id": "d872ef4e",
   "metadata": {},
   "outputs": [],
   "source": [
    "def main():\n",
    "    print(\"Матрица варианта 3:\")\n",
    "    print(A)\n",
    "    \n",
    "    \n",
    "    n = numpy.linalg.solve(A, b)\n",
    "    print(\"Решение с помощью нампай\\n\")\n",
    "    for i in range(len(n)):\n",
    "         print(\"%.20f\" % n[i], end=\" \")\n",
    "    \n",
    "    print('\\nРешение с помощью собственных функций')\n",
    "    print()\n",
    "    gauss(A, b)"
   ]
  },
  {
   "cell_type": "code",
   "execution_count": 18,
   "id": "4510b717",
   "metadata": {},
   "outputs": [
    {
     "name": "stdout",
     "output_type": "stream",
     "text": [
      "Матрица варианта 3:\n",
      "[[ 0.   -0.81 -0.07 -0.92  0.53]\n",
      " [ 0.53 -1.73 -0.81 -0.07 -0.92]\n",
      " [-0.32  0.53 -1.73 -0.81 -0.07]\n",
      " [-0.67 -0.32  0.53 -1.73 -0.81]\n",
      " [-0.81 -0.67 -0.32  0.53 -1.73]]\n",
      "Решение с помощью нампай\n",
      "\n",
      "-4.12553433769524069419 -3.04729169434607660705 -2.05524569226523379228 -1.21933703680207572440 0.69063482125132436007 \n",
      "Решение с помощью собственных функций\n",
      "\n",
      "-3.04729169434607527478 -4.12553433769523714147 -2.05524569226523379228 -1.21933703680207683462 0.69063482125132369394 \n",
      "\n"
     ]
    }
   ],
   "source": [
    "main()"
   ]
  },
  {
   "cell_type": "code",
   "execution_count": 21,
   "id": "98c6b41a",
   "metadata": {},
   "outputs": [],
   "source": [
    "n = sorted(numpy.linalg.solve(A, b))\n",
    "x = sorted(X)"
   ]
  },
  {
   "cell_type": "code",
   "execution_count": 19,
   "id": "11782e8e",
   "metadata": {},
   "outputs": [],
   "source": [
    "def check_accuracy(w, x):\n",
    "    for i in range(len(x)):\n",
    "        if (abs(x[i] - w[i]) / abs(x[i])) >= 0.0001:\n",
    "            return False\n",
    "        else:\n",
    "            print(f\"|{x[i]} - {w[i]}| < 0.0001\")\n",
    "    return True"
   ]
  },
  {
   "cell_type": "code",
   "execution_count": 20,
   "id": "13b7fe93",
   "metadata": {},
   "outputs": [
    {
     "name": "stdout",
     "output_type": "stream",
     "text": [
      "|0.6190376004729873 - 0.6190376004729873| < 0.0001\n",
      "|0.6867550176536087 - 0.6867550176536087| < 0.0001\n",
      "|0.8121163733241963 - 0.8121163733241963| < 0.0001\n",
      "|0.8248344227063773 - 0.8248344227063773| < 0.0001\n",
      "|0.8588450006050912 - 0.8588450006050912| < 0.0001\n"
     ]
    },
    {
     "data": {
      "text/plain": [
       "True"
      ]
     },
     "execution_count": 20,
     "metadata": {},
     "output_type": "execute_result"
    }
   ],
   "source": [
    "check_accuracy(n, x)"
   ]
  },
  {
   "cell_type": "code",
   "execution_count": 24,
   "id": "828566fa",
   "metadata": {},
   "outputs": [
    {
     "name": "stdout",
     "output_type": "stream",
     "text": [
      "0.85884500060509116892 "
     ]
    }
   ],
   "source": [
    "print(\"%.20f\" % x[4], end=\" \")"
   ]
  },
  {
   "cell_type": "code",
   "execution_count": null,
   "id": "2470baaa",
   "metadata": {},
   "outputs": [],
   "source": []
  }
 ],
 "metadata": {
  "kernelspec": {
   "display_name": "Python 3 (ipykernel)",
   "language": "python",
   "name": "python3"
  },
  "language_info": {
   "codemirror_mode": {
    "name": "ipython",
    "version": 3
   },
   "file_extension": ".py",
   "mimetype": "text/x-python",
   "name": "python",
   "nbconvert_exporter": "python",
   "pygments_lexer": "ipython3",
   "version": "3.10.5"
  }
 },
 "nbformat": 4,
 "nbformat_minor": 5
}
