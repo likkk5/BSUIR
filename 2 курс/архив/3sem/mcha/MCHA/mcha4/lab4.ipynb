{
 "cells": [
  {
   "cell_type": "code",
   "execution_count": 4,
   "id": "4e8b1f92",
   "metadata": {},
   "outputs": [],
   "source": [
    "import numpy as np\n",
    "from sympy import *\n",
    "import random\n",
    "import time"
   ]
  },
  {
   "cell_type": "markdown",
   "id": "a56a9f17",
   "metadata": {},
   "source": [
    "### Вспомогательная функция"
   ]
  },
  {
   "cell_type": "code",
   "execution_count": 5,
   "id": "0c9684fa",
   "metadata": {},
   "outputs": [],
   "source": [
    "def roots_to_dict(roots, x):\n",
    "    dict_roots = dict()\n",
    "    for i in range(len(roots)):\n",
    "        dict_roots[x[i]] = roots[i]\n",
    "\n",
    "    return dict_roots"
   ]
  },
  {
   "cell_type": "markdown",
   "id": "52dda51b",
   "metadata": {},
   "source": [
    "### Якобиан"
   ]
  },
  {
   "cell_type": "code",
   "execution_count": 6,
   "id": "cc1ebcd8",
   "metadata": {},
   "outputs": [],
   "source": [
    "def get_jacobi(system_equations: np.array):\n",
    "    n = system_equations.shape[0]\n",
    "    x = symbols(f'x:{n}')\n",
    "    J = np.empty(shape=(n, n), dtype=core.add.Add)\n",
    "    for i in range(n):\n",
    "        for j in range(n):\n",
    "            J[i, j] = system_equations[i].diff(x[j])\n",
    "\n",
    "    return J"
   ]
  },
  {
   "cell_type": "markdown",
   "id": "190f4f5c",
   "metadata": {},
   "source": [
    "### Метод простых итераций"
   ]
  },
  {
   "cell_type": "code",
   "execution_count": 7,
   "id": "a36fd446",
   "metadata": {},
   "outputs": [],
   "source": [
    "def get_q(fi_equation, approx, e=0.1):\n",
    "    x_0 = approx[0]\n",
    "    x_fi = approx[1]\n",
    "    x = symbols('x:2')\n",
    "    e = 0.1\n",
    "    x_1 = random.uniform(x_0 - e, x_0 + e)\n",
    "    x_2 = random.uniform(x_0 - e, x_0 + e)\n",
    "\n",
    "    q = (abs(fi_equation.subs({x[0]: x_1, x[1]: x_fi}) - \n",
    "             fi_equation.subs({x[0]: x_2, x[1]: x_fi}))) / (abs(x_1 - x_2))\n",
    "    return q"
   ]
  },
  {
   "cell_type": "code",
   "execution_count": 19,
   "id": "ce2b9984",
   "metadata": {},
   "outputs": [],
   "source": [
    "def iteration_solve(system_equations: np.array, approx, tol=0.00001):\n",
    "    print('\\nIteration method computing...')\n",
    "\n",
    "    n = system_equations.shape[0]\n",
    "    x = symbols(f'x:{n}')\n",
    "\n",
    "    fi_equations = system_equations[1]\n",
    "\n",
    "    curr_roots = list(approx)\n",
    "\n",
    "    errors = np.zeros(shape=(n, ))\n",
    "    error = tol * 10000\n",
    "\n",
    "    try:\n",
    "        q_1 = float(get_q(fi_equations[0], (approx[0], approx[1]), 0.01))\n",
    "        q_2 = float(get_q(fi_equations[1], (approx[1], approx[0]), 0.01))\n",
    "    except:\n",
    "        print(\"Q is not real, cant solve\")\n",
    "        return None, None\n",
    "    print(f'q_1 = {q_1:.4f}')\n",
    "    print(f'q_2 = {q_2:.4f}')\n",
    "    if q_1>=1 or q_2>=1:\n",
    "        print(\"q is greater than 1\")\n",
    "        return None, None\n",
    "\n",
    "    iteration = 0\n",
    "    while error > tol:\n",
    "        prev_roots = curr_roots.copy()\n",
    "        roots_d = roots_to_dict(curr_roots, x)\n",
    "        print(fi_equations)\n",
    "        for i in range(n):\n",
    "            try:\n",
    "                curr_roots[i] = float(fi_equations[i].subs(roots_d))\n",
    "            except TypeError:\n",
    "                print(\"some complex numbers\")\n",
    "\n",
    "            errors[i] = abs(prev_roots[i] - curr_roots[i])\n",
    "            roots_d = roots_to_dict(curr_roots, x)\n",
    "\n",
    "        error = np.amax(errors)\n",
    "        iteration += 1\n",
    "\n",
    "\n",
    "    print('stopped iteration method\\n')\n",
    "\n",
    "    return curr_roots, iteration"
   ]
  },
  {
   "cell_type": "markdown",
   "id": "a615627f",
   "metadata": {},
   "source": [
    "### Метод Ньютона"
   ]
  },
  {
   "cell_type": "code",
   "execution_count": 9,
   "id": "40f0ec3f",
   "metadata": {},
   "outputs": [],
   "source": [
    "import numpy as np\n",
    "from sympy import symbols\n",
    "from staff_matrix import get_jacobi, roots_to_dict\n",
    "\n",
    "\n",
    "def newton_solve(system_equations: np.array, approx, tol=0.00001):\n",
    "    n = system_equations.shape[0]\n",
    "    x = symbols(f'x:{n}')\n",
    "\n",
    "    J = get_jacobi(system_equations)\n",
    "\n",
    "    error = tol * 10000\n",
    "    iteration = 0\n",
    "    roots = approx\n",
    "    while error > tol:\n",
    "        iteration += 1\n",
    "\n",
    "        roots_d = roots_to_dict(roots, x)\n",
    "        jacobi_values = np.zeros(shape=(n, n))\n",
    "        for i in range(n):\n",
    "            for j in range(n):\n",
    "                jacobi_values[i, j] = J[i, j].subs(roots_d)\n",
    "\n",
    "        jacobi_det = np.linalg.det(jacobi_values)\n",
    "        print(f\"Jacobi det = {jacobi_det:.4f}\")\n",
    "        if not jacobi_det:\n",
    "            print(\"det equal 0. Can't solve system\")\n",
    "            exit(0)\n",
    "\n",
    "        F = np.zeros(shape=(n, ))\n",
    "        for i in range(0, n):\n",
    "            F[i] = system_equations[i].subs(roots_d)\n",
    "\n",
    "        delta_x = np.linalg.solve(jacobi_values, -1 * F)\n",
    "\n",
    "        roots = delta_x + roots\n",
    "        error = np.amax(abs(delta_x))\n",
    "\n",
    "    return roots, iteration"
   ]
  },
  {
   "cell_type": "code",
   "execution_count": 10,
   "id": "6e5c11a9",
   "metadata": {},
   "outputs": [],
   "source": [
    "def print_list(l):\n",
    "    try:\n",
    "        for el in l:\n",
    "            print(f\"{el:0.4f}\",end=' ')\n",
    "    except:\n",
    "        print(\"EMPTY\")\n",
    "    return ''"
   ]
  },
  {
   "cell_type": "code",
   "execution_count": 11,
   "id": "7354a4e4",
   "metadata": {},
   "outputs": [],
   "source": [
    "def get_system_1_it():\n",
    "    global y_1_1, y_1_2\n",
    "    return np.array([\n",
    "        [\n",
    "            y_1_1,\n",
    "            y_1_2\n",
    "        ],\n",
    "        [\n",
    "            sqrt((x[0] * x[1] + 5*x[0] - 1) / 2),\n",
    "            sqrt(x[0]+3*log(x[0], 10))\n",
    "        ]\n",
    "        ])"
   ]
  },
  {
   "cell_type": "markdown",
   "id": "d8a63881",
   "metadata": {},
   "source": [
    "### Тестовый пример 1"
   ]
  },
  {
   "cell_type": "code",
   "execution_count": 12,
   "id": "f24c880b",
   "metadata": {},
   "outputs": [],
   "source": [
    "x = symbols('x:2')"
   ]
  },
  {
   "cell_type": "code",
   "execution_count": 13,
   "id": "7a4ab76a",
   "metadata": {},
   "outputs": [],
   "source": [
    "y_1_1 = 2*x[0]**2 - x[0]*x[1] - 5*x[0] + 1\n",
    "y_1_2 = x[0] + 3*log(x[0], 10) - x[1]**2\n",
    "approx = (3.5, 2.2)"
   ]
  },
  {
   "cell_type": "code",
   "execution_count": 14,
   "id": "84694548",
   "metadata": {},
   "outputs": [],
   "source": [
    "def get_system_1_it():\n",
    "    global y_1_1, y_1_2\n",
    "    return np.array([\n",
    "        [\n",
    "            y_1_1,\n",
    "            y_1_2\n",
    "        ],\n",
    "        [\n",
    "            sqrt((x[0] * x[1] + 5*x[0] - 1) / 2),\n",
    "            sqrt(x[0]+3*log(x[0], 10))\n",
    "        ]\n",
    "        ])"
   ]
  },
  {
   "cell_type": "code",
   "execution_count": 15,
   "id": "03839049",
   "metadata": {},
   "outputs": [],
   "source": [
    "system = get_system_1_it()"
   ]
  },
  {
   "cell_type": "code",
   "execution_count": 20,
   "id": "14930a93",
   "metadata": {},
   "outputs": [
    {
     "name": "stdout",
     "output_type": "stream",
     "text": [
      "\t\tНачальное приближение: (3.5, 2.2)\n",
      "\n",
      "Iteration method computing...\n",
      "q_1 = 0.5164\n",
      "q_2 = 0.4500\n",
      "[sqrt(x0*x1/2 + 5*x0/2 - 1/2) sqrt(x0 + 3*log(x0)/log(10))]\n",
      "[sqrt(x0*x1/2 + 5*x0/2 - 1/2) sqrt(x0 + 3*log(x0)/log(10))]\n",
      "[sqrt(x0*x1/2 + 5*x0/2 - 1/2) sqrt(x0 + 3*log(x0)/log(10))]\n",
      "[sqrt(x0*x1/2 + 5*x0/2 - 1/2) sqrt(x0 + 3*log(x0)/log(10))]\n",
      "[sqrt(x0*x1/2 + 5*x0/2 - 1/2) sqrt(x0 + 3*log(x0)/log(10))]\n",
      "[sqrt(x0*x1/2 + 5*x0/2 - 1/2) sqrt(x0 + 3*log(x0)/log(10))]\n",
      "[sqrt(x0*x1/2 + 5*x0/2 - 1/2) sqrt(x0 + 3*log(x0)/log(10))]\n",
      "[sqrt(x0*x1/2 + 5*x0/2 - 1/2) sqrt(x0 + 3*log(x0)/log(10))]\n",
      "[sqrt(x0*x1/2 + 5*x0/2 - 1/2) sqrt(x0 + 3*log(x0)/log(10))]\n",
      "[sqrt(x0*x1/2 + 5*x0/2 - 1/2) sqrt(x0 + 3*log(x0)/log(10))]\n",
      "[sqrt(x0*x1/2 + 5*x0/2 - 1/2) sqrt(x0 + 3*log(x0)/log(10))]\n",
      "[sqrt(x0*x1/2 + 5*x0/2 - 1/2) sqrt(x0 + 3*log(x0)/log(10))]\n",
      "[sqrt(x0*x1/2 + 5*x0/2 - 1/2) sqrt(x0 + 3*log(x0)/log(10))]\n",
      "[sqrt(x0*x1/2 + 5*x0/2 - 1/2) sqrt(x0 + 3*log(x0)/log(10))]\n",
      "stopped iteration method\n",
      "\n",
      "Время выполнения метода итераций 0.07591 секунд\n",
      "\t\t*** Метод простой итерации: ***\n",
      "3.4874 2.2616 Корни уравнения: \n",
      "Количество итераций: 14\n",
      "--------------------\n",
      "--------------------\n",
      "\t\tНачальное приближение: (3.5, 2.2)\n",
      "Jacobi det = -25.1171\n",
      "Jacobi det = -25.4838\n",
      "Jacobi det = -25.4619\n",
      "Время выполнения метода ньютона 0.00749 секунд\n",
      "\t\t*** Метод Ньютона: ***\n",
      "Корни уравнения:\n",
      "3.4874 2.2616 Количество итераций: 3\n"
     ]
    }
   ],
   "source": [
    "print(f\"\\t\\tНачальное приближение: {approx}\")\n",
    "start_time = time.time()\n",
    "iteration_ans = iteration_solve(system, approx)\n",
    "print(f\"Время выполнения метода итераций {time.time() - start_time:0.5f} секунд\")\n",
    "print(\"\\t\\t*** Метод простой итерации: ***\")\n",
    "print(f\"Корни уравнения: {print_list(iteration_ans[0])}\")\n",
    "print(f\"Количество итераций: {iteration_ans[1]}\")\n",
    "\n",
    "for i in range(2):\n",
    "    print('-' * 20)\n",
    "\n",
    "\n",
    "print(f\"\\t\\tНачальное приближение: {approx}\")\n",
    "start_time = time.time()\n",
    "newton_ans = newton_solve(system[0], approx)\n",
    "print(f\"Время выполнения метода ньютона {time.time() - start_time:0.5f} секунд\")\n",
    "print(\"\\t\\t*** Метод Ньютона: ***\")\n",
    "print(f\"Корни уравнения:\")\n",
    "print_list(newton_ans[0])\n",
    "print(f\"Количество итераций: {newton_ans[1]}\")"
   ]
  },
  {
   "cell_type": "markdown",
   "id": "b6d63e92",
   "metadata": {},
   "source": [
    "### Тестовый пример 2"
   ]
  },
  {
   "cell_type": "code",
   "execution_count": 14,
   "id": "d545a014",
   "metadata": {},
   "outputs": [],
   "source": [
    "y_2_1 = x[0]**2 + x[0]*x[1] - 10\n",
    "y_2_2 = x[1] + 3*x[0]*x[1]**2 - 57\n",
    "approx = (1.5, 3.5)\n"
   ]
  },
  {
   "cell_type": "code",
   "execution_count": 15,
   "id": "ab2a4ec1",
   "metadata": {},
   "outputs": [],
   "source": [
    "def get_system_2_it():\n",
    "    global y_2_1, y_2_2\n",
    "    return np.array([\n",
    "        [\n",
    "            y_2_1,\n",
    "            y_2_2\n",
    "        ],\n",
    "        [\n",
    "            sqrt(10 - x[0]*x[1]),\n",
    "            sqrt((57-x[1]) / (3*x[0]))\n",
    "        ]\n",
    "    ])"
   ]
  },
  {
   "cell_type": "code",
   "execution_count": 16,
   "id": "00e79599",
   "metadata": {},
   "outputs": [
    {
     "name": "stdout",
     "output_type": "stream",
     "text": [
      "\t\tНачальное приближение: (1.5, 3.5)\n",
      "\n",
      "Iteration method computing...\n",
      "q_1 = 0.8022\n",
      "q_2 = 0.3271\n",
      "stopped iteration method\n",
      "\n",
      "Время выполнения метода итераций 0.12488 секунд\n",
      "\t\t*** Метод простой итерации: ***\n",
      "2.0000 3.0000 Корни уравнения: \n",
      "Количество итераций: 12\n",
      "--------------------\n",
      "--------------------\n",
      "\t\tНачальное приближение: (1.5, 3.5)\n",
      "Jacobi det = 156.1250\n",
      "Jacobi det = 197.7843\n",
      "Jacobi det = 204.9696\n",
      "Jacobi det = 204.9999\n",
      "Время выполнения метода ньютона 0.03259 секунд\n",
      "\t\t*** Метод Ньютона: ***\n",
      "Корни уравнения:\n",
      "2.0000 3.0000 Количество итераций: 4\n"
     ]
    }
   ],
   "source": [
    "system = get_system_2_it()\n",
    "print(f\"\\t\\tНачальное приближение: {approx}\")\n",
    "start_time = time.time()\n",
    "iteration_ans = iteration_solve(system, approx)\n",
    "print(f\"Время выполнения метода итераций {time.time() - start_time:0.5f} секунд\")\n",
    "print(\"\\t\\t*** Метод простой итерации: ***\")\n",
    "print(f\"Корни уравнения: {print_list(iteration_ans[0])}\")\n",
    "print(f\"Количество итераций: {iteration_ans[1]}\")\n",
    "\n",
    "for i in range(2):\n",
    "    print('-' * 20)\n",
    "\n",
    "\n",
    "print(f\"\\t\\tНачальное приближение: {approx}\")\n",
    "start_time = time.time()\n",
    "newton_ans = newton_solve(system[0], approx)\n",
    "print(f\"Время выполнения метода ньютона {time.time() - start_time:0.5f} секунд\")\n",
    "print(\"\\t\\t*** Метод Ньютона: ***\")\n",
    "print(f\"Корни уравнения:\")\n",
    "print_list(newton_ans[0])\n",
    "print(f\"Количество итераций: {newton_ans[1]}\")"
   ]
  },
  {
   "cell_type": "markdown",
   "id": "43832ede",
   "metadata": {},
   "source": [
    "### Тестовый пример 3"
   ]
  },
  {
   "cell_type": "code",
   "execution_count": 17,
   "id": "ce059236",
   "metadata": {},
   "outputs": [],
   "source": [
    "y_3_1 = x[0]**2 - x[1] - 1\n",
    "y_3_2 = x[0] - x[1]**2 + 1\n",
    "approx = (1.9, 1.8)"
   ]
  },
  {
   "cell_type": "code",
   "execution_count": 18,
   "id": "3d70bce3",
   "metadata": {},
   "outputs": [],
   "source": [
    "def get_system_3_it():\n",
    "    global y_3_1, y_3_2\n",
    "    return np.array([\n",
    "        [\n",
    "            y_3_1,\n",
    "            y_3_2\n",
    "        ],\n",
    "        [\n",
    "            sqrt(1+x[1]),\n",
    "            sqrt(1 + x[0])\n",
    "        ]\n",
    "    ])"
   ]
  },
  {
   "cell_type": "code",
   "execution_count": 19,
   "id": "36a576e4",
   "metadata": {},
   "outputs": [
    {
     "name": "stdout",
     "output_type": "stream",
     "text": [
      "\t\tНачальное приближение: (1.9, 1.8)\n",
      "\n",
      "Iteration method computing...\n",
      "q_1 = 0.0000\n",
      "q_2 = 0.2963\n",
      "stopped iteration method\n",
      "\n",
      "Время выполнения метода итераций 0.01091 секунд\n",
      "\t\t*** Метод простой итерации: ***\n",
      "1.6180 1.6180 Корни уравнения: \n",
      "Количество итераций: 6\n",
      "--------------------\n",
      "--------------------\n",
      "\t\tНачальное приближение: (1.9, 1.8)\n",
      "Jacobi det = -12.6800\n",
      "Jacobi det = -9.7416\n",
      "Jacobi det = -9.4747\n",
      "Jacobi det = -9.4721\n",
      "Время выполнения метода ньютона 0.02146 секунд\n",
      "\t\t*** Метод Ньютона: ***\n",
      "Корни уравнения:\n",
      "1.6180 1.6180 Количество итераций: 4\n"
     ]
    }
   ],
   "source": [
    "system = get_system_3_it()\n",
    "print(f\"\\t\\tНачальное приближение: {approx}\")\n",
    "start_time = time.time()\n",
    "iteration_ans = iteration_solve(system, approx)\n",
    "print(f\"Время выполнения метода итераций {time.time() - start_time:0.5f} секунд\")\n",
    "print(\"\\t\\t*** Метод простой итерации: ***\")\n",
    "print(f\"Корни уравнения: {print_list(iteration_ans[0])}\")\n",
    "print(f\"Количество итераций: {iteration_ans[1]}\")\n",
    "\n",
    "for i in range(2):\n",
    "    print('-' * 20)\n",
    "\n",
    "\n",
    "print(f\"\\t\\tНачальное приближение: {approx}\")\n",
    "start_time = time.time()\n",
    "newton_ans = newton_solve(system[0], approx)\n",
    "print(f\"Время выполнения метода ньютона {time.time() - start_time:0.5f} секунд\")\n",
    "print(\"\\t\\t*** Метод Ньютона: ***\")\n",
    "print(f\"Корни уравнения:\")\n",
    "print_list(newton_ans[0])\n",
    "print(f\"Количество итераций: {newton_ans[1]}\")"
   ]
  },
  {
   "cell_type": "markdown",
   "id": "67dab866",
   "metadata": {},
   "source": [
    "### Задание"
   ]
  },
  {
   "cell_type": "code",
   "execution_count": 20,
   "id": "1885b1b7",
   "metadata": {},
   "outputs": [],
   "source": [
    "m = 0.1\n",
    "a = 0.7\n",
    "\n",
    "approx = (0.6, 0.6)\n",
    "\n",
    "y_1 = tan(x[0]*x[1] + m) - x[0]\n",
    "y_2 = a*x[0]**2 + 2*x[1]**2 - 1\n",
    "\n",
    "def get_system():\n",
    "    return np.array([\n",
    "        [\n",
    "            y_1,\n",
    "            y_2\n",
    "        ],\n",
    "        [\n",
    "            tan(x[0]*x[1] + m),\n",
    "            sqrt((1 - a*x[0]**2) / 2)\n",
    "        ]\n",
    "    ])"
   ]
  },
  {
   "cell_type": "code",
   "execution_count": 21,
   "id": "0b68b76d",
   "metadata": {},
   "outputs": [
    {
     "name": "stdout",
     "output_type": "stream",
     "text": [
      "\t\tНачальное приближение: (0.6, 0.6)\n",
      "\n",
      "Iteration method computing...\n",
      "q_1 = 0.7172\n",
      "q_2 = 0.3685\n",
      "stopped iteration method\n",
      "\n",
      "Время выполнения метода итераций 0.27596 секунд\n",
      "\t\t*** Метод простой итерации: ***\n",
      "0.3499 0.6761 Корни уравнения: \n",
      "Количество итераций: 25\n",
      "--------------------\n",
      "--------------------\n",
      "\t\tНачальное приближение: (0.6, 0.6)\n",
      "Jacobi det = -1.2342\n",
      "Jacobi det = -0.8602\n",
      "Jacobi det = -0.8408\n",
      "Jacobi det = -0.8444\n",
      "Время выполнения метода ньютона 0.05438 секунд\n",
      "\t\t*** Метод Ньютона: ***\n",
      "Корни уравнения:\n",
      "0.3499 0.6761 Количество итераций: 4\n"
     ]
    }
   ],
   "source": [
    "system = get_system()\n",
    "\n",
    "print(f\"\\t\\tНачальное приближение: {approx}\")\n",
    "start_time = time.time()\n",
    "iteration_ans = iteration_solve(system, approx)\n",
    "print(f\"Время выполнения метода итераций {time.time() - start_time:0.5f} секунд\")\n",
    "print(\"\\t\\t*** Метод простой итерации: ***\")\n",
    "print(f\"Корни уравнения: {print_list(iteration_ans[0])}\")\n",
    "print(f\"Количество итераций: {iteration_ans[1]}\")\n",
    "\n",
    "for i in range(2):\n",
    "    print('-' * 20)\n",
    "\n",
    "\n",
    "print(f\"\\t\\tНачальное приближение: {approx}\")\n",
    "start_time = time.time()\n",
    "newton_ans = newton_solve(system[0], approx)\n",
    "print(f\"Время выполнения метода ньютона {time.time() - start_time:0.5f} секунд\")\n",
    "print(\"\\t\\t*** Метод Ньютона: ***\")\n",
    "print(f\"Корни уравнения:\")\n",
    "print_list(newton_ans[0])\n",
    "print(f\"Количество итераций: {newton_ans[1]}\")"
   ]
  },
  {
   "cell_type": "code",
   "execution_count": null,
   "id": "8c5d1001",
   "metadata": {},
   "outputs": [],
   "source": []
  }
 ],
 "metadata": {
  "kernelspec": {
   "display_name": "Python 3 (ipykernel)",
   "language": "python",
   "name": "python3"
  },
  "language_info": {
   "codemirror_mode": {
    "name": "ipython",
    "version": 3
   },
   "file_extension": ".py",
   "mimetype": "text/x-python",
   "name": "python",
   "nbconvert_exporter": "python",
   "pygments_lexer": "ipython3",
   "version": "3.10.6"
  }
 },
 "nbformat": 4,
 "nbformat_minor": 5
}
