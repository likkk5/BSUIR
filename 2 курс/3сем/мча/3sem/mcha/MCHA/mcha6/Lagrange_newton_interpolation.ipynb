{
 "cells": [
  {
   "cell_type": "code",
   "execution_count": 1,
   "id": "6b4d70c3",
   "metadata": {},
   "outputs": [],
   "source": [
    "import numpy as np\n",
    "from sympy import *\n",
    "import sympy"
   ]
  },
  {
   "cell_type": "markdown",
   "id": "d6f8644d",
   "metadata": {},
   "source": [
    "# Интерполяция многочленом Лагранжа"
   ]
  },
  {
   "cell_type": "code",
   "execution_count": 2,
   "id": "79c125be",
   "metadata": {},
   "outputs": [],
   "source": [
    "def lagrange_l(x_ls: list, x_j):\n",
    "    x = symbols('x')\n",
    "    lg = 1\n",
    "    n = len(x_ls)\n",
    "    for i in range(n):\n",
    "        if x_j == x_ls[i]:\n",
    "            continue\n",
    "        lg *= (x - x_ls[i]) / (x_j - x_ls[i])\n",
    "    return lg\n",
    "\n",
    "\n",
    "def lagrange_poly(x, y):\n",
    "    if len(x) != len(y):\n",
    "        raise ValueError(\"x и y не одинаковой длины\")\n",
    "\n",
    "    n = len(x)\n",
    "    \n",
    "    L = 0\n",
    "    for i in range(n):\n",
    "        L += y[i] * lagrange_l(x, x[i])\n",
    "    return L"
   ]
  },
  {
   "cell_type": "markdown",
   "id": "6b2e5e9b",
   "metadata": {},
   "source": [
    "# Интерполяция многочленом Ньютона"
   ]
  },
  {
   "cell_type": "code",
   "execution_count": 3,
   "id": "d2cc5fc1",
   "metadata": {},
   "outputs": [],
   "source": [
    "def get_a(x: list, y: list):\n",
    "    a_table = np.zeros(shape=(len(y) - 1, len(y) - 1))\n",
    "    n = a_table.shape[0]\n",
    "\n",
    "    for i in range(n):\n",
    "        a_table[0, i] = (y[i + 1] - y[i]) / (x[i+1] - x[i])\n",
    "\n",
    "    for i in range(1, n):\n",
    "        for j in range(n - i):\n",
    "            a_table[i, j] = (a_table[i - 1, j + 1] - a_table[i - 1, j]) / (x[i+1+j] - x[j])\n",
    "\n",
    "    return a_table\n",
    "\n",
    "\n",
    "def newton_poly(x_ls: list, y_ls: list):\n",
    "    if len(x_ls) != len(y_ls):\n",
    "        raise TypeError(\"x и у не одинаковой длины\")\n",
    "\n",
    "    n = len(x_ls)\n",
    "\n",
    "    x = symbols('x')\n",
    "    N = 0\n",
    "    a_table = get_a(x_ls, y_ls)\n",
    "    for i in range(n):\n",
    "        if i == 0:\n",
    "            N += y_ls[0]\n",
    "            continue\n",
    "        x_poly = 1\n",
    "        for j in range(i):\n",
    "            x_poly *= (x-x_ls[j])\n",
    "\n",
    "        N += a_table[i-1, 0] * x_poly\n",
    "\n",
    "    return N"
   ]
  },
  {
   "cell_type": "code",
   "execution_count": 4,
   "id": "8cd6afd2",
   "metadata": {},
   "outputs": [],
   "source": [
    "x_1 = [2, 4, 5]\n",
    "y_1 = [1, 15, 28]\n",
    "point_1 = 3\n",
    "\n",
    "x_2 = [1, 2, 3, 4, 5, 6]\n",
    "y_2 = [1, 4, 9, 16, 25, 36]\n",
    "point_2 = 25\n",
    "\n",
    "x_3 = np.linspace(0, 3, num=6)\n",
    "y_3 = np.sin(x_3)\n",
    "point_3 = np.pi"
   ]
  },
  {
   "cell_type": "code",
   "execution_count": 5,
   "id": "338187ac",
   "metadata": {},
   "outputs": [],
   "source": [
    "def solve(x, y, point, silent=False):\n",
    "    x_var = symbols('x')\n",
    "    newton = newton_poly(x, y)\n",
    "    lagrange = lagrange_poly(x, y)\n",
    "    \n",
    "    if silent:\n",
    "        return lagrange, newton\n",
    "    \n",
    "    print(f\"Входные данные:\\n\"\n",
    "          f\"x = {x}\\n\"\n",
    "          f\"y = {y}\")\n",
    "\n",
    "    print('-' * 80)\n",
    "\n",
    "    print(f'\\tИнтерполяционный многочлен Лагранжа:\\nL(x) = {lagrange}')\n",
    "    print(f'Значение в точке х = {point}\\nL({point}) = {float(lagrange.subs(x_var, point)):.4f}')\n",
    "\n",
    "    print('-' * 80)\n",
    "\n",
    "    print(f'\\tИнтерполяционный многочлен Ньютона:\\nN(x) = {newton}')\n",
    "    print(f'Значение в точке х = {point}\\nN({point}) = {float(newton.subs(x_var, point)):.4f}')\n",
    "    return lagrange, newton"
   ]
  },
  {
   "cell_type": "markdown",
   "id": "c01a5051",
   "metadata": {},
   "source": [
    "## Тестовые примеры"
   ]
  },
  {
   "cell_type": "markdown",
   "id": "25cda24d",
   "metadata": {},
   "source": [
    "### Пример 1"
   ]
  },
  {
   "cell_type": "code",
   "execution_count": 6,
   "id": "db9cb007",
   "metadata": {},
   "outputs": [
    {
     "name": "stdout",
     "output_type": "stream",
     "text": [
      "Входные данные:\n",
      "x = [2, 4, 5]\n",
      "y = [1, 15, 28]\n",
      "--------------------------------------------------------------------------------\n",
      "\tИнтерполяционный многочлен Лагранжа:\n",
      "L(x) = (5/3 - x/3)*(2 - x/2) + 15*(5 - x)*(x/2 - 1) + 28*(x/3 - 2/3)*(x - 4)\n",
      "Значение в точке х = 3\n",
      "L(3) = 6.0000\n",
      "--------------------------------------------------------------------------------\n",
      "\tИнтерполяционный многочлен Ньютона:\n",
      "N(x) = 7.0*x + 2.0*(x - 4)*(x - 2) - 13.0\n",
      "Значение в точке х = 3\n",
      "N(3) = 6.0000\n"
     ]
    }
   ],
   "source": [
    "lag, newton = solve(x_1, y_1, point_1)"
   ]
  },
  {
   "cell_type": "markdown",
   "id": "b10c04fe",
   "metadata": {},
   "source": [
    "### Интерполяционный многочлен Лагранжа"
   ]
  },
  {
   "cell_type": "code",
   "execution_count": 7,
   "id": "3e9da854",
   "metadata": {},
   "outputs": [
    {
     "data": {
      "text/latex": [
       "$\\displaystyle \\left(\\frac{5}{3} - \\frac{x}{3}\\right) \\left(2 - \\frac{x}{2}\\right) + 15 \\cdot \\left(5 - x\\right) \\left(\\frac{x}{2} - 1\\right) + 28 \\left(\\frac{x}{3} - \\frac{2}{3}\\right) \\left(x - 4\\right)$"
      ],
      "text/plain": [
       "(5/3 - x/3)*(2 - x/2) + 15*(5 - x)*(x/2 - 1) + 28*(x/3 - 2/3)*(x - 4)"
      ]
     },
     "execution_count": 7,
     "metadata": {},
     "output_type": "execute_result"
    }
   ],
   "source": [
    "lag"
   ]
  },
  {
   "cell_type": "code",
   "execution_count": 8,
   "id": "f6555ce3",
   "metadata": {},
   "outputs": [
    {
     "data": {
      "text/latex": [
       "$\\displaystyle 2 x^{2} - 5 x + 3$"
      ],
      "text/plain": [
       "2*x**2 - 5*x + 3"
      ]
     },
     "execution_count": 8,
     "metadata": {},
     "output_type": "execute_result"
    }
   ],
   "source": [
    "simplify(lag)"
   ]
  },
  {
   "cell_type": "markdown",
   "id": "34192b0d",
   "metadata": {},
   "source": [
    "### Интерполяционный многочлен Ньютона"
   ]
  },
  {
   "cell_type": "code",
   "execution_count": 9,
   "id": "9089e5bc",
   "metadata": {},
   "outputs": [
    {
     "data": {
      "text/latex": [
       "$\\displaystyle 7.0 x + 2.0 \\left(x - 4\\right) \\left(x - 2\\right) - 13.0$"
      ],
      "text/plain": [
       "7.0*x + 2.0*(x - 4)*(x - 2) - 13.0"
      ]
     },
     "execution_count": 9,
     "metadata": {},
     "output_type": "execute_result"
    }
   ],
   "source": [
    "newton"
   ]
  },
  {
   "cell_type": "code",
   "execution_count": 10,
   "id": "619a3ed3",
   "metadata": {},
   "outputs": [
    {
     "data": {
      "text/latex": [
       "$\\displaystyle 2.0 x^{2} - 5.0 x + 3.0$"
      ],
      "text/plain": [
       "2.0*x**2 - 5.0*x + 3.0"
      ]
     },
     "execution_count": 10,
     "metadata": {},
     "output_type": "execute_result"
    }
   ],
   "source": [
    "simplify(newton)"
   ]
  },
  {
   "cell_type": "markdown",
   "id": "032cef3f",
   "metadata": {},
   "source": [
    "## Пример 2\n"
   ]
  },
  {
   "cell_type": "code",
   "execution_count": 11,
   "id": "6e5973e8",
   "metadata": {
    "scrolled": true
   },
   "outputs": [
    {
     "name": "stdout",
     "output_type": "stream",
     "text": [
      "Входные данные:\n",
      "x = [1, 2, 3, 4, 5, 6]\n",
      "y = [1, 4, 9, 16, 25, 36]\n",
      "--------------------------------------------------------------------------------\n",
      "\tИнтерполяционный многочлен Лагранжа:\n",
      "L(x) = (6/5 - x/5)*(5/4 - x/4)*(4/3 - x/3)*(3/2 - x/2)*(2 - x) + 4*(3/2 - x/4)*(5/3 - x/3)*(2 - x/2)*(3 - x)*(x - 1) + 9*(2 - x/3)*(5/2 - x/2)*(4 - x)*(x/2 - 1/2)*(x - 2) + 16*(3 - x/2)*(5 - x)*(x/3 - 1/3)*(x/2 - 1)*(x - 3) + 25*(6 - x)*(x/4 - 1/4)*(x/3 - 2/3)*(x/2 - 3/2)*(x - 4) + 36*(x/5 - 1/5)*(x/4 - 1/2)*(x/3 - 1)*(x/2 - 2)*(x - 5)\n",
      "Значение в точке х = 3\n",
      "L(3) = 9.0000\n",
      "--------------------------------------------------------------------------------\n",
      "\tИнтерполяционный многочлен Ньютона:\n",
      "N(x) = 3.0*x + 1.0*(x - 2)*(x - 1) - 2.0\n",
      "Значение в точке х = 3\n",
      "N(3) = 9.0000\n"
     ]
    }
   ],
   "source": [
    "lag, newton = solve(x_2, y_2, point_1)"
   ]
  },
  {
   "cell_type": "markdown",
   "id": "8dedf80a",
   "metadata": {},
   "source": [
    "### Интерполяционный многочлен Лагранжа"
   ]
  },
  {
   "cell_type": "code",
   "execution_count": 12,
   "id": "2701fee0",
   "metadata": {},
   "outputs": [
    {
     "data": {
      "text/latex": [
       "$\\displaystyle \\left(\\frac{6}{5} - \\frac{x}{5}\\right) \\left(\\frac{5}{4} - \\frac{x}{4}\\right) \\left(\\frac{4}{3} - \\frac{x}{3}\\right) \\left(\\frac{3}{2} - \\frac{x}{2}\\right) \\left(2 - x\\right) + 4 \\cdot \\left(\\frac{3}{2} - \\frac{x}{4}\\right) \\left(\\frac{5}{3} - \\frac{x}{3}\\right) \\left(2 - \\frac{x}{2}\\right) \\left(3 - x\\right) \\left(x - 1\\right) + 9 \\cdot \\left(2 - \\frac{x}{3}\\right) \\left(\\frac{5}{2} - \\frac{x}{2}\\right) \\left(4 - x\\right) \\left(\\frac{x}{2} - \\frac{1}{2}\\right) \\left(x - 2\\right) + 16 \\cdot \\left(3 - \\frac{x}{2}\\right) \\left(5 - x\\right) \\left(\\frac{x}{3} - \\frac{1}{3}\\right) \\left(\\frac{x}{2} - 1\\right) \\left(x - 3\\right) + 25 \\cdot \\left(6 - x\\right) \\left(\\frac{x}{4} - \\frac{1}{4}\\right) \\left(\\frac{x}{3} - \\frac{2}{3}\\right) \\left(\\frac{x}{2} - \\frac{3}{2}\\right) \\left(x - 4\\right) + 36 \\left(\\frac{x}{5} - \\frac{1}{5}\\right) \\left(\\frac{x}{4} - \\frac{1}{2}\\right) \\left(\\frac{x}{3} - 1\\right) \\left(\\frac{x}{2} - 2\\right) \\left(x - 5\\right)$"
      ],
      "text/plain": [
       "(6/5 - x/5)*(5/4 - x/4)*(4/3 - x/3)*(3/2 - x/2)*(2 - x) + 4*(3/2 - x/4)*(5/3 - x/3)*(2 - x/2)*(3 - x)*(x - 1) + 9*(2 - x/3)*(5/2 - x/2)*(4 - x)*(x/2 - 1/2)*(x - 2) + 16*(3 - x/2)*(5 - x)*(x/3 - 1/3)*(x/2 - 1)*(x - 3) + 25*(6 - x)*(x/4 - 1/4)*(x/3 - 2/3)*(x/2 - 3/2)*(x - 4) + 36*(x/5 - 1/5)*(x/4 - 1/2)*(x/3 - 1)*(x/2 - 2)*(x - 5)"
      ]
     },
     "execution_count": 12,
     "metadata": {},
     "output_type": "execute_result"
    }
   ],
   "source": [
    "lag"
   ]
  },
  {
   "cell_type": "code",
   "execution_count": 13,
   "id": "34ddf060",
   "metadata": {},
   "outputs": [
    {
     "data": {
      "text/latex": [
       "$\\displaystyle x^{2}$"
      ],
      "text/plain": [
       "x**2"
      ]
     },
     "execution_count": 13,
     "metadata": {},
     "output_type": "execute_result"
    }
   ],
   "source": [
    "simplify(lag)"
   ]
  },
  {
   "cell_type": "markdown",
   "id": "601c7dc4",
   "metadata": {},
   "source": [
    "### Интерполяционный многочлен Ньютона"
   ]
  },
  {
   "cell_type": "code",
   "execution_count": 14,
   "id": "95cc3ff4",
   "metadata": {},
   "outputs": [
    {
     "data": {
      "text/latex": [
       "$\\displaystyle 3.0 x + 1.0 \\left(x - 2\\right) \\left(x - 1\\right) - 2.0$"
      ],
      "text/plain": [
       "3.0*x + 1.0*(x - 2)*(x - 1) - 2.0"
      ]
     },
     "execution_count": 14,
     "metadata": {},
     "output_type": "execute_result"
    }
   ],
   "source": [
    "newton"
   ]
  },
  {
   "cell_type": "code",
   "execution_count": 15,
   "id": "e55daba8",
   "metadata": {},
   "outputs": [
    {
     "data": {
      "text/latex": [
       "$\\displaystyle 1.0 x^{2}$"
      ],
      "text/plain": [
       "1.0*x**2"
      ]
     },
     "execution_count": 15,
     "metadata": {},
     "output_type": "execute_result"
    }
   ],
   "source": [
    "simplify(newton)"
   ]
  },
  {
   "cell_type": "code",
   "execution_count": 16,
   "id": "4e053f8c",
   "metadata": {},
   "outputs": [],
   "source": [
    "k = 3\n",
    "m = 1.5\n",
    "\n",
    "x = np.array([0, 0.1, 0.2, 0.3, 0.4, 0.5, 0.6, 0.7, 0.8, 0.9, 1])\n",
    "p = np.array([0, 0.41, 0.79, 1.13, 1.46, 1.76, 2.04, 2.3, 2.55, 2.79, 3.01])\n",
    "\n",
    "y = p + (-1)**k * m\n",
    "point = 0.47"
   ]
  },
  {
   "cell_type": "markdown",
   "id": "b371b2c0",
   "metadata": {},
   "source": [
    "## Пример 3"
   ]
  },
  {
   "cell_type": "code",
   "execution_count": 17,
   "id": "95b4d9e0",
   "metadata": {},
   "outputs": [],
   "source": [
    "lag, newton = solve(x_3, y_3, point_3, True)"
   ]
  },
  {
   "cell_type": "code",
   "execution_count": 18,
   "id": "bee043e3",
   "metadata": {},
   "outputs": [],
   "source": [
    "import matplotlib.pyplot as plt"
   ]
  },
  {
   "cell_type": "code",
   "execution_count": 19,
   "id": "5aad60aa",
   "metadata": {},
   "outputs": [
    {
     "data": {
      "image/png": "[encoded data removed]",
      "text/plain": [
       "<Figure size 800x600 with 1 Axes>"
      ]
     },
     "metadata": {},
     "output_type": "display_data"
    }
   ],
   "source": [
    "x_var = symbols('x')\n",
    "X = np.linspace(-1, 5, 50, endpoint=True)\n",
    "L = lambdify(x_var, lag)\n",
    "L_y = L(X)\n",
    "\n",
    "fig = plt.figure(figsize=(8, 6))\n",
    "plt.plot(X, L_y, label='Lagrange')\n",
    "\n",
    "plt.axvline(color=\"black\", linewidth=0.5)\n",
    "plt.axhline(color='black', linewidth=0.5)\n",
    "plt.grid()\n",
    "plt.legend()\n",
    "plt.show()"
   ]
  },
  {
   "cell_type": "markdown",
   "id": "5f42318f",
   "metadata": {},
   "source": [
    "## Задание (Вариант 3)\n"
   ]
  },
  {
   "cell_type": "code",
   "execution_count": 20,
   "id": "b0893449",
   "metadata": {},
   "outputs": [
    {
     "name": "stdout",
     "output_type": "stream",
     "text": [
      "Входные данные:\n",
      "x = [0.  0.1 0.2 0.3 0.4 0.5 0.6 0.7 0.8 0.9 1. ]\n",
      "y = [-1.5  -1.09 -0.71 -0.37 -0.04  0.26  0.54  0.8   1.05  1.29  1.51]\n",
      "--------------------------------------------------------------------------------\n",
      "\tИнтерполяционный многочлен Лагранжа:\n",
      "L(x) = -10.9*x*(1.11111111111111 - 1.11111111111111*x)*(1.125 - 1.25*x)*(1.14285714285714 - 1.42857142857143*x)*(1.16666666666667 - 1.66666666666667*x)*(1.2 - 2.0*x)*(1.25 - 2.5*x)*(1.33333333333333 - 3.33333333333333*x)*(1.5 - 5.0*x)*(2.0 - 10.0*x) - 3.55*x*(1.25 - 1.25*x)*(1.28571428571429 - 1.42857142857143*x)*(1.33333333333333 - 1.66666666666667*x)*(1.4 - 2.0*x)*(1.5 - 2.5*x)*(1.66666666666667 - 3.33333333333333*x)*(2.0 - 5.0*x)*(3.0 - 10.0*x)*(10.0*x - 1.0) - 1.23333333333333*x*(1.42857142857143 - 1.42857142857143*x)*(1.5 - 1.66666666666667*x)*(1.6 - 2.0*x)*(1.75 - 2.5*x)*(2.0 - 3.33333333333333*x)*(2.5 - 5.0*x)*(4.0 - 10.0*x)*(5.0*x - 0.5)*(10.0*x - 2.0) - 0.1*x*(1.66666666666667 - 1.66666666666667*x)*(1.8 - 2.0*x)*(2.0 - 2.5*x)*(2.33333333333333 - 3.33333333333333*x)*(3.0 - 5.0*x)*(5.0 - 10.0*x)*(3.33333333333333*x - 0.333333333333333)*(5.0*x - 1.0)*(10.0*x - 3.0) + 0.52*x*(2.0 - 2.0*x)*(2.25 - 2.5*x)*(2.66666666666667 - 3.33333333333333*x)*(3.5 - 5.0*x)*(6.0 - 10.0*x)*(2.5*x - 0.25)*(3.33333333333333*x - 0.666666666666667)*(5.0*x - 1.5)*(10.0*x - 4.0) + 0.9*x*(2.5 - 2.5*x)*(3.0 - 3.33333333333333*x)*(4.0 - 5.0*x)*(7.0 - 10.0*x)*(2.0*x - 0.2)*(2.5*x - 0.5)*(3.33333333333333*x - 1.0)*(5.0*x - 2.0)*(10.0*x - 5.0) + 1.14285714285714*x*(3.33333333333333 - 3.33333333333333*x)*(4.5 - 5.0*x)*(7.99999999999999 - 9.99999999999999*x)*(1.66666666666667*x - 0.166666666666667)*(2.0*x - 0.4)*(2.5*x - 0.75)*(3.33333333333333*x - 1.33333333333333)*(5.0*x - 2.5)*(10.0*x - 6.0) + 1.3125*x*(5.0 - 5.0*x)*(9.0 - 10.0*x)*(1.42857142857143*x - 0.142857142857143)*(1.66666666666667*x - 0.333333333333333)*(2.0*x - 0.6)*(2.5*x - 1.0)*(3.33333333333333*x - 1.66666666666667)*(5.0*x - 3.0)*(9.99999999999999*x - 6.99999999999999) + 1.43333333333333*x*(10.0 - 10.0*x)*(1.25*x - 0.125)*(1.42857142857143*x - 0.285714285714286)*(1.66666666666667*x - 0.5)*(2.0*x - 0.8)*(2.5*x - 1.25)*(3.33333333333333*x - 2.0)*(5.0*x - 3.5)*(10.0*x - 8.0) + 1.51*x*(1.11111111111111*x - 0.111111111111111)*(1.25*x - 0.25)*(1.42857142857143*x - 0.428571428571429)*(1.66666666666667*x - 0.666666666666667)*(2.0*x - 1.0)*(2.5*x - 1.5)*(3.33333333333333*x - 2.33333333333333)*(5.0*x - 4.0)*(10.0*x - 9.0) - 1.5*(1.0 - 10.0*x)*(1.0 - 5.0*x)*(1.0 - 3.33333333333333*x)*(1.0 - 2.5*x)*(1.0 - 2.0*x)*(1.0 - 1.66666666666667*x)*(1.0 - 1.42857142857143*x)*(1.0 - 1.25*x)*(1.0 - 1.11111111111111*x)*(1.0 - 1.0*x)\n",
      "Значение в точке х = 0.47\n",
      "L(0.47) = 0.1727\n",
      "--------------------------------------------------------------------------------\n",
      "\tИнтерполяционный многочлен Ньютона:\n",
      "N(x) = 3279.32098765431*x*(x - 0.9)*(x - 0.8)*(x - 0.7)*(x - 0.6)*(x - 0.5)*(x - 0.4)*(x - 0.3)*(x - 0.2)*(x - 0.1) - 2066.79894179894*x*(x - 0.8)*(x - 0.7)*(x - 0.6)*(x - 0.5)*(x - 0.4)*(x - 0.3)*(x - 0.2)*(x - 0.1) + 1165.6746031746*x*(x - 0.7)*(x - 0.6)*(x - 0.5)*(x - 0.4)*(x - 0.3)*(x - 0.2)*(x - 0.1) - 575.396825396825*x*(x - 0.6)*(x - 0.5)*(x - 0.4)*(x - 0.3)*(x - 0.2)*(x - 0.1) + 236.111111111112*x*(x - 0.5)*(x - 0.4)*(x - 0.3)*(x - 0.2)*(x - 0.1) - 75.0000000000006*x*(x - 0.4)*(x - 0.3)*(x - 0.2)*(x - 0.1) + 16.6666666666669*x*(x - 0.3)*(x - 0.2)*(x - 0.1) - 1.66666666666673*x*(x - 0.2)*(x - 0.1) - 1.49999999999999*x*(x - 0.1) + 4.1*x - 1.5\n",
      "Значение в точке х = 0.47\n",
      "N(0.47) = 0.1727\n"
     ]
    }
   ],
   "source": [
    "lag, newton = solve(x, y, point)"
   ]
  },
  {
   "cell_type": "markdown",
   "id": "7b0689c5",
   "metadata": {},
   "source": [
    "### Интерполяционный многочлен Лагранжа"
   ]
  },
  {
   "cell_type": "code",
   "execution_count": 21,
   "id": "e0c1ae8f",
   "metadata": {},
   "outputs": [
    {
     "data": {
      "text/latex": [
       "$\\displaystyle 3279.32098765436 x^{10} - 16823.7433862442 x^{9} + 37136.2433862434 x^{8} - 46113.5912698406 x^{7} + 35322.1643518526 x^{6} - 17192.621527778 x^{5} + 5268.12692901208 x^{4} - 966.267030423265 x^{3} + 92.7493452380966 x^{2} + 0.628214285714268 x - 1.5$"
      ],
      "text/plain": [
       "3279.32098765436*x**10 - 16823.7433862442*x**9 + 37136.2433862434*x**8 - 46113.5912698406*x**7 + 35322.1643518526*x**6 - 17192.621527778*x**5 + 5268.12692901208*x**4 - 966.267030423265*x**3 + 92.7493452380966*x**2 + 0.628214285714268*x - 1.5"
      ]
     },
     "execution_count": 21,
     "metadata": {},
     "output_type": "execute_result"
    }
   ],
   "source": [
    "simplify(lag)"
   ]
  },
  {
   "cell_type": "markdown",
   "id": "569163f6",
   "metadata": {},
   "source": [
    "### Интерполяционный многочлен Ньютона"
   ]
  },
  {
   "cell_type": "code",
   "execution_count": 22,
   "id": "403014bf",
   "metadata": {},
   "outputs": [
    {
     "data": {
      "text/latex": [
       "$\\displaystyle 3279.32098765431 x^{10} - 16823.7433862433 x^{9} + 37136.2433862433 x^{8} - 46113.5912698412 x^{7} + 35322.1643518518 x^{6} - 17192.6215277778 x^{5} + 5268.12692901234 x^{4} - 966.267030423279 x^{3} + 92.7493452380952 x^{2} + 0.628214285714282 x - 1.5$"
      ],
      "text/plain": [
       "3279.32098765431*x**10 - 16823.7433862433*x**9 + 37136.2433862433*x**8 - 46113.5912698412*x**7 + 35322.1643518518*x**6 - 17192.6215277778*x**5 + 5268.12692901234*x**4 - 966.267030423279*x**3 + 92.7493452380952*x**2 + 0.628214285714282*x - 1.5"
      ]
     },
     "execution_count": 22,
     "metadata": {},
     "output_type": "execute_result"
    }
   ],
   "source": [
    "simplify(newton)"
   ]
  },
  {
   "cell_type": "markdown",
   "id": "350173ce",
   "metadata": {},
   "source": [
    "### Построим график полученного многочлена"
   ]
  },
  {
   "cell_type": "code",
   "execution_count": 23,
   "id": "4bada104",
   "metadata": {},
   "outputs": [
    {
     "data": {
      "image/png": "[encoded data removed]",
      "text/plain": [
       "<Figure size 800x600 with 1 Axes>"
      ]
     },
     "metadata": {},
     "output_type": "display_data"
    }
   ],
   "source": [
    "x_var = symbols('x')\n",
    "X = np.linspace(0, 1, 25, endpoint=True)\n",
    "L = lambdify(x_var, lag)\n",
    "L_y = L(X)\n",
    "\n",
    "fig = plt.figure(figsize=(8, 6))\n",
    "plt.plot(X, L_y, label='Lagrange')\n",
    "plt.plot(point, L(point), 'ro')\n",
    "plt.axvline(color=\"black\", linewidth=0.5)\n",
    "plt.axhline(color='black', linewidth=0.5)\n",
    "plt.grid()\n",
    "plt.legend()\n",
    "plt.show()"
   ]
  },
  {
   "cell_type": "code",
   "execution_count": null,
   "id": "5d50ece1",
   "metadata": {},
   "outputs": [],
   "source": []
  }
 ],
 "metadata": {
  "kernelspec": {
   "display_name": "Python 3 (ipykernel)",
   "language": "python",
   "name": "python3"
  },
  "language_info": {
   "codemirror_mode": {
    "name": "ipython",
    "version": 3
   },
   "file_extension": ".py",
   "mimetype": "text/x-python",
   "name": "python",
   "nbconvert_exporter": "python",
   "pygments_lexer": "ipython3",
   "version": "3.10.6"
  }
 },
 "nbformat": 4,
 "nbformat_minor": 5
}
